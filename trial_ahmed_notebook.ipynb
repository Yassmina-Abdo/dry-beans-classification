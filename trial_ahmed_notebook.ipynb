{
  "nbformat": 4,
  "nbformat_minor": 0,
  "metadata": {
    "colab": {
      "name": "trial_ahmed_notebook.ipynb",
      "provenance": [],
      "collapsed_sections": [],
      "include_colab_link": true
    },
    "kernelspec": {
      "name": "python3",
      "display_name": "Python 3"
    },
    "language_info": {
      "name": "python"
    }
  },
  "cells": [
    {
      "cell_type": "markdown",
      "metadata": {
        "id": "view-in-github",
        "colab_type": "text"
      },
      "source": [
        "<a href=\"https://colab.research.google.com/github/Yassmina-Abdo/dry-beans-classification/blob/main/trial_ahmed_notebook.ipynb\" target=\"_parent\"><img src=\"https://colab.research.google.com/assets/colab-badge.svg\" alt=\"Open In Colab\"/></a>"
      ]
    },
    {
      "cell_type": "markdown",
      "source": [
        "### 1. Modules Imports"
      ],
      "metadata": {
        "id": "EblW277ToaXY"
      }
    },
    {
      "cell_type": "code",
      "source": [
        "!pip install skfeature-chappers"
      ],
      "metadata": {
        "colab": {
          "base_uri": "https://localhost:8080/"
        },
        "id": "0KV2J2Z75FBe",
        "outputId": "1862972d-aa01-4b7e-9ae1-10694ab296d2"
      },
      "execution_count": null,
      "outputs": [
        {
          "output_type": "stream",
          "name": "stdout",
          "text": [
            "Looking in indexes: https://pypi.org/simple, https://us-python.pkg.dev/colab-wheels/public/simple/\n",
            "Collecting skfeature-chappers\n",
            "  Downloading skfeature_chappers-1.1.0-py3-none-any.whl (66 kB)\n",
            "\u001b[K     |████████████████████████████████| 66 kB 3.4 MB/s \n",
            "\u001b[?25hRequirement already satisfied: scikit-learn in /usr/local/lib/python3.7/dist-packages (from skfeature-chappers) (1.0.2)\n",
            "Requirement already satisfied: numpy in /usr/local/lib/python3.7/dist-packages (from skfeature-chappers) (1.21.6)\n",
            "Requirement already satisfied: pandas in /usr/local/lib/python3.7/dist-packages (from skfeature-chappers) (1.3.5)\n",
            "Requirement already satisfied: pytz>=2017.3 in /usr/local/lib/python3.7/dist-packages (from pandas->skfeature-chappers) (2022.1)\n",
            "Requirement already satisfied: python-dateutil>=2.7.3 in /usr/local/lib/python3.7/dist-packages (from pandas->skfeature-chappers) (2.8.2)\n",
            "Requirement already satisfied: six>=1.5 in /usr/local/lib/python3.7/dist-packages (from python-dateutil>=2.7.3->pandas->skfeature-chappers) (1.15.0)\n",
            "Requirement already satisfied: scipy>=1.1.0 in /usr/local/lib/python3.7/dist-packages (from scikit-learn->skfeature-chappers) (1.4.1)\n",
            "Requirement already satisfied: joblib>=0.11 in /usr/local/lib/python3.7/dist-packages (from scikit-learn->skfeature-chappers) (1.1.0)\n",
            "Requirement already satisfied: threadpoolctl>=2.0.0 in /usr/local/lib/python3.7/dist-packages (from scikit-learn->skfeature-chappers) (3.1.0)\n",
            "Installing collected packages: skfeature-chappers\n",
            "Successfully installed skfeature-chappers-1.1.0\n"
          ]
        }
      ]
    },
    {
      "cell_type": "code",
      "source": [
        "from google.colab import drive\n",
        "import warnings\n",
        "warnings.filterwarnings('ignore')\n",
        "from imblearn.over_sampling import SMOTE\n",
        "from sklearn.preprocessing import LabelEncoder\n",
        "import pandas as pd\n",
        "from sklearn.neighbors import KNeighborsClassifier\n",
        "import numpy as np\n",
        "from sklearn.model_selection import StratifiedKFold\n",
        "from sklearn.preprocessing import MinMaxScaler, MaxAbsScaler, RobustScaler, StandardScaler, normalize,  Normalizer, PowerTransformer\n",
        "from sklearn.metrics import accuracy_score\n",
        "from sklearn.metrics import f1_score\n",
        "from sklearn.decomposition import PCA\n",
        "from sklearn.utils import shuffle\n",
        "from xgboost import XGBClassifier\n",
        "import math\n",
        "import pickle\n",
        "from sklearn.neural_network import MLPClassifier\n",
        "from sklearn.model_selection import cross_val_score, train_test_split\n",
        "from sklearn.pipeline import Pipeline\n",
        "from sklearn.model_selection import GridSearchCV\n",
        "from sklearn.metrics import accuracy_score, confusion_matrix, classification_report\n",
        "from sklearn.svm import SVC\n",
        "from scipy.stats import randint as sp_randint\n",
        "from scipy.stats import uniform as sp_uniform\n",
        "import matplotlib.pyplot as plt\n",
        "from sklearn.tree import DecisionTreeClassifier\n",
        "from lightgbm import LGBMClassifier\n",
        "import seaborn as sns\n",
        "from sklearn.metrics import silhouette_score\n",
        "warnings.filterwarnings(\"ignore\")"
      ],
      "metadata": {
        "id": "oUJEsNGQ0AIM"
      },
      "execution_count": null,
      "outputs": []
    },
    {
      "cell_type": "code",
      "source": [
        "drive.mount('/content/drive')"
      ],
      "metadata": {
        "colab": {
          "base_uri": "https://localhost:8080/"
        },
        "id": "Sp4B32b2YiBc",
        "outputId": "9b41fb26-d5c2-49ea-bcd0-8ed95226b1a4"
      },
      "execution_count": null,
      "outputs": [
        {
          "output_type": "stream",
          "name": "stdout",
          "text": [
            "Mounted at /content/drive\n"
          ]
        }
      ]
    },
    {
      "cell_type": "markdown",
      "source": [
        "### 2. Data Preprocessing"
      ],
      "metadata": {
        "id": "fgKW4SiYoid8"
      }
    },
    {
      "cell_type": "markdown",
      "source": [
        "# Read Data"
      ],
      "metadata": {
        "id": "NhJUCTYmYboC"
      }
    },
    {
      "cell_type": "code",
      "source": [
        "path ='/content/drive/MyDrive/Dry Beans Classification Competition/Dataset/Original/train.csv'"
      ],
      "metadata": {
        "id": "g5_PLSGIRD6y"
      },
      "execution_count": null,
      "outputs": []
    },
    {
      "cell_type": "code",
      "source": [
        "def read_data(path):\n",
        "  df =pd.read_csv(path,index_col='ID')\n",
        "  print(df.shape) \n",
        "  # Target Manual Encoding case train file\n",
        "  df.replace({'y':{'BARBUNYA':1,'BOMBAY':2,'CALI':3,'DERMASON':4,'HOROZ':5,'SEKER':6,'SIRA':7}},inplace=True)\n",
        "  return df "
      ],
      "metadata": {
        "id": "mzsTfmNrtOlX"
      },
      "execution_count": null,
      "outputs": []
    },
    {
      "cell_type": "code",
      "source": [
        "# train test split before oversampling\n",
        "def My_train_test_split(X, y):\n",
        "  X_train, X_test, y_train, y_test = train_test_split(X, y, stratify = y, test_size=0.20)\n",
        "  return X_train, X_test, y_train, y_test"
      ],
      "metadata": {
        "id": "SB9JlpXDUytJ"
      },
      "execution_count": null,
      "outputs": []
    },
    {
      "cell_type": "markdown",
      "source": [
        "## ALL Scaling Techniques "
      ],
      "metadata": {
        "id": "G-fiVCpEo4K9"
      }
    },
    {
      "cell_type": "markdown",
      "source": [
        "1. Standarization"
      ],
      "metadata": {
        "id": "usAWqwAeW2Li"
      }
    },
    {
      "cell_type": "code",
      "source": [
        "#1\n",
        "def apply_StandardScaler(X_f):\n",
        "  scaler1 = StandardScaler()\n",
        "  # Create a list of the variables that you need to scale\n",
        "  varlist = X_f.columns\n",
        "  # Scale these variables using 'fit_transform'\n",
        "  X_f[varlist] = scaler1.fit_transform(X_f[varlist])\n",
        "  return X_f"
      ],
      "metadata": {
        "id": "Ez8NXgMkiIG-"
      },
      "execution_count": null,
      "outputs": []
    },
    {
      "cell_type": "code",
      "source": [
        "#2\n",
        "def apply_MaxAbsScaler(X_f):\n",
        "  scaler2 = MaxAbsScaler()\n",
        "  # Create a list of the variables that you need to scale\n",
        "  varlist = X_f.columns\n",
        "  # Scale these variables using 'fit_transform'\n",
        "  X_f[varlist] = scaler2.fit_transform(X_f[varlist])\n",
        "  return X_f"
      ],
      "metadata": {
        "id": "F67hWBLlovM2"
      },
      "execution_count": null,
      "outputs": []
    },
    {
      "cell_type": "code",
      "source": [
        "#3\n",
        "def apply_MinMaxScaler(X_f):\n",
        "  scaler3 = MinMaxScaler()\n",
        "  # Create a list of the variables that you need to scale\n",
        "  varlist = X_f.columns\n",
        "  # Scale these variables using 'fit_transform'\n",
        "  X_f[varlist] = scaler3.fit_transform(X_f[varlist])\n",
        "  return X_f"
      ],
      "metadata": {
        "id": "g5r8Relnakch"
      },
      "execution_count": null,
      "outputs": []
    },
    {
      "cell_type": "code",
      "source": [
        "#4\n",
        "# the best for data with outliers\n",
        "def apply_RobustScaler(X_f):\n",
        "  scaler4 = RobustScaler()\n",
        "  # Create a list of the variables that you need to scale\n",
        "  varlist = X_f.columns\n",
        "  # Scale these variables using 'fit_transform'\n",
        "  X_f[varlist] = scaler4.fit_transform(X_f[varlist])\n",
        "  return X_f"
      ],
      "metadata": {
        "id": "0xqCGWH_ovPN"
      },
      "execution_count": null,
      "outputs": []
    },
    {
      "cell_type": "markdown",
      "source": [
        "2. Normalization"
      ],
      "metadata": {
        "id": "89nRiOgnW7WZ"
      }
    },
    {
      "cell_type": "code",
      "source": [
        "#1 \n",
        "def apply_normalize(X_f):\n",
        "  normalizer = Normalizer()\n",
        "  # Create a list of the variables that you need to scale\n",
        "  varlist = X_f.columns\n",
        "  # Scale these variables using 'fit_transform'\n",
        "  X_f[varlist] = normalizer.fit_transform(X_f[varlist])\n",
        "  return X_f"
      ],
      "metadata": {
        "id": "6m5UPrb3ovR0"
      },
      "execution_count": null,
      "outputs": []
    },
    {
      "cell_type": "code",
      "source": [
        "#2 \n",
        "def apply_PowerTransformer(X_f):\n",
        "  transformer = PowerTransformer()\n",
        "  # Create a list of the variables that you need to scale\n",
        "  varlist = X_f.columns\n",
        "  # Scale these variables using 'fit_transform'\n",
        "  X_f[varlist] = transformer.fit_transform(X_f[varlist])\n",
        "  return X_f"
      ],
      "metadata": {
        "id": "sgH6xrgeovUy"
      },
      "execution_count": null,
      "outputs": []
    },
    {
      "cell_type": "markdown",
      "source": [
        ">## Upsampling "
      ],
      "metadata": {
        "id": "TfvK9NlBosi6"
      }
    },
    {
      "cell_type": "markdown",
      "source": [
        "## Using SMOTE"
      ],
      "metadata": {
        "id": "LX-eVpiUSbry"
      }
    },
    {
      "cell_type": "code",
      "source": [
        "def apply_Upsmote_Training(x, y):\n",
        "  # set each label to 2270\n",
        "  df = x.join(y)\n",
        "  x = x.values\n",
        "  y = y.values\n",
        "  strategy = {1:2270, 2:2270, 3:2270, 4:2270, 5:2270, 6:2270,7:2270}\n",
        "  oversample = SMOTE(sampling_strategy=strategy)\n",
        "  features, target = oversample.fit_resample(x, y)\n",
        "\n",
        "  # convert to Dataframe\n",
        "  oversampled_data =pd.concat([ pd.DataFrame(features),pd.DataFrame(target)], axis=1)\n",
        "  # oversampled_data[0]=oversampled_data[0].astype(int) # set ID col as int\n",
        "  oversampled_data.columns= list(df.columns)\n",
        " \n",
        "  return oversampled_data"
      ],
      "metadata": {
        "id": "vt3s1MofWgB3"
      },
      "execution_count": null,
      "outputs": []
    },
    {
      "cell_type": "code",
      "source": [
        "def apply_Upsmote_valid(x, y):\n",
        "  # set each label to 710\n",
        "  df = x.join(y)\n",
        "  x = x.values\n",
        "  y = y.values\n",
        "  strategy = {1:567, 2:567, 3:567, 4:567, 5:567, 6:567,7:567}\n",
        "  oversample = SMOTE(sampling_strategy=strategy)\n",
        "  features, target = oversample.fit_resample(x, y)\n",
        "\n",
        "  # convert to Dataframe\n",
        "  oversampled_data =pd.concat([ pd.DataFrame(features),pd.DataFrame(target)], axis=1)\n",
        "  # oversampled_data[0]=oversampled_data[0].astype(int) # set ID col as int\n",
        "  oversampled_data.columns= list(df.columns)\n",
        " \n",
        "  return oversampled_data"
      ],
      "metadata": {
        "id": "vkAhohQKPcyy"
      },
      "execution_count": null,
      "outputs": []
    },
    {
      "cell_type": "code",
      "source": [
        "def get_num_of_samples(df):\n",
        "  labels=df.y.unique()\n",
        "  for label in labels:  \n",
        "    print('Number of samples in class {} = {}'.format(label,len(df[df.y == label])))"
      ],
      "metadata": {
        "id": "OgIA3ZL_GN7Y"
      },
      "execution_count": null,
      "outputs": []
    },
    {
      "cell_type": "code",
      "source": [
        "df_all = read_data(path)\n",
        "df_all.head()"
      ],
      "metadata": {
        "colab": {
          "base_uri": "https://localhost:8080/",
          "height": 255
        },
        "id": "NaG69pnqRANz",
        "outputId": "d04809f0-e142-4a63-8b27-f9efeebc568f"
      },
      "execution_count": null,
      "outputs": [
        {
          "output_type": "stream",
          "name": "stdout",
          "text": [
            "(10834, 17)\n"
          ]
        },
        {
          "output_type": "execute_result",
          "data": {
            "text/plain": [
              "     Area  Perimeter  MajorAxisLength  MinorAxisLength  AspectRation  \\\n",
              "ID                                                                     \n",
              "0   58238    971.303       397.202654       186.945510      2.124697   \n",
              "1   44515    757.601       265.590470       213.967453      1.241266   \n",
              "2   31662    653.783       239.902428       168.421505      1.424417   \n",
              "3   38778    734.020       268.446281       184.061923      1.458456   \n",
              "4   42530    775.403       281.212824       193.236878      1.455275   \n",
              "\n",
              "    Eccentricity  ConvexArea  EquivDiameter    Extent  Solidity  roundness  \\\n",
              "ID                                                                           \n",
              "0       0.882317       58977     272.306674  0.604756  0.987470   0.775723   \n",
              "1       0.592420       44780     238.071960  0.771745  0.994082   0.974620   \n",
              "2       0.712136       32034     200.781748  0.801407  0.988387   0.930853   \n",
              "3       0.727925       39208     222.201897  0.766137  0.989033   0.904439   \n",
              "4       0.726511       43028     232.703412  0.729816  0.988426   0.888895   \n",
              "\n",
              "    Compactness  ShapeFactor1  ShapeFactor2  ShapeFactor3  ShapeFactor4  y  \n",
              "ID                                                                          \n",
              "0      0.685561      0.006820      0.000929      0.469994      0.998595  5  \n",
              "1      0.896387      0.005966      0.002376      0.803510      0.997370  6  \n",
              "2      0.836931      0.007577      0.002293      0.700453      0.997737  4  \n",
              "3      0.827733      0.006923      0.002005      0.685142      0.999250  4  \n",
              "4      0.827499      0.006612      0.001912      0.684755      0.996507  7  "
            ],
            "text/html": [
              "\n",
              "  <div id=\"df-5e4fbaad-5b89-4161-805f-dbbb55d77f63\">\n",
              "    <div class=\"colab-df-container\">\n",
              "      <div>\n",
              "<style scoped>\n",
              "    .dataframe tbody tr th:only-of-type {\n",
              "        vertical-align: middle;\n",
              "    }\n",
              "\n",
              "    .dataframe tbody tr th {\n",
              "        vertical-align: top;\n",
              "    }\n",
              "\n",
              "    .dataframe thead th {\n",
              "        text-align: right;\n",
              "    }\n",
              "</style>\n",
              "<table border=\"1\" class=\"dataframe\">\n",
              "  <thead>\n",
              "    <tr style=\"text-align: right;\">\n",
              "      <th></th>\n",
              "      <th>Area</th>\n",
              "      <th>Perimeter</th>\n",
              "      <th>MajorAxisLength</th>\n",
              "      <th>MinorAxisLength</th>\n",
              "      <th>AspectRation</th>\n",
              "      <th>Eccentricity</th>\n",
              "      <th>ConvexArea</th>\n",
              "      <th>EquivDiameter</th>\n",
              "      <th>Extent</th>\n",
              "      <th>Solidity</th>\n",
              "      <th>roundness</th>\n",
              "      <th>Compactness</th>\n",
              "      <th>ShapeFactor1</th>\n",
              "      <th>ShapeFactor2</th>\n",
              "      <th>ShapeFactor3</th>\n",
              "      <th>ShapeFactor4</th>\n",
              "      <th>y</th>\n",
              "    </tr>\n",
              "    <tr>\n",
              "      <th>ID</th>\n",
              "      <th></th>\n",
              "      <th></th>\n",
              "      <th></th>\n",
              "      <th></th>\n",
              "      <th></th>\n",
              "      <th></th>\n",
              "      <th></th>\n",
              "      <th></th>\n",
              "      <th></th>\n",
              "      <th></th>\n",
              "      <th></th>\n",
              "      <th></th>\n",
              "      <th></th>\n",
              "      <th></th>\n",
              "      <th></th>\n",
              "      <th></th>\n",
              "      <th></th>\n",
              "    </tr>\n",
              "  </thead>\n",
              "  <tbody>\n",
              "    <tr>\n",
              "      <th>0</th>\n",
              "      <td>58238</td>\n",
              "      <td>971.303</td>\n",
              "      <td>397.202654</td>\n",
              "      <td>186.945510</td>\n",
              "      <td>2.124697</td>\n",
              "      <td>0.882317</td>\n",
              "      <td>58977</td>\n",
              "      <td>272.306674</td>\n",
              "      <td>0.604756</td>\n",
              "      <td>0.987470</td>\n",
              "      <td>0.775723</td>\n",
              "      <td>0.685561</td>\n",
              "      <td>0.006820</td>\n",
              "      <td>0.000929</td>\n",
              "      <td>0.469994</td>\n",
              "      <td>0.998595</td>\n",
              "      <td>5</td>\n",
              "    </tr>\n",
              "    <tr>\n",
              "      <th>1</th>\n",
              "      <td>44515</td>\n",
              "      <td>757.601</td>\n",
              "      <td>265.590470</td>\n",
              "      <td>213.967453</td>\n",
              "      <td>1.241266</td>\n",
              "      <td>0.592420</td>\n",
              "      <td>44780</td>\n",
              "      <td>238.071960</td>\n",
              "      <td>0.771745</td>\n",
              "      <td>0.994082</td>\n",
              "      <td>0.974620</td>\n",
              "      <td>0.896387</td>\n",
              "      <td>0.005966</td>\n",
              "      <td>0.002376</td>\n",
              "      <td>0.803510</td>\n",
              "      <td>0.997370</td>\n",
              "      <td>6</td>\n",
              "    </tr>\n",
              "    <tr>\n",
              "      <th>2</th>\n",
              "      <td>31662</td>\n",
              "      <td>653.783</td>\n",
              "      <td>239.902428</td>\n",
              "      <td>168.421505</td>\n",
              "      <td>1.424417</td>\n",
              "      <td>0.712136</td>\n",
              "      <td>32034</td>\n",
              "      <td>200.781748</td>\n",
              "      <td>0.801407</td>\n",
              "      <td>0.988387</td>\n",
              "      <td>0.930853</td>\n",
              "      <td>0.836931</td>\n",
              "      <td>0.007577</td>\n",
              "      <td>0.002293</td>\n",
              "      <td>0.700453</td>\n",
              "      <td>0.997737</td>\n",
              "      <td>4</td>\n",
              "    </tr>\n",
              "    <tr>\n",
              "      <th>3</th>\n",
              "      <td>38778</td>\n",
              "      <td>734.020</td>\n",
              "      <td>268.446281</td>\n",
              "      <td>184.061923</td>\n",
              "      <td>1.458456</td>\n",
              "      <td>0.727925</td>\n",
              "      <td>39208</td>\n",
              "      <td>222.201897</td>\n",
              "      <td>0.766137</td>\n",
              "      <td>0.989033</td>\n",
              "      <td>0.904439</td>\n",
              "      <td>0.827733</td>\n",
              "      <td>0.006923</td>\n",
              "      <td>0.002005</td>\n",
              "      <td>0.685142</td>\n",
              "      <td>0.999250</td>\n",
              "      <td>4</td>\n",
              "    </tr>\n",
              "    <tr>\n",
              "      <th>4</th>\n",
              "      <td>42530</td>\n",
              "      <td>775.403</td>\n",
              "      <td>281.212824</td>\n",
              "      <td>193.236878</td>\n",
              "      <td>1.455275</td>\n",
              "      <td>0.726511</td>\n",
              "      <td>43028</td>\n",
              "      <td>232.703412</td>\n",
              "      <td>0.729816</td>\n",
              "      <td>0.988426</td>\n",
              "      <td>0.888895</td>\n",
              "      <td>0.827499</td>\n",
              "      <td>0.006612</td>\n",
              "      <td>0.001912</td>\n",
              "      <td>0.684755</td>\n",
              "      <td>0.996507</td>\n",
              "      <td>7</td>\n",
              "    </tr>\n",
              "  </tbody>\n",
              "</table>\n",
              "</div>\n",
              "      <button class=\"colab-df-convert\" onclick=\"convertToInteractive('df-5e4fbaad-5b89-4161-805f-dbbb55d77f63')\"\n",
              "              title=\"Convert this dataframe to an interactive table.\"\n",
              "              style=\"display:none;\">\n",
              "        \n",
              "  <svg xmlns=\"http://www.w3.org/2000/svg\" height=\"24px\"viewBox=\"0 0 24 24\"\n",
              "       width=\"24px\">\n",
              "    <path d=\"M0 0h24v24H0V0z\" fill=\"none\"/>\n",
              "    <path d=\"M18.56 5.44l.94 2.06.94-2.06 2.06-.94-2.06-.94-.94-2.06-.94 2.06-2.06.94zm-11 1L8.5 8.5l.94-2.06 2.06-.94-2.06-.94L8.5 2.5l-.94 2.06-2.06.94zm10 10l.94 2.06.94-2.06 2.06-.94-2.06-.94-.94-2.06-.94 2.06-2.06.94z\"/><path d=\"M17.41 7.96l-1.37-1.37c-.4-.4-.92-.59-1.43-.59-.52 0-1.04.2-1.43.59L10.3 9.45l-7.72 7.72c-.78.78-.78 2.05 0 2.83L4 21.41c.39.39.9.59 1.41.59.51 0 1.02-.2 1.41-.59l7.78-7.78 2.81-2.81c.8-.78.8-2.07 0-2.86zM5.41 20L4 18.59l7.72-7.72 1.47 1.35L5.41 20z\"/>\n",
              "  </svg>\n",
              "      </button>\n",
              "      \n",
              "  <style>\n",
              "    .colab-df-container {\n",
              "      display:flex;\n",
              "      flex-wrap:wrap;\n",
              "      gap: 12px;\n",
              "    }\n",
              "\n",
              "    .colab-df-convert {\n",
              "      background-color: #E8F0FE;\n",
              "      border: none;\n",
              "      border-radius: 50%;\n",
              "      cursor: pointer;\n",
              "      display: none;\n",
              "      fill: #1967D2;\n",
              "      height: 32px;\n",
              "      padding: 0 0 0 0;\n",
              "      width: 32px;\n",
              "    }\n",
              "\n",
              "    .colab-df-convert:hover {\n",
              "      background-color: #E2EBFA;\n",
              "      box-shadow: 0px 1px 2px rgba(60, 64, 67, 0.3), 0px 1px 3px 1px rgba(60, 64, 67, 0.15);\n",
              "      fill: #174EA6;\n",
              "    }\n",
              "\n",
              "    [theme=dark] .colab-df-convert {\n",
              "      background-color: #3B4455;\n",
              "      fill: #D2E3FC;\n",
              "    }\n",
              "\n",
              "    [theme=dark] .colab-df-convert:hover {\n",
              "      background-color: #434B5C;\n",
              "      box-shadow: 0px 1px 3px 1px rgba(0, 0, 0, 0.15);\n",
              "      filter: drop-shadow(0px 1px 2px rgba(0, 0, 0, 0.3));\n",
              "      fill: #FFFFFF;\n",
              "    }\n",
              "  </style>\n",
              "\n",
              "      <script>\n",
              "        const buttonEl =\n",
              "          document.querySelector('#df-5e4fbaad-5b89-4161-805f-dbbb55d77f63 button.colab-df-convert');\n",
              "        buttonEl.style.display =\n",
              "          google.colab.kernel.accessAllowed ? 'block' : 'none';\n",
              "\n",
              "        async function convertToInteractive(key) {\n",
              "          const element = document.querySelector('#df-5e4fbaad-5b89-4161-805f-dbbb55d77f63');\n",
              "          const dataTable =\n",
              "            await google.colab.kernel.invokeFunction('convertToInteractive',\n",
              "                                                     [key], {});\n",
              "          if (!dataTable) return;\n",
              "\n",
              "          const docLinkHtml = 'Like what you see? Visit the ' +\n",
              "            '<a target=\"_blank\" href=https://colab.research.google.com/notebooks/data_table.ipynb>data table notebook</a>'\n",
              "            + ' to learn more about interactive tables.';\n",
              "          element.innerHTML = '';\n",
              "          dataTable['output_type'] = 'display_data';\n",
              "          await google.colab.output.renderOutput(dataTable, element);\n",
              "          const docLink = document.createElement('div');\n",
              "          docLink.innerHTML = docLinkHtml;\n",
              "          element.appendChild(docLink);\n",
              "        }\n",
              "      </script>\n",
              "    </div>\n",
              "  </div>\n",
              "  "
            ]
          },
          "metadata": {},
          "execution_count": 17
        }
      ]
    },
    {
      "cell_type": "markdown",
      "source": [
        "## Data fields\n",
        "\n",
        "ID - an ID for this instance\n",
        "\n",
        "Area - (A), The area of a bean zone and the number of pixels within its boundaries.\n",
        "\n",
        "Perimeter - (P), Bean circumference is defined as the length of its border.\n",
        "\n",
        "MajorAxisLength - (L), The distance between the ends of the longest line that can be drawn from a bean.\n",
        "\n",
        "MinorAxisLength - (l), The longest line that can be drawn from the bean while standing perpendicular to the main axis.\n",
        "\n",
        "AspectRatio - (K), Defines the relationship between L and l.\n",
        "\n",
        "Eccentricity - (Ec), Eccentricity of the ellipse having the same moments as the region.\n",
        "\n",
        "ConvexArea - (C), Number of pixels in the smallest convex polygon that can contain the area of a bean seed.\n",
        "\n",
        "EquivDiameter - (Ed), The diameter of a circle having the same area as a bean seed area.\n",
        "\n",
        "Extent - (Ex), The ratio of the pixels in the bounding box to the bean area.\n",
        "\n",
        "Solidity - (S), Also known as convexity. The ratio of the pixels in the convex shell to those found in beans.\n",
        "\n",
        "Roundness - (R), Calculated with the following formula: (4piA)/(P^2)\n",
        "\n",
        "Compactness - (CO), Measures the roundness of an object: Ed/L\n",
        "\n",
        "ShapeFactor1 - (SF1)\n",
        "\n",
        "ShapeFactor2 - (SF2)\n",
        "\n",
        "ShapeFactor3 - (SF3)\n",
        "\n",
        "ShapeFactor4 - (SF4)\n",
        "\n",
        "y - the class of the bean. It can be any of BARBUNYA, SIRA, HOROZ, DERMASON, CALI, BOMBAY, and SEKER.\n"
      ],
      "metadata": {
        "id": "us_dwaFzR_z5"
      }
    },
    {
      "cell_type": "code",
      "source": [
        "get_num_of_samples(df_all)"
      ],
      "metadata": {
        "colab": {
          "base_uri": "https://localhost:8080/"
        },
        "id": "Toz0dyzrVpeJ",
        "outputId": "a57b83ae-c537-44d8-8b21-742c0b2400b3"
      },
      "execution_count": null,
      "outputs": [
        {
          "output_type": "stream",
          "name": "stdout",
          "text": [
            "Number of samples in class 5 = 1488\n",
            "Number of samples in class 6 = 1621\n",
            "Number of samples in class 4 = 2837\n",
            "Number of samples in class 7 = 2109\n",
            "Number of samples in class 1 = 1057\n",
            "Number of samples in class 3 = 1304\n",
            "Number of samples in class 2 = 418\n"
          ]
        }
      ]
    },
    {
      "cell_type": "code",
      "source": [
        "print(df_all['y'].value_counts())\n",
        "_ = sns.countplot(x='y', data=df_all)"
      ],
      "metadata": {
        "colab": {
          "base_uri": "https://localhost:8080/",
          "height": 418
        },
        "id": "HqmfjqxeCKc1",
        "outputId": "d81388e4-c5e5-45a6-dc70-9cc495176734"
      },
      "execution_count": null,
      "outputs": [
        {
          "output_type": "stream",
          "name": "stdout",
          "text": [
            "4    2837\n",
            "7    2109\n",
            "6    1621\n",
            "5    1488\n",
            "3    1304\n",
            "1    1057\n",
            "2     418\n",
            "Name: y, dtype: int64\n"
          ]
        },
        {
          "output_type": "display_data",
          "data": {
            "text/plain": [
              "<Figure size 432x288 with 1 Axes>"
            ],
            "image/png": "[encoded data removed]"
          },
          "metadata": {
            "needs_background": "light"
          }
        }
      ]
    },
    {
      "cell_type": "code",
      "source": [
        "corr = df_all.corr()\n",
        "corr.style.background_gradient(cmap='coolwarm')"
      ],
      "metadata": {
        "colab": {
          "base_uri": "https://localhost:8080/",
          "height": 602
        },
        "id": "x9JWIsvY3rbD",
        "outputId": "b8e24625-5897-4ffd-e133-cd61a275d71d"
      },
      "execution_count": null,
      "outputs": [
        {
          "output_type": "execute_result",
          "data": {
            "text/plain": [
              "<pandas.io.formats.style.Styler at 0x7f7a45739dd0>"
            ],
            "text/html": [
              "<style type=\"text/css\">\n",
              "#T_b3b40_row0_col0, #T_b3b40_row0_col6, #T_b3b40_row1_col1, #T_b3b40_row2_col2, #T_b3b40_row3_col3, #T_b3b40_row4_col4, #T_b3b40_row5_col5, #T_b3b40_row6_col0, #T_b3b40_row6_col6, #T_b3b40_row7_col7, #T_b3b40_row8_col8, #T_b3b40_row9_col9, #T_b3b40_row10_col10, #T_b3b40_row11_col11, #T_b3b40_row11_col14, #T_b3b40_row12_col12, #T_b3b40_row13_col13, #T_b3b40_row14_col11, #T_b3b40_row14_col14, #T_b3b40_row15_col15, #T_b3b40_row16_col16 {\n",
              "  background-color: #b40426;\n",
              "  color: #f1f1f1;\n",
              "}\n",
              "#T_b3b40_row0_col1, #T_b3b40_row1_col0, #T_b3b40_row1_col6, #T_b3b40_row6_col1 {\n",
              "  background-color: #ba162b;\n",
              "  color: #f1f1f1;\n",
              "}\n",
              "#T_b3b40_row0_col2, #T_b3b40_row2_col0, #T_b3b40_row2_col6, #T_b3b40_row4_col5, #T_b3b40_row5_col4, #T_b3b40_row6_col2 {\n",
              "  background-color: #c12b30;\n",
              "  color: #f1f1f1;\n",
              "}\n",
              "#T_b3b40_row0_col3, #T_b3b40_row3_col0, #T_b3b40_row3_col6, #T_b3b40_row3_col7, #T_b3b40_row6_col3, #T_b3b40_row7_col3 {\n",
              "  background-color: #bd1f2d;\n",
              "  color: #f1f1f1;\n",
              "}\n",
              "#T_b3b40_row0_col4, #T_b3b40_row6_col4, #T_b3b40_row15_col12 {\n",
              "  background-color: #f4c6af;\n",
              "  color: #000000;\n",
              "}\n",
              "#T_b3b40_row0_col5, #T_b3b40_row6_col5 {\n",
              "  background-color: #f5c2aa;\n",
              "  color: #000000;\n",
              "}\n",
              "#T_b3b40_row0_col7, #T_b3b40_row7_col0, #T_b3b40_row7_col6 {\n",
              "  background-color: #b70d28;\n",
              "  color: #f1f1f1;\n",
              "}\n",
              "#T_b3b40_row0_col8, #T_b3b40_row3_col10, #T_b3b40_row6_col8, #T_b3b40_row8_col16, #T_b3b40_row11_col0 {\n",
              "  background-color: #a3c2fe;\n",
              "  color: #000000;\n",
              "}\n",
              "#T_b3b40_row0_col9, #T_b3b40_row0_col15 {\n",
              "  background-color: #5470de;\n",
              "  color: #f1f1f1;\n",
              "}\n",
              "#T_b3b40_row0_col10 {\n",
              "  background-color: #86a9fc;\n",
              "  color: #f1f1f1;\n",
              "}\n",
              "#T_b3b40_row0_col11, #T_b3b40_row6_col11, #T_b3b40_row9_col4 {\n",
              "  background-color: #b3cdfb;\n",
              "  color: #000000;\n",
              "}\n",
              "#T_b3b40_row0_col12, #T_b3b40_row1_col13, #T_b3b40_row6_col12 {\n",
              "  background-color: #4961d2;\n",
              "  color: #f1f1f1;\n",
              "}\n",
              "#T_b3b40_row0_col13 {\n",
              "  background-color: #5f7fe8;\n",
              "  color: #f1f1f1;\n",
              "}\n",
              "#T_b3b40_row0_col14, #T_b3b40_row6_col14, #T_b3b40_row12_col9 {\n",
              "  background-color: #b2ccfb;\n",
              "  color: #000000;\n",
              "}\n",
              "#T_b3b40_row0_col16, #T_b3b40_row6_col16 {\n",
              "  background-color: #4055c8;\n",
              "  color: #f1f1f1;\n",
              "}\n",
              "#T_b3b40_row1_col2, #T_b3b40_row2_col1 {\n",
              "  background-color: #b8122a;\n",
              "  color: #f1f1f1;\n",
              "}\n",
              "#T_b3b40_row1_col3, #T_b3b40_row3_col1 {\n",
              "  background-color: #c43032;\n",
              "  color: #f1f1f1;\n",
              "}\n",
              "#T_b3b40_row1_col4, #T_b3b40_row13_col15, #T_b3b40_row16_col12 {\n",
              "  background-color: #f7b093;\n",
              "  color: #000000;\n",
              "}\n",
              "#T_b3b40_row1_col5 {\n",
              "  background-color: #f7af91;\n",
              "  color: #000000;\n",
              "}\n",
              "#T_b3b40_row1_col7, #T_b3b40_row6_col7, #T_b3b40_row7_col1 {\n",
              "  background-color: #b50927;\n",
              "  color: #f1f1f1;\n",
              "}\n",
              "#T_b3b40_row1_col8, #T_b3b40_row15_col0, #T_b3b40_row15_col6, #T_b3b40_row15_col7 {\n",
              "  background-color: #90b2fe;\n",
              "  color: #000000;\n",
              "}\n",
              "#T_b3b40_row1_col9, #T_b3b40_row1_col16, #T_b3b40_row2_col13, #T_b3b40_row2_col15, #T_b3b40_row3_col12, #T_b3b40_row4_col8, #T_b3b40_row4_col10, #T_b3b40_row4_col11, #T_b3b40_row4_col14, #T_b3b40_row5_col13, #T_b3b40_row5_col14, #T_b3b40_row11_col4, #T_b3b40_row12_col0, #T_b3b40_row12_col1, #T_b3b40_row12_col3, #T_b3b40_row12_col6, #T_b3b40_row12_col7, #T_b3b40_row13_col2, #T_b3b40_row14_col5 {\n",
              "  background-color: #3b4cc0;\n",
              "  color: #f1f1f1;\n",
              "}\n",
              "#T_b3b40_row1_col10 {\n",
              "  background-color: #6180e9;\n",
              "  color: #f1f1f1;\n",
              "}\n",
              "#T_b3b40_row1_col11 {\n",
              "  background-color: #9bbcff;\n",
              "  color: #000000;\n",
              "}\n",
              "#T_b3b40_row1_col12 {\n",
              "  background-color: #465ecf;\n",
              "  color: #f1f1f1;\n",
              "}\n",
              "#T_b3b40_row1_col14 {\n",
              "  background-color: #9abbff;\n",
              "  color: #000000;\n",
              "}\n",
              "#T_b3b40_row1_col15, #T_b3b40_row2_col16, #T_b3b40_row3_col16, #T_b3b40_row4_col9 {\n",
              "  background-color: #445acc;\n",
              "  color: #f1f1f1;\n",
              "}\n",
              "#T_b3b40_row2_col3 {\n",
              "  background-color: #d24b40;\n",
              "  color: #f1f1f1;\n",
              "}\n",
              "#T_b3b40_row2_col4 {\n",
              "  background-color: #f29072;\n",
              "  color: #f1f1f1;\n",
              "}\n",
              "#T_b3b40_row2_col5, #T_b3b40_row15_col9 {\n",
              "  background-color: #f29274;\n",
              "  color: #f1f1f1;\n",
              "}\n",
              "#T_b3b40_row2_col7, #T_b3b40_row7_col2 {\n",
              "  background-color: #bb1b2c;\n",
              "  color: #f1f1f1;\n",
              "}\n",
              "#T_b3b40_row2_col8 {\n",
              "  background-color: #82a6fb;\n",
              "  color: #f1f1f1;\n",
              "}\n",
              "#T_b3b40_row2_col9, #T_b3b40_row7_col16 {\n",
              "  background-color: #3f53c6;\n",
              "  color: #f1f1f1;\n",
              "}\n",
              "#T_b3b40_row2_col10 {\n",
              "  background-color: #5977e3;\n",
              "  color: #f1f1f1;\n",
              "}\n",
              "#T_b3b40_row2_col11 {\n",
              "  background-color: #80a3fa;\n",
              "  color: #f1f1f1;\n",
              "}\n",
              "#T_b3b40_row2_col12 {\n",
              "  background-color: #5572df;\n",
              "  color: #f1f1f1;\n",
              "}\n",
              "#T_b3b40_row2_col14 {\n",
              "  background-color: #7ea1fa;\n",
              "  color: #f1f1f1;\n",
              "}\n",
              "#T_b3b40_row3_col2 {\n",
              "  background-color: #d44e41;\n",
              "  color: #f1f1f1;\n",
              "}\n",
              "#T_b3b40_row3_col4, #T_b3b40_row5_col12, #T_b3b40_row8_col0, #T_b3b40_row12_col11, #T_b3b40_row12_col14 {\n",
              "  background-color: #dbdcde;\n",
              "  color: #000000;\n",
              "}\n",
              "#T_b3b40_row3_col5, #T_b3b40_row12_col4 {\n",
              "  background-color: #dedcdb;\n",
              "  color: #000000;\n",
              "}\n",
              "#T_b3b40_row3_col8 {\n",
              "  background-color: #bad0f8;\n",
              "  color: #000000;\n",
              "}\n",
              "#T_b3b40_row3_col9, #T_b3b40_row13_col0, #T_b3b40_row13_col6 {\n",
              "  background-color: #5d7ce6;\n",
              "  color: #f1f1f1;\n",
              "}\n",
              "#T_b3b40_row3_col11, #T_b3b40_row4_col3, #T_b3b40_row14_col12, #T_b3b40_row16_col9 {\n",
              "  background-color: #d9dce1;\n",
              "  color: #000000;\n",
              "}\n",
              "#T_b3b40_row3_col13 {\n",
              "  background-color: #7da0f9;\n",
              "  color: #f1f1f1;\n",
              "}\n",
              "#T_b3b40_row3_col14, #T_b3b40_row11_col12 {\n",
              "  background-color: #d8dce2;\n",
              "  color: #000000;\n",
              "}\n",
              "#T_b3b40_row3_col15 {\n",
              "  background-color: #688aef;\n",
              "  color: #f1f1f1;\n",
              "}\n",
              "#T_b3b40_row4_col0, #T_b3b40_row4_col6, #T_b3b40_row10_col16 {\n",
              "  background-color: #f1cdba;\n",
              "  color: #000000;\n",
              "}\n",
              "#T_b3b40_row4_col1, #T_b3b40_row8_col14 {\n",
              "  background-color: #f7b79b;\n",
              "  color: #000000;\n",
              "}\n",
              "#T_b3b40_row4_col2 {\n",
              "  background-color: #f39778;\n",
              "  color: #000000;\n",
              "}\n",
              "#T_b3b40_row4_col7 {\n",
              "  background-color: #f5c1a9;\n",
              "  color: #000000;\n",
              "}\n",
              "#T_b3b40_row4_col12, #T_b3b40_row5_col3, #T_b3b40_row13_col9 {\n",
              "  background-color: #dcdddd;\n",
              "  color: #000000;\n",
              "}\n",
              "#T_b3b40_row4_col13, #T_b3b40_row5_col9, #T_b3b40_row5_col11 {\n",
              "  background-color: #3d50c3;\n",
              "  color: #f1f1f1;\n",
              "}\n",
              "#T_b3b40_row4_col15, #T_b3b40_row5_col10, #T_b3b40_row5_col15 {\n",
              "  background-color: #4257c9;\n",
              "  color: #f1f1f1;\n",
              "}\n",
              "#T_b3b40_row4_col16 {\n",
              "  background-color: #8fb1fe;\n",
              "  color: #000000;\n",
              "}\n",
              "#T_b3b40_row5_col0, #T_b3b40_row5_col6 {\n",
              "  background-color: #f2cab5;\n",
              "  color: #000000;\n",
              "}\n",
              "#T_b3b40_row5_col1, #T_b3b40_row8_col11 {\n",
              "  background-color: #f7b599;\n",
              "  color: #000000;\n",
              "}\n",
              "#T_b3b40_row5_col2, #T_b3b40_row15_col13 {\n",
              "  background-color: #f4987a;\n",
              "  color: #000000;\n",
              "}\n",
              "#T_b3b40_row5_col7, #T_b3b40_row16_col13 {\n",
              "  background-color: #f6bfa6;\n",
              "  color: #000000;\n",
              "}\n",
              "#T_b3b40_row5_col8 {\n",
              "  background-color: #455cce;\n",
              "  color: #f1f1f1;\n",
              "}\n",
              "#T_b3b40_row5_col16, #T_b3b40_row16_col0, #T_b3b40_row16_col6 {\n",
              "  background-color: #7b9ff9;\n",
              "  color: #f1f1f1;\n",
              "}\n",
              "#T_b3b40_row6_col9, #T_b3b40_row7_col13, #T_b3b40_row13_col4 {\n",
              "  background-color: #516ddb;\n",
              "  color: #f1f1f1;\n",
              "}\n",
              "#T_b3b40_row6_col10, #T_b3b40_row15_col1 {\n",
              "  background-color: #85a8fc;\n",
              "  color: #f1f1f1;\n",
              "}\n",
              "#T_b3b40_row6_col13, #T_b3b40_row10_col4 {\n",
              "  background-color: #5e7de7;\n",
              "  color: #f1f1f1;\n",
              "}\n",
              "#T_b3b40_row6_col15 {\n",
              "  background-color: #536edd;\n",
              "  color: #f1f1f1;\n",
              "}\n",
              "#T_b3b40_row7_col4, #T_b3b40_row9_col11, #T_b3b40_row9_col14, #T_b3b40_row10_col15, #T_b3b40_row16_col10 {\n",
              "  background-color: #f6bda2;\n",
              "  color: #000000;\n",
              "}\n",
              "#T_b3b40_row7_col5, #T_b3b40_row11_col15, #T_b3b40_row14_col15 {\n",
              "  background-color: #f7ba9f;\n",
              "  color: #000000;\n",
              "}\n",
              "#T_b3b40_row7_col8, #T_b3b40_row9_col1, #T_b3b40_row11_col7 {\n",
              "  background-color: #9ebeff;\n",
              "  color: #000000;\n",
              "}\n",
              "#T_b3b40_row7_col9 {\n",
              "  background-color: #4b64d5;\n",
              "  color: #f1f1f1;\n",
              "}\n",
              "#T_b3b40_row7_col10 {\n",
              "  background-color: #7699f6;\n",
              "  color: #f1f1f1;\n",
              "}\n",
              "#T_b3b40_row7_col11 {\n",
              "  background-color: #a9c6fd;\n",
              "  color: #000000;\n",
              "}\n",
              "#T_b3b40_row7_col12 {\n",
              "  background-color: #4358cb;\n",
              "  color: #f1f1f1;\n",
              "}\n",
              "#T_b3b40_row7_col14 {\n",
              "  background-color: #a7c5fe;\n",
              "  color: #000000;\n",
              "}\n",
              "#T_b3b40_row7_col15, #T_b3b40_row13_col5 {\n",
              "  background-color: #4c66d6;\n",
              "  color: #f1f1f1;\n",
              "}\n",
              "#T_b3b40_row8_col1 {\n",
              "  background-color: #d1dae9;\n",
              "  color: #000000;\n",
              "}\n",
              "#T_b3b40_row8_col2, #T_b3b40_row8_col15 {\n",
              "  background-color: #c7d7f0;\n",
              "  color: #000000;\n",
              "}\n",
              "#T_b3b40_row8_col3, #T_b3b40_row12_col10 {\n",
              "  background-color: #ecd3c5;\n",
              "  color: #000000;\n",
              "}\n",
              "#T_b3b40_row8_col4, #T_b3b40_row11_col6, #T_b3b40_row14_col0, #T_b3b40_row14_col6 {\n",
              "  background-color: #a2c1ff;\n",
              "  color: #000000;\n",
              "}\n",
              "#T_b3b40_row8_col5 {\n",
              "  background-color: #aac7fd;\n",
              "  color: #000000;\n",
              "}\n",
              "#T_b3b40_row8_col6, #T_b3b40_row8_col7 {\n",
              "  background-color: #dadce0;\n",
              "  color: #000000;\n",
              "}\n",
              "#T_b3b40_row8_col9 {\n",
              "  background-color: #b7cff9;\n",
              "  color: #000000;\n",
              "}\n",
              "#T_b3b40_row8_col10 {\n",
              "  background-color: #f5c4ac;\n",
              "  color: #000000;\n",
              "}\n",
              "#T_b3b40_row8_col12 {\n",
              "  background-color: #c4d5f3;\n",
              "  color: #000000;\n",
              "}\n",
              "#T_b3b40_row8_col13 {\n",
              "  background-color: #f0cdbb;\n",
              "  color: #000000;\n",
              "}\n",
              "#T_b3b40_row9_col0, #T_b3b40_row9_col7 {\n",
              "  background-color: #afcafc;\n",
              "  color: #000000;\n",
              "}\n",
              "#T_b3b40_row9_col2 {\n",
              "  background-color: #a1c0ff;\n",
              "  color: #000000;\n",
              "}\n",
              "#T_b3b40_row9_col3, #T_b3b40_row9_col8 {\n",
              "  background-color: #c1d4f4;\n",
              "  color: #000000;\n",
              "}\n",
              "#T_b3b40_row9_col5, #T_b3b40_row9_col6, #T_b3b40_row15_col3 {\n",
              "  background-color: #aec9fc;\n",
              "  color: #000000;\n",
              "}\n",
              "#T_b3b40_row9_col10 {\n",
              "  background-color: #f08b6e;\n",
              "  color: #f1f1f1;\n",
              "}\n",
              "#T_b3b40_row9_col12 {\n",
              "  background-color: #edd2c3;\n",
              "  color: #000000;\n",
              "}\n",
              "#T_b3b40_row9_col13 {\n",
              "  background-color: #f6bea4;\n",
              "  color: #000000;\n",
              "}\n",
              "#T_b3b40_row9_col15 {\n",
              "  background-color: #ee8669;\n",
              "  color: #f1f1f1;\n",
              "}\n",
              "#T_b3b40_row9_col16 {\n",
              "  background-color: #ead5c9;\n",
              "  color: #000000;\n",
              "}\n",
              "#T_b3b40_row10_col0, #T_b3b40_row15_col4, #T_b3b40_row15_col5 {\n",
              "  background-color: #93b5fe;\n",
              "  color: #000000;\n",
              "}\n",
              "#T_b3b40_row10_col1 {\n",
              "  background-color: #7295f4;\n",
              "  color: #f1f1f1;\n",
              "}\n",
              "#T_b3b40_row10_col2 {\n",
              "  background-color: #6788ee;\n",
              "  color: #f1f1f1;\n",
              "}\n",
              "#T_b3b40_row10_col3, #T_b3b40_row15_col8 {\n",
              "  background-color: #b9d0f9;\n",
              "  color: #000000;\n",
              "}\n",
              "#T_b3b40_row10_col5 {\n",
              "  background-color: #6485ec;\n",
              "  color: #f1f1f1;\n",
              "}\n",
              "#T_b3b40_row10_col6 {\n",
              "  background-color: #92b4fe;\n",
              "  color: #000000;\n",
              "}\n",
              "#T_b3b40_row10_col7, #T_b3b40_row11_col1, #T_b3b40_row14_col1 {\n",
              "  background-color: #8badfd;\n",
              "  color: #000000;\n",
              "}\n",
              "#T_b3b40_row10_col8 {\n",
              "  background-color: #e2dad5;\n",
              "  color: #000000;\n",
              "}\n",
              "#T_b3b40_row10_col9, #T_b3b40_row15_col10 {\n",
              "  background-color: #f7aa8c;\n",
              "  color: #000000;\n",
              "}\n",
              "#T_b3b40_row10_col11, #T_b3b40_row10_col13 {\n",
              "  background-color: #dc5d4a;\n",
              "  color: #f1f1f1;\n",
              "}\n",
              "#T_b3b40_row10_col12 {\n",
              "  background-color: #f2c9b4;\n",
              "  color: #000000;\n",
              "}\n",
              "#T_b3b40_row10_col14 {\n",
              "  background-color: #dd5f4b;\n",
              "  color: #f1f1f1;\n",
              "}\n",
              "#T_b3b40_row11_col2, #T_b3b40_row14_col2 {\n",
              "  background-color: #6c8ff1;\n",
              "  color: #f1f1f1;\n",
              "}\n",
              "#T_b3b40_row11_col3, #T_b3b40_row14_col3 {\n",
              "  background-color: #d6dce4;\n",
              "  color: #000000;\n",
              "}\n",
              "#T_b3b40_row11_col5, #T_b3b40_row14_col4 {\n",
              "  background-color: #3c4ec2;\n",
              "  color: #f1f1f1;\n",
              "}\n",
              "#T_b3b40_row11_col8 {\n",
              "  background-color: #e4d9d2;\n",
              "  color: #000000;\n",
              "}\n",
              "#T_b3b40_row11_col9 {\n",
              "  background-color: #d4dbe6;\n",
              "  color: #000000;\n",
              "}\n",
              "#T_b3b40_row11_col10 {\n",
              "  background-color: #e0654f;\n",
              "  color: #f1f1f1;\n",
              "}\n",
              "#T_b3b40_row11_col13 {\n",
              "  background-color: #cd423b;\n",
              "  color: #f1f1f1;\n",
              "}\n",
              "#T_b3b40_row11_col16, #T_b3b40_row13_col8, #T_b3b40_row16_col15 {\n",
              "  background-color: #cdd9ec;\n",
              "  color: #000000;\n",
              "}\n",
              "#T_b3b40_row12_col2 {\n",
              "  background-color: #485fd1;\n",
              "  color: #f1f1f1;\n",
              "}\n",
              "#T_b3b40_row12_col5, #T_b3b40_row12_col15 {\n",
              "  background-color: #dddcdc;\n",
              "  color: #000000;\n",
              "}\n",
              "#T_b3b40_row12_col8 {\n",
              "  background-color: #6e90f2;\n",
              "  color: #f1f1f1;\n",
              "}\n",
              "#T_b3b40_row12_col13 {\n",
              "  background-color: #f7a688;\n",
              "  color: #000000;\n",
              "}\n",
              "#T_b3b40_row12_col16 {\n",
              "  background-color: #f1ccb8;\n",
              "  color: #000000;\n",
              "}\n",
              "#T_b3b40_row13_col1 {\n",
              "  background-color: #4a63d3;\n",
              "  color: #f1f1f1;\n",
              "}\n",
              "#T_b3b40_row13_col3 {\n",
              "  background-color: #89acfd;\n",
              "  color: #000000;\n",
              "}\n",
              "#T_b3b40_row13_col7 {\n",
              "  background-color: #5875e1;\n",
              "  color: #f1f1f1;\n",
              "}\n",
              "#T_b3b40_row13_col10 {\n",
              "  background-color: #de614d;\n",
              "  color: #f1f1f1;\n",
              "}\n",
              "#T_b3b40_row13_col11, #T_b3b40_row13_col14 {\n",
              "  background-color: #cb3e38;\n",
              "  color: #f1f1f1;\n",
              "}\n",
              "#T_b3b40_row13_col12 {\n",
              "  background-color: #f6a283;\n",
              "  color: #000000;\n",
              "}\n",
              "#T_b3b40_row13_col16 {\n",
              "  background-color: #ebd3c6;\n",
              "  color: #000000;\n",
              "}\n",
              "#T_b3b40_row14_col7 {\n",
              "  background-color: #9dbdff;\n",
              "  color: #000000;\n",
              "}\n",
              "#T_b3b40_row14_col8 {\n",
              "  background-color: #e3d9d3;\n",
              "  color: #000000;\n",
              "}\n",
              "#T_b3b40_row14_col9 {\n",
              "  background-color: #d5dbe5;\n",
              "  color: #000000;\n",
              "}\n",
              "#T_b3b40_row14_col10 {\n",
              "  background-color: #e16751;\n",
              "  color: #f1f1f1;\n",
              "}\n",
              "#T_b3b40_row14_col13 {\n",
              "  background-color: #cc403a;\n",
              "  color: #f1f1f1;\n",
              "}\n",
              "#T_b3b40_row14_col16, #T_b3b40_row15_col16 {\n",
              "  background-color: #cfdaea;\n",
              "  color: #000000;\n",
              "}\n",
              "#T_b3b40_row15_col2 {\n",
              "  background-color: #7a9df8;\n",
              "  color: #f1f1f1;\n",
              "}\n",
              "#T_b3b40_row15_col11, #T_b3b40_row15_col14 {\n",
              "  background-color: #f59c7d;\n",
              "  color: #000000;\n",
              "}\n",
              "#T_b3b40_row16_col1 {\n",
              "  background-color: #799cf8;\n",
              "  color: #f1f1f1;\n",
              "}\n",
              "#T_b3b40_row16_col2, #T_b3b40_row16_col7 {\n",
              "  background-color: #81a4fb;\n",
              "  color: #f1f1f1;\n",
              "}\n",
              "#T_b3b40_row16_col3 {\n",
              "  background-color: #8db0fe;\n",
              "  color: #000000;\n",
              "}\n",
              "#T_b3b40_row16_col4 {\n",
              "  background-color: #cbd8ee;\n",
              "  color: #000000;\n",
              "}\n",
              "#T_b3b40_row16_col5 {\n",
              "  background-color: #bed2f6;\n",
              "  color: #000000;\n",
              "}\n",
              "#T_b3b40_row16_col8 {\n",
              "  background-color: #8caffe;\n",
              "  color: #000000;\n",
              "}\n",
              "#T_b3b40_row16_col11 {\n",
              "  background-color: #eed0c0;\n",
              "  color: #000000;\n",
              "}\n",
              "#T_b3b40_row16_col14 {\n",
              "  background-color: #efcebd;\n",
              "  color: #000000;\n",
              "}\n",
              "</style>\n",
              "<table id=\"T_b3b40_\" class=\"dataframe\">\n",
              "  <thead>\n",
              "    <tr>\n",
              "      <th class=\"blank level0\" >&nbsp;</th>\n",
              "      <th class=\"col_heading level0 col0\" >Area</th>\n",
              "      <th class=\"col_heading level0 col1\" >Perimeter</th>\n",
              "      <th class=\"col_heading level0 col2\" >MajorAxisLength</th>\n",
              "      <th class=\"col_heading level0 col3\" >MinorAxisLength</th>\n",
              "      <th class=\"col_heading level0 col4\" >AspectRation</th>\n",
              "      <th class=\"col_heading level0 col5\" >Eccentricity</th>\n",
              "      <th class=\"col_heading level0 col6\" >ConvexArea</th>\n",
              "      <th class=\"col_heading level0 col7\" >EquivDiameter</th>\n",
              "      <th class=\"col_heading level0 col8\" >Extent</th>\n",
              "      <th class=\"col_heading level0 col9\" >Solidity</th>\n",
              "      <th class=\"col_heading level0 col10\" >roundness</th>\n",
              "      <th class=\"col_heading level0 col11\" >Compactness</th>\n",
              "      <th class=\"col_heading level0 col12\" >ShapeFactor1</th>\n",
              "      <th class=\"col_heading level0 col13\" >ShapeFactor2</th>\n",
              "      <th class=\"col_heading level0 col14\" >ShapeFactor3</th>\n",
              "      <th class=\"col_heading level0 col15\" >ShapeFactor4</th>\n",
              "      <th class=\"col_heading level0 col16\" >y</th>\n",
              "    </tr>\n",
              "  </thead>\n",
              "  <tbody>\n",
              "    <tr>\n",
              "      <th id=\"T_b3b40_level0_row0\" class=\"row_heading level0 row0\" >Area</th>\n",
              "      <td id=\"T_b3b40_row0_col0\" class=\"data row0 col0\" >1.000000</td>\n",
              "      <td id=\"T_b3b40_row0_col1\" class=\"data row0 col1\" >0.966881</td>\n",
              "      <td id=\"T_b3b40_row0_col2\" class=\"data row0 col2\" >0.933198</td>\n",
              "      <td id=\"T_b3b40_row0_col3\" class=\"data row0 col3\" >0.952536</td>\n",
              "      <td id=\"T_b3b40_row0_col4\" class=\"data row0 col4\" >0.243893</td>\n",
              "      <td id=\"T_b3b40_row0_col5\" class=\"data row0 col5\" >0.268565</td>\n",
              "      <td id=\"T_b3b40_row0_col6\" class=\"data row0 col6\" >0.999940</td>\n",
              "      <td id=\"T_b3b40_row0_col7\" class=\"data row0 col7\" >0.984987</td>\n",
              "      <td id=\"T_b3b40_row0_col8\" class=\"data row0 col8\" >0.061387</td>\n",
              "      <td id=\"T_b3b40_row0_col9\" class=\"data row0 col9\" >-0.200078</td>\n",
              "      <td id=\"T_b3b40_row0_col10\" class=\"data row0 col10\" >-0.354127</td>\n",
              "      <td id=\"T_b3b40_row0_col11\" class=\"data row0 col11\" >-0.270134</td>\n",
              "      <td id=\"T_b3b40_row0_col12\" class=\"data row0 col12\" >-0.848371</td>\n",
              "      <td id=\"T_b3b40_row0_col13\" class=\"data row0 col13\" >-0.640619</td>\n",
              "      <td id=\"T_b3b40_row0_col14\" class=\"data row0 col14\" >-0.274081</td>\n",
              "      <td id=\"T_b3b40_row0_col15\" class=\"data row0 col15\" >-0.365265</td>\n",
              "      <td id=\"T_b3b40_row0_col16\" class=\"data row0 col16\" >-0.474164</td>\n",
              "    </tr>\n",
              "    <tr>\n",
              "      <th id=\"T_b3b40_level0_row1\" class=\"row_heading level0 row1\" >Perimeter</th>\n",
              "      <td id=\"T_b3b40_row1_col0\" class=\"data row1 col0\" >0.966881</td>\n",
              "      <td id=\"T_b3b40_row1_col1\" class=\"data row1 col1\" >1.000000</td>\n",
              "      <td id=\"T_b3b40_row1_col2\" class=\"data row1 col2\" >0.977830</td>\n",
              "      <td id=\"T_b3b40_row1_col3\" class=\"data row1 col3\" >0.915162</td>\n",
              "      <td id=\"T_b3b40_row1_col4\" class=\"data row1 col4\" >0.386119</td>\n",
              "      <td id=\"T_b3b40_row1_col5\" class=\"data row1 col5\" >0.390878</td>\n",
              "      <td id=\"T_b3b40_row1_col6\" class=\"data row1 col6\" >0.967823</td>\n",
              "      <td id=\"T_b3b40_row1_col7\" class=\"data row1 col7\" >0.991439</td>\n",
              "      <td id=\"T_b3b40_row1_col8\" class=\"data row1 col8\" >-0.013889</td>\n",
              "      <td id=\"T_b3b40_row1_col9\" class=\"data row1 col9\" >-0.307817</td>\n",
              "      <td id=\"T_b3b40_row1_col10\" class=\"data row1 col10\" >-0.543906</td>\n",
              "      <td id=\"T_b3b40_row1_col11\" class=\"data row1 col11\" >-0.407622</td>\n",
              "      <td id=\"T_b3b40_row1_col12\" class=\"data row1 col12\" >-0.866250</td>\n",
              "      <td id=\"T_b3b40_row1_col13\" class=\"data row1 col13\" >-0.768104</td>\n",
              "      <td id=\"T_b3b40_row1_col14\" class=\"data row1 col14\" >-0.409079</td>\n",
              "      <td id=\"T_b3b40_row1_col15\" class=\"data row1 col15\" >-0.439272</td>\n",
              "      <td id=\"T_b3b40_row1_col16\" class=\"data row1 col16\" >-0.507765</td>\n",
              "    </tr>\n",
              "    <tr>\n",
              "      <th id=\"T_b3b40_level0_row2\" class=\"row_heading level0 row2\" >MajorAxisLength</th>\n",
              "      <td id=\"T_b3b40_row2_col0\" class=\"data row2 col0\" >0.933198</td>\n",
              "      <td id=\"T_b3b40_row2_col1\" class=\"data row2 col1\" >0.977830</td>\n",
              "      <td id=\"T_b3b40_row2_col2\" class=\"data row2 col2\" >1.000000</td>\n",
              "      <td id=\"T_b3b40_row2_col3\" class=\"data row2 col3\" >0.830452</td>\n",
              "      <td id=\"T_b3b40_row2_col4\" class=\"data row2 col4\" >0.548912</td>\n",
              "      <td id=\"T_b3b40_row2_col5\" class=\"data row2 col5\" >0.539787</td>\n",
              "      <td id=\"T_b3b40_row2_col6\" class=\"data row2 col6\" >0.933934</td>\n",
              "      <td id=\"T_b3b40_row2_col7\" class=\"data row2 col7\" >0.962754</td>\n",
              "      <td id=\"T_b3b40_row2_col8\" class=\"data row2 col8\" >-0.070935</td>\n",
              "      <td id=\"T_b3b40_row2_col9\" class=\"data row2 col9\" >-0.285916</td>\n",
              "      <td id=\"T_b3b40_row2_col10\" class=\"data row2 col10\" >-0.589910</td>\n",
              "      <td id=\"T_b3b40_row2_col11\" class=\"data row2 col11\" >-0.566905</td>\n",
              "      <td id=\"T_b3b40_row2_col12\" class=\"data row2 col12\" >-0.777222</td>\n",
              "      <td id=\"T_b3b40_row2_col13\" class=\"data row2 col13\" >-0.858387</td>\n",
              "      <td id=\"T_b3b40_row2_col14\" class=\"data row2 col14\" >-0.566625</td>\n",
              "      <td id=\"T_b3b40_row2_col15\" class=\"data row2 col15\" >-0.491591</td>\n",
              "      <td id=\"T_b3b40_row2_col16\" class=\"data row2 col16\" >-0.456807</td>\n",
              "    </tr>\n",
              "    <tr>\n",
              "      <th id=\"T_b3b40_level0_row3\" class=\"row_heading level0 row3\" >MinorAxisLength</th>\n",
              "      <td id=\"T_b3b40_row3_col0\" class=\"data row3 col0\" >0.952536</td>\n",
              "      <td id=\"T_b3b40_row3_col1\" class=\"data row3 col1\" >0.915162</td>\n",
              "      <td id=\"T_b3b40_row3_col2\" class=\"data row3 col2\" >0.830452</td>\n",
              "      <td id=\"T_b3b40_row3_col3\" class=\"data row3 col3\" >1.000000</td>\n",
              "      <td id=\"T_b3b40_row3_col4\" class=\"data row3 col4\" >-0.003095</td>\n",
              "      <td id=\"T_b3b40_row3_col5\" class=\"data row3 col5\" >0.024388</td>\n",
              "      <td id=\"T_b3b40_row3_col6\" class=\"data row3 col6\" >0.952268</td>\n",
              "      <td id=\"T_b3b40_row3_col7\" class=\"data row3 col7\" >0.949832</td>\n",
              "      <td id=\"T_b3b40_row3_col8\" class=\"data row3 col8\" >0.152157</td>\n",
              "      <td id=\"T_b3b40_row3_col9\" class=\"data row3 col9\" >-0.160567</td>\n",
              "      <td id=\"T_b3b40_row3_col10\" class=\"data row3 col10\" >-0.211275</td>\n",
              "      <td id=\"T_b3b40_row3_col11\" class=\"data row3 col11\" >-0.021042</td>\n",
              "      <td id=\"T_b3b40_row3_col12\" class=\"data row3 col12\" >-0.947040</td>\n",
              "      <td id=\"T_b3b40_row3_col13\" class=\"data row3 col13\" >-0.476659</td>\n",
              "      <td id=\"T_b3b40_row3_col14\" class=\"data row3 col14\" >-0.025152</td>\n",
              "      <td id=\"T_b3b40_row3_col15\" class=\"data row3 col15\" >-0.273554</td>\n",
              "      <td id=\"T_b3b40_row3_col16\" class=\"data row3 col16\" >-0.457526</td>\n",
              "    </tr>\n",
              "    <tr>\n",
              "      <th id=\"T_b3b40_level0_row4\" class=\"row_heading level0 row4\" >AspectRation</th>\n",
              "      <td id=\"T_b3b40_row4_col0\" class=\"data row4 col0\" >0.243893</td>\n",
              "      <td id=\"T_b3b40_row4_col1\" class=\"data row4 col1\" >0.386119</td>\n",
              "      <td id=\"T_b3b40_row4_col2\" class=\"data row4 col2\" >0.548912</td>\n",
              "      <td id=\"T_b3b40_row4_col3\" class=\"data row4 col3\" >-0.003095</td>\n",
              "      <td id=\"T_b3b40_row4_col4\" class=\"data row4 col4\" >1.000000</td>\n",
              "      <td id=\"T_b3b40_row4_col5\" class=\"data row4 col5\" >0.924040</td>\n",
              "      <td id=\"T_b3b40_row4_col6\" class=\"data row4 col6\" >0.245408</td>\n",
              "      <td id=\"T_b3b40_row4_col7\" class=\"data row4 col7\" >0.305557</td>\n",
              "      <td id=\"T_b3b40_row4_col8\" class=\"data row4 col8\" >-0.372383</td>\n",
              "      <td id=\"T_b3b40_row4_col9\" class=\"data row4 col9\" >-0.266038</td>\n",
              "      <td id=\"T_b3b40_row4_col10\" class=\"data row4 col10\" >-0.762150</td>\n",
              "      <td id=\"T_b3b40_row4_col11\" class=\"data row4 col11\" >-0.987664</td>\n",
              "      <td id=\"T_b3b40_row4_col12\" class=\"data row4 col12\" >0.019197</td>\n",
              "      <td id=\"T_b3b40_row4_col13\" class=\"data row4 col13\" >-0.837526</td>\n",
              "      <td id=\"T_b3b40_row4_col14\" class=\"data row4 col14\" >-0.978550</td>\n",
              "      <td id=\"T_b3b40_row4_col15\" class=\"data row4 col15\" >-0.456479</td>\n",
              "      <td id=\"T_b3b40_row4_col16\" class=\"data row4 col16\" >-0.121283</td>\n",
              "    </tr>\n",
              "    <tr>\n",
              "      <th id=\"T_b3b40_level0_row5\" class=\"row_heading level0 row5\" >Eccentricity</th>\n",
              "      <td id=\"T_b3b40_row5_col0\" class=\"data row5 col0\" >0.268565</td>\n",
              "      <td id=\"T_b3b40_row5_col1\" class=\"data row5 col1\" >0.390878</td>\n",
              "      <td id=\"T_b3b40_row5_col2\" class=\"data row5 col2\" >0.539787</td>\n",
              "      <td id=\"T_b3b40_row5_col3\" class=\"data row5 col3\" >0.024388</td>\n",
              "      <td id=\"T_b3b40_row5_col4\" class=\"data row5 col4\" >0.924040</td>\n",
              "      <td id=\"T_b3b40_row5_col5\" class=\"data row5 col5\" >1.000000</td>\n",
              "      <td id=\"T_b3b40_row5_col6\" class=\"data row5 col6\" >0.270283</td>\n",
              "      <td id=\"T_b3b40_row5_col7\" class=\"data row5 col7\" >0.319497</td>\n",
              "      <td id=\"T_b3b40_row5_col8\" class=\"data row5 col8\" >-0.319550</td>\n",
              "      <td id=\"T_b3b40_row5_col9\" class=\"data row5 col9\" >-0.295614</td>\n",
              "      <td id=\"T_b3b40_row5_col10\" class=\"data row5 col10\" >-0.716765</td>\n",
              "      <td id=\"T_b3b40_row5_col11\" class=\"data row5 col11\" >-0.970173</td>\n",
              "      <td id=\"T_b3b40_row5_col12\" class=\"data row5 col12\" >0.015644</td>\n",
              "      <td id=\"T_b3b40_row5_col13\" class=\"data row5 col13\" >-0.859207</td>\n",
              "      <td id=\"T_b3b40_row5_col14\" class=\"data row5 col14\" >-0.980946</td>\n",
              "      <td id=\"T_b3b40_row5_col15\" class=\"data row5 col15\" >-0.453895</td>\n",
              "      <td id=\"T_b3b40_row5_col16\" class=\"data row5 col16\" >-0.204183</td>\n",
              "    </tr>\n",
              "    <tr>\n",
              "      <th id=\"T_b3b40_level0_row6\" class=\"row_heading level0 row6\" >ConvexArea</th>\n",
              "      <td id=\"T_b3b40_row6_col0\" class=\"data row6 col0\" >0.999940</td>\n",
              "      <td id=\"T_b3b40_row6_col1\" class=\"data row6 col1\" >0.967823</td>\n",
              "      <td id=\"T_b3b40_row6_col2\" class=\"data row6 col2\" >0.933934</td>\n",
              "      <td id=\"T_b3b40_row6_col3\" class=\"data row6 col3\" >0.952268</td>\n",
              "      <td id=\"T_b3b40_row6_col4\" class=\"data row6 col4\" >0.245408</td>\n",
              "      <td id=\"T_b3b40_row6_col5\" class=\"data row6 col5\" >0.270283</td>\n",
              "      <td id=\"T_b3b40_row6_col6\" class=\"data row6 col6\" >1.000000</td>\n",
              "      <td id=\"T_b3b40_row6_col7\" class=\"data row6 col7\" >0.985223</td>\n",
              "      <td id=\"T_b3b40_row6_col8\" class=\"data row6 col8\" >0.059711</td>\n",
              "      <td id=\"T_b3b40_row6_col9\" class=\"data row6 col9\" >-0.209552</td>\n",
              "      <td id=\"T_b3b40_row6_col10\" class=\"data row6 col10\" >-0.358655</td>\n",
              "      <td id=\"T_b3b40_row6_col11\" class=\"data row6 col11\" >-0.271930</td>\n",
              "      <td id=\"T_b3b40_row6_col12\" class=\"data row6 col12\" >-0.848345</td>\n",
              "      <td id=\"T_b3b40_row6_col13\" class=\"data row6 col13\" >-0.642119</td>\n",
              "      <td id=\"T_b3b40_row6_col14\" class=\"data row6 col14\" >-0.275901</td>\n",
              "      <td id=\"T_b3b40_row6_col15\" class=\"data row6 col15\" >-0.371420</td>\n",
              "      <td id=\"T_b3b40_row6_col16\" class=\"data row6 col16\" >-0.476363</td>\n",
              "    </tr>\n",
              "    <tr>\n",
              "      <th id=\"T_b3b40_level0_row7\" class=\"row_heading level0 row7\" >EquivDiameter</th>\n",
              "      <td id=\"T_b3b40_row7_col0\" class=\"data row7 col0\" >0.984987</td>\n",
              "      <td id=\"T_b3b40_row7_col1\" class=\"data row7 col1\" >0.991439</td>\n",
              "      <td id=\"T_b3b40_row7_col2\" class=\"data row7 col2\" >0.962754</td>\n",
              "      <td id=\"T_b3b40_row7_col3\" class=\"data row7 col3\" >0.949832</td>\n",
              "      <td id=\"T_b3b40_row7_col4\" class=\"data row7 col4\" >0.305557</td>\n",
              "      <td id=\"T_b3b40_row7_col5\" class=\"data row7 col5\" >0.319497</td>\n",
              "      <td id=\"T_b3b40_row7_col6\" class=\"data row7 col6\" >0.985223</td>\n",
              "      <td id=\"T_b3b40_row7_col7\" class=\"data row7 col7\" >1.000000</td>\n",
              "      <td id=\"T_b3b40_row7_col8\" class=\"data row7 col8\" >0.035291</td>\n",
              "      <td id=\"T_b3b40_row7_col9\" class=\"data row7 col9\" >-0.234767</td>\n",
              "      <td id=\"T_b3b40_row7_col10\" class=\"data row7 col10\" >-0.432327</td>\n",
              "      <td id=\"T_b3b40_row7_col11\" class=\"data row7 col11\" >-0.329457</td>\n",
              "      <td id=\"T_b3b40_row7_col12\" class=\"data row7 col12\" >-0.893598</td>\n",
              "      <td id=\"T_b3b40_row7_col13\" class=\"data row7 col13\" >-0.714397</td>\n",
              "      <td id=\"T_b3b40_row7_col14\" class=\"data row7 col14\" >-0.332067</td>\n",
              "      <td id=\"T_b3b40_row7_col15\" class=\"data row7 col15\" >-0.402038</td>\n",
              "      <td id=\"T_b3b40_row7_col16\" class=\"data row7 col16\" >-0.480921</td>\n",
              "    </tr>\n",
              "    <tr>\n",
              "      <th id=\"T_b3b40_level0_row8\" class=\"row_heading level0 row8\" >Extent</th>\n",
              "      <td id=\"T_b3b40_row8_col0\" class=\"data row8 col0\" >0.061387</td>\n",
              "      <td id=\"T_b3b40_row8_col1\" class=\"data row8 col1\" >-0.013889</td>\n",
              "      <td id=\"T_b3b40_row8_col2\" class=\"data row8 col2\" >-0.070935</td>\n",
              "      <td id=\"T_b3b40_row8_col3\" class=\"data row8 col3\" >0.152157</td>\n",
              "      <td id=\"T_b3b40_row8_col4\" class=\"data row8 col4\" >-0.372383</td>\n",
              "      <td id=\"T_b3b40_row8_col5\" class=\"data row8 col5\" >-0.319550</td>\n",
              "      <td id=\"T_b3b40_row8_col6\" class=\"data row8 col6\" >0.059711</td>\n",
              "      <td id=\"T_b3b40_row8_col7\" class=\"data row8 col7\" >0.035291</td>\n",
              "      <td id=\"T_b3b40_row8_col8\" class=\"data row8 col8\" >1.000000</td>\n",
              "      <td id=\"T_b3b40_row8_col9\" class=\"data row8 col9\" >0.180843</td>\n",
              "      <td id=\"T_b3b40_row8_col10\" class=\"data row8 col10\" >0.341669</td>\n",
              "      <td id=\"T_b3b40_row8_col11\" class=\"data row8 col11\" >0.355279</td>\n",
              "      <td id=\"T_b3b40_row8_col12\" class=\"data row8 col12\" >-0.147888</td>\n",
              "      <td id=\"T_b3b40_row8_col13\" class=\"data row8 col13\" >0.235020</td>\n",
              "      <td id=\"T_b3b40_row8_col14\" class=\"data row8 col14\" >0.348442</td>\n",
              "      <td id=\"T_b3b40_row8_col15\" class=\"data row8 col15\" >0.142275</td>\n",
              "      <td id=\"T_b3b40_row8_col16\" class=\"data row8 col16\" >-0.034010</td>\n",
              "    </tr>\n",
              "    <tr>\n",
              "      <th id=\"T_b3b40_level0_row9\" class=\"row_heading level0 row9\" >Solidity</th>\n",
              "      <td id=\"T_b3b40_row9_col0\" class=\"data row9 col0\" >-0.200078</td>\n",
              "      <td id=\"T_b3b40_row9_col1\" class=\"data row9 col1\" >-0.307817</td>\n",
              "      <td id=\"T_b3b40_row9_col2\" class=\"data row9 col2\" >-0.285916</td>\n",
              "      <td id=\"T_b3b40_row9_col3\" class=\"data row9 col3\" >-0.160567</td>\n",
              "      <td id=\"T_b3b40_row9_col4\" class=\"data row9 col4\" >-0.266038</td>\n",
              "      <td id=\"T_b3b40_row9_col5\" class=\"data row9 col5\" >-0.295614</td>\n",
              "      <td id=\"T_b3b40_row9_col6\" class=\"data row9 col6\" >-0.209552</td>\n",
              "      <td id=\"T_b3b40_row9_col7\" class=\"data row9 col7\" >-0.234767</td>\n",
              "      <td id=\"T_b3b40_row9_col8\" class=\"data row9 col8\" >0.180843</td>\n",
              "      <td id=\"T_b3b40_row9_col9\" class=\"data row9 col9\" >1.000000</td>\n",
              "      <td id=\"T_b3b40_row9_col10\" class=\"data row9 col10\" >0.614744</td>\n",
              "      <td id=\"T_b3b40_row9_col11\" class=\"data row9 col11\" >0.301718</td>\n",
              "      <td id=\"T_b3b40_row9_col12\" class=\"data row9 col12\" >0.158452</td>\n",
              "      <td id=\"T_b3b40_row9_col13\" class=\"data row9 col13\" >0.343114</td>\n",
              "      <td id=\"T_b3b40_row9_col14\" class=\"data row9 col14\" >0.305648</td>\n",
              "      <td id=\"T_b3b40_row9_col15\" class=\"data row9 col15\" >0.695040</td>\n",
              "      <td id=\"T_b3b40_row9_col16\" class=\"data row9 col16\" >0.327622</td>\n",
              "    </tr>\n",
              "    <tr>\n",
              "      <th id=\"T_b3b40_level0_row10\" class=\"row_heading level0 row10\" >roundness</th>\n",
              "      <td id=\"T_b3b40_row10_col0\" class=\"data row10 col0\" >-0.354127</td>\n",
              "      <td id=\"T_b3b40_row10_col1\" class=\"data row10 col1\" >-0.543906</td>\n",
              "      <td id=\"T_b3b40_row10_col2\" class=\"data row10 col2\" >-0.589910</td>\n",
              "      <td id=\"T_b3b40_row10_col3\" class=\"data row10 col3\" >-0.211275</td>\n",
              "      <td id=\"T_b3b40_row10_col4\" class=\"data row10 col4\" >-0.762150</td>\n",
              "      <td id=\"T_b3b40_row10_col5\" class=\"data row10 col5\" >-0.716765</td>\n",
              "      <td id=\"T_b3b40_row10_col6\" class=\"data row10 col6\" >-0.358655</td>\n",
              "      <td id=\"T_b3b40_row10_col7\" class=\"data row10 col7\" >-0.432327</td>\n",
              "      <td id=\"T_b3b40_row10_col8\" class=\"data row10 col8\" >0.341669</td>\n",
              "      <td id=\"T_b3b40_row10_col9\" class=\"data row10 col9\" >0.614744</td>\n",
              "      <td id=\"T_b3b40_row10_col10\" class=\"data row10 col10\" >1.000000</td>\n",
              "      <td id=\"T_b3b40_row10_col11\" class=\"data row10 col11\" >0.763130</td>\n",
              "      <td id=\"T_b3b40_row10_col12\" class=\"data row10 col12\" >0.232067</td>\n",
              "      <td id=\"T_b3b40_row10_col13\" class=\"data row10 col13\" >0.776929</td>\n",
              "      <td id=\"T_b3b40_row10_col14\" class=\"data row10 col14\" >0.758101</td>\n",
              "      <td id=\"T_b3b40_row10_col15\" class=\"data row10 col15\" >0.479108</td>\n",
              "      <td id=\"T_b3b40_row10_col16\" class=\"data row10 col16\" >0.387003</td>\n",
              "    </tr>\n",
              "    <tr>\n",
              "      <th id=\"T_b3b40_level0_row11\" class=\"row_heading level0 row11\" >Compactness</th>\n",
              "      <td id=\"T_b3b40_row11_col0\" class=\"data row11 col0\" >-0.270134</td>\n",
              "      <td id=\"T_b3b40_row11_col1\" class=\"data row11 col1\" >-0.407622</td>\n",
              "      <td id=\"T_b3b40_row11_col2\" class=\"data row11 col2\" >-0.566905</td>\n",
              "      <td id=\"T_b3b40_row11_col3\" class=\"data row11 col3\" >-0.021042</td>\n",
              "      <td id=\"T_b3b40_row11_col4\" class=\"data row11 col4\" >-0.987664</td>\n",
              "      <td id=\"T_b3b40_row11_col5\" class=\"data row11 col5\" >-0.970173</td>\n",
              "      <td id=\"T_b3b40_row11_col6\" class=\"data row11 col6\" >-0.271930</td>\n",
              "      <td id=\"T_b3b40_row11_col7\" class=\"data row11 col7\" >-0.329457</td>\n",
              "      <td id=\"T_b3b40_row11_col8\" class=\"data row11 col8\" >0.355279</td>\n",
              "      <td id=\"T_b3b40_row11_col9\" class=\"data row11 col9\" >0.301718</td>\n",
              "      <td id=\"T_b3b40_row11_col10\" class=\"data row11 col10\" >0.763130</td>\n",
              "      <td id=\"T_b3b40_row11_col11\" class=\"data row11 col11\" >1.000000</td>\n",
              "      <td id=\"T_b3b40_row11_col12\" class=\"data row11 col12\" >-0.004101</td>\n",
              "      <td id=\"T_b3b40_row11_col13\" class=\"data row11 col13\" >0.868571</td>\n",
              "      <td id=\"T_b3b40_row11_col14\" class=\"data row11 col14\" >0.998684</td>\n",
              "      <td id=\"T_b3b40_row11_col15\" class=\"data row11 col15\" >0.490530</td>\n",
              "      <td id=\"T_b3b40_row11_col16\" class=\"data row11 col16\" >0.161121</td>\n",
              "    </tr>\n",
              "    <tr>\n",
              "      <th id=\"T_b3b40_level0_row12\" class=\"row_heading level0 row12\" >ShapeFactor1</th>\n",
              "      <td id=\"T_b3b40_row12_col0\" class=\"data row12 col0\" >-0.848371</td>\n",
              "      <td id=\"T_b3b40_row12_col1\" class=\"data row12 col1\" >-0.866250</td>\n",
              "      <td id=\"T_b3b40_row12_col2\" class=\"data row12 col2\" >-0.777222</td>\n",
              "      <td id=\"T_b3b40_row12_col3\" class=\"data row12 col3\" >-0.947040</td>\n",
              "      <td id=\"T_b3b40_row12_col4\" class=\"data row12 col4\" >0.019197</td>\n",
              "      <td id=\"T_b3b40_row12_col5\" class=\"data row12 col5\" >0.015644</td>\n",
              "      <td id=\"T_b3b40_row12_col6\" class=\"data row12 col6\" >-0.848345</td>\n",
              "      <td id=\"T_b3b40_row12_col7\" class=\"data row12 col7\" >-0.893598</td>\n",
              "      <td id=\"T_b3b40_row12_col8\" class=\"data row12 col8\" >-0.147888</td>\n",
              "      <td id=\"T_b3b40_row12_col9\" class=\"data row12 col9\" >0.158452</td>\n",
              "      <td id=\"T_b3b40_row12_col10\" class=\"data row12 col10\" >0.232067</td>\n",
              "      <td id=\"T_b3b40_row12_col11\" class=\"data row12 col11\" >-0.004101</td>\n",
              "      <td id=\"T_b3b40_row12_col12\" class=\"data row12 col12\" >1.000000</td>\n",
              "      <td id=\"T_b3b40_row12_col13\" class=\"data row12 col13\" >0.474601</td>\n",
              "      <td id=\"T_b3b40_row12_col14\" class=\"data row12 col14\" >-0.003162</td>\n",
              "      <td id=\"T_b3b40_row12_col15\" class=\"data row12 col15\" >0.257126</td>\n",
              "      <td id=\"T_b3b40_row12_col16\" class=\"data row12 col16\" >0.392398</td>\n",
              "    </tr>\n",
              "    <tr>\n",
              "      <th id=\"T_b3b40_level0_row13\" class=\"row_heading level0 row13\" >ShapeFactor2</th>\n",
              "      <td id=\"T_b3b40_row13_col0\" class=\"data row13 col0\" >-0.640619</td>\n",
              "      <td id=\"T_b3b40_row13_col1\" class=\"data row13 col1\" >-0.768104</td>\n",
              "      <td id=\"T_b3b40_row13_col2\" class=\"data row13 col2\" >-0.858387</td>\n",
              "      <td id=\"T_b3b40_row13_col3\" class=\"data row13 col3\" >-0.476659</td>\n",
              "      <td id=\"T_b3b40_row13_col4\" class=\"data row13 col4\" >-0.837526</td>\n",
              "      <td id=\"T_b3b40_row13_col5\" class=\"data row13 col5\" >-0.859207</td>\n",
              "      <td id=\"T_b3b40_row13_col6\" class=\"data row13 col6\" >-0.642119</td>\n",
              "      <td id=\"T_b3b40_row13_col7\" class=\"data row13 col7\" >-0.714397</td>\n",
              "      <td id=\"T_b3b40_row13_col8\" class=\"data row13 col8\" >0.235020</td>\n",
              "      <td id=\"T_b3b40_row13_col9\" class=\"data row13 col9\" >0.343114</td>\n",
              "      <td id=\"T_b3b40_row13_col10\" class=\"data row13 col10\" >0.776929</td>\n",
              "      <td id=\"T_b3b40_row13_col11\" class=\"data row13 col11\" >0.868571</td>\n",
              "      <td id=\"T_b3b40_row13_col12\" class=\"data row13 col12\" >0.474601</td>\n",
              "      <td id=\"T_b3b40_row13_col13\" class=\"data row13 col13\" >1.000000</td>\n",
              "      <td id=\"T_b3b40_row13_col14\" class=\"data row13 col14\" >0.872534</td>\n",
              "      <td id=\"T_b3b40_row13_col15\" class=\"data row13 col15\" >0.537707</td>\n",
              "      <td id=\"T_b3b40_row13_col16\" class=\"data row13 col16\" >0.338889</td>\n",
              "    </tr>\n",
              "    <tr>\n",
              "      <th id=\"T_b3b40_level0_row14\" class=\"row_heading level0 row14\" >ShapeFactor3</th>\n",
              "      <td id=\"T_b3b40_row14_col0\" class=\"data row14 col0\" >-0.274081</td>\n",
              "      <td id=\"T_b3b40_row14_col1\" class=\"data row14 col1\" >-0.409079</td>\n",
              "      <td id=\"T_b3b40_row14_col2\" class=\"data row14 col2\" >-0.566625</td>\n",
              "      <td id=\"T_b3b40_row14_col3\" class=\"data row14 col3\" >-0.025152</td>\n",
              "      <td id=\"T_b3b40_row14_col4\" class=\"data row14 col4\" >-0.978550</td>\n",
              "      <td id=\"T_b3b40_row14_col5\" class=\"data row14 col5\" >-0.980946</td>\n",
              "      <td id=\"T_b3b40_row14_col6\" class=\"data row14 col6\" >-0.275901</td>\n",
              "      <td id=\"T_b3b40_row14_col7\" class=\"data row14 col7\" >-0.332067</td>\n",
              "      <td id=\"T_b3b40_row14_col8\" class=\"data row14 col8\" >0.348442</td>\n",
              "      <td id=\"T_b3b40_row14_col9\" class=\"data row14 col9\" >0.305648</td>\n",
              "      <td id=\"T_b3b40_row14_col10\" class=\"data row14 col10\" >0.758101</td>\n",
              "      <td id=\"T_b3b40_row14_col11\" class=\"data row14 col11\" >0.998684</td>\n",
              "      <td id=\"T_b3b40_row14_col12\" class=\"data row14 col12\" >-0.003162</td>\n",
              "      <td id=\"T_b3b40_row14_col13\" class=\"data row14 col13\" >0.872534</td>\n",
              "      <td id=\"T_b3b40_row14_col14\" class=\"data row14 col14\" >1.000000</td>\n",
              "      <td id=\"T_b3b40_row14_col15\" class=\"data row14 col15\" >0.490083</td>\n",
              "      <td id=\"T_b3b40_row14_col16\" class=\"data row14 col16\" >0.172462</td>\n",
              "    </tr>\n",
              "    <tr>\n",
              "      <th id=\"T_b3b40_level0_row15\" class=\"row_heading level0 row15\" >ShapeFactor4</th>\n",
              "      <td id=\"T_b3b40_row15_col0\" class=\"data row15 col0\" >-0.365265</td>\n",
              "      <td id=\"T_b3b40_row15_col1\" class=\"data row15 col1\" >-0.439272</td>\n",
              "      <td id=\"T_b3b40_row15_col2\" class=\"data row15 col2\" >-0.491591</td>\n",
              "      <td id=\"T_b3b40_row15_col3\" class=\"data row15 col3\" >-0.273554</td>\n",
              "      <td id=\"T_b3b40_row15_col4\" class=\"data row15 col4\" >-0.456479</td>\n",
              "      <td id=\"T_b3b40_row15_col5\" class=\"data row15 col5\" >-0.453895</td>\n",
              "      <td id=\"T_b3b40_row15_col6\" class=\"data row15 col6\" >-0.371420</td>\n",
              "      <td id=\"T_b3b40_row15_col7\" class=\"data row15 col7\" >-0.402038</td>\n",
              "      <td id=\"T_b3b40_row15_col8\" class=\"data row15 col8\" >0.142275</td>\n",
              "      <td id=\"T_b3b40_row15_col9\" class=\"data row15 col9\" >0.695040</td>\n",
              "      <td id=\"T_b3b40_row15_col10\" class=\"data row15 col10\" >0.479108</td>\n",
              "      <td id=\"T_b3b40_row15_col11\" class=\"data row15 col11\" >0.490530</td>\n",
              "      <td id=\"T_b3b40_row15_col12\" class=\"data row15 col12\" >0.257126</td>\n",
              "      <td id=\"T_b3b40_row15_col13\" class=\"data row15 col13\" >0.537707</td>\n",
              "      <td id=\"T_b3b40_row15_col14\" class=\"data row15 col14\" >0.490083</td>\n",
              "      <td id=\"T_b3b40_row15_col15\" class=\"data row15 col15\" >1.000000</td>\n",
              "      <td id=\"T_b3b40_row15_col16\" class=\"data row15 col16\" >0.172578</td>\n",
              "    </tr>\n",
              "    <tr>\n",
              "      <th id=\"T_b3b40_level0_row16\" class=\"row_heading level0 row16\" >y</th>\n",
              "      <td id=\"T_b3b40_row16_col0\" class=\"data row16 col0\" >-0.474164</td>\n",
              "      <td id=\"T_b3b40_row16_col1\" class=\"data row16 col1\" >-0.507765</td>\n",
              "      <td id=\"T_b3b40_row16_col2\" class=\"data row16 col2\" >-0.456807</td>\n",
              "      <td id=\"T_b3b40_row16_col3\" class=\"data row16 col3\" >-0.457526</td>\n",
              "      <td id=\"T_b3b40_row16_col4\" class=\"data row16 col4\" >-0.121283</td>\n",
              "      <td id=\"T_b3b40_row16_col5\" class=\"data row16 col5\" >-0.204183</td>\n",
              "      <td id=\"T_b3b40_row16_col6\" class=\"data row16 col6\" >-0.476363</td>\n",
              "      <td id=\"T_b3b40_row16_col7\" class=\"data row16 col7\" >-0.480921</td>\n",
              "      <td id=\"T_b3b40_row16_col8\" class=\"data row16 col8\" >-0.034010</td>\n",
              "      <td id=\"T_b3b40_row16_col9\" class=\"data row16 col9\" >0.327622</td>\n",
              "      <td id=\"T_b3b40_row16_col10\" class=\"data row16 col10\" >0.387003</td>\n",
              "      <td id=\"T_b3b40_row16_col11\" class=\"data row16 col11\" >0.161121</td>\n",
              "      <td id=\"T_b3b40_row16_col12\" class=\"data row16 col12\" >0.392398</td>\n",
              "      <td id=\"T_b3b40_row16_col13\" class=\"data row16 col13\" >0.338889</td>\n",
              "      <td id=\"T_b3b40_row16_col14\" class=\"data row16 col14\" >0.172462</td>\n",
              "      <td id=\"T_b3b40_row16_col15\" class=\"data row16 col15\" >0.172578</td>\n",
              "      <td id=\"T_b3b40_row16_col16\" class=\"data row16 col16\" >1.000000</td>\n",
              "    </tr>\n",
              "  </tbody>\n",
              "</table>\n"
            ]
          },
          "metadata": {},
          "execution_count": 20
        }
      ]
    },
    {
      "cell_type": "code",
      "source": [
        "# sns.pairplot(df_all, hue=\"y\", diag_kind=\"hist\")"
      ],
      "metadata": {
        "id": "hlIAAKMnvVS9"
      },
      "execution_count": null,
      "outputs": []
    },
    {
      "cell_type": "code",
      "source": [
        "X = df_all.loc[:, \"Area\":\"ShapeFactor4\"]\n",
        "y = df_all['y']\n",
        "print(X)\n",
        "print(y)"
      ],
      "metadata": {
        "colab": {
          "base_uri": "https://localhost:8080/"
        },
        "id": "rN1_8BwEfB_P",
        "outputId": "2c6edd5b-f342-4989-9b2f-145963dba897"
      },
      "execution_count": null,
      "outputs": [
        {
          "output_type": "stream",
          "name": "stdout",
          "text": [
            "        Area  Perimeter  MajorAxisLength  MinorAxisLength  AspectRation  \\\n",
            "ID                                                                        \n",
            "0      58238    971.303       397.202654       186.945510      2.124697   \n",
            "1      44515    757.601       265.590470       213.967453      1.241266   \n",
            "2      31662    653.783       239.902428       168.421505      1.424417   \n",
            "3      38778    734.020       268.446281       184.061923      1.458456   \n",
            "4      42530    775.403       281.212824       193.236878      1.455275   \n",
            "...      ...        ...              ...              ...           ...   \n",
            "10829  37777    716.007       250.174662       192.704033      1.298233   \n",
            "10830  32187    667.621       247.778775       165.786862      1.494562   \n",
            "10831  81837   1095.937       433.838186       241.527026      1.796230   \n",
            "10832  48212    826.362       309.639462       199.285811      1.553746   \n",
            "10833  28026    610.943       215.446569       165.740377      1.299904   \n",
            "\n",
            "       Eccentricity  ConvexArea  EquivDiameter    Extent  Solidity  roundness  \\\n",
            "ID                                                                              \n",
            "0          0.882317       58977     272.306674  0.604756  0.987470   0.775723   \n",
            "1          0.592420       44780     238.071960  0.771745  0.994082   0.974620   \n",
            "2          0.712136       32034     200.781748  0.801407  0.988387   0.930853   \n",
            "3          0.727925       39208     222.201897  0.766137  0.989033   0.904439   \n",
            "4          0.726511       43028     232.703412  0.729816  0.988426   0.888895   \n",
            "...             ...         ...            ...       ...       ...        ...   \n",
            "10829      0.637708       38174     219.315230  0.770519  0.989600   0.925983   \n",
            "10830      0.743179       32582     202.439525  0.731805  0.987877   0.907466   \n",
            "10831      0.830699       82554     322.797312  0.771996  0.991315   0.856226   \n",
            "10832      0.765357       48777     247.760822  0.677002  0.988417   0.887206   \n",
            "10833      0.638903       28302     188.901592  0.776688  0.990248   0.943560   \n",
            "\n",
            "       Compactness  ShapeFactor1  ShapeFactor2  ShapeFactor3  ShapeFactor4  \n",
            "ID                                                                          \n",
            "0         0.685561      0.006820      0.000929      0.469994      0.998595  \n",
            "1         0.896387      0.005966      0.002376      0.803510      0.997370  \n",
            "2         0.836931      0.007577      0.002293      0.700453      0.997737  \n",
            "3         0.827733      0.006923      0.002005      0.685142      0.999250  \n",
            "4         0.827499      0.006612      0.001912      0.684755      0.996507  \n",
            "...            ...           ...           ...           ...           ...  \n",
            "10829     0.876648      0.006622      0.002413      0.768513      0.997708  \n",
            "10830     0.817017      0.007698      0.002116      0.667517      0.997646  \n",
            "10831     0.744050      0.005301      0.001002      0.553610      0.994412  \n",
            "10832     0.800159      0.006422      0.001624      0.640255      0.994793  \n",
            "10833     0.876791      0.007687      0.002802      0.768762      0.999317  \n",
            "\n",
            "[10834 rows x 16 columns]\n",
            "ID\n",
            "0        5\n",
            "1        6\n",
            "2        4\n",
            "3        4\n",
            "4        7\n",
            "        ..\n",
            "10829    6\n",
            "10830    4\n",
            "10831    3\n",
            "10832    7\n",
            "10833    4\n",
            "Name: y, Length: 10834, dtype: int64\n"
          ]
        }
      ]
    },
    {
      "cell_type": "code",
      "source": [
        "X_copy = X.copy()\n",
        "y_copy  = y.copy()\n",
        "print(X_copy)\n",
        "print(y_copy)"
      ],
      "metadata": {
        "colab": {
          "base_uri": "https://localhost:8080/"
        },
        "id": "Zmvv5O4y-gPn",
        "outputId": "c3e84b26-c209-416b-9527-d894896c480d"
      },
      "execution_count": null,
      "outputs": [
        {
          "output_type": "stream",
          "name": "stdout",
          "text": [
            "        Area  Perimeter  MajorAxisLength  MinorAxisLength  AspectRation  \\\n",
            "ID                                                                        \n",
            "0      58238    971.303       397.202654       186.945510      2.124697   \n",
            "1      44515    757.601       265.590470       213.967453      1.241266   \n",
            "2      31662    653.783       239.902428       168.421505      1.424417   \n",
            "3      38778    734.020       268.446281       184.061923      1.458456   \n",
            "4      42530    775.403       281.212824       193.236878      1.455275   \n",
            "...      ...        ...              ...              ...           ...   \n",
            "10829  37777    716.007       250.174662       192.704033      1.298233   \n",
            "10830  32187    667.621       247.778775       165.786862      1.494562   \n",
            "10831  81837   1095.937       433.838186       241.527026      1.796230   \n",
            "10832  48212    826.362       309.639462       199.285811      1.553746   \n",
            "10833  28026    610.943       215.446569       165.740377      1.299904   \n",
            "\n",
            "       Eccentricity  ConvexArea  EquivDiameter    Extent  Solidity  roundness  \\\n",
            "ID                                                                              \n",
            "0          0.882317       58977     272.306674  0.604756  0.987470   0.775723   \n",
            "1          0.592420       44780     238.071960  0.771745  0.994082   0.974620   \n",
            "2          0.712136       32034     200.781748  0.801407  0.988387   0.930853   \n",
            "3          0.727925       39208     222.201897  0.766137  0.989033   0.904439   \n",
            "4          0.726511       43028     232.703412  0.729816  0.988426   0.888895   \n",
            "...             ...         ...            ...       ...       ...        ...   \n",
            "10829      0.637708       38174     219.315230  0.770519  0.989600   0.925983   \n",
            "10830      0.743179       32582     202.439525  0.731805  0.987877   0.907466   \n",
            "10831      0.830699       82554     322.797312  0.771996  0.991315   0.856226   \n",
            "10832      0.765357       48777     247.760822  0.677002  0.988417   0.887206   \n",
            "10833      0.638903       28302     188.901592  0.776688  0.990248   0.943560   \n",
            "\n",
            "       Compactness  ShapeFactor1  ShapeFactor2  ShapeFactor3  ShapeFactor4  \n",
            "ID                                                                          \n",
            "0         0.685561      0.006820      0.000929      0.469994      0.998595  \n",
            "1         0.896387      0.005966      0.002376      0.803510      0.997370  \n",
            "2         0.836931      0.007577      0.002293      0.700453      0.997737  \n",
            "3         0.827733      0.006923      0.002005      0.685142      0.999250  \n",
            "4         0.827499      0.006612      0.001912      0.684755      0.996507  \n",
            "...            ...           ...           ...           ...           ...  \n",
            "10829     0.876648      0.006622      0.002413      0.768513      0.997708  \n",
            "10830     0.817017      0.007698      0.002116      0.667517      0.997646  \n",
            "10831     0.744050      0.005301      0.001002      0.553610      0.994412  \n",
            "10832     0.800159      0.006422      0.001624      0.640255      0.994793  \n",
            "10833     0.876791      0.007687      0.002802      0.768762      0.999317  \n",
            "\n",
            "[10834 rows x 16 columns]\n",
            "ID\n",
            "0        5\n",
            "1        6\n",
            "2        4\n",
            "3        4\n",
            "4        7\n",
            "        ..\n",
            "10829    6\n",
            "10830    4\n",
            "10831    3\n",
            "10832    7\n",
            "10833    4\n",
            "Name: y, Length: 10834, dtype: int64\n"
          ]
        }
      ]
    },
    {
      "cell_type": "code",
      "source": [
        "# Let's see the data types and non-null values for each column\n",
        "df_all.info()"
      ],
      "metadata": {
        "colab": {
          "base_uri": "https://localhost:8080/"
        },
        "id": "MrvgkIPEXi46",
        "outputId": "a56f31a6-ac8e-4238-ee45-6f97755248b6"
      },
      "execution_count": null,
      "outputs": [
        {
          "output_type": "stream",
          "name": "stdout",
          "text": [
            "<class 'pandas.core.frame.DataFrame'>\n",
            "Int64Index: 10834 entries, 0 to 10833\n",
            "Data columns (total 17 columns):\n",
            " #   Column           Non-Null Count  Dtype  \n",
            "---  ------           --------------  -----  \n",
            " 0   Area             10834 non-null  int64  \n",
            " 1   Perimeter        10834 non-null  float64\n",
            " 2   MajorAxisLength  10834 non-null  float64\n",
            " 3   MinorAxisLength  10834 non-null  float64\n",
            " 4   AspectRation     10834 non-null  float64\n",
            " 5   Eccentricity     10834 non-null  float64\n",
            " 6   ConvexArea       10834 non-null  int64  \n",
            " 7   EquivDiameter    10834 non-null  float64\n",
            " 8   Extent           10834 non-null  float64\n",
            " 9   Solidity         10834 non-null  float64\n",
            " 10  roundness        10834 non-null  float64\n",
            " 11  Compactness      10834 non-null  float64\n",
            " 12  ShapeFactor1     10834 non-null  float64\n",
            " 13  ShapeFactor2     10834 non-null  float64\n",
            " 14  ShapeFactor3     10834 non-null  float64\n",
            " 15  ShapeFactor4     10834 non-null  float64\n",
            " 16  y                10834 non-null  int64  \n",
            "dtypes: float64(14), int64(3)\n",
            "memory usage: 1.7 MB\n"
          ]
        }
      ]
    },
    {
      "cell_type": "code",
      "source": [
        "round(df_all.isnull().sum(axis=0)*100/df_all.shape[0],2)"
      ],
      "metadata": {
        "colab": {
          "base_uri": "https://localhost:8080/"
        },
        "id": "Qsd8D9WbXi_Y",
        "outputId": "2e9cc8ce-df34-4039-9bb1-eb470aabd9ba"
      },
      "execution_count": null,
      "outputs": [
        {
          "output_type": "execute_result",
          "data": {
            "text/plain": [
              "Area               0.0\n",
              "Perimeter          0.0\n",
              "MajorAxisLength    0.0\n",
              "MinorAxisLength    0.0\n",
              "AspectRation       0.0\n",
              "Eccentricity       0.0\n",
              "ConvexArea         0.0\n",
              "EquivDiameter      0.0\n",
              "Extent             0.0\n",
              "Solidity           0.0\n",
              "roundness          0.0\n",
              "Compactness        0.0\n",
              "ShapeFactor1       0.0\n",
              "ShapeFactor2       0.0\n",
              "ShapeFactor3       0.0\n",
              "ShapeFactor4       0.0\n",
              "y                  0.0\n",
              "dtype: float64"
            ]
          },
          "metadata": {},
          "execution_count": 25
        }
      ]
    },
    {
      "cell_type": "code",
      "source": [
        "bool_series = df_all.duplicated().sum()\n",
        "bool_series "
      ],
      "metadata": {
        "colab": {
          "base_uri": "https://localhost:8080/"
        },
        "id": "7SalrDx5ZNfX",
        "outputId": "7d1df6c7-9ee7-48b5-eebb-2c4fcee21c11"
      },
      "execution_count": null,
      "outputs": [
        {
          "output_type": "execute_result",
          "data": {
            "text/plain": [
              "0"
            ]
          },
          "metadata": {},
          "execution_count": 26
        }
      ]
    },
    {
      "cell_type": "code",
      "source": [
        "#exploring the data after making sure all data that you want to get its boxplot are numerical \n",
        "fig, axs = plt.subplots(3,3, figsize = (15,7.5))\n",
        "plt1 = sns.boxplot(df_all['Area'], ax = axs[0,0])\n",
        "plt2 = sns.boxplot(df_all['Perimeter'], ax = axs[0,1])\n",
        "plt3 = sns.boxplot(df_all['MajorAxisLength'], ax = axs[0,2])\n",
        "plt4 = sns.boxplot(df_all['MinorAxisLength'], ax = axs[1,0])\n",
        "plt5 = sns.boxplot(df_all['AspectRation'], ax = axs[1,1])\n",
        "plt6 = sns.boxplot(df_all['Eccentricity'], ax = axs[1,2])\n",
        "plt7 = sns.boxplot(df_all['ConvexArea'], ax = axs[2,0])\n",
        "plt8 = sns.boxplot(df_all['EquivDiameter'], ax = axs[2,1])\n",
        "plt9 = sns.boxplot(df_all['Extent'], ax = axs[2,2])\n",
        "plt.tight_layout()"
      ],
      "metadata": {
        "colab": {
          "base_uri": "https://localhost:8080/",
          "height": 549
        },
        "id": "CojAVF2jbwjw",
        "outputId": "280840c8-dbc2-454f-c6ba-25c509a212cb"
      },
      "execution_count": null,
      "outputs": [
        {
          "output_type": "display_data",
          "data": {
            "text/plain": [
              "<Figure size 1080x540 with 9 Axes>"
            ],
            "image/png": "[encoded data removed]"
          },
          "metadata": {
            "needs_background": "light"
          }
        }
      ]
    },
    {
      "cell_type": "code",
      "source": [
        "#exploring the data after making sure all data that you want to get its boxplot are numerical \n",
        "fig, axs = plt.subplots(3,3, figsize = (15,7.5))\n",
        "plt1 = sns.boxplot(df_all['Solidity'], ax = axs[0,0])\n",
        "plt2 = sns.boxplot(df_all['roundness'], ax = axs[0,1])\n",
        "plt3 = sns.boxplot(df_all['Compactness'], ax = axs[0,2])\n",
        "plt4 = sns.boxplot(df_all['ShapeFactor1'], ax = axs[1,0])\n",
        "plt5 = sns.boxplot(df_all['ShapeFactor2'], ax = axs[1,1])\n",
        "plt6 = sns.boxplot(df_all['ShapeFactor3'], ax = axs[1,2])\n",
        "plt7 = sns.boxplot(df_all['ShapeFactor4'], ax = axs[2,0])\n",
        "# plt8 = sns.boxplot(df_all['EquivDiameter'], ax = axs[2,1])\n",
        "# plt9 = sns.boxplot(df_all['Extent'], ax = axs[2,2])\n",
        "plt.tight_layout()"
      ],
      "metadata": {
        "colab": {
          "base_uri": "https://localhost:8080/",
          "height": 549
        },
        "id": "uSXzMZAgbwmP",
        "outputId": "0abc71e1-bfd5-4a94-e7d4-29850e25a928"
      },
      "execution_count": null,
      "outputs": [
        {
          "output_type": "display_data",
          "data": {
            "text/plain": [
              "<Figure size 1080x540 with 9 Axes>"
            ],
            "image/png": "[encoded data removed]"
          },
          "metadata": {
            "needs_background": "light"
          }
        }
      ]
    },
    {
      "cell_type": "code",
      "source": [
        "# select numeric variables\n",
        "numeric_vars =  ['Area', 'Perimeter', 'MajorAxisLength', 'AspectRation', 'Eccentricity', 'Extent', 'Solidity', \n",
        "                 'roundness', 'Compactness', 'ShapeFactor1', 'ShapeFactor2', 'ShapeFactor3', \n",
        "                 'ShapeFactor4', 'y']\n",
        "# create histograms for each numeric variable\n",
        "fig = plt.figure(figsize=(24, 15))\n",
        "for i in range(len(numeric_vars)):\n",
        "    var = numeric_vars[i]\n",
        "    sub = fig.add_subplot(3, 5, i + 1)\n",
        "    sub.set_xlabel(var)\n",
        "    df_all[var].plot(kind = 'hist')"
      ],
      "metadata": {
        "colab": {
          "base_uri": "https://localhost:8080/",
          "height": 879
        },
        "id": "KQUFKycpQRqG",
        "outputId": "7369e5e7-d2e6-41ce-a56b-0724a4b79e33"
      },
      "execution_count": null,
      "outputs": [
        {
          "output_type": "display_data",
          "data": {
            "text/plain": [
              "<Figure size 1728x1080 with 14 Axes>"
            ],
            "image/png": "[encoded data removed]"
          },
          "metadata": {
            "needs_background": "light"
          }
        }
      ]
    },
    {
      "cell_type": "code",
      "source": [
        "X_MinMaxScaler_scaled = apply_MinMaxScaler(X_copy)\n",
        "X_MinMaxScaler_scaled.head()"
      ],
      "metadata": {
        "colab": {
          "base_uri": "https://localhost:8080/",
          "height": 238
        },
        "id": "3f0hfKv0bwo8",
        "outputId": "5d51422e-57bf-4bf2-f110-97e71e19d3d4"
      },
      "execution_count": null,
      "outputs": [
        {
          "output_type": "execute_result",
          "data": {
            "text/plain": [
              "        Area  Perimeter  MajorAxisLength  MinorAxisLength  AspectRation  \\\n",
              "ID                                                                        \n",
              "0   0.161480   0.305642         0.384688         0.178526      0.806323   \n",
              "1   0.102884   0.159315         0.147660         0.262615      0.158649   \n",
              "2   0.048003   0.088228         0.101396         0.120882      0.292923   \n",
              "3   0.078387   0.143168         0.152803         0.169553      0.317879   \n",
              "4   0.094408   0.171504         0.175795         0.198104      0.315547   \n",
              "\n",
              "    Eccentricity  ConvexArea  EquivDiameter    Extent  Solidity  roundness  \\\n",
              "ID                                                                           \n",
              "0       0.962493    0.157859       0.272126  0.159036  0.904445   0.570991   \n",
              "1       0.541875    0.099333       0.188244  0.696185  0.992108   0.967937   \n",
              "2       0.715573    0.046789       0.096876  0.791600  0.916611   0.880589   \n",
              "3       0.738483    0.076363       0.149359  0.678145  0.925168   0.827875   \n",
              "4       0.736430    0.092111       0.175090  0.561313  0.917125   0.796852   \n",
              "\n",
              "    Compactness  ShapeFactor1  ShapeFactor2  ShapeFactor3  ShapeFactor4  \n",
              "ID                                                                       \n",
              "0      0.117547      0.563053      0.117763      0.095822      0.978144  \n",
              "1      0.734115      0.441765      0.584350      0.693236      0.954606  \n",
              "2      0.560232      0.670512      0.557595      0.508634      0.961666  \n",
              "3      0.533333      0.577583      0.464513      0.481208      0.990730  \n",
              "4      0.532649      0.533480      0.434817      0.480514      0.938025  "
            ],
            "text/html": [
              "\n",
              "  <div id=\"df-732241f0-58a2-4196-b353-5f977f13c305\">\n",
              "    <div class=\"colab-df-container\">\n",
              "      <div>\n",
              "<style scoped>\n",
              "    .dataframe tbody tr th:only-of-type {\n",
              "        vertical-align: middle;\n",
              "    }\n",
              "\n",
              "    .dataframe tbody tr th {\n",
              "        vertical-align: top;\n",
              "    }\n",
              "\n",
              "    .dataframe thead th {\n",
              "        text-align: right;\n",
              "    }\n",
              "</style>\n",
              "<table border=\"1\" class=\"dataframe\">\n",
              "  <thead>\n",
              "    <tr style=\"text-align: right;\">\n",
              "      <th></th>\n",
              "      <th>Area</th>\n",
              "      <th>Perimeter</th>\n",
              "      <th>MajorAxisLength</th>\n",
              "      <th>MinorAxisLength</th>\n",
              "      <th>AspectRation</th>\n",
              "      <th>Eccentricity</th>\n",
              "      <th>ConvexArea</th>\n",
              "      <th>EquivDiameter</th>\n",
              "      <th>Extent</th>\n",
              "      <th>Solidity</th>\n",
              "      <th>roundness</th>\n",
              "      <th>Compactness</th>\n",
              "      <th>ShapeFactor1</th>\n",
              "      <th>ShapeFactor2</th>\n",
              "      <th>ShapeFactor3</th>\n",
              "      <th>ShapeFactor4</th>\n",
              "    </tr>\n",
              "    <tr>\n",
              "      <th>ID</th>\n",
              "      <th></th>\n",
              "      <th></th>\n",
              "      <th></th>\n",
              "      <th></th>\n",
              "      <th></th>\n",
              "      <th></th>\n",
              "      <th></th>\n",
              "      <th></th>\n",
              "      <th></th>\n",
              "      <th></th>\n",
              "      <th></th>\n",
              "      <th></th>\n",
              "      <th></th>\n",
              "      <th></th>\n",
              "      <th></th>\n",
              "      <th></th>\n",
              "    </tr>\n",
              "  </thead>\n",
              "  <tbody>\n",
              "    <tr>\n",
              "      <th>0</th>\n",
              "      <td>0.161480</td>\n",
              "      <td>0.305642</td>\n",
              "      <td>0.384688</td>\n",
              "      <td>0.178526</td>\n",
              "      <td>0.806323</td>\n",
              "      <td>0.962493</td>\n",
              "      <td>0.157859</td>\n",
              "      <td>0.272126</td>\n",
              "      <td>0.159036</td>\n",
              "      <td>0.904445</td>\n",
              "      <td>0.570991</td>\n",
              "      <td>0.117547</td>\n",
              "      <td>0.563053</td>\n",
              "      <td>0.117763</td>\n",
              "      <td>0.095822</td>\n",
              "      <td>0.978144</td>\n",
              "    </tr>\n",
              "    <tr>\n",
              "      <th>1</th>\n",
              "      <td>0.102884</td>\n",
              "      <td>0.159315</td>\n",
              "      <td>0.147660</td>\n",
              "      <td>0.262615</td>\n",
              "      <td>0.158649</td>\n",
              "      <td>0.541875</td>\n",
              "      <td>0.099333</td>\n",
              "      <td>0.188244</td>\n",
              "      <td>0.696185</td>\n",
              "      <td>0.992108</td>\n",
              "      <td>0.967937</td>\n",
              "      <td>0.734115</td>\n",
              "      <td>0.441765</td>\n",
              "      <td>0.584350</td>\n",
              "      <td>0.693236</td>\n",
              "      <td>0.954606</td>\n",
              "    </tr>\n",
              "    <tr>\n",
              "      <th>2</th>\n",
              "      <td>0.048003</td>\n",
              "      <td>0.088228</td>\n",
              "      <td>0.101396</td>\n",
              "      <td>0.120882</td>\n",
              "      <td>0.292923</td>\n",
              "      <td>0.715573</td>\n",
              "      <td>0.046789</td>\n",
              "      <td>0.096876</td>\n",
              "      <td>0.791600</td>\n",
              "      <td>0.916611</td>\n",
              "      <td>0.880589</td>\n",
              "      <td>0.560232</td>\n",
              "      <td>0.670512</td>\n",
              "      <td>0.557595</td>\n",
              "      <td>0.508634</td>\n",
              "      <td>0.961666</td>\n",
              "    </tr>\n",
              "    <tr>\n",
              "      <th>3</th>\n",
              "      <td>0.078387</td>\n",
              "      <td>0.143168</td>\n",
              "      <td>0.152803</td>\n",
              "      <td>0.169553</td>\n",
              "      <td>0.317879</td>\n",
              "      <td>0.738483</td>\n",
              "      <td>0.076363</td>\n",
              "      <td>0.149359</td>\n",
              "      <td>0.678145</td>\n",
              "      <td>0.925168</td>\n",
              "      <td>0.827875</td>\n",
              "      <td>0.533333</td>\n",
              "      <td>0.577583</td>\n",
              "      <td>0.464513</td>\n",
              "      <td>0.481208</td>\n",
              "      <td>0.990730</td>\n",
              "    </tr>\n",
              "    <tr>\n",
              "      <th>4</th>\n",
              "      <td>0.094408</td>\n",
              "      <td>0.171504</td>\n",
              "      <td>0.175795</td>\n",
              "      <td>0.198104</td>\n",
              "      <td>0.315547</td>\n",
              "      <td>0.736430</td>\n",
              "      <td>0.092111</td>\n",
              "      <td>0.175090</td>\n",
              "      <td>0.561313</td>\n",
              "      <td>0.917125</td>\n",
              "      <td>0.796852</td>\n",
              "      <td>0.532649</td>\n",
              "      <td>0.533480</td>\n",
              "      <td>0.434817</td>\n",
              "      <td>0.480514</td>\n",
              "      <td>0.938025</td>\n",
              "    </tr>\n",
              "  </tbody>\n",
              "</table>\n",
              "</div>\n",
              "      <button class=\"colab-df-convert\" onclick=\"convertToInteractive('df-732241f0-58a2-4196-b353-5f977f13c305')\"\n",
              "              title=\"Convert this dataframe to an interactive table.\"\n",
              "              style=\"display:none;\">\n",
              "        \n",
              "  <svg xmlns=\"http://www.w3.org/2000/svg\" height=\"24px\"viewBox=\"0 0 24 24\"\n",
              "       width=\"24px\">\n",
              "    <path d=\"M0 0h24v24H0V0z\" fill=\"none\"/>\n",
              "    <path d=\"M18.56 5.44l.94 2.06.94-2.06 2.06-.94-2.06-.94-.94-2.06-.94 2.06-2.06.94zm-11 1L8.5 8.5l.94-2.06 2.06-.94-2.06-.94L8.5 2.5l-.94 2.06-2.06.94zm10 10l.94 2.06.94-2.06 2.06-.94-2.06-.94-.94-2.06-.94 2.06-2.06.94z\"/><path d=\"M17.41 7.96l-1.37-1.37c-.4-.4-.92-.59-1.43-.59-.52 0-1.04.2-1.43.59L10.3 9.45l-7.72 7.72c-.78.78-.78 2.05 0 2.83L4 21.41c.39.39.9.59 1.41.59.51 0 1.02-.2 1.41-.59l7.78-7.78 2.81-2.81c.8-.78.8-2.07 0-2.86zM5.41 20L4 18.59l7.72-7.72 1.47 1.35L5.41 20z\"/>\n",
              "  </svg>\n",
              "      </button>\n",
              "      \n",
              "  <style>\n",
              "    .colab-df-container {\n",
              "      display:flex;\n",
              "      flex-wrap:wrap;\n",
              "      gap: 12px;\n",
              "    }\n",
              "\n",
              "    .colab-df-convert {\n",
              "      background-color: #E8F0FE;\n",
              "      border: none;\n",
              "      border-radius: 50%;\n",
              "      cursor: pointer;\n",
              "      display: none;\n",
              "      fill: #1967D2;\n",
              "      height: 32px;\n",
              "      padding: 0 0 0 0;\n",
              "      width: 32px;\n",
              "    }\n",
              "\n",
              "    .colab-df-convert:hover {\n",
              "      background-color: #E2EBFA;\n",
              "      box-shadow: 0px 1px 2px rgba(60, 64, 67, 0.3), 0px 1px 3px 1px rgba(60, 64, 67, 0.15);\n",
              "      fill: #174EA6;\n",
              "    }\n",
              "\n",
              "    [theme=dark] .colab-df-convert {\n",
              "      background-color: #3B4455;\n",
              "      fill: #D2E3FC;\n",
              "    }\n",
              "\n",
              "    [theme=dark] .colab-df-convert:hover {\n",
              "      background-color: #434B5C;\n",
              "      box-shadow: 0px 1px 3px 1px rgba(0, 0, 0, 0.15);\n",
              "      filter: drop-shadow(0px 1px 2px rgba(0, 0, 0, 0.3));\n",
              "      fill: #FFFFFF;\n",
              "    }\n",
              "  </style>\n",
              "\n",
              "      <script>\n",
              "        const buttonEl =\n",
              "          document.querySelector('#df-732241f0-58a2-4196-b353-5f977f13c305 button.colab-df-convert');\n",
              "        buttonEl.style.display =\n",
              "          google.colab.kernel.accessAllowed ? 'block' : 'none';\n",
              "\n",
              "        async function convertToInteractive(key) {\n",
              "          const element = document.querySelector('#df-732241f0-58a2-4196-b353-5f977f13c305');\n",
              "          const dataTable =\n",
              "            await google.colab.kernel.invokeFunction('convertToInteractive',\n",
              "                                                     [key], {});\n",
              "          if (!dataTable) return;\n",
              "\n",
              "          const docLinkHtml = 'Like what you see? Visit the ' +\n",
              "            '<a target=\"_blank\" href=https://colab.research.google.com/notebooks/data_table.ipynb>data table notebook</a>'\n",
              "            + ' to learn more about interactive tables.';\n",
              "          element.innerHTML = '';\n",
              "          dataTable['output_type'] = 'display_data';\n",
              "          await google.colab.output.renderOutput(dataTable, element);\n",
              "          const docLink = document.createElement('div');\n",
              "          docLink.innerHTML = docLinkHtml;\n",
              "          element.appendChild(docLink);\n",
              "        }\n",
              "      </script>\n",
              "    </div>\n",
              "  </div>\n",
              "  "
            ]
          },
          "metadata": {},
          "execution_count": 30
        }
      ]
    },
    {
      "cell_type": "code",
      "source": [
        "# select numeric variables\n",
        "numeric_vars =  ['Area', 'Perimeter', 'MajorAxisLength', 'AspectRation', 'Eccentricity', 'Extent', 'Solidity', \n",
        "                 'roundness', 'Compactness', 'ShapeFactor1', 'ShapeFactor2', 'ShapeFactor3', \n",
        "                 'ShapeFactor4']\n",
        "# create histograms for each numeric variable\n",
        "fig = plt.figure(figsize=(24, 15))\n",
        "for i in range(len(numeric_vars)):\n",
        "    var = numeric_vars[i]\n",
        "    sub = fig.add_subplot(3, 5, i + 1)\n",
        "    sub.set_xlabel(var)\n",
        "    X_MinMaxScaler_scaled[var].plot(kind = 'hist')"
      ],
      "metadata": {
        "colab": {
          "base_uri": "https://localhost:8080/",
          "height": 879
        },
        "id": "v5TccBOuhQLX",
        "outputId": "2e2d299b-1397-4f16-ce1d-2a76d3627933"
      },
      "execution_count": null,
      "outputs": [
        {
          "output_type": "display_data",
          "data": {
            "text/plain": [
              "<Figure size 1728x1080 with 13 Axes>"
            ],
            "image/png": "[encoded data removed]"
          },
          "metadata": {
            "needs_background": "light"
          }
        }
      ]
    },
    {
      "cell_type": "code",
      "source": [
        "X_StandardScaler_scaled = apply_StandardScaler(X_copy)\n",
        "X_StandardScaler_scaled.head()"
      ],
      "metadata": {
        "colab": {
          "base_uri": "https://localhost:8080/",
          "height": 238
        },
        "id": "d9tJFMgmhQQO",
        "outputId": "7613b063-9d4f-4dd6-d11b-5c2d11a55431"
      },
      "execution_count": null,
      "outputs": [
        {
          "output_type": "execute_result",
          "data": {
            "text/plain": [
              "        Area  Perimeter  MajorAxisLength  MinorAxisLength  AspectRation  \\\n",
              "ID                                                                        \n",
              "0   0.174073   0.539713         0.897727        -0.342811      2.224308   \n",
              "1  -0.290465  -0.454337        -0.633401         0.256188     -1.391835   \n",
              "2  -0.725552  -0.937254        -0.932247        -0.753434     -0.642144   \n",
              "3  -0.484668  -0.564026        -0.600178        -0.406731     -0.502811   \n",
              "4  -0.357659  -0.371530        -0.451657        -0.203349     -0.515832   \n",
              "\n",
              "    Eccentricity  ConvexArea  EquivDiameter    Extent  Solidity  roundness  \\\n",
              "ID                                                                           \n",
              "0       1.440028    0.172036       0.322783 -2.966134  0.068758  -1.650182   \n",
              "1      -1.729039   -0.301224      -0.253265  0.445540  1.498190   1.701569   \n",
              "2      -0.420342   -0.726114      -0.880726  1.051566  0.267127   0.964020   \n",
              "3      -0.247737   -0.486967      -0.520301  0.330964  0.406669   0.518910   \n",
              "4      -0.263202   -0.359627      -0.343598 -0.411095  0.275515   0.256953   \n",
              "\n",
              "    Compactness  ShapeFactor1  ShapeFactor2  ShapeFactor3  ShapeFactor4  \n",
              "ID                                                                       \n",
              "0     -1.873127      0.231513     -1.328445     -1.772230      0.815760  \n",
              "1      1.570313     -0.526343      1.109856      1.621877      0.531237  \n",
              "2      0.599206      0.902962      0.970037      0.573092      0.616586  \n",
              "3      0.448979      0.322302      0.483610      0.417275      0.967898  \n",
              "4      0.445159      0.046731      0.328421      0.413335      0.330810  "
            ],
            "text/html": [
              "\n",
              "  <div id=\"df-96a11b68-84dd-45ff-bab1-afb092c3ebba\">\n",
              "    <div class=\"colab-df-container\">\n",
              "      <div>\n",
              "<style scoped>\n",
              "    .dataframe tbody tr th:only-of-type {\n",
              "        vertical-align: middle;\n",
              "    }\n",
              "\n",
              "    .dataframe tbody tr th {\n",
              "        vertical-align: top;\n",
              "    }\n",
              "\n",
              "    .dataframe thead th {\n",
              "        text-align: right;\n",
              "    }\n",
              "</style>\n",
              "<table border=\"1\" class=\"dataframe\">\n",
              "  <thead>\n",
              "    <tr style=\"text-align: right;\">\n",
              "      <th></th>\n",
              "      <th>Area</th>\n",
              "      <th>Perimeter</th>\n",
              "      <th>MajorAxisLength</th>\n",
              "      <th>MinorAxisLength</th>\n",
              "      <th>AspectRation</th>\n",
              "      <th>Eccentricity</th>\n",
              "      <th>ConvexArea</th>\n",
              "      <th>EquivDiameter</th>\n",
              "      <th>Extent</th>\n",
              "      <th>Solidity</th>\n",
              "      <th>roundness</th>\n",
              "      <th>Compactness</th>\n",
              "      <th>ShapeFactor1</th>\n",
              "      <th>ShapeFactor2</th>\n",
              "      <th>ShapeFactor3</th>\n",
              "      <th>ShapeFactor4</th>\n",
              "    </tr>\n",
              "    <tr>\n",
              "      <th>ID</th>\n",
              "      <th></th>\n",
              "      <th></th>\n",
              "      <th></th>\n",
              "      <th></th>\n",
              "      <th></th>\n",
              "      <th></th>\n",
              "      <th></th>\n",
              "      <th></th>\n",
              "      <th></th>\n",
              "      <th></th>\n",
              "      <th></th>\n",
              "      <th></th>\n",
              "      <th></th>\n",
              "      <th></th>\n",
              "      <th></th>\n",
              "      <th></th>\n",
              "    </tr>\n",
              "  </thead>\n",
              "  <tbody>\n",
              "    <tr>\n",
              "      <th>0</th>\n",
              "      <td>0.174073</td>\n",
              "      <td>0.539713</td>\n",
              "      <td>0.897727</td>\n",
              "      <td>-0.342811</td>\n",
              "      <td>2.224308</td>\n",
              "      <td>1.440028</td>\n",
              "      <td>0.172036</td>\n",
              "      <td>0.322783</td>\n",
              "      <td>-2.966134</td>\n",
              "      <td>0.068758</td>\n",
              "      <td>-1.650182</td>\n",
              "      <td>-1.873127</td>\n",
              "      <td>0.231513</td>\n",
              "      <td>-1.328445</td>\n",
              "      <td>-1.772230</td>\n",
              "      <td>0.815760</td>\n",
              "    </tr>\n",
              "    <tr>\n",
              "      <th>1</th>\n",
              "      <td>-0.290465</td>\n",
              "      <td>-0.454337</td>\n",
              "      <td>-0.633401</td>\n",
              "      <td>0.256188</td>\n",
              "      <td>-1.391835</td>\n",
              "      <td>-1.729039</td>\n",
              "      <td>-0.301224</td>\n",
              "      <td>-0.253265</td>\n",
              "      <td>0.445540</td>\n",
              "      <td>1.498190</td>\n",
              "      <td>1.701569</td>\n",
              "      <td>1.570313</td>\n",
              "      <td>-0.526343</td>\n",
              "      <td>1.109856</td>\n",
              "      <td>1.621877</td>\n",
              "      <td>0.531237</td>\n",
              "    </tr>\n",
              "    <tr>\n",
              "      <th>2</th>\n",
              "      <td>-0.725552</td>\n",
              "      <td>-0.937254</td>\n",
              "      <td>-0.932247</td>\n",
              "      <td>-0.753434</td>\n",
              "      <td>-0.642144</td>\n",
              "      <td>-0.420342</td>\n",
              "      <td>-0.726114</td>\n",
              "      <td>-0.880726</td>\n",
              "      <td>1.051566</td>\n",
              "      <td>0.267127</td>\n",
              "      <td>0.964020</td>\n",
              "      <td>0.599206</td>\n",
              "      <td>0.902962</td>\n",
              "      <td>0.970037</td>\n",
              "      <td>0.573092</td>\n",
              "      <td>0.616586</td>\n",
              "    </tr>\n",
              "    <tr>\n",
              "      <th>3</th>\n",
              "      <td>-0.484668</td>\n",
              "      <td>-0.564026</td>\n",
              "      <td>-0.600178</td>\n",
              "      <td>-0.406731</td>\n",
              "      <td>-0.502811</td>\n",
              "      <td>-0.247737</td>\n",
              "      <td>-0.486967</td>\n",
              "      <td>-0.520301</td>\n",
              "      <td>0.330964</td>\n",
              "      <td>0.406669</td>\n",
              "      <td>0.518910</td>\n",
              "      <td>0.448979</td>\n",
              "      <td>0.322302</td>\n",
              "      <td>0.483610</td>\n",
              "      <td>0.417275</td>\n",
              "      <td>0.967898</td>\n",
              "    </tr>\n",
              "    <tr>\n",
              "      <th>4</th>\n",
              "      <td>-0.357659</td>\n",
              "      <td>-0.371530</td>\n",
              "      <td>-0.451657</td>\n",
              "      <td>-0.203349</td>\n",
              "      <td>-0.515832</td>\n",
              "      <td>-0.263202</td>\n",
              "      <td>-0.359627</td>\n",
              "      <td>-0.343598</td>\n",
              "      <td>-0.411095</td>\n",
              "      <td>0.275515</td>\n",
              "      <td>0.256953</td>\n",
              "      <td>0.445159</td>\n",
              "      <td>0.046731</td>\n",
              "      <td>0.328421</td>\n",
              "      <td>0.413335</td>\n",
              "      <td>0.330810</td>\n",
              "    </tr>\n",
              "  </tbody>\n",
              "</table>\n",
              "</div>\n",
              "      <button class=\"colab-df-convert\" onclick=\"convertToInteractive('df-96a11b68-84dd-45ff-bab1-afb092c3ebba')\"\n",
              "              title=\"Convert this dataframe to an interactive table.\"\n",
              "              style=\"display:none;\">\n",
              "        \n",
              "  <svg xmlns=\"http://www.w3.org/2000/svg\" height=\"24px\"viewBox=\"0 0 24 24\"\n",
              "       width=\"24px\">\n",
              "    <path d=\"M0 0h24v24H0V0z\" fill=\"none\"/>\n",
              "    <path d=\"M18.56 5.44l.94 2.06.94-2.06 2.06-.94-2.06-.94-.94-2.06-.94 2.06-2.06.94zm-11 1L8.5 8.5l.94-2.06 2.06-.94-2.06-.94L8.5 2.5l-.94 2.06-2.06.94zm10 10l.94 2.06.94-2.06 2.06-.94-2.06-.94-.94-2.06-.94 2.06-2.06.94z\"/><path d=\"M17.41 7.96l-1.37-1.37c-.4-.4-.92-.59-1.43-.59-.52 0-1.04.2-1.43.59L10.3 9.45l-7.72 7.72c-.78.78-.78 2.05 0 2.83L4 21.41c.39.39.9.59 1.41.59.51 0 1.02-.2 1.41-.59l7.78-7.78 2.81-2.81c.8-.78.8-2.07 0-2.86zM5.41 20L4 18.59l7.72-7.72 1.47 1.35L5.41 20z\"/>\n",
              "  </svg>\n",
              "      </button>\n",
              "      \n",
              "  <style>\n",
              "    .colab-df-container {\n",
              "      display:flex;\n",
              "      flex-wrap:wrap;\n",
              "      gap: 12px;\n",
              "    }\n",
              "\n",
              "    .colab-df-convert {\n",
              "      background-color: #E8F0FE;\n",
              "      border: none;\n",
              "      border-radius: 50%;\n",
              "      cursor: pointer;\n",
              "      display: none;\n",
              "      fill: #1967D2;\n",
              "      height: 32px;\n",
              "      padding: 0 0 0 0;\n",
              "      width: 32px;\n",
              "    }\n",
              "\n",
              "    .colab-df-convert:hover {\n",
              "      background-color: #E2EBFA;\n",
              "      box-shadow: 0px 1px 2px rgba(60, 64, 67, 0.3), 0px 1px 3px 1px rgba(60, 64, 67, 0.15);\n",
              "      fill: #174EA6;\n",
              "    }\n",
              "\n",
              "    [theme=dark] .colab-df-convert {\n",
              "      background-color: #3B4455;\n",
              "      fill: #D2E3FC;\n",
              "    }\n",
              "\n",
              "    [theme=dark] .colab-df-convert:hover {\n",
              "      background-color: #434B5C;\n",
              "      box-shadow: 0px 1px 3px 1px rgba(0, 0, 0, 0.15);\n",
              "      filter: drop-shadow(0px 1px 2px rgba(0, 0, 0, 0.3));\n",
              "      fill: #FFFFFF;\n",
              "    }\n",
              "  </style>\n",
              "\n",
              "      <script>\n",
              "        const buttonEl =\n",
              "          document.querySelector('#df-96a11b68-84dd-45ff-bab1-afb092c3ebba button.colab-df-convert');\n",
              "        buttonEl.style.display =\n",
              "          google.colab.kernel.accessAllowed ? 'block' : 'none';\n",
              "\n",
              "        async function convertToInteractive(key) {\n",
              "          const element = document.querySelector('#df-96a11b68-84dd-45ff-bab1-afb092c3ebba');\n",
              "          const dataTable =\n",
              "            await google.colab.kernel.invokeFunction('convertToInteractive',\n",
              "                                                     [key], {});\n",
              "          if (!dataTable) return;\n",
              "\n",
              "          const docLinkHtml = 'Like what you see? Visit the ' +\n",
              "            '<a target=\"_blank\" href=https://colab.research.google.com/notebooks/data_table.ipynb>data table notebook</a>'\n",
              "            + ' to learn more about interactive tables.';\n",
              "          element.innerHTML = '';\n",
              "          dataTable['output_type'] = 'display_data';\n",
              "          await google.colab.output.renderOutput(dataTable, element);\n",
              "          const docLink = document.createElement('div');\n",
              "          docLink.innerHTML = docLinkHtml;\n",
              "          element.appendChild(docLink);\n",
              "        }\n",
              "      </script>\n",
              "    </div>\n",
              "  </div>\n",
              "  "
            ]
          },
          "metadata": {},
          "execution_count": 32
        }
      ]
    },
    {
      "cell_type": "code",
      "source": [
        "# select numeric variables\n",
        "numeric_vars =  ['Area', 'Perimeter', 'MajorAxisLength', 'AspectRation', 'Eccentricity', 'Extent', 'Solidity', \n",
        "                 'roundness', 'Compactness', 'ShapeFactor1', 'ShapeFactor2', 'ShapeFactor3', \n",
        "                 'ShapeFactor4']\n",
        "# create histograms for each numeric variable\n",
        "fig = plt.figure(figsize=(24, 15))\n",
        "for i in range(len(numeric_vars)):\n",
        "    var = numeric_vars[i]\n",
        "    sub = fig.add_subplot(3, 5, i + 1)\n",
        "    sub.set_xlabel(var)\n",
        "    X_StandardScaler_scaled[var].plot(kind = 'hist')"
      ],
      "metadata": {
        "colab": {
          "base_uri": "https://localhost:8080/",
          "height": 879
        },
        "id": "wL3qY-nDhQV9",
        "outputId": "e3950a57-5976-4422-97b3-b19a0c1883da"
      },
      "execution_count": null,
      "outputs": [
        {
          "output_type": "display_data",
          "data": {
            "text/plain": [
              "<Figure size 1728x1080 with 13 Axes>"
            ],
            "image/png": "[encoded data removed]"
          },
          "metadata": {
            "needs_background": "light"
          }
        }
      ]
    },
    {
      "cell_type": "code",
      "source": [
        "X_RobustScaler_scaled = apply_RobustScaler(X_copy)\n",
        "X_RobustScaler_scaled.head()"
      ],
      "metadata": {
        "colab": {
          "base_uri": "https://localhost:8080/",
          "height": 238
        },
        "id": "M5hzvKqcTSTB",
        "outputId": "6d730301-5bac-46f0-f98c-e786d8115afc"
      },
      "execution_count": null,
      "outputs": [
        {
          "output_type": "execute_result",
          "data": {
            "text/plain": [
              "        Area  Perimeter  MajorAxisLength  MinorAxisLength  AspectRation  \\\n",
              "ID                                                                        \n",
              "0   0.544777   0.653008         0.822611        -0.134810      2.125342   \n",
              "1  -0.005210  -0.132903        -0.251184         0.518081     -1.146089   \n",
              "2  -0.520329  -0.514704        -0.460767        -0.582377     -0.467863   \n",
              "3  -0.235136  -0.219625        -0.227884        -0.204482     -0.341812   \n",
              "4  -0.084764  -0.067434        -0.123724         0.017199     -0.353592   \n",
              "\n",
              "    Eccentricity  ConvexArea  EquivDiameter    Extent  Solidity  roundness  \\\n",
              "ID                                                                           \n",
              "0       1.266132    0.541883       0.527444 -2.281944 -0.187074  -1.291886   \n",
              "1      -1.844348   -0.014420      -0.005407  0.170410  1.320036   1.092843   \n",
              "2      -0.559845   -0.513866      -0.585815  0.606030  0.022075   0.568085   \n",
              "3      -0.390431   -0.232756      -0.252418  0.088051  0.169199   0.251395   \n",
              "4      -0.405610   -0.083071      -0.088966 -0.445350  0.030919   0.065016   \n",
              "\n",
              "    Compactness  ShapeFactor1  ShapeFactor2  ShapeFactor3  ShapeFactor4  \n",
              "ID                                                                       \n",
              "0     -1.639088      0.128419     -0.764359     -1.525751      0.522756  \n",
              "1      1.343318     -0.490484      0.669985      1.427720      0.231459  \n",
              "2      0.502230      0.676757      0.587736      0.515092      0.318841  \n",
              "3      0.372117      0.202562      0.301592      0.379505      0.678516  \n",
              "4      0.368808     -0.022484      0.210301      0.376076      0.026261  "
            ],
            "text/html": [
              "\n",
              "  <div id=\"df-7426f10c-f7d1-4b60-a4d1-19438ce7036a\">\n",
              "    <div class=\"colab-df-container\">\n",
              "      <div>\n",
              "<style scoped>\n",
              "    .dataframe tbody tr th:only-of-type {\n",
              "        vertical-align: middle;\n",
              "    }\n",
              "\n",
              "    .dataframe tbody tr th {\n",
              "        vertical-align: top;\n",
              "    }\n",
              "\n",
              "    .dataframe thead th {\n",
              "        text-align: right;\n",
              "    }\n",
              "</style>\n",
              "<table border=\"1\" class=\"dataframe\">\n",
              "  <thead>\n",
              "    <tr style=\"text-align: right;\">\n",
              "      <th></th>\n",
              "      <th>Area</th>\n",
              "      <th>Perimeter</th>\n",
              "      <th>MajorAxisLength</th>\n",
              "      <th>MinorAxisLength</th>\n",
              "      <th>AspectRation</th>\n",
              "      <th>Eccentricity</th>\n",
              "      <th>ConvexArea</th>\n",
              "      <th>EquivDiameter</th>\n",
              "      <th>Extent</th>\n",
              "      <th>Solidity</th>\n",
              "      <th>roundness</th>\n",
              "      <th>Compactness</th>\n",
              "      <th>ShapeFactor1</th>\n",
              "      <th>ShapeFactor2</th>\n",
              "      <th>ShapeFactor3</th>\n",
              "      <th>ShapeFactor4</th>\n",
              "    </tr>\n",
              "    <tr>\n",
              "      <th>ID</th>\n",
              "      <th></th>\n",
              "      <th></th>\n",
              "      <th></th>\n",
              "      <th></th>\n",
              "      <th></th>\n",
              "      <th></th>\n",
              "      <th></th>\n",
              "      <th></th>\n",
              "      <th></th>\n",
              "      <th></th>\n",
              "      <th></th>\n",
              "      <th></th>\n",
              "      <th></th>\n",
              "      <th></th>\n",
              "      <th></th>\n",
              "      <th></th>\n",
              "    </tr>\n",
              "  </thead>\n",
              "  <tbody>\n",
              "    <tr>\n",
              "      <th>0</th>\n",
              "      <td>0.544777</td>\n",
              "      <td>0.653008</td>\n",
              "      <td>0.822611</td>\n",
              "      <td>-0.134810</td>\n",
              "      <td>2.125342</td>\n",
              "      <td>1.266132</td>\n",
              "      <td>0.541883</td>\n",
              "      <td>0.527444</td>\n",
              "      <td>-2.281944</td>\n",
              "      <td>-0.187074</td>\n",
              "      <td>-1.291886</td>\n",
              "      <td>-1.639088</td>\n",
              "      <td>0.128419</td>\n",
              "      <td>-0.764359</td>\n",
              "      <td>-1.525751</td>\n",
              "      <td>0.522756</td>\n",
              "    </tr>\n",
              "    <tr>\n",
              "      <th>1</th>\n",
              "      <td>-0.005210</td>\n",
              "      <td>-0.132903</td>\n",
              "      <td>-0.251184</td>\n",
              "      <td>0.518081</td>\n",
              "      <td>-1.146089</td>\n",
              "      <td>-1.844348</td>\n",
              "      <td>-0.014420</td>\n",
              "      <td>-0.005407</td>\n",
              "      <td>0.170410</td>\n",
              "      <td>1.320036</td>\n",
              "      <td>1.092843</td>\n",
              "      <td>1.343318</td>\n",
              "      <td>-0.490484</td>\n",
              "      <td>0.669985</td>\n",
              "      <td>1.427720</td>\n",
              "      <td>0.231459</td>\n",
              "    </tr>\n",
              "    <tr>\n",
              "      <th>2</th>\n",
              "      <td>-0.520329</td>\n",
              "      <td>-0.514704</td>\n",
              "      <td>-0.460767</td>\n",
              "      <td>-0.582377</td>\n",
              "      <td>-0.467863</td>\n",
              "      <td>-0.559845</td>\n",
              "      <td>-0.513866</td>\n",
              "      <td>-0.585815</td>\n",
              "      <td>0.606030</td>\n",
              "      <td>0.022075</td>\n",
              "      <td>0.568085</td>\n",
              "      <td>0.502230</td>\n",
              "      <td>0.676757</td>\n",
              "      <td>0.587736</td>\n",
              "      <td>0.515092</td>\n",
              "      <td>0.318841</td>\n",
              "    </tr>\n",
              "    <tr>\n",
              "      <th>3</th>\n",
              "      <td>-0.235136</td>\n",
              "      <td>-0.219625</td>\n",
              "      <td>-0.227884</td>\n",
              "      <td>-0.204482</td>\n",
              "      <td>-0.341812</td>\n",
              "      <td>-0.390431</td>\n",
              "      <td>-0.232756</td>\n",
              "      <td>-0.252418</td>\n",
              "      <td>0.088051</td>\n",
              "      <td>0.169199</td>\n",
              "      <td>0.251395</td>\n",
              "      <td>0.372117</td>\n",
              "      <td>0.202562</td>\n",
              "      <td>0.301592</td>\n",
              "      <td>0.379505</td>\n",
              "      <td>0.678516</td>\n",
              "    </tr>\n",
              "    <tr>\n",
              "      <th>4</th>\n",
              "      <td>-0.084764</td>\n",
              "      <td>-0.067434</td>\n",
              "      <td>-0.123724</td>\n",
              "      <td>0.017199</td>\n",
              "      <td>-0.353592</td>\n",
              "      <td>-0.405610</td>\n",
              "      <td>-0.083071</td>\n",
              "      <td>-0.088966</td>\n",
              "      <td>-0.445350</td>\n",
              "      <td>0.030919</td>\n",
              "      <td>0.065016</td>\n",
              "      <td>0.368808</td>\n",
              "      <td>-0.022484</td>\n",
              "      <td>0.210301</td>\n",
              "      <td>0.376076</td>\n",
              "      <td>0.026261</td>\n",
              "    </tr>\n",
              "  </tbody>\n",
              "</table>\n",
              "</div>\n",
              "      <button class=\"colab-df-convert\" onclick=\"convertToInteractive('df-7426f10c-f7d1-4b60-a4d1-19438ce7036a')\"\n",
              "              title=\"Convert this dataframe to an interactive table.\"\n",
              "              style=\"display:none;\">\n",
              "        \n",
              "  <svg xmlns=\"http://www.w3.org/2000/svg\" height=\"24px\"viewBox=\"0 0 24 24\"\n",
              "       width=\"24px\">\n",
              "    <path d=\"M0 0h24v24H0V0z\" fill=\"none\"/>\n",
              "    <path d=\"M18.56 5.44l.94 2.06.94-2.06 2.06-.94-2.06-.94-.94-2.06-.94 2.06-2.06.94zm-11 1L8.5 8.5l.94-2.06 2.06-.94-2.06-.94L8.5 2.5l-.94 2.06-2.06.94zm10 10l.94 2.06.94-2.06 2.06-.94-2.06-.94-.94-2.06-.94 2.06-2.06.94z\"/><path d=\"M17.41 7.96l-1.37-1.37c-.4-.4-.92-.59-1.43-.59-.52 0-1.04.2-1.43.59L10.3 9.45l-7.72 7.72c-.78.78-.78 2.05 0 2.83L4 21.41c.39.39.9.59 1.41.59.51 0 1.02-.2 1.41-.59l7.78-7.78 2.81-2.81c.8-.78.8-2.07 0-2.86zM5.41 20L4 18.59l7.72-7.72 1.47 1.35L5.41 20z\"/>\n",
              "  </svg>\n",
              "      </button>\n",
              "      \n",
              "  <style>\n",
              "    .colab-df-container {\n",
              "      display:flex;\n",
              "      flex-wrap:wrap;\n",
              "      gap: 12px;\n",
              "    }\n",
              "\n",
              "    .colab-df-convert {\n",
              "      background-color: #E8F0FE;\n",
              "      border: none;\n",
              "      border-radius: 50%;\n",
              "      cursor: pointer;\n",
              "      display: none;\n",
              "      fill: #1967D2;\n",
              "      height: 32px;\n",
              "      padding: 0 0 0 0;\n",
              "      width: 32px;\n",
              "    }\n",
              "\n",
              "    .colab-df-convert:hover {\n",
              "      background-color: #E2EBFA;\n",
              "      box-shadow: 0px 1px 2px rgba(60, 64, 67, 0.3), 0px 1px 3px 1px rgba(60, 64, 67, 0.15);\n",
              "      fill: #174EA6;\n",
              "    }\n",
              "\n",
              "    [theme=dark] .colab-df-convert {\n",
              "      background-color: #3B4455;\n",
              "      fill: #D2E3FC;\n",
              "    }\n",
              "\n",
              "    [theme=dark] .colab-df-convert:hover {\n",
              "      background-color: #434B5C;\n",
              "      box-shadow: 0px 1px 3px 1px rgba(0, 0, 0, 0.15);\n",
              "      filter: drop-shadow(0px 1px 2px rgba(0, 0, 0, 0.3));\n",
              "      fill: #FFFFFF;\n",
              "    }\n",
              "  </style>\n",
              "\n",
              "      <script>\n",
              "        const buttonEl =\n",
              "          document.querySelector('#df-7426f10c-f7d1-4b60-a4d1-19438ce7036a button.colab-df-convert');\n",
              "        buttonEl.style.display =\n",
              "          google.colab.kernel.accessAllowed ? 'block' : 'none';\n",
              "\n",
              "        async function convertToInteractive(key) {\n",
              "          const element = document.querySelector('#df-7426f10c-f7d1-4b60-a4d1-19438ce7036a');\n",
              "          const dataTable =\n",
              "            await google.colab.kernel.invokeFunction('convertToInteractive',\n",
              "                                                     [key], {});\n",
              "          if (!dataTable) return;\n",
              "\n",
              "          const docLinkHtml = 'Like what you see? Visit the ' +\n",
              "            '<a target=\"_blank\" href=https://colab.research.google.com/notebooks/data_table.ipynb>data table notebook</a>'\n",
              "            + ' to learn more about interactive tables.';\n",
              "          element.innerHTML = '';\n",
              "          dataTable['output_type'] = 'display_data';\n",
              "          await google.colab.output.renderOutput(dataTable, element);\n",
              "          const docLink = document.createElement('div');\n",
              "          docLink.innerHTML = docLinkHtml;\n",
              "          element.appendChild(docLink);\n",
              "        }\n",
              "      </script>\n",
              "    </div>\n",
              "  </div>\n",
              "  "
            ]
          },
          "metadata": {},
          "execution_count": 34
        }
      ]
    },
    {
      "cell_type": "code",
      "source": [
        "# select numeric variables\n",
        "numeric_vars =  ['Area', 'Perimeter', 'MajorAxisLength', 'AspectRation', 'Eccentricity', 'Extent', 'Solidity', \n",
        "                 'roundness', 'Compactness', 'ShapeFactor1', 'ShapeFactor2', 'ShapeFactor3', \n",
        "                 'ShapeFactor4']\n",
        "# create histograms for each numeric variable\n",
        "fig = plt.figure(figsize=(24, 15))\n",
        "for i in range(len(numeric_vars)):\n",
        "    var = numeric_vars[i]\n",
        "    sub = fig.add_subplot(3, 5, i + 1)\n",
        "    sub.set_xlabel(var)\n",
        "    X_RobustScaler_scaled[var].plot(kind = 'hist')"
      ],
      "metadata": {
        "colab": {
          "base_uri": "https://localhost:8080/",
          "height": 879
        },
        "id": "xrNa8Q62TSV7",
        "outputId": "0d89716c-108a-40f7-be0a-f467fec2f98f"
      },
      "execution_count": null,
      "outputs": [
        {
          "output_type": "display_data",
          "data": {
            "text/plain": [
              "<Figure size 1728x1080 with 13 Axes>"
            ],
            "image/png": "[encoded data removed]"
          },
          "metadata": {
            "needs_background": "light"
          }
        }
      ]
    },
    {
      "cell_type": "code",
      "source": [
        "#exploring the data after making sure all data that you want to get its boxplot are numerical \n",
        "fig, axs = plt.subplots(3,3, figsize = (15,7.5))\n",
        "plt1 = sns.boxplot(X_RobustScaler_scaled['Area'], ax = axs[0,0])\n",
        "plt2 = sns.boxplot(X_RobustScaler_scaled['Perimeter'], ax = axs[0,1])\n",
        "plt3 = sns.boxplot(X_RobustScaler_scaled['MajorAxisLength'], ax = axs[0,2])\n",
        "plt4 = sns.boxplot(X_RobustScaler_scaled['MinorAxisLength'], ax = axs[1,0])\n",
        "plt5 = sns.boxplot(X_RobustScaler_scaled['AspectRation'], ax = axs[1,1])\n",
        "plt6 = sns.boxplot(X_RobustScaler_scaled['Eccentricity'], ax = axs[1,2])\n",
        "plt7 = sns.boxplot(X_RobustScaler_scaled['ConvexArea'], ax = axs[2,0])\n",
        "plt8 = sns.boxplot(X_RobustScaler_scaled['EquivDiameter'], ax = axs[2,1])\n",
        "plt9 = sns.boxplot(X_RobustScaler_scaled['Extent'], ax = axs[2,2])\n",
        "plt.tight_layout()"
      ],
      "metadata": {
        "colab": {
          "base_uri": "https://localhost:8080/",
          "height": 549
        },
        "id": "kwxjX708MKt-",
        "outputId": "e621700f-23cf-4d20-e2e9-7d24761b9163"
      },
      "execution_count": null,
      "outputs": [
        {
          "output_type": "display_data",
          "data": {
            "text/plain": [
              "<Figure size 1080x540 with 9 Axes>"
            ],
            "image/png": "[encoded data removed]"
          },
          "metadata": {
            "needs_background": "light"
          }
        }
      ]
    },
    {
      "cell_type": "code",
      "source": [
        "#exploring the data after making sure all data that you want to get its boxplot are numerical \n",
        "fig, axs = plt.subplots(3,3, figsize = (15,7.5))\n",
        "plt1 = sns.boxplot(X_RobustScaler_scaled['Solidity'], ax = axs[0,0])\n",
        "plt2 = sns.boxplot(X_RobustScaler_scaled['roundness'], ax = axs[0,1])\n",
        "plt3 = sns.boxplot(X_RobustScaler_scaled['Compactness'], ax = axs[0,2])\n",
        "plt4 = sns.boxplot(X_RobustScaler_scaled['ShapeFactor1'], ax = axs[1,0])\n",
        "plt5 = sns.boxplot(X_RobustScaler_scaled['ShapeFactor2'], ax = axs[1,1])\n",
        "plt6 = sns.boxplot(X_RobustScaler_scaled['ShapeFactor3'], ax = axs[1,2])\n",
        "plt7 = sns.boxplot(X_RobustScaler_scaled['ShapeFactor4'], ax = axs[2,0])\n",
        "# plt8 = sns.boxplot(df_all['EquivDiameter'], ax = axs[2,1])\n",
        "# plt9 = sns.boxplot(df_all['Extent'], ax = axs[2,2])\n",
        "plt.tight_layout()"
      ],
      "metadata": {
        "colab": {
          "base_uri": "https://localhost:8080/",
          "height": 549
        },
        "id": "R1y56Q_5MdLb",
        "outputId": "e4f59d32-ff78-439a-f493-294be6d95940"
      },
      "execution_count": null,
      "outputs": [
        {
          "output_type": "display_data",
          "data": {
            "text/plain": [
              "<Figure size 1080x540 with 9 Axes>"
            ],
            "image/png": "[encoded data removed]"
          },
          "metadata": {
            "needs_background": "light"
          }
        }
      ]
    },
    {
      "cell_type": "code",
      "source": [
        "X_MaxAbsScaler_scaled = apply_MaxAbsScaler(X_copy)\n",
        "X_MaxAbsScaler_scaled.head()"
      ],
      "metadata": {
        "colab": {
          "base_uri": "https://localhost:8080/",
          "height": 238
        },
        "id": "u6E_NrvJTSYd",
        "outputId": "5f4ca047-0cc9-4006-9a68-a7ea4a369941"
      },
      "execution_count": null,
      "outputs": [
        {
          "output_type": "execute_result",
          "data": {
            "text/plain": [
              "        Area  Perimeter  MajorAxisLength  MinorAxisLength  AspectRation  \\\n",
              "ID                                                                        \n",
              "0   0.064738   0.149009         0.227863        -0.021593      0.684797   \n",
              "1  -0.000619  -0.030327        -0.069578         0.082981     -0.369276   \n",
              "2  -0.061832  -0.117450        -0.127632        -0.093280     -0.150748   \n",
              "3  -0.027942  -0.050116        -0.063124        -0.032752     -0.110134   \n",
              "4  -0.010073  -0.015388        -0.034271         0.002755     -0.113929   \n",
              "\n",
              "    Eccentricity  ConvexArea  EquivDiameter    Extent  Solidity  roundness  \\\n",
              "ID                                                                           \n",
              "0       0.216377    0.063403       0.102393 -0.758618 -0.011888  -0.273575   \n",
              "1      -0.315191   -0.001687      -0.001050  0.056652  0.083884   0.231425   \n",
              "2      -0.095675   -0.060125      -0.113724  0.201471  0.001403   0.120300   \n",
              "3      -0.066723   -0.027234      -0.049002  0.029272  0.010752   0.053237   \n",
              "4      -0.069317   -0.009720      -0.017271 -0.148054  0.001965   0.013768   \n",
              "\n",
              "    Compactness  ShapeFactor1  ShapeFactor2  ShapeFactor3  ShapeFactor4  \n",
              "ID                                                                       \n",
              "0     -0.623362      0.046788     -0.392433     -0.518206      0.045133  \n",
              "1      0.510877     -0.178701      0.343980      0.484911      0.019984  \n",
              "2      0.191003      0.246567      0.301752      0.174946      0.027528  \n",
              "3      0.141520      0.073801      0.154842      0.128895      0.058581  \n",
              "4      0.140261     -0.008192      0.107972      0.127731      0.002267  "
            ],
            "text/html": [
              "\n",
              "  <div id=\"df-304891a2-d3f8-49d0-b4e0-911f4ee419d6\">\n",
              "    <div class=\"colab-df-container\">\n",
              "      <div>\n",
              "<style scoped>\n",
              "    .dataframe tbody tr th:only-of-type {\n",
              "        vertical-align: middle;\n",
              "    }\n",
              "\n",
              "    .dataframe tbody tr th {\n",
              "        vertical-align: top;\n",
              "    }\n",
              "\n",
              "    .dataframe thead th {\n",
              "        text-align: right;\n",
              "    }\n",
              "</style>\n",
              "<table border=\"1\" class=\"dataframe\">\n",
              "  <thead>\n",
              "    <tr style=\"text-align: right;\">\n",
              "      <th></th>\n",
              "      <th>Area</th>\n",
              "      <th>Perimeter</th>\n",
              "      <th>MajorAxisLength</th>\n",
              "      <th>MinorAxisLength</th>\n",
              "      <th>AspectRation</th>\n",
              "      <th>Eccentricity</th>\n",
              "      <th>ConvexArea</th>\n",
              "      <th>EquivDiameter</th>\n",
              "      <th>Extent</th>\n",
              "      <th>Solidity</th>\n",
              "      <th>roundness</th>\n",
              "      <th>Compactness</th>\n",
              "      <th>ShapeFactor1</th>\n",
              "      <th>ShapeFactor2</th>\n",
              "      <th>ShapeFactor3</th>\n",
              "      <th>ShapeFactor4</th>\n",
              "    </tr>\n",
              "    <tr>\n",
              "      <th>ID</th>\n",
              "      <th></th>\n",
              "      <th></th>\n",
              "      <th></th>\n",
              "      <th></th>\n",
              "      <th></th>\n",
              "      <th></th>\n",
              "      <th></th>\n",
              "      <th></th>\n",
              "      <th></th>\n",
              "      <th></th>\n",
              "      <th></th>\n",
              "      <th></th>\n",
              "      <th></th>\n",
              "      <th></th>\n",
              "      <th></th>\n",
              "      <th></th>\n",
              "    </tr>\n",
              "  </thead>\n",
              "  <tbody>\n",
              "    <tr>\n",
              "      <th>0</th>\n",
              "      <td>0.064738</td>\n",
              "      <td>0.149009</td>\n",
              "      <td>0.227863</td>\n",
              "      <td>-0.021593</td>\n",
              "      <td>0.684797</td>\n",
              "      <td>0.216377</td>\n",
              "      <td>0.063403</td>\n",
              "      <td>0.102393</td>\n",
              "      <td>-0.758618</td>\n",
              "      <td>-0.011888</td>\n",
              "      <td>-0.273575</td>\n",
              "      <td>-0.623362</td>\n",
              "      <td>0.046788</td>\n",
              "      <td>-0.392433</td>\n",
              "      <td>-0.518206</td>\n",
              "      <td>0.045133</td>\n",
              "    </tr>\n",
              "    <tr>\n",
              "      <th>1</th>\n",
              "      <td>-0.000619</td>\n",
              "      <td>-0.030327</td>\n",
              "      <td>-0.069578</td>\n",
              "      <td>0.082981</td>\n",
              "      <td>-0.369276</td>\n",
              "      <td>-0.315191</td>\n",
              "      <td>-0.001687</td>\n",
              "      <td>-0.001050</td>\n",
              "      <td>0.056652</td>\n",
              "      <td>0.083884</td>\n",
              "      <td>0.231425</td>\n",
              "      <td>0.510877</td>\n",
              "      <td>-0.178701</td>\n",
              "      <td>0.343980</td>\n",
              "      <td>0.484911</td>\n",
              "      <td>0.019984</td>\n",
              "    </tr>\n",
              "    <tr>\n",
              "      <th>2</th>\n",
              "      <td>-0.061832</td>\n",
              "      <td>-0.117450</td>\n",
              "      <td>-0.127632</td>\n",
              "      <td>-0.093280</td>\n",
              "      <td>-0.150748</td>\n",
              "      <td>-0.095675</td>\n",
              "      <td>-0.060125</td>\n",
              "      <td>-0.113724</td>\n",
              "      <td>0.201471</td>\n",
              "      <td>0.001403</td>\n",
              "      <td>0.120300</td>\n",
              "      <td>0.191003</td>\n",
              "      <td>0.246567</td>\n",
              "      <td>0.301752</td>\n",
              "      <td>0.174946</td>\n",
              "      <td>0.027528</td>\n",
              "    </tr>\n",
              "    <tr>\n",
              "      <th>3</th>\n",
              "      <td>-0.027942</td>\n",
              "      <td>-0.050116</td>\n",
              "      <td>-0.063124</td>\n",
              "      <td>-0.032752</td>\n",
              "      <td>-0.110134</td>\n",
              "      <td>-0.066723</td>\n",
              "      <td>-0.027234</td>\n",
              "      <td>-0.049002</td>\n",
              "      <td>0.029272</td>\n",
              "      <td>0.010752</td>\n",
              "      <td>0.053237</td>\n",
              "      <td>0.141520</td>\n",
              "      <td>0.073801</td>\n",
              "      <td>0.154842</td>\n",
              "      <td>0.128895</td>\n",
              "      <td>0.058581</td>\n",
              "    </tr>\n",
              "    <tr>\n",
              "      <th>4</th>\n",
              "      <td>-0.010073</td>\n",
              "      <td>-0.015388</td>\n",
              "      <td>-0.034271</td>\n",
              "      <td>0.002755</td>\n",
              "      <td>-0.113929</td>\n",
              "      <td>-0.069317</td>\n",
              "      <td>-0.009720</td>\n",
              "      <td>-0.017271</td>\n",
              "      <td>-0.148054</td>\n",
              "      <td>0.001965</td>\n",
              "      <td>0.013768</td>\n",
              "      <td>0.140261</td>\n",
              "      <td>-0.008192</td>\n",
              "      <td>0.107972</td>\n",
              "      <td>0.127731</td>\n",
              "      <td>0.002267</td>\n",
              "    </tr>\n",
              "  </tbody>\n",
              "</table>\n",
              "</div>\n",
              "      <button class=\"colab-df-convert\" onclick=\"convertToInteractive('df-304891a2-d3f8-49d0-b4e0-911f4ee419d6')\"\n",
              "              title=\"Convert this dataframe to an interactive table.\"\n",
              "              style=\"display:none;\">\n",
              "        \n",
              "  <svg xmlns=\"http://www.w3.org/2000/svg\" height=\"24px\"viewBox=\"0 0 24 24\"\n",
              "       width=\"24px\">\n",
              "    <path d=\"M0 0h24v24H0V0z\" fill=\"none\"/>\n",
              "    <path d=\"M18.56 5.44l.94 2.06.94-2.06 2.06-.94-2.06-.94-.94-2.06-.94 2.06-2.06.94zm-11 1L8.5 8.5l.94-2.06 2.06-.94-2.06-.94L8.5 2.5l-.94 2.06-2.06.94zm10 10l.94 2.06.94-2.06 2.06-.94-2.06-.94-.94-2.06-.94 2.06-2.06.94z\"/><path d=\"M17.41 7.96l-1.37-1.37c-.4-.4-.92-.59-1.43-.59-.52 0-1.04.2-1.43.59L10.3 9.45l-7.72 7.72c-.78.78-.78 2.05 0 2.83L4 21.41c.39.39.9.59 1.41.59.51 0 1.02-.2 1.41-.59l7.78-7.78 2.81-2.81c.8-.78.8-2.07 0-2.86zM5.41 20L4 18.59l7.72-7.72 1.47 1.35L5.41 20z\"/>\n",
              "  </svg>\n",
              "      </button>\n",
              "      \n",
              "  <style>\n",
              "    .colab-df-container {\n",
              "      display:flex;\n",
              "      flex-wrap:wrap;\n",
              "      gap: 12px;\n",
              "    }\n",
              "\n",
              "    .colab-df-convert {\n",
              "      background-color: #E8F0FE;\n",
              "      border: none;\n",
              "      border-radius: 50%;\n",
              "      cursor: pointer;\n",
              "      display: none;\n",
              "      fill: #1967D2;\n",
              "      height: 32px;\n",
              "      padding: 0 0 0 0;\n",
              "      width: 32px;\n",
              "    }\n",
              "\n",
              "    .colab-df-convert:hover {\n",
              "      background-color: #E2EBFA;\n",
              "      box-shadow: 0px 1px 2px rgba(60, 64, 67, 0.3), 0px 1px 3px 1px rgba(60, 64, 67, 0.15);\n",
              "      fill: #174EA6;\n",
              "    }\n",
              "\n",
              "    [theme=dark] .colab-df-convert {\n",
              "      background-color: #3B4455;\n",
              "      fill: #D2E3FC;\n",
              "    }\n",
              "\n",
              "    [theme=dark] .colab-df-convert:hover {\n",
              "      background-color: #434B5C;\n",
              "      box-shadow: 0px 1px 3px 1px rgba(0, 0, 0, 0.15);\n",
              "      filter: drop-shadow(0px 1px 2px rgba(0, 0, 0, 0.3));\n",
              "      fill: #FFFFFF;\n",
              "    }\n",
              "  </style>\n",
              "\n",
              "      <script>\n",
              "        const buttonEl =\n",
              "          document.querySelector('#df-304891a2-d3f8-49d0-b4e0-911f4ee419d6 button.colab-df-convert');\n",
              "        buttonEl.style.display =\n",
              "          google.colab.kernel.accessAllowed ? 'block' : 'none';\n",
              "\n",
              "        async function convertToInteractive(key) {\n",
              "          const element = document.querySelector('#df-304891a2-d3f8-49d0-b4e0-911f4ee419d6');\n",
              "          const dataTable =\n",
              "            await google.colab.kernel.invokeFunction('convertToInteractive',\n",
              "                                                     [key], {});\n",
              "          if (!dataTable) return;\n",
              "\n",
              "          const docLinkHtml = 'Like what you see? Visit the ' +\n",
              "            '<a target=\"_blank\" href=https://colab.research.google.com/notebooks/data_table.ipynb>data table notebook</a>'\n",
              "            + ' to learn more about interactive tables.';\n",
              "          element.innerHTML = '';\n",
              "          dataTable['output_type'] = 'display_data';\n",
              "          await google.colab.output.renderOutput(dataTable, element);\n",
              "          const docLink = document.createElement('div');\n",
              "          docLink.innerHTML = docLinkHtml;\n",
              "          element.appendChild(docLink);\n",
              "        }\n",
              "      </script>\n",
              "    </div>\n",
              "  </div>\n",
              "  "
            ]
          },
          "metadata": {},
          "execution_count": 38
        }
      ]
    },
    {
      "cell_type": "code",
      "source": [
        "# select numeric variables\n",
        "numeric_vars =  ['Area', 'Perimeter', 'MajorAxisLength', 'AspectRation', 'Eccentricity', 'Extent', 'Solidity', \n",
        "                 'roundness', 'Compactness', 'ShapeFactor1', 'ShapeFactor2', 'ShapeFactor3', \n",
        "                 'ShapeFactor4']\n",
        "# create histograms for each numeric variable\n",
        "fig = plt.figure(figsize=(24, 15))\n",
        "for i in range(len(numeric_vars)):\n",
        "    var = numeric_vars[i]\n",
        "    sub = fig.add_subplot(3, 5, i + 1)\n",
        "    sub.set_xlabel(var)\n",
        "    X_MaxAbsScaler_scaled[var].plot(kind = 'hist')"
      ],
      "metadata": {
        "colab": {
          "base_uri": "https://localhost:8080/",
          "height": 879
        },
        "id": "gsuembiDmpoM",
        "outputId": "a55ee381-8721-4e2c-ac83-3267fb5f2a38"
      },
      "execution_count": null,
      "outputs": [
        {
          "output_type": "display_data",
          "data": {
            "text/plain": [
              "<Figure size 1728x1080 with 13 Axes>"
            ],
            "image/png": "[encoded data removed]"
          },
          "metadata": {
            "needs_background": "light"
          }
        }
      ]
    },
    {
      "cell_type": "code",
      "source": [
        "X_normalized = apply_normalize(X_copy)\n",
        "X_normalized"
      ],
      "metadata": {
        "colab": {
          "base_uri": "https://localhost:8080/",
          "height": 455
        },
        "id": "QUSIiYzVTSd_",
        "outputId": "6eef1d0b-88ce-4220-ea23-84c414a83dd4"
      },
      "execution_count": null,
      "outputs": [
        {
          "output_type": "execute_result",
          "data": {
            "text/plain": [
              "           Area  Perimeter  MajorAxisLength  MinorAxisLength  AspectRation  \\\n",
              "ID                                                                           \n",
              "0      0.044943   0.103446         0.158189        -0.014990      0.475406   \n",
              "1     -0.000632  -0.030969        -0.071051         0.084738     -0.377096   \n",
              "2     -0.102234  -0.194192        -0.211028        -0.154229     -0.249248   \n",
              "3     -0.087758  -0.157400        -0.198254        -0.102865     -0.345900   \n",
              "4     -0.033664  -0.051427        -0.114538         0.009207     -0.380760   \n",
              "...         ...        ...              ...              ...           ...   \n",
              "10829 -0.041542  -0.082848        -0.132614         0.000880     -0.382671   \n",
              "10830 -0.127283  -0.227049        -0.235619        -0.221983     -0.143848   \n",
              "10831  0.191774   0.274568         0.336344         0.205315      0.317100   \n",
              "10832  0.040652   0.065511         0.071722         0.062609      0.008523   \n",
              "10833 -0.080000  -0.155049        -0.184868        -0.104770     -0.302529   \n",
              "\n",
              "       Eccentricity  ConvexArea  EquivDiameter    Extent  Solidity  roundness  \\\n",
              "ID                                                                              \n",
              "0          0.150215    0.044016       0.071084 -0.526655 -0.008253  -0.189924   \n",
              "1         -0.321866   -0.001723      -0.001072  0.057852  0.085660   0.236326   \n",
              "2         -0.158190   -0.099411      -0.188033  0.333114  0.002319   0.198905   \n",
              "3         -0.209559   -0.085533      -0.153902  0.091936  0.033769   0.167202   \n",
              "4         -0.231663   -0.032484      -0.057721 -0.494807  0.006567   0.046014   \n",
              "...             ...         ...            ...       ...       ...        ...   \n",
              "10829     -0.294839   -0.040609      -0.073312  0.064350  0.024093   0.137082   \n",
              "10830     -0.083135   -0.123594      -0.233224 -0.296774 -0.012855   0.130693   \n",
              "10831      0.131792    0.185678       0.276033  0.062666  0.047424  -0.074898   \n",
              "10832      0.004579    0.039815       0.067544 -0.971311  0.004374   0.022685   \n",
              "10833     -0.232431   -0.078066      -0.151229  0.081654  0.028657   0.154205   \n",
              "\n",
              "       Compactness  ShapeFactor1  ShapeFactor2  ShapeFactor3  ShapeFactor4  \n",
              "ID                                                                          \n",
              "0        -0.432756      0.032481     -0.272438     -0.359754      0.031333  \n",
              "1         0.521696     -0.182486      0.351264      0.495180      0.020407  \n",
              "2         0.315806      0.407677      0.498920      0.289258      0.045515  \n",
              "3         0.444476      0.231788      0.486317      0.404825      0.183989  \n",
              "4         0.468764     -0.027377      0.360850      0.426885      0.007577  \n",
              "...            ...           ...           ...           ...           ...  \n",
              "10829     0.513964     -0.006949      0.460494      0.482170      0.034194  \n",
              "10830     0.179920      0.597558      0.453747      0.162792      0.055021  \n",
              "10831    -0.334216     -0.383595     -0.384707     -0.288765     -0.044115  \n",
              "10832    -0.016339     -0.139427     -0.092962     -0.014630     -0.078796  \n",
              "10833     0.409808      0.278680      0.567025      0.384489      0.060603  \n",
              "\n",
              "[10834 rows x 16 columns]"
            ],
            "text/html": [
              "\n",
              "  <div id=\"df-46440b1b-b467-40e7-8e0b-6c0c62c1177a\">\n",
              "    <div class=\"colab-df-container\">\n",
              "      <div>\n",
              "<style scoped>\n",
              "    .dataframe tbody tr th:only-of-type {\n",
              "        vertical-align: middle;\n",
              "    }\n",
              "\n",
              "    .dataframe tbody tr th {\n",
              "        vertical-align: top;\n",
              "    }\n",
              "\n",
              "    .dataframe thead th {\n",
              "        text-align: right;\n",
              "    }\n",
              "</style>\n",
              "<table border=\"1\" class=\"dataframe\">\n",
              "  <thead>\n",
              "    <tr style=\"text-align: right;\">\n",
              "      <th></th>\n",
              "      <th>Area</th>\n",
              "      <th>Perimeter</th>\n",
              "      <th>MajorAxisLength</th>\n",
              "      <th>MinorAxisLength</th>\n",
              "      <th>AspectRation</th>\n",
              "      <th>Eccentricity</th>\n",
              "      <th>ConvexArea</th>\n",
              "      <th>EquivDiameter</th>\n",
              "      <th>Extent</th>\n",
              "      <th>Solidity</th>\n",
              "      <th>roundness</th>\n",
              "      <th>Compactness</th>\n",
              "      <th>ShapeFactor1</th>\n",
              "      <th>ShapeFactor2</th>\n",
              "      <th>ShapeFactor3</th>\n",
              "      <th>ShapeFactor4</th>\n",
              "    </tr>\n",
              "    <tr>\n",
              "      <th>ID</th>\n",
              "      <th></th>\n",
              "      <th></th>\n",
              "      <th></th>\n",
              "      <th></th>\n",
              "      <th></th>\n",
              "      <th></th>\n",
              "      <th></th>\n",
              "      <th></th>\n",
              "      <th></th>\n",
              "      <th></th>\n",
              "      <th></th>\n",
              "      <th></th>\n",
              "      <th></th>\n",
              "      <th></th>\n",
              "      <th></th>\n",
              "      <th></th>\n",
              "    </tr>\n",
              "  </thead>\n",
              "  <tbody>\n",
              "    <tr>\n",
              "      <th>0</th>\n",
              "      <td>0.044943</td>\n",
              "      <td>0.103446</td>\n",
              "      <td>0.158189</td>\n",
              "      <td>-0.014990</td>\n",
              "      <td>0.475406</td>\n",
              "      <td>0.150215</td>\n",
              "      <td>0.044016</td>\n",
              "      <td>0.071084</td>\n",
              "      <td>-0.526655</td>\n",
              "      <td>-0.008253</td>\n",
              "      <td>-0.189924</td>\n",
              "      <td>-0.432756</td>\n",
              "      <td>0.032481</td>\n",
              "      <td>-0.272438</td>\n",
              "      <td>-0.359754</td>\n",
              "      <td>0.031333</td>\n",
              "    </tr>\n",
              "    <tr>\n",
              "      <th>1</th>\n",
              "      <td>-0.000632</td>\n",
              "      <td>-0.030969</td>\n",
              "      <td>-0.071051</td>\n",
              "      <td>0.084738</td>\n",
              "      <td>-0.377096</td>\n",
              "      <td>-0.321866</td>\n",
              "      <td>-0.001723</td>\n",
              "      <td>-0.001072</td>\n",
              "      <td>0.057852</td>\n",
              "      <td>0.085660</td>\n",
              "      <td>0.236326</td>\n",
              "      <td>0.521696</td>\n",
              "      <td>-0.182486</td>\n",
              "      <td>0.351264</td>\n",
              "      <td>0.495180</td>\n",
              "      <td>0.020407</td>\n",
              "    </tr>\n",
              "    <tr>\n",
              "      <th>2</th>\n",
              "      <td>-0.102234</td>\n",
              "      <td>-0.194192</td>\n",
              "      <td>-0.211028</td>\n",
              "      <td>-0.154229</td>\n",
              "      <td>-0.249248</td>\n",
              "      <td>-0.158190</td>\n",
              "      <td>-0.099411</td>\n",
              "      <td>-0.188033</td>\n",
              "      <td>0.333114</td>\n",
              "      <td>0.002319</td>\n",
              "      <td>0.198905</td>\n",
              "      <td>0.315806</td>\n",
              "      <td>0.407677</td>\n",
              "      <td>0.498920</td>\n",
              "      <td>0.289258</td>\n",
              "      <td>0.045515</td>\n",
              "    </tr>\n",
              "    <tr>\n",
              "      <th>3</th>\n",
              "      <td>-0.087758</td>\n",
              "      <td>-0.157400</td>\n",
              "      <td>-0.198254</td>\n",
              "      <td>-0.102865</td>\n",
              "      <td>-0.345900</td>\n",
              "      <td>-0.209559</td>\n",
              "      <td>-0.085533</td>\n",
              "      <td>-0.153902</td>\n",
              "      <td>0.091936</td>\n",
              "      <td>0.033769</td>\n",
              "      <td>0.167202</td>\n",
              "      <td>0.444476</td>\n",
              "      <td>0.231788</td>\n",
              "      <td>0.486317</td>\n",
              "      <td>0.404825</td>\n",
              "      <td>0.183989</td>\n",
              "    </tr>\n",
              "    <tr>\n",
              "      <th>4</th>\n",
              "      <td>-0.033664</td>\n",
              "      <td>-0.051427</td>\n",
              "      <td>-0.114538</td>\n",
              "      <td>0.009207</td>\n",
              "      <td>-0.380760</td>\n",
              "      <td>-0.231663</td>\n",
              "      <td>-0.032484</td>\n",
              "      <td>-0.057721</td>\n",
              "      <td>-0.494807</td>\n",
              "      <td>0.006567</td>\n",
              "      <td>0.046014</td>\n",
              "      <td>0.468764</td>\n",
              "      <td>-0.027377</td>\n",
              "      <td>0.360850</td>\n",
              "      <td>0.426885</td>\n",
              "      <td>0.007577</td>\n",
              "    </tr>\n",
              "    <tr>\n",
              "      <th>...</th>\n",
              "      <td>...</td>\n",
              "      <td>...</td>\n",
              "      <td>...</td>\n",
              "      <td>...</td>\n",
              "      <td>...</td>\n",
              "      <td>...</td>\n",
              "      <td>...</td>\n",
              "      <td>...</td>\n",
              "      <td>...</td>\n",
              "      <td>...</td>\n",
              "      <td>...</td>\n",
              "      <td>...</td>\n",
              "      <td>...</td>\n",
              "      <td>...</td>\n",
              "      <td>...</td>\n",
              "      <td>...</td>\n",
              "    </tr>\n",
              "    <tr>\n",
              "      <th>10829</th>\n",
              "      <td>-0.041542</td>\n",
              "      <td>-0.082848</td>\n",
              "      <td>-0.132614</td>\n",
              "      <td>0.000880</td>\n",
              "      <td>-0.382671</td>\n",
              "      <td>-0.294839</td>\n",
              "      <td>-0.040609</td>\n",
              "      <td>-0.073312</td>\n",
              "      <td>0.064350</td>\n",
              "      <td>0.024093</td>\n",
              "      <td>0.137082</td>\n",
              "      <td>0.513964</td>\n",
              "      <td>-0.006949</td>\n",
              "      <td>0.460494</td>\n",
              "      <td>0.482170</td>\n",
              "      <td>0.034194</td>\n",
              "    </tr>\n",
              "    <tr>\n",
              "      <th>10830</th>\n",
              "      <td>-0.127283</td>\n",
              "      <td>-0.227049</td>\n",
              "      <td>-0.235619</td>\n",
              "      <td>-0.221983</td>\n",
              "      <td>-0.143848</td>\n",
              "      <td>-0.083135</td>\n",
              "      <td>-0.123594</td>\n",
              "      <td>-0.233224</td>\n",
              "      <td>-0.296774</td>\n",
              "      <td>-0.012855</td>\n",
              "      <td>0.130693</td>\n",
              "      <td>0.179920</td>\n",
              "      <td>0.597558</td>\n",
              "      <td>0.453747</td>\n",
              "      <td>0.162792</td>\n",
              "      <td>0.055021</td>\n",
              "    </tr>\n",
              "    <tr>\n",
              "      <th>10831</th>\n",
              "      <td>0.191774</td>\n",
              "      <td>0.274568</td>\n",
              "      <td>0.336344</td>\n",
              "      <td>0.205315</td>\n",
              "      <td>0.317100</td>\n",
              "      <td>0.131792</td>\n",
              "      <td>0.185678</td>\n",
              "      <td>0.276033</td>\n",
              "      <td>0.062666</td>\n",
              "      <td>0.047424</td>\n",
              "      <td>-0.074898</td>\n",
              "      <td>-0.334216</td>\n",
              "      <td>-0.383595</td>\n",
              "      <td>-0.384707</td>\n",
              "      <td>-0.288765</td>\n",
              "      <td>-0.044115</td>\n",
              "    </tr>\n",
              "    <tr>\n",
              "      <th>10832</th>\n",
              "      <td>0.040652</td>\n",
              "      <td>0.065511</td>\n",
              "      <td>0.071722</td>\n",
              "      <td>0.062609</td>\n",
              "      <td>0.008523</td>\n",
              "      <td>0.004579</td>\n",
              "      <td>0.039815</td>\n",
              "      <td>0.067544</td>\n",
              "      <td>-0.971311</td>\n",
              "      <td>0.004374</td>\n",
              "      <td>0.022685</td>\n",
              "      <td>-0.016339</td>\n",
              "      <td>-0.139427</td>\n",
              "      <td>-0.092962</td>\n",
              "      <td>-0.014630</td>\n",
              "      <td>-0.078796</td>\n",
              "    </tr>\n",
              "    <tr>\n",
              "      <th>10833</th>\n",
              "      <td>-0.080000</td>\n",
              "      <td>-0.155049</td>\n",
              "      <td>-0.184868</td>\n",
              "      <td>-0.104770</td>\n",
              "      <td>-0.302529</td>\n",
              "      <td>-0.232431</td>\n",
              "      <td>-0.078066</td>\n",
              "      <td>-0.151229</td>\n",
              "      <td>0.081654</td>\n",
              "      <td>0.028657</td>\n",
              "      <td>0.154205</td>\n",
              "      <td>0.409808</td>\n",
              "      <td>0.278680</td>\n",
              "      <td>0.567025</td>\n",
              "      <td>0.384489</td>\n",
              "      <td>0.060603</td>\n",
              "    </tr>\n",
              "  </tbody>\n",
              "</table>\n",
              "<p>10834 rows × 16 columns</p>\n",
              "</div>\n",
              "      <button class=\"colab-df-convert\" onclick=\"convertToInteractive('df-46440b1b-b467-40e7-8e0b-6c0c62c1177a')\"\n",
              "              title=\"Convert this dataframe to an interactive table.\"\n",
              "              style=\"display:none;\">\n",
              "        \n",
              "  <svg xmlns=\"http://www.w3.org/2000/svg\" height=\"24px\"viewBox=\"0 0 24 24\"\n",
              "       width=\"24px\">\n",
              "    <path d=\"M0 0h24v24H0V0z\" fill=\"none\"/>\n",
              "    <path d=\"M18.56 5.44l.94 2.06.94-2.06 2.06-.94-2.06-.94-.94-2.06-.94 2.06-2.06.94zm-11 1L8.5 8.5l.94-2.06 2.06-.94-2.06-.94L8.5 2.5l-.94 2.06-2.06.94zm10 10l.94 2.06.94-2.06 2.06-.94-2.06-.94-.94-2.06-.94 2.06-2.06.94z\"/><path d=\"M17.41 7.96l-1.37-1.37c-.4-.4-.92-.59-1.43-.59-.52 0-1.04.2-1.43.59L10.3 9.45l-7.72 7.72c-.78.78-.78 2.05 0 2.83L4 21.41c.39.39.9.59 1.41.59.51 0 1.02-.2 1.41-.59l7.78-7.78 2.81-2.81c.8-.78.8-2.07 0-2.86zM5.41 20L4 18.59l7.72-7.72 1.47 1.35L5.41 20z\"/>\n",
              "  </svg>\n",
              "      </button>\n",
              "      \n",
              "  <style>\n",
              "    .colab-df-container {\n",
              "      display:flex;\n",
              "      flex-wrap:wrap;\n",
              "      gap: 12px;\n",
              "    }\n",
              "\n",
              "    .colab-df-convert {\n",
              "      background-color: #E8F0FE;\n",
              "      border: none;\n",
              "      border-radius: 50%;\n",
              "      cursor: pointer;\n",
              "      display: none;\n",
              "      fill: #1967D2;\n",
              "      height: 32px;\n",
              "      padding: 0 0 0 0;\n",
              "      width: 32px;\n",
              "    }\n",
              "\n",
              "    .colab-df-convert:hover {\n",
              "      background-color: #E2EBFA;\n",
              "      box-shadow: 0px 1px 2px rgba(60, 64, 67, 0.3), 0px 1px 3px 1px rgba(60, 64, 67, 0.15);\n",
              "      fill: #174EA6;\n",
              "    }\n",
              "\n",
              "    [theme=dark] .colab-df-convert {\n",
              "      background-color: #3B4455;\n",
              "      fill: #D2E3FC;\n",
              "    }\n",
              "\n",
              "    [theme=dark] .colab-df-convert:hover {\n",
              "      background-color: #434B5C;\n",
              "      box-shadow: 0px 1px 3px 1px rgba(0, 0, 0, 0.15);\n",
              "      filter: drop-shadow(0px 1px 2px rgba(0, 0, 0, 0.3));\n",
              "      fill: #FFFFFF;\n",
              "    }\n",
              "  </style>\n",
              "\n",
              "      <script>\n",
              "        const buttonEl =\n",
              "          document.querySelector('#df-46440b1b-b467-40e7-8e0b-6c0c62c1177a button.colab-df-convert');\n",
              "        buttonEl.style.display =\n",
              "          google.colab.kernel.accessAllowed ? 'block' : 'none';\n",
              "\n",
              "        async function convertToInteractive(key) {\n",
              "          const element = document.querySelector('#df-46440b1b-b467-40e7-8e0b-6c0c62c1177a');\n",
              "          const dataTable =\n",
              "            await google.colab.kernel.invokeFunction('convertToInteractive',\n",
              "                                                     [key], {});\n",
              "          if (!dataTable) return;\n",
              "\n",
              "          const docLinkHtml = 'Like what you see? Visit the ' +\n",
              "            '<a target=\"_blank\" href=https://colab.research.google.com/notebooks/data_table.ipynb>data table notebook</a>'\n",
              "            + ' to learn more about interactive tables.';\n",
              "          element.innerHTML = '';\n",
              "          dataTable['output_type'] = 'display_data';\n",
              "          await google.colab.output.renderOutput(dataTable, element);\n",
              "          const docLink = document.createElement('div');\n",
              "          docLink.innerHTML = docLinkHtml;\n",
              "          element.appendChild(docLink);\n",
              "        }\n",
              "      </script>\n",
              "    </div>\n",
              "  </div>\n",
              "  "
            ]
          },
          "metadata": {},
          "execution_count": 40
        }
      ]
    },
    {
      "cell_type": "code",
      "source": [
        "# select numeric variables\n",
        "numeric_vars =  ['Area', 'Perimeter', 'MajorAxisLength', 'AspectRation', 'Eccentricity', 'Extent', 'Solidity', \n",
        "                 'roundness', 'Compactness', 'ShapeFactor1', 'ShapeFactor2', 'ShapeFactor3', \n",
        "                 'ShapeFactor4']\n",
        "# create histograms for each numeric variable\n",
        "fig = plt.figure(figsize=(24, 15))\n",
        "for i in range(len(numeric_vars)):\n",
        "    var = numeric_vars[i]\n",
        "    sub = fig.add_subplot(3, 5, i + 1)\n",
        "    sub.set_xlabel(var)\n",
        "    X_normalized[var].plot(kind = 'hist')"
      ],
      "metadata": {
        "colab": {
          "base_uri": "https://localhost:8080/",
          "height": 877
        },
        "id": "AhS4XtAPTSgr",
        "outputId": "c5a63180-ea6b-47fe-c02a-130b2d0d5f49"
      },
      "execution_count": null,
      "outputs": [
        {
          "output_type": "display_data",
          "data": {
            "text/plain": [
              "<Figure size 1728x1080 with 13 Axes>"
            ],
            "image/png": "[encoded data removed]"
          },
          "metadata": {
            "needs_background": "light"
          }
        }
      ]
    },
    {
      "cell_type": "code",
      "source": [
        "X_PowerTransformer = apply_PowerTransformer(X_copy)\n",
        "X_PowerTransformer"
      ],
      "metadata": {
        "colab": {
          "base_uri": "https://localhost:8080/",
          "height": 455
        },
        "id": "qyunOYc-j1si",
        "outputId": "ce3ccbc9-810e-4b23-a3f1-1446c9f6fd60"
      },
      "execution_count": null,
      "outputs": [
        {
          "output_type": "execute_result",
          "data": {
            "text/plain": [
              "           Area  Perimeter  MajorAxisLength  MinorAxisLength  AspectRation  \\\n",
              "ID                                                                           \n",
              "0      0.360410   0.477160         0.698789        -0.088322      1.426615   \n",
              "1     -0.043598  -0.242864        -0.453288         0.477846     -1.376748   \n",
              "2     -1.183434  -1.261545        -1.279302        -0.979883     -0.879292   \n",
              "3     -0.998685  -1.017770        -1.199987        -0.637017     -1.252872   \n",
              "4     -0.375548  -0.361678        -0.699725         0.054390     -1.391402   \n",
              "...         ...        ...              ...              ...           ...   \n",
              "10829 -0.459976  -0.549094        -0.804865         0.005684     -1.399055   \n",
              "10830 -1.522258  -1.486244        -1.434214        -1.457216     -0.489989   \n",
              "10831  1.341154   1.267228         1.455033         1.093583      0.987734   \n",
              "10832  0.324804   0.283998         0.291484         0.357069      0.037937   \n",
              "10833 -0.902897  -1.002475        -1.117714        -0.649440     -1.083307   \n",
              "\n",
              "       Eccentricity  ConvexArea  EquivDiameter    Extent  Solidity  roundness  \\\n",
              "ID                                                                              \n",
              "0          1.135397    0.356796       0.362735 -1.192198  0.010109  -0.960145   \n",
              "1         -1.509403   -0.059147      -0.033125  0.285839  1.130830   1.313414   \n",
              "2         -0.817722   -1.183059      -1.203447  1.029572  0.126155   1.083086   \n",
              "3         -1.053663   -1.001717      -0.973970  0.376253  0.486271   0.892610   \n",
              "4         -1.149505   -0.376152      -0.365371 -1.114630  0.173475   0.204309   \n",
              "...             ...         ...            ...       ...       ...        ...   \n",
              "10829     -1.406500   -0.465296      -0.460217  0.303039  0.373064   0.715633   \n",
              "10830     -0.435448   -1.517784      -1.518211 -0.625455 -0.039643   0.678591   \n",
              "10831      0.986841    1.327097       1.349210  0.298579  0.649707  -0.419295   \n",
              "10832      0.079362    0.321106       0.343982 -2.248204  0.148990   0.079111   \n",
              "10833     -1.152777   -0.907268      -0.956299  0.348924  0.426193   0.815766   \n",
              "\n",
              "       Compactness  ShapeFactor1  ShapeFactor2  ShapeFactor3  ShapeFactor4  \n",
              "ID                                                                          \n",
              "0        -1.275932      0.072194     -0.918044     -1.235472      0.450392  \n",
              "1         1.431696     -0.520689      0.899950      1.449278      0.333775  \n",
              "2         0.867916      0.998076      1.271993      0.861095      0.607048  \n",
              "3         1.221316      0.578925      1.240899      1.194796      2.481769  \n",
              "4         1.287621     -0.087852      0.924639      1.257425      0.201271  \n",
              "...            ...           ...           ...           ...           ...  \n",
              "10829     1.410687     -0.032785      1.176816      1.412961      0.481508  \n",
              "10830     0.490452      1.426539      1.159989      0.484123      0.715465  \n",
              "10831    -0.984957     -1.118234     -1.294454     -0.986353     -0.287055  \n",
              "10832    -0.063575     -0.397986     -0.346952     -0.069044     -0.578245  \n",
              "10833     1.126457      0.693003      1.438035      1.136766      0.780430  \n",
              "\n",
              "[10834 rows x 16 columns]"
            ],
            "text/html": [
              "\n",
              "  <div id=\"df-7334c7e9-1d6a-4520-becb-bee29b566f2d\">\n",
              "    <div class=\"colab-df-container\">\n",
              "      <div>\n",
              "<style scoped>\n",
              "    .dataframe tbody tr th:only-of-type {\n",
              "        vertical-align: middle;\n",
              "    }\n",
              "\n",
              "    .dataframe tbody tr th {\n",
              "        vertical-align: top;\n",
              "    }\n",
              "\n",
              "    .dataframe thead th {\n",
              "        text-align: right;\n",
              "    }\n",
              "</style>\n",
              "<table border=\"1\" class=\"dataframe\">\n",
              "  <thead>\n",
              "    <tr style=\"text-align: right;\">\n",
              "      <th></th>\n",
              "      <th>Area</th>\n",
              "      <th>Perimeter</th>\n",
              "      <th>MajorAxisLength</th>\n",
              "      <th>MinorAxisLength</th>\n",
              "      <th>AspectRation</th>\n",
              "      <th>Eccentricity</th>\n",
              "      <th>ConvexArea</th>\n",
              "      <th>EquivDiameter</th>\n",
              "      <th>Extent</th>\n",
              "      <th>Solidity</th>\n",
              "      <th>roundness</th>\n",
              "      <th>Compactness</th>\n",
              "      <th>ShapeFactor1</th>\n",
              "      <th>ShapeFactor2</th>\n",
              "      <th>ShapeFactor3</th>\n",
              "      <th>ShapeFactor4</th>\n",
              "    </tr>\n",
              "    <tr>\n",
              "      <th>ID</th>\n",
              "      <th></th>\n",
              "      <th></th>\n",
              "      <th></th>\n",
              "      <th></th>\n",
              "      <th></th>\n",
              "      <th></th>\n",
              "      <th></th>\n",
              "      <th></th>\n",
              "      <th></th>\n",
              "      <th></th>\n",
              "      <th></th>\n",
              "      <th></th>\n",
              "      <th></th>\n",
              "      <th></th>\n",
              "      <th></th>\n",
              "      <th></th>\n",
              "    </tr>\n",
              "  </thead>\n",
              "  <tbody>\n",
              "    <tr>\n",
              "      <th>0</th>\n",
              "      <td>0.360410</td>\n",
              "      <td>0.477160</td>\n",
              "      <td>0.698789</td>\n",
              "      <td>-0.088322</td>\n",
              "      <td>1.426615</td>\n",
              "      <td>1.135397</td>\n",
              "      <td>0.356796</td>\n",
              "      <td>0.362735</td>\n",
              "      <td>-1.192198</td>\n",
              "      <td>0.010109</td>\n",
              "      <td>-0.960145</td>\n",
              "      <td>-1.275932</td>\n",
              "      <td>0.072194</td>\n",
              "      <td>-0.918044</td>\n",
              "      <td>-1.235472</td>\n",
              "      <td>0.450392</td>\n",
              "    </tr>\n",
              "    <tr>\n",
              "      <th>1</th>\n",
              "      <td>-0.043598</td>\n",
              "      <td>-0.242864</td>\n",
              "      <td>-0.453288</td>\n",
              "      <td>0.477846</td>\n",
              "      <td>-1.376748</td>\n",
              "      <td>-1.509403</td>\n",
              "      <td>-0.059147</td>\n",
              "      <td>-0.033125</td>\n",
              "      <td>0.285839</td>\n",
              "      <td>1.130830</td>\n",
              "      <td>1.313414</td>\n",
              "      <td>1.431696</td>\n",
              "      <td>-0.520689</td>\n",
              "      <td>0.899950</td>\n",
              "      <td>1.449278</td>\n",
              "      <td>0.333775</td>\n",
              "    </tr>\n",
              "    <tr>\n",
              "      <th>2</th>\n",
              "      <td>-1.183434</td>\n",
              "      <td>-1.261545</td>\n",
              "      <td>-1.279302</td>\n",
              "      <td>-0.979883</td>\n",
              "      <td>-0.879292</td>\n",
              "      <td>-0.817722</td>\n",
              "      <td>-1.183059</td>\n",
              "      <td>-1.203447</td>\n",
              "      <td>1.029572</td>\n",
              "      <td>0.126155</td>\n",
              "      <td>1.083086</td>\n",
              "      <td>0.867916</td>\n",
              "      <td>0.998076</td>\n",
              "      <td>1.271993</td>\n",
              "      <td>0.861095</td>\n",
              "      <td>0.607048</td>\n",
              "    </tr>\n",
              "    <tr>\n",
              "      <th>3</th>\n",
              "      <td>-0.998685</td>\n",
              "      <td>-1.017770</td>\n",
              "      <td>-1.199987</td>\n",
              "      <td>-0.637017</td>\n",
              "      <td>-1.252872</td>\n",
              "      <td>-1.053663</td>\n",
              "      <td>-1.001717</td>\n",
              "      <td>-0.973970</td>\n",
              "      <td>0.376253</td>\n",
              "      <td>0.486271</td>\n",
              "      <td>0.892610</td>\n",
              "      <td>1.221316</td>\n",
              "      <td>0.578925</td>\n",
              "      <td>1.240899</td>\n",
              "      <td>1.194796</td>\n",
              "      <td>2.481769</td>\n",
              "    </tr>\n",
              "    <tr>\n",
              "      <th>4</th>\n",
              "      <td>-0.375548</td>\n",
              "      <td>-0.361678</td>\n",
              "      <td>-0.699725</td>\n",
              "      <td>0.054390</td>\n",
              "      <td>-1.391402</td>\n",
              "      <td>-1.149505</td>\n",
              "      <td>-0.376152</td>\n",
              "      <td>-0.365371</td>\n",
              "      <td>-1.114630</td>\n",
              "      <td>0.173475</td>\n",
              "      <td>0.204309</td>\n",
              "      <td>1.287621</td>\n",
              "      <td>-0.087852</td>\n",
              "      <td>0.924639</td>\n",
              "      <td>1.257425</td>\n",
              "      <td>0.201271</td>\n",
              "    </tr>\n",
              "    <tr>\n",
              "      <th>...</th>\n",
              "      <td>...</td>\n",
              "      <td>...</td>\n",
              "      <td>...</td>\n",
              "      <td>...</td>\n",
              "      <td>...</td>\n",
              "      <td>...</td>\n",
              "      <td>...</td>\n",
              "      <td>...</td>\n",
              "      <td>...</td>\n",
              "      <td>...</td>\n",
              "      <td>...</td>\n",
              "      <td>...</td>\n",
              "      <td>...</td>\n",
              "      <td>...</td>\n",
              "      <td>...</td>\n",
              "      <td>...</td>\n",
              "    </tr>\n",
              "    <tr>\n",
              "      <th>10829</th>\n",
              "      <td>-0.459976</td>\n",
              "      <td>-0.549094</td>\n",
              "      <td>-0.804865</td>\n",
              "      <td>0.005684</td>\n",
              "      <td>-1.399055</td>\n",
              "      <td>-1.406500</td>\n",
              "      <td>-0.465296</td>\n",
              "      <td>-0.460217</td>\n",
              "      <td>0.303039</td>\n",
              "      <td>0.373064</td>\n",
              "      <td>0.715633</td>\n",
              "      <td>1.410687</td>\n",
              "      <td>-0.032785</td>\n",
              "      <td>1.176816</td>\n",
              "      <td>1.412961</td>\n",
              "      <td>0.481508</td>\n",
              "    </tr>\n",
              "    <tr>\n",
              "      <th>10830</th>\n",
              "      <td>-1.522258</td>\n",
              "      <td>-1.486244</td>\n",
              "      <td>-1.434214</td>\n",
              "      <td>-1.457216</td>\n",
              "      <td>-0.489989</td>\n",
              "      <td>-0.435448</td>\n",
              "      <td>-1.517784</td>\n",
              "      <td>-1.518211</td>\n",
              "      <td>-0.625455</td>\n",
              "      <td>-0.039643</td>\n",
              "      <td>0.678591</td>\n",
              "      <td>0.490452</td>\n",
              "      <td>1.426539</td>\n",
              "      <td>1.159989</td>\n",
              "      <td>0.484123</td>\n",
              "      <td>0.715465</td>\n",
              "    </tr>\n",
              "    <tr>\n",
              "      <th>10831</th>\n",
              "      <td>1.341154</td>\n",
              "      <td>1.267228</td>\n",
              "      <td>1.455033</td>\n",
              "      <td>1.093583</td>\n",
              "      <td>0.987734</td>\n",
              "      <td>0.986841</td>\n",
              "      <td>1.327097</td>\n",
              "      <td>1.349210</td>\n",
              "      <td>0.298579</td>\n",
              "      <td>0.649707</td>\n",
              "      <td>-0.419295</td>\n",
              "      <td>-0.984957</td>\n",
              "      <td>-1.118234</td>\n",
              "      <td>-1.294454</td>\n",
              "      <td>-0.986353</td>\n",
              "      <td>-0.287055</td>\n",
              "    </tr>\n",
              "    <tr>\n",
              "      <th>10832</th>\n",
              "      <td>0.324804</td>\n",
              "      <td>0.283998</td>\n",
              "      <td>0.291484</td>\n",
              "      <td>0.357069</td>\n",
              "      <td>0.037937</td>\n",
              "      <td>0.079362</td>\n",
              "      <td>0.321106</td>\n",
              "      <td>0.343982</td>\n",
              "      <td>-2.248204</td>\n",
              "      <td>0.148990</td>\n",
              "      <td>0.079111</td>\n",
              "      <td>-0.063575</td>\n",
              "      <td>-0.397986</td>\n",
              "      <td>-0.346952</td>\n",
              "      <td>-0.069044</td>\n",
              "      <td>-0.578245</td>\n",
              "    </tr>\n",
              "    <tr>\n",
              "      <th>10833</th>\n",
              "      <td>-0.902897</td>\n",
              "      <td>-1.002475</td>\n",
              "      <td>-1.117714</td>\n",
              "      <td>-0.649440</td>\n",
              "      <td>-1.083307</td>\n",
              "      <td>-1.152777</td>\n",
              "      <td>-0.907268</td>\n",
              "      <td>-0.956299</td>\n",
              "      <td>0.348924</td>\n",
              "      <td>0.426193</td>\n",
              "      <td>0.815766</td>\n",
              "      <td>1.126457</td>\n",
              "      <td>0.693003</td>\n",
              "      <td>1.438035</td>\n",
              "      <td>1.136766</td>\n",
              "      <td>0.780430</td>\n",
              "    </tr>\n",
              "  </tbody>\n",
              "</table>\n",
              "<p>10834 rows × 16 columns</p>\n",
              "</div>\n",
              "      <button class=\"colab-df-convert\" onclick=\"convertToInteractive('df-7334c7e9-1d6a-4520-becb-bee29b566f2d')\"\n",
              "              title=\"Convert this dataframe to an interactive table.\"\n",
              "              style=\"display:none;\">\n",
              "        \n",
              "  <svg xmlns=\"http://www.w3.org/2000/svg\" height=\"24px\"viewBox=\"0 0 24 24\"\n",
              "       width=\"24px\">\n",
              "    <path d=\"M0 0h24v24H0V0z\" fill=\"none\"/>\n",
              "    <path d=\"M18.56 5.44l.94 2.06.94-2.06 2.06-.94-2.06-.94-.94-2.06-.94 2.06-2.06.94zm-11 1L8.5 8.5l.94-2.06 2.06-.94-2.06-.94L8.5 2.5l-.94 2.06-2.06.94zm10 10l.94 2.06.94-2.06 2.06-.94-2.06-.94-.94-2.06-.94 2.06-2.06.94z\"/><path d=\"M17.41 7.96l-1.37-1.37c-.4-.4-.92-.59-1.43-.59-.52 0-1.04.2-1.43.59L10.3 9.45l-7.72 7.72c-.78.78-.78 2.05 0 2.83L4 21.41c.39.39.9.59 1.41.59.51 0 1.02-.2 1.41-.59l7.78-7.78 2.81-2.81c.8-.78.8-2.07 0-2.86zM5.41 20L4 18.59l7.72-7.72 1.47 1.35L5.41 20z\"/>\n",
              "  </svg>\n",
              "      </button>\n",
              "      \n",
              "  <style>\n",
              "    .colab-df-container {\n",
              "      display:flex;\n",
              "      flex-wrap:wrap;\n",
              "      gap: 12px;\n",
              "    }\n",
              "\n",
              "    .colab-df-convert {\n",
              "      background-color: #E8F0FE;\n",
              "      border: none;\n",
              "      border-radius: 50%;\n",
              "      cursor: pointer;\n",
              "      display: none;\n",
              "      fill: #1967D2;\n",
              "      height: 32px;\n",
              "      padding: 0 0 0 0;\n",
              "      width: 32px;\n",
              "    }\n",
              "\n",
              "    .colab-df-convert:hover {\n",
              "      background-color: #E2EBFA;\n",
              "      box-shadow: 0px 1px 2px rgba(60, 64, 67, 0.3), 0px 1px 3px 1px rgba(60, 64, 67, 0.15);\n",
              "      fill: #174EA6;\n",
              "    }\n",
              "\n",
              "    [theme=dark] .colab-df-convert {\n",
              "      background-color: #3B4455;\n",
              "      fill: #D2E3FC;\n",
              "    }\n",
              "\n",
              "    [theme=dark] .colab-df-convert:hover {\n",
              "      background-color: #434B5C;\n",
              "      box-shadow: 0px 1px 3px 1px rgba(0, 0, 0, 0.15);\n",
              "      filter: drop-shadow(0px 1px 2px rgba(0, 0, 0, 0.3));\n",
              "      fill: #FFFFFF;\n",
              "    }\n",
              "  </style>\n",
              "\n",
              "      <script>\n",
              "        const buttonEl =\n",
              "          document.querySelector('#df-7334c7e9-1d6a-4520-becb-bee29b566f2d button.colab-df-convert');\n",
              "        buttonEl.style.display =\n",
              "          google.colab.kernel.accessAllowed ? 'block' : 'none';\n",
              "\n",
              "        async function convertToInteractive(key) {\n",
              "          const element = document.querySelector('#df-7334c7e9-1d6a-4520-becb-bee29b566f2d');\n",
              "          const dataTable =\n",
              "            await google.colab.kernel.invokeFunction('convertToInteractive',\n",
              "                                                     [key], {});\n",
              "          if (!dataTable) return;\n",
              "\n",
              "          const docLinkHtml = 'Like what you see? Visit the ' +\n",
              "            '<a target=\"_blank\" href=https://colab.research.google.com/notebooks/data_table.ipynb>data table notebook</a>'\n",
              "            + ' to learn more about interactive tables.';\n",
              "          element.innerHTML = '';\n",
              "          dataTable['output_type'] = 'display_data';\n",
              "          await google.colab.output.renderOutput(dataTable, element);\n",
              "          const docLink = document.createElement('div');\n",
              "          docLink.innerHTML = docLinkHtml;\n",
              "          element.appendChild(docLink);\n",
              "        }\n",
              "      </script>\n",
              "    </div>\n",
              "  </div>\n",
              "  "
            ]
          },
          "metadata": {},
          "execution_count": 42
        }
      ]
    },
    {
      "cell_type": "code",
      "source": [
        "# select numeric variables\n",
        "numeric_vars =  ['Area', 'Perimeter', 'MajorAxisLength', 'AspectRation', 'Eccentricity', 'Extent', 'Solidity', \n",
        "                 'roundness', 'Compactness', 'ShapeFactor1', 'ShapeFactor2', 'ShapeFactor3', \n",
        "                 'ShapeFactor4']\n",
        "# create histograms for each numeric variable\n",
        "fig = plt.figure(figsize=(24, 15))\n",
        "for i in range(len(numeric_vars)):\n",
        "    var = numeric_vars[i]\n",
        "    sub = fig.add_subplot(3, 5, i + 1)\n",
        "    sub.set_xlabel(var)\n",
        "    X_PowerTransformer[var].plot(kind = 'hist')"
      ],
      "metadata": {
        "colab": {
          "base_uri": "https://localhost:8080/",
          "height": 877
        },
        "id": "1oeVJOMdj1vj",
        "outputId": "19847ead-0a4f-4fc7-d1c9-d9ae56043485"
      },
      "execution_count": null,
      "outputs": [
        {
          "output_type": "display_data",
          "data": {
            "text/plain": [
              "<Figure size 1728x1080 with 13 Axes>"
            ],
            "image/png": "[encoded data removed]"
          },
          "metadata": {
            "needs_background": "light"
          }
        }
      ]
    },
    {
      "cell_type": "markdown",
      "source": [
        "**So the best feature transformer is apply_normalize**"
      ],
      "metadata": {
        "id": "J4odd10TnDaJ"
      }
    },
    {
      "cell_type": "markdown",
      "source": [
        "### Start Spliting the data"
      ],
      "metadata": {
        "id": "sWbcdQzytGmQ"
      }
    },
    {
      "cell_type": "code",
      "source": [
        "X = df_all.drop(['y'], axis=1)\n",
        "y = df_all['y']\n",
        "print(X)\n",
        "print(y)"
      ],
      "metadata": {
        "colab": {
          "base_uri": "https://localhost:8080/"
        },
        "id": "FlPqCBZq22Rg",
        "outputId": "7064bad2-9796-4984-9a22-28c7e482996f"
      },
      "execution_count": null,
      "outputs": [
        {
          "output_type": "stream",
          "name": "stdout",
          "text": [
            "        Area  Perimeter  MajorAxisLength  MinorAxisLength  AspectRation  \\\n",
            "ID                                                                        \n",
            "0      58238    971.303       397.202654       186.945510      2.124697   \n",
            "1      44515    757.601       265.590470       213.967453      1.241266   \n",
            "2      31662    653.783       239.902428       168.421505      1.424417   \n",
            "3      38778    734.020       268.446281       184.061923      1.458456   \n",
            "4      42530    775.403       281.212824       193.236878      1.455275   \n",
            "...      ...        ...              ...              ...           ...   \n",
            "10829  37777    716.007       250.174662       192.704033      1.298233   \n",
            "10830  32187    667.621       247.778775       165.786862      1.494562   \n",
            "10831  81837   1095.937       433.838186       241.527026      1.796230   \n",
            "10832  48212    826.362       309.639462       199.285811      1.553746   \n",
            "10833  28026    610.943       215.446569       165.740377      1.299904   \n",
            "\n",
            "       Eccentricity  ConvexArea  EquivDiameter    Extent  Solidity  roundness  \\\n",
            "ID                                                                              \n",
            "0          0.882317       58977     272.306674  0.604756  0.987470   0.775723   \n",
            "1          0.592420       44780     238.071960  0.771745  0.994082   0.974620   \n",
            "2          0.712136       32034     200.781748  0.801407  0.988387   0.930853   \n",
            "3          0.727925       39208     222.201897  0.766137  0.989033   0.904439   \n",
            "4          0.726511       43028     232.703412  0.729816  0.988426   0.888895   \n",
            "...             ...         ...            ...       ...       ...        ...   \n",
            "10829      0.637708       38174     219.315230  0.770519  0.989600   0.925983   \n",
            "10830      0.743179       32582     202.439525  0.731805  0.987877   0.907466   \n",
            "10831      0.830699       82554     322.797312  0.771996  0.991315   0.856226   \n",
            "10832      0.765357       48777     247.760822  0.677002  0.988417   0.887206   \n",
            "10833      0.638903       28302     188.901592  0.776688  0.990248   0.943560   \n",
            "\n",
            "       Compactness  ShapeFactor1  ShapeFactor2  ShapeFactor3  ShapeFactor4  \n",
            "ID                                                                          \n",
            "0         0.685561      0.006820      0.000929      0.469994      0.998595  \n",
            "1         0.896387      0.005966      0.002376      0.803510      0.997370  \n",
            "2         0.836931      0.007577      0.002293      0.700453      0.997737  \n",
            "3         0.827733      0.006923      0.002005      0.685142      0.999250  \n",
            "4         0.827499      0.006612      0.001912      0.684755      0.996507  \n",
            "...            ...           ...           ...           ...           ...  \n",
            "10829     0.876648      0.006622      0.002413      0.768513      0.997708  \n",
            "10830     0.817017      0.007698      0.002116      0.667517      0.997646  \n",
            "10831     0.744050      0.005301      0.001002      0.553610      0.994412  \n",
            "10832     0.800159      0.006422      0.001624      0.640255      0.994793  \n",
            "10833     0.876791      0.007687      0.002802      0.768762      0.999317  \n",
            "\n",
            "[10834 rows x 16 columns]\n",
            "ID\n",
            "0        5\n",
            "1        6\n",
            "2        4\n",
            "3        4\n",
            "4        7\n",
            "        ..\n",
            "10829    6\n",
            "10830    4\n",
            "10831    3\n",
            "10832    7\n",
            "10833    4\n",
            "Name: y, Length: 10834, dtype: int64\n"
          ]
        }
      ]
    },
    {
      "cell_type": "code",
      "source": [
        "X_train, X_test, y_train, y_test = My_train_test_split(X, y)\n",
        "X_train.head()"
      ],
      "metadata": {
        "id": "N1-_ScQ8mgou",
        "colab": {
          "base_uri": "https://localhost:8080/",
          "height": 238
        },
        "outputId": "3307e64b-ca79-477a-f3d0-b988ed49ef6b"
      },
      "execution_count": null,
      "outputs": [
        {
          "output_type": "execute_result",
          "data": {
            "text/plain": [
              "       Area  Perimeter  MajorAxisLength  MinorAxisLength  AspectRation  \\\n",
              "ID                                                                       \n",
              "92    26879    601.690       218.053277       157.226802      1.386871   \n",
              "6124  43832    754.068       255.897708       218.669453      1.170249   \n",
              "7314  80590   1134.764       400.653334       257.541435      1.555685   \n",
              "5924  26185    600.178       218.074899       153.305249      1.422488   \n",
              "550   30987    646.361       237.363270       166.667075      1.424176   \n",
              "\n",
              "      Eccentricity  ConvexArea  EquivDiameter    Extent  Solidity  roundness  \\\n",
              "ID                                                                             \n",
              "92        0.692885       27237     184.995691  0.736875  0.986856   0.932991   \n",
              "6124      0.519420       44167     236.238514  0.804744  0.992415   0.968680   \n",
              "7314      0.766031       82249     320.328542  0.795911  0.979830   0.786466   \n",
              "5924      0.711196       26496     182.591833  0.710661  0.988262   0.913487   \n",
              "550       0.712019       31235     198.629992  0.707288  0.992060   0.932050   \n",
              "\n",
              "      Compactness  ShapeFactor1  ShapeFactor2  ShapeFactor3  ShapeFactor4  \n",
              "ID                                                                         \n",
              "92       0.848397      0.008112      0.002593      0.719777      0.998238  \n",
              "6124     0.923176      0.005838      0.002616      0.852253      0.997348  \n",
              "7314     0.799515      0.004972      0.001253      0.639225      0.994433  \n",
              "5924     0.837290      0.008328      0.002525      0.701054      0.997241  \n",
              "550      0.836819      0.007660      0.002317      0.700265      0.997301  "
            ],
            "text/html": [
              "\n",
              "  <div id=\"df-21e6867c-b289-42b8-b515-e6e7e3c7df31\">\n",
              "    <div class=\"colab-df-container\">\n",
              "      <div>\n",
              "<style scoped>\n",
              "    .dataframe tbody tr th:only-of-type {\n",
              "        vertical-align: middle;\n",
              "    }\n",
              "\n",
              "    .dataframe tbody tr th {\n",
              "        vertical-align: top;\n",
              "    }\n",
              "\n",
              "    .dataframe thead th {\n",
              "        text-align: right;\n",
              "    }\n",
              "</style>\n",
              "<table border=\"1\" class=\"dataframe\">\n",
              "  <thead>\n",
              "    <tr style=\"text-align: right;\">\n",
              "      <th></th>\n",
              "      <th>Area</th>\n",
              "      <th>Perimeter</th>\n",
              "      <th>MajorAxisLength</th>\n",
              "      <th>MinorAxisLength</th>\n",
              "      <th>AspectRation</th>\n",
              "      <th>Eccentricity</th>\n",
              "      <th>ConvexArea</th>\n",
              "      <th>EquivDiameter</th>\n",
              "      <th>Extent</th>\n",
              "      <th>Solidity</th>\n",
              "      <th>roundness</th>\n",
              "      <th>Compactness</th>\n",
              "      <th>ShapeFactor1</th>\n",
              "      <th>ShapeFactor2</th>\n",
              "      <th>ShapeFactor3</th>\n",
              "      <th>ShapeFactor4</th>\n",
              "    </tr>\n",
              "    <tr>\n",
              "      <th>ID</th>\n",
              "      <th></th>\n",
              "      <th></th>\n",
              "      <th></th>\n",
              "      <th></th>\n",
              "      <th></th>\n",
              "      <th></th>\n",
              "      <th></th>\n",
              "      <th></th>\n",
              "      <th></th>\n",
              "      <th></th>\n",
              "      <th></th>\n",
              "      <th></th>\n",
              "      <th></th>\n",
              "      <th></th>\n",
              "      <th></th>\n",
              "      <th></th>\n",
              "    </tr>\n",
              "  </thead>\n",
              "  <tbody>\n",
              "    <tr>\n",
              "      <th>92</th>\n",
              "      <td>26879</td>\n",
              "      <td>601.690</td>\n",
              "      <td>218.053277</td>\n",
              "      <td>157.226802</td>\n",
              "      <td>1.386871</td>\n",
              "      <td>0.692885</td>\n",
              "      <td>27237</td>\n",
              "      <td>184.995691</td>\n",
              "      <td>0.736875</td>\n",
              "      <td>0.986856</td>\n",
              "      <td>0.932991</td>\n",
              "      <td>0.848397</td>\n",
              "      <td>0.008112</td>\n",
              "      <td>0.002593</td>\n",
              "      <td>0.719777</td>\n",
              "      <td>0.998238</td>\n",
              "    </tr>\n",
              "    <tr>\n",
              "      <th>6124</th>\n",
              "      <td>43832</td>\n",
              "      <td>754.068</td>\n",
              "      <td>255.897708</td>\n",
              "      <td>218.669453</td>\n",
              "      <td>1.170249</td>\n",
              "      <td>0.519420</td>\n",
              "      <td>44167</td>\n",
              "      <td>236.238514</td>\n",
              "      <td>0.804744</td>\n",
              "      <td>0.992415</td>\n",
              "      <td>0.968680</td>\n",
              "      <td>0.923176</td>\n",
              "      <td>0.005838</td>\n",
              "      <td>0.002616</td>\n",
              "      <td>0.852253</td>\n",
              "      <td>0.997348</td>\n",
              "    </tr>\n",
              "    <tr>\n",
              "      <th>7314</th>\n",
              "      <td>80590</td>\n",
              "      <td>1134.764</td>\n",
              "      <td>400.653334</td>\n",
              "      <td>257.541435</td>\n",
              "      <td>1.555685</td>\n",
              "      <td>0.766031</td>\n",
              "      <td>82249</td>\n",
              "      <td>320.328542</td>\n",
              "      <td>0.795911</td>\n",
              "      <td>0.979830</td>\n",
              "      <td>0.786466</td>\n",
              "      <td>0.799515</td>\n",
              "      <td>0.004972</td>\n",
              "      <td>0.001253</td>\n",
              "      <td>0.639225</td>\n",
              "      <td>0.994433</td>\n",
              "    </tr>\n",
              "    <tr>\n",
              "      <th>5924</th>\n",
              "      <td>26185</td>\n",
              "      <td>600.178</td>\n",
              "      <td>218.074899</td>\n",
              "      <td>153.305249</td>\n",
              "      <td>1.422488</td>\n",
              "      <td>0.711196</td>\n",
              "      <td>26496</td>\n",
              "      <td>182.591833</td>\n",
              "      <td>0.710661</td>\n",
              "      <td>0.988262</td>\n",
              "      <td>0.913487</td>\n",
              "      <td>0.837290</td>\n",
              "      <td>0.008328</td>\n",
              "      <td>0.002525</td>\n",
              "      <td>0.701054</td>\n",
              "      <td>0.997241</td>\n",
              "    </tr>\n",
              "    <tr>\n",
              "      <th>550</th>\n",
              "      <td>30987</td>\n",
              "      <td>646.361</td>\n",
              "      <td>237.363270</td>\n",
              "      <td>166.667075</td>\n",
              "      <td>1.424176</td>\n",
              "      <td>0.712019</td>\n",
              "      <td>31235</td>\n",
              "      <td>198.629992</td>\n",
              "      <td>0.707288</td>\n",
              "      <td>0.992060</td>\n",
              "      <td>0.932050</td>\n",
              "      <td>0.836819</td>\n",
              "      <td>0.007660</td>\n",
              "      <td>0.002317</td>\n",
              "      <td>0.700265</td>\n",
              "      <td>0.997301</td>\n",
              "    </tr>\n",
              "  </tbody>\n",
              "</table>\n",
              "</div>\n",
              "      <button class=\"colab-df-convert\" onclick=\"convertToInteractive('df-21e6867c-b289-42b8-b515-e6e7e3c7df31')\"\n",
              "              title=\"Convert this dataframe to an interactive table.\"\n",
              "              style=\"display:none;\">\n",
              "        \n",
              "  <svg xmlns=\"http://www.w3.org/2000/svg\" height=\"24px\"viewBox=\"0 0 24 24\"\n",
              "       width=\"24px\">\n",
              "    <path d=\"M0 0h24v24H0V0z\" fill=\"none\"/>\n",
              "    <path d=\"M18.56 5.44l.94 2.06.94-2.06 2.06-.94-2.06-.94-.94-2.06-.94 2.06-2.06.94zm-11 1L8.5 8.5l.94-2.06 2.06-.94-2.06-.94L8.5 2.5l-.94 2.06-2.06.94zm10 10l.94 2.06.94-2.06 2.06-.94-2.06-.94-.94-2.06-.94 2.06-2.06.94z\"/><path d=\"M17.41 7.96l-1.37-1.37c-.4-.4-.92-.59-1.43-.59-.52 0-1.04.2-1.43.59L10.3 9.45l-7.72 7.72c-.78.78-.78 2.05 0 2.83L4 21.41c.39.39.9.59 1.41.59.51 0 1.02-.2 1.41-.59l7.78-7.78 2.81-2.81c.8-.78.8-2.07 0-2.86zM5.41 20L4 18.59l7.72-7.72 1.47 1.35L5.41 20z\"/>\n",
              "  </svg>\n",
              "      </button>\n",
              "      \n",
              "  <style>\n",
              "    .colab-df-container {\n",
              "      display:flex;\n",
              "      flex-wrap:wrap;\n",
              "      gap: 12px;\n",
              "    }\n",
              "\n",
              "    .colab-df-convert {\n",
              "      background-color: #E8F0FE;\n",
              "      border: none;\n",
              "      border-radius: 50%;\n",
              "      cursor: pointer;\n",
              "      display: none;\n",
              "      fill: #1967D2;\n",
              "      height: 32px;\n",
              "      padding: 0 0 0 0;\n",
              "      width: 32px;\n",
              "    }\n",
              "\n",
              "    .colab-df-convert:hover {\n",
              "      background-color: #E2EBFA;\n",
              "      box-shadow: 0px 1px 2px rgba(60, 64, 67, 0.3), 0px 1px 3px 1px rgba(60, 64, 67, 0.15);\n",
              "      fill: #174EA6;\n",
              "    }\n",
              "\n",
              "    [theme=dark] .colab-df-convert {\n",
              "      background-color: #3B4455;\n",
              "      fill: #D2E3FC;\n",
              "    }\n",
              "\n",
              "    [theme=dark] .colab-df-convert:hover {\n",
              "      background-color: #434B5C;\n",
              "      box-shadow: 0px 1px 3px 1px rgba(0, 0, 0, 0.15);\n",
              "      filter: drop-shadow(0px 1px 2px rgba(0, 0, 0, 0.3));\n",
              "      fill: #FFFFFF;\n",
              "    }\n",
              "  </style>\n",
              "\n",
              "      <script>\n",
              "        const buttonEl =\n",
              "          document.querySelector('#df-21e6867c-b289-42b8-b515-e6e7e3c7df31 button.colab-df-convert');\n",
              "        buttonEl.style.display =\n",
              "          google.colab.kernel.accessAllowed ? 'block' : 'none';\n",
              "\n",
              "        async function convertToInteractive(key) {\n",
              "          const element = document.querySelector('#df-21e6867c-b289-42b8-b515-e6e7e3c7df31');\n",
              "          const dataTable =\n",
              "            await google.colab.kernel.invokeFunction('convertToInteractive',\n",
              "                                                     [key], {});\n",
              "          if (!dataTable) return;\n",
              "\n",
              "          const docLinkHtml = 'Like what you see? Visit the ' +\n",
              "            '<a target=\"_blank\" href=https://colab.research.google.com/notebooks/data_table.ipynb>data table notebook</a>'\n",
              "            + ' to learn more about interactive tables.';\n",
              "          element.innerHTML = '';\n",
              "          dataTable['output_type'] = 'display_data';\n",
              "          await google.colab.output.renderOutput(dataTable, element);\n",
              "          const docLink = document.createElement('div');\n",
              "          docLink.innerHTML = docLinkHtml;\n",
              "          element.appendChild(docLink);\n",
              "        }\n",
              "      </script>\n",
              "    </div>\n",
              "  </div>\n",
              "  "
            ]
          },
          "metadata": {},
          "execution_count": 45
        }
      ]
    },
    {
      "cell_type": "markdown",
      "source": [
        "## Training Data Processing"
      ],
      "metadata": {
        "id": "tiokJeklAm21"
      }
    },
    {
      "cell_type": "code",
      "source": [
        "df_train = X_train.join(y_train)\n",
        "df_train.head()"
      ],
      "metadata": {
        "id": "gH-4XQMT0TAN",
        "colab": {
          "base_uri": "https://localhost:8080/",
          "height": 238
        },
        "outputId": "c894d529-9de6-4c45-a71a-79b5ea2994a0"
      },
      "execution_count": null,
      "outputs": [
        {
          "output_type": "execute_result",
          "data": {
            "text/plain": [
              "       Area  Perimeter  MajorAxisLength  MinorAxisLength  AspectRation  \\\n",
              "ID                                                                       \n",
              "92    26879    601.690       218.053277       157.226802      1.386871   \n",
              "6124  43832    754.068       255.897708       218.669453      1.170249   \n",
              "7314  80590   1134.764       400.653334       257.541435      1.555685   \n",
              "5924  26185    600.178       218.074899       153.305249      1.422488   \n",
              "550   30987    646.361       237.363270       166.667075      1.424176   \n",
              "\n",
              "      Eccentricity  ConvexArea  EquivDiameter    Extent  Solidity  roundness  \\\n",
              "ID                                                                             \n",
              "92        0.692885       27237     184.995691  0.736875  0.986856   0.932991   \n",
              "6124      0.519420       44167     236.238514  0.804744  0.992415   0.968680   \n",
              "7314      0.766031       82249     320.328542  0.795911  0.979830   0.786466   \n",
              "5924      0.711196       26496     182.591833  0.710661  0.988262   0.913487   \n",
              "550       0.712019       31235     198.629992  0.707288  0.992060   0.932050   \n",
              "\n",
              "      Compactness  ShapeFactor1  ShapeFactor2  ShapeFactor3  ShapeFactor4  y  \n",
              "ID                                                                            \n",
              "92       0.848397      0.008112      0.002593      0.719777      0.998238  4  \n",
              "6124     0.923176      0.005838      0.002616      0.852253      0.997348  6  \n",
              "7314     0.799515      0.004972      0.001253      0.639225      0.994433  1  \n",
              "5924     0.837290      0.008328      0.002525      0.701054      0.997241  4  \n",
              "550      0.836819      0.007660      0.002317      0.700265      0.997301  4  "
            ],
            "text/html": [
              "\n",
              "  <div id=\"df-62ed6d04-25e2-42e8-a267-4fbbcb220266\">\n",
              "    <div class=\"colab-df-container\">\n",
              "      <div>\n",
              "<style scoped>\n",
              "    .dataframe tbody tr th:only-of-type {\n",
              "        vertical-align: middle;\n",
              "    }\n",
              "\n",
              "    .dataframe tbody tr th {\n",
              "        vertical-align: top;\n",
              "    }\n",
              "\n",
              "    .dataframe thead th {\n",
              "        text-align: right;\n",
              "    }\n",
              "</style>\n",
              "<table border=\"1\" class=\"dataframe\">\n",
              "  <thead>\n",
              "    <tr style=\"text-align: right;\">\n",
              "      <th></th>\n",
              "      <th>Area</th>\n",
              "      <th>Perimeter</th>\n",
              "      <th>MajorAxisLength</th>\n",
              "      <th>MinorAxisLength</th>\n",
              "      <th>AspectRation</th>\n",
              "      <th>Eccentricity</th>\n",
              "      <th>ConvexArea</th>\n",
              "      <th>EquivDiameter</th>\n",
              "      <th>Extent</th>\n",
              "      <th>Solidity</th>\n",
              "      <th>roundness</th>\n",
              "      <th>Compactness</th>\n",
              "      <th>ShapeFactor1</th>\n",
              "      <th>ShapeFactor2</th>\n",
              "      <th>ShapeFactor3</th>\n",
              "      <th>ShapeFactor4</th>\n",
              "      <th>y</th>\n",
              "    </tr>\n",
              "    <tr>\n",
              "      <th>ID</th>\n",
              "      <th></th>\n",
              "      <th></th>\n",
              "      <th></th>\n",
              "      <th></th>\n",
              "      <th></th>\n",
              "      <th></th>\n",
              "      <th></th>\n",
              "      <th></th>\n",
              "      <th></th>\n",
              "      <th></th>\n",
              "      <th></th>\n",
              "      <th></th>\n",
              "      <th></th>\n",
              "      <th></th>\n",
              "      <th></th>\n",
              "      <th></th>\n",
              "      <th></th>\n",
              "    </tr>\n",
              "  </thead>\n",
              "  <tbody>\n",
              "    <tr>\n",
              "      <th>92</th>\n",
              "      <td>26879</td>\n",
              "      <td>601.690</td>\n",
              "      <td>218.053277</td>\n",
              "      <td>157.226802</td>\n",
              "      <td>1.386871</td>\n",
              "      <td>0.692885</td>\n",
              "      <td>27237</td>\n",
              "      <td>184.995691</td>\n",
              "      <td>0.736875</td>\n",
              "      <td>0.986856</td>\n",
              "      <td>0.932991</td>\n",
              "      <td>0.848397</td>\n",
              "      <td>0.008112</td>\n",
              "      <td>0.002593</td>\n",
              "      <td>0.719777</td>\n",
              "      <td>0.998238</td>\n",
              "      <td>4</td>\n",
              "    </tr>\n",
              "    <tr>\n",
              "      <th>6124</th>\n",
              "      <td>43832</td>\n",
              "      <td>754.068</td>\n",
              "      <td>255.897708</td>\n",
              "      <td>218.669453</td>\n",
              "      <td>1.170249</td>\n",
              "      <td>0.519420</td>\n",
              "      <td>44167</td>\n",
              "      <td>236.238514</td>\n",
              "      <td>0.804744</td>\n",
              "      <td>0.992415</td>\n",
              "      <td>0.968680</td>\n",
              "      <td>0.923176</td>\n",
              "      <td>0.005838</td>\n",
              "      <td>0.002616</td>\n",
              "      <td>0.852253</td>\n",
              "      <td>0.997348</td>\n",
              "      <td>6</td>\n",
              "    </tr>\n",
              "    <tr>\n",
              "      <th>7314</th>\n",
              "      <td>80590</td>\n",
              "      <td>1134.764</td>\n",
              "      <td>400.653334</td>\n",
              "      <td>257.541435</td>\n",
              "      <td>1.555685</td>\n",
              "      <td>0.766031</td>\n",
              "      <td>82249</td>\n",
              "      <td>320.328542</td>\n",
              "      <td>0.795911</td>\n",
              "      <td>0.979830</td>\n",
              "      <td>0.786466</td>\n",
              "      <td>0.799515</td>\n",
              "      <td>0.004972</td>\n",
              "      <td>0.001253</td>\n",
              "      <td>0.639225</td>\n",
              "      <td>0.994433</td>\n",
              "      <td>1</td>\n",
              "    </tr>\n",
              "    <tr>\n",
              "      <th>5924</th>\n",
              "      <td>26185</td>\n",
              "      <td>600.178</td>\n",
              "      <td>218.074899</td>\n",
              "      <td>153.305249</td>\n",
              "      <td>1.422488</td>\n",
              "      <td>0.711196</td>\n",
              "      <td>26496</td>\n",
              "      <td>182.591833</td>\n",
              "      <td>0.710661</td>\n",
              "      <td>0.988262</td>\n",
              "      <td>0.913487</td>\n",
              "      <td>0.837290</td>\n",
              "      <td>0.008328</td>\n",
              "      <td>0.002525</td>\n",
              "      <td>0.701054</td>\n",
              "      <td>0.997241</td>\n",
              "      <td>4</td>\n",
              "    </tr>\n",
              "    <tr>\n",
              "      <th>550</th>\n",
              "      <td>30987</td>\n",
              "      <td>646.361</td>\n",
              "      <td>237.363270</td>\n",
              "      <td>166.667075</td>\n",
              "      <td>1.424176</td>\n",
              "      <td>0.712019</td>\n",
              "      <td>31235</td>\n",
              "      <td>198.629992</td>\n",
              "      <td>0.707288</td>\n",
              "      <td>0.992060</td>\n",
              "      <td>0.932050</td>\n",
              "      <td>0.836819</td>\n",
              "      <td>0.007660</td>\n",
              "      <td>0.002317</td>\n",
              "      <td>0.700265</td>\n",
              "      <td>0.997301</td>\n",
              "      <td>4</td>\n",
              "    </tr>\n",
              "  </tbody>\n",
              "</table>\n",
              "</div>\n",
              "      <button class=\"colab-df-convert\" onclick=\"convertToInteractive('df-62ed6d04-25e2-42e8-a267-4fbbcb220266')\"\n",
              "              title=\"Convert this dataframe to an interactive table.\"\n",
              "              style=\"display:none;\">\n",
              "        \n",
              "  <svg xmlns=\"http://www.w3.org/2000/svg\" height=\"24px\"viewBox=\"0 0 24 24\"\n",
              "       width=\"24px\">\n",
              "    <path d=\"M0 0h24v24H0V0z\" fill=\"none\"/>\n",
              "    <path d=\"M18.56 5.44l.94 2.06.94-2.06 2.06-.94-2.06-.94-.94-2.06-.94 2.06-2.06.94zm-11 1L8.5 8.5l.94-2.06 2.06-.94-2.06-.94L8.5 2.5l-.94 2.06-2.06.94zm10 10l.94 2.06.94-2.06 2.06-.94-2.06-.94-.94-2.06-.94 2.06-2.06.94z\"/><path d=\"M17.41 7.96l-1.37-1.37c-.4-.4-.92-.59-1.43-.59-.52 0-1.04.2-1.43.59L10.3 9.45l-7.72 7.72c-.78.78-.78 2.05 0 2.83L4 21.41c.39.39.9.59 1.41.59.51 0 1.02-.2 1.41-.59l7.78-7.78 2.81-2.81c.8-.78.8-2.07 0-2.86zM5.41 20L4 18.59l7.72-7.72 1.47 1.35L5.41 20z\"/>\n",
              "  </svg>\n",
              "      </button>\n",
              "      \n",
              "  <style>\n",
              "    .colab-df-container {\n",
              "      display:flex;\n",
              "      flex-wrap:wrap;\n",
              "      gap: 12px;\n",
              "    }\n",
              "\n",
              "    .colab-df-convert {\n",
              "      background-color: #E8F0FE;\n",
              "      border: none;\n",
              "      border-radius: 50%;\n",
              "      cursor: pointer;\n",
              "      display: none;\n",
              "      fill: #1967D2;\n",
              "      height: 32px;\n",
              "      padding: 0 0 0 0;\n",
              "      width: 32px;\n",
              "    }\n",
              "\n",
              "    .colab-df-convert:hover {\n",
              "      background-color: #E2EBFA;\n",
              "      box-shadow: 0px 1px 2px rgba(60, 64, 67, 0.3), 0px 1px 3px 1px rgba(60, 64, 67, 0.15);\n",
              "      fill: #174EA6;\n",
              "    }\n",
              "\n",
              "    [theme=dark] .colab-df-convert {\n",
              "      background-color: #3B4455;\n",
              "      fill: #D2E3FC;\n",
              "    }\n",
              "\n",
              "    [theme=dark] .colab-df-convert:hover {\n",
              "      background-color: #434B5C;\n",
              "      box-shadow: 0px 1px 3px 1px rgba(0, 0, 0, 0.15);\n",
              "      filter: drop-shadow(0px 1px 2px rgba(0, 0, 0, 0.3));\n",
              "      fill: #FFFFFF;\n",
              "    }\n",
              "  </style>\n",
              "\n",
              "      <script>\n",
              "        const buttonEl =\n",
              "          document.querySelector('#df-62ed6d04-25e2-42e8-a267-4fbbcb220266 button.colab-df-convert');\n",
              "        buttonEl.style.display =\n",
              "          google.colab.kernel.accessAllowed ? 'block' : 'none';\n",
              "\n",
              "        async function convertToInteractive(key) {\n",
              "          const element = document.querySelector('#df-62ed6d04-25e2-42e8-a267-4fbbcb220266');\n",
              "          const dataTable =\n",
              "            await google.colab.kernel.invokeFunction('convertToInteractive',\n",
              "                                                     [key], {});\n",
              "          if (!dataTable) return;\n",
              "\n",
              "          const docLinkHtml = 'Like what you see? Visit the ' +\n",
              "            '<a target=\"_blank\" href=https://colab.research.google.com/notebooks/data_table.ipynb>data table notebook</a>'\n",
              "            + ' to learn more about interactive tables.';\n",
              "          element.innerHTML = '';\n",
              "          dataTable['output_type'] = 'display_data';\n",
              "          await google.colab.output.renderOutput(dataTable, element);\n",
              "          const docLink = document.createElement('div');\n",
              "          docLink.innerHTML = docLinkHtml;\n",
              "          element.appendChild(docLink);\n",
              "        }\n",
              "      </script>\n",
              "    </div>\n",
              "  </div>\n",
              "  "
            ]
          },
          "metadata": {},
          "execution_count": 46
        }
      ]
    },
    {
      "cell_type": "code",
      "source": [
        "get_num_of_samples(df_train)"
      ],
      "metadata": {
        "colab": {
          "base_uri": "https://localhost:8080/"
        },
        "id": "UKhwPHGb0bR1",
        "outputId": "e2b552f8-e040-43ee-cc2d-9c6f1b760172"
      },
      "execution_count": null,
      "outputs": [
        {
          "output_type": "stream",
          "name": "stdout",
          "text": [
            "Number of samples in class 4 = 2270\n",
            "Number of samples in class 6 = 1297\n",
            "Number of samples in class 1 = 846\n",
            "Number of samples in class 7 = 1687\n",
            "Number of samples in class 2 = 334\n",
            "Number of samples in class 5 = 1190\n",
            "Number of samples in class 3 = 1043\n"
          ]
        }
      ]
    },
    {
      "cell_type": "code",
      "source": [
        "df_test = X_test.join(y_test)\n",
        "df_test.head()"
      ],
      "metadata": {
        "id": "-kbJCa6r0U5u",
        "colab": {
          "base_uri": "https://localhost:8080/",
          "height": 238
        },
        "outputId": "37d144e2-5e24-4242-b606-d63ade267400"
      },
      "execution_count": null,
      "outputs": [
        {
          "output_type": "execute_result",
          "data": {
            "text/plain": [
              "       Area  Perimeter  MajorAxisLength  MinorAxisLength  AspectRation  \\\n",
              "ID                                                                       \n",
              "1560  44165    771.361       263.842403       213.423154      1.236241   \n",
              "7235  48178    863.116       359.840772       171.016998      2.104123   \n",
              "1427  33952    672.498       241.528109       179.357252      1.346631   \n",
              "9306  80165   1109.103       438.723467       233.952840      1.875265   \n",
              "3573  55474    927.591       381.237502       186.063739      2.048962   \n",
              "\n",
              "      Eccentricity  ConvexArea  EquivDiameter    Extent  Solidity  roundness  \\\n",
              "ID                                                                             \n",
              "1560      0.587941       44603     237.134191  0.749474  0.990180   0.932766   \n",
              "7235      0.879847       48750     247.673444  0.795752  0.988267   0.812681   \n",
              "1427      0.669742       34273     207.915918  0.771636  0.990634   0.943394   \n",
              "9306      0.845953       80993     319.482782  0.766440  0.989777   0.818938   \n",
              "3573      0.872815       56164     265.766233  0.720067  0.987715   0.810189   \n",
              "\n",
              "      Compactness  ShapeFactor1  ShapeFactor2  ShapeFactor3  ShapeFactor4  y  \n",
              "ID                                                                            \n",
              "1560     0.898772      0.005974      0.002405      0.807791      0.998625  6  \n",
              "7235     0.688286      0.007469      0.001034      0.473738      0.996803  5  \n",
              "1427     0.860835      0.007114      0.002410      0.741037      0.997904  4  \n",
              "9306     0.728210      0.005473      0.000949      0.530290      0.994433  3  \n",
              "3573     0.697115      0.006872      0.001001      0.485969      0.995731  5  "
            ],
            "text/html": [
              "\n",
              "  <div id=\"df-e24f1006-b54d-4da0-888a-29a6e2f6d55a\">\n",
              "    <div class=\"colab-df-container\">\n",
              "      <div>\n",
              "<style scoped>\n",
              "    .dataframe tbody tr th:only-of-type {\n",
              "        vertical-align: middle;\n",
              "    }\n",
              "\n",
              "    .dataframe tbody tr th {\n",
              "        vertical-align: top;\n",
              "    }\n",
              "\n",
              "    .dataframe thead th {\n",
              "        text-align: right;\n",
              "    }\n",
              "</style>\n",
              "<table border=\"1\" class=\"dataframe\">\n",
              "  <thead>\n",
              "    <tr style=\"text-align: right;\">\n",
              "      <th></th>\n",
              "      <th>Area</th>\n",
              "      <th>Perimeter</th>\n",
              "      <th>MajorAxisLength</th>\n",
              "      <th>MinorAxisLength</th>\n",
              "      <th>AspectRation</th>\n",
              "      <th>Eccentricity</th>\n",
              "      <th>ConvexArea</th>\n",
              "      <th>EquivDiameter</th>\n",
              "      <th>Extent</th>\n",
              "      <th>Solidity</th>\n",
              "      <th>roundness</th>\n",
              "      <th>Compactness</th>\n",
              "      <th>ShapeFactor1</th>\n",
              "      <th>ShapeFactor2</th>\n",
              "      <th>ShapeFactor3</th>\n",
              "      <th>ShapeFactor4</th>\n",
              "      <th>y</th>\n",
              "    </tr>\n",
              "    <tr>\n",
              "      <th>ID</th>\n",
              "      <th></th>\n",
              "      <th></th>\n",
              "      <th></th>\n",
              "      <th></th>\n",
              "      <th></th>\n",
              "      <th></th>\n",
              "      <th></th>\n",
              "      <th></th>\n",
              "      <th></th>\n",
              "      <th></th>\n",
              "      <th></th>\n",
              "      <th></th>\n",
              "      <th></th>\n",
              "      <th></th>\n",
              "      <th></th>\n",
              "      <th></th>\n",
              "      <th></th>\n",
              "    </tr>\n",
              "  </thead>\n",
              "  <tbody>\n",
              "    <tr>\n",
              "      <th>1560</th>\n",
              "      <td>44165</td>\n",
              "      <td>771.361</td>\n",
              "      <td>263.842403</td>\n",
              "      <td>213.423154</td>\n",
              "      <td>1.236241</td>\n",
              "      <td>0.587941</td>\n",
              "      <td>44603</td>\n",
              "      <td>237.134191</td>\n",
              "      <td>0.749474</td>\n",
              "      <td>0.990180</td>\n",
              "      <td>0.932766</td>\n",
              "      <td>0.898772</td>\n",
              "      <td>0.005974</td>\n",
              "      <td>0.002405</td>\n",
              "      <td>0.807791</td>\n",
              "      <td>0.998625</td>\n",
              "      <td>6</td>\n",
              "    </tr>\n",
              "    <tr>\n",
              "      <th>7235</th>\n",
              "      <td>48178</td>\n",
              "      <td>863.116</td>\n",
              "      <td>359.840772</td>\n",
              "      <td>171.016998</td>\n",
              "      <td>2.104123</td>\n",
              "      <td>0.879847</td>\n",
              "      <td>48750</td>\n",
              "      <td>247.673444</td>\n",
              "      <td>0.795752</td>\n",
              "      <td>0.988267</td>\n",
              "      <td>0.812681</td>\n",
              "      <td>0.688286</td>\n",
              "      <td>0.007469</td>\n",
              "      <td>0.001034</td>\n",
              "      <td>0.473738</td>\n",
              "      <td>0.996803</td>\n",
              "      <td>5</td>\n",
              "    </tr>\n",
              "    <tr>\n",
              "      <th>1427</th>\n",
              "      <td>33952</td>\n",
              "      <td>672.498</td>\n",
              "      <td>241.528109</td>\n",
              "      <td>179.357252</td>\n",
              "      <td>1.346631</td>\n",
              "      <td>0.669742</td>\n",
              "      <td>34273</td>\n",
              "      <td>207.915918</td>\n",
              "      <td>0.771636</td>\n",
              "      <td>0.990634</td>\n",
              "      <td>0.943394</td>\n",
              "      <td>0.860835</td>\n",
              "      <td>0.007114</td>\n",
              "      <td>0.002410</td>\n",
              "      <td>0.741037</td>\n",
              "      <td>0.997904</td>\n",
              "      <td>4</td>\n",
              "    </tr>\n",
              "    <tr>\n",
              "      <th>9306</th>\n",
              "      <td>80165</td>\n",
              "      <td>1109.103</td>\n",
              "      <td>438.723467</td>\n",
              "      <td>233.952840</td>\n",
              "      <td>1.875265</td>\n",
              "      <td>0.845953</td>\n",
              "      <td>80993</td>\n",
              "      <td>319.482782</td>\n",
              "      <td>0.766440</td>\n",
              "      <td>0.989777</td>\n",
              "      <td>0.818938</td>\n",
              "      <td>0.728210</td>\n",
              "      <td>0.005473</td>\n",
              "      <td>0.000949</td>\n",
              "      <td>0.530290</td>\n",
              "      <td>0.994433</td>\n",
              "      <td>3</td>\n",
              "    </tr>\n",
              "    <tr>\n",
              "      <th>3573</th>\n",
              "      <td>55474</td>\n",
              "      <td>927.591</td>\n",
              "      <td>381.237502</td>\n",
              "      <td>186.063739</td>\n",
              "      <td>2.048962</td>\n",
              "      <td>0.872815</td>\n",
              "      <td>56164</td>\n",
              "      <td>265.766233</td>\n",
              "      <td>0.720067</td>\n",
              "      <td>0.987715</td>\n",
              "      <td>0.810189</td>\n",
              "      <td>0.697115</td>\n",
              "      <td>0.006872</td>\n",
              "      <td>0.001001</td>\n",
              "      <td>0.485969</td>\n",
              "      <td>0.995731</td>\n",
              "      <td>5</td>\n",
              "    </tr>\n",
              "  </tbody>\n",
              "</table>\n",
              "</div>\n",
              "      <button class=\"colab-df-convert\" onclick=\"convertToInteractive('df-e24f1006-b54d-4da0-888a-29a6e2f6d55a')\"\n",
              "              title=\"Convert this dataframe to an interactive table.\"\n",
              "              style=\"display:none;\">\n",
              "        \n",
              "  <svg xmlns=\"http://www.w3.org/2000/svg\" height=\"24px\"viewBox=\"0 0 24 24\"\n",
              "       width=\"24px\">\n",
              "    <path d=\"M0 0h24v24H0V0z\" fill=\"none\"/>\n",
              "    <path d=\"M18.56 5.44l.94 2.06.94-2.06 2.06-.94-2.06-.94-.94-2.06-.94 2.06-2.06.94zm-11 1L8.5 8.5l.94-2.06 2.06-.94-2.06-.94L8.5 2.5l-.94 2.06-2.06.94zm10 10l.94 2.06.94-2.06 2.06-.94-2.06-.94-.94-2.06-.94 2.06-2.06.94z\"/><path d=\"M17.41 7.96l-1.37-1.37c-.4-.4-.92-.59-1.43-.59-.52 0-1.04.2-1.43.59L10.3 9.45l-7.72 7.72c-.78.78-.78 2.05 0 2.83L4 21.41c.39.39.9.59 1.41.59.51 0 1.02-.2 1.41-.59l7.78-7.78 2.81-2.81c.8-.78.8-2.07 0-2.86zM5.41 20L4 18.59l7.72-7.72 1.47 1.35L5.41 20z\"/>\n",
              "  </svg>\n",
              "      </button>\n",
              "      \n",
              "  <style>\n",
              "    .colab-df-container {\n",
              "      display:flex;\n",
              "      flex-wrap:wrap;\n",
              "      gap: 12px;\n",
              "    }\n",
              "\n",
              "    .colab-df-convert {\n",
              "      background-color: #E8F0FE;\n",
              "      border: none;\n",
              "      border-radius: 50%;\n",
              "      cursor: pointer;\n",
              "      display: none;\n",
              "      fill: #1967D2;\n",
              "      height: 32px;\n",
              "      padding: 0 0 0 0;\n",
              "      width: 32px;\n",
              "    }\n",
              "\n",
              "    .colab-df-convert:hover {\n",
              "      background-color: #E2EBFA;\n",
              "      box-shadow: 0px 1px 2px rgba(60, 64, 67, 0.3), 0px 1px 3px 1px rgba(60, 64, 67, 0.15);\n",
              "      fill: #174EA6;\n",
              "    }\n",
              "\n",
              "    [theme=dark] .colab-df-convert {\n",
              "      background-color: #3B4455;\n",
              "      fill: #D2E3FC;\n",
              "    }\n",
              "\n",
              "    [theme=dark] .colab-df-convert:hover {\n",
              "      background-color: #434B5C;\n",
              "      box-shadow: 0px 1px 3px 1px rgba(0, 0, 0, 0.15);\n",
              "      filter: drop-shadow(0px 1px 2px rgba(0, 0, 0, 0.3));\n",
              "      fill: #FFFFFF;\n",
              "    }\n",
              "  </style>\n",
              "\n",
              "      <script>\n",
              "        const buttonEl =\n",
              "          document.querySelector('#df-e24f1006-b54d-4da0-888a-29a6e2f6d55a button.colab-df-convert');\n",
              "        buttonEl.style.display =\n",
              "          google.colab.kernel.accessAllowed ? 'block' : 'none';\n",
              "\n",
              "        async function convertToInteractive(key) {\n",
              "          const element = document.querySelector('#df-e24f1006-b54d-4da0-888a-29a6e2f6d55a');\n",
              "          const dataTable =\n",
              "            await google.colab.kernel.invokeFunction('convertToInteractive',\n",
              "                                                     [key], {});\n",
              "          if (!dataTable) return;\n",
              "\n",
              "          const docLinkHtml = 'Like what you see? Visit the ' +\n",
              "            '<a target=\"_blank\" href=https://colab.research.google.com/notebooks/data_table.ipynb>data table notebook</a>'\n",
              "            + ' to learn more about interactive tables.';\n",
              "          element.innerHTML = '';\n",
              "          dataTable['output_type'] = 'display_data';\n",
              "          await google.colab.output.renderOutput(dataTable, element);\n",
              "          const docLink = document.createElement('div');\n",
              "          docLink.innerHTML = docLinkHtml;\n",
              "          element.appendChild(docLink);\n",
              "        }\n",
              "      </script>\n",
              "    </div>\n",
              "  </div>\n",
              "  "
            ]
          },
          "metadata": {},
          "execution_count": 48
        }
      ]
    },
    {
      "cell_type": "code",
      "source": [
        "get_num_of_samples(df_test)"
      ],
      "metadata": {
        "colab": {
          "base_uri": "https://localhost:8080/"
        },
        "id": "38xhg7Y30b7x",
        "outputId": "fe99b82a-d72f-4ab6-af6e-a6bb7e1136a6"
      },
      "execution_count": null,
      "outputs": [
        {
          "output_type": "stream",
          "name": "stdout",
          "text": [
            "Number of samples in class 6 = 324\n",
            "Number of samples in class 5 = 298\n",
            "Number of samples in class 4 = 567\n",
            "Number of samples in class 3 = 261\n",
            "Number of samples in class 7 = 422\n",
            "Number of samples in class 1 = 211\n",
            "Number of samples in class 2 = 84\n"
          ]
        }
      ]
    },
    {
      "cell_type": "code",
      "source": [
        "oversampled_Train = apply_Upsmote_Training(X_train, y_train)\n",
        "oversampled_Train"
      ],
      "metadata": {
        "colab": {
          "base_uri": "https://localhost:8080/",
          "height": 424
        },
        "id": "Rykso_5Dj1yj",
        "outputId": "c7d8b8b4-967c-4721-8dbf-4d327044609a"
      },
      "execution_count": null,
      "outputs": [
        {
          "output_type": "execute_result",
          "data": {
            "text/plain": [
              "               Area    Perimeter  MajorAxisLength  MinorAxisLength  \\\n",
              "0      26879.000000   601.690000       218.053277       157.226802   \n",
              "1      43832.000000   754.068000       255.897708       218.669453   \n",
              "2      80590.000000  1134.764000       400.653334       257.541435   \n",
              "3      26185.000000   600.178000       218.074899       153.305249   \n",
              "4      30987.000000   646.361000       237.363270       166.667075   \n",
              "...             ...          ...              ...              ...   \n",
              "15885  42160.181510   779.947548       294.166346       183.352248   \n",
              "15886  45737.853490   803.024593       297.132133       197.181610   \n",
              "15887  57443.721346   921.858752       361.607269       203.231670   \n",
              "15888  39954.126574   746.154746       265.382175       192.771634   \n",
              "15889  43507.368480   804.003943       311.431549       180.442729   \n",
              "\n",
              "       AspectRation  Eccentricity    ConvexArea  EquivDiameter    Extent  \\\n",
              "0          1.386871      0.692885  27237.000000     184.995691  0.736875   \n",
              "1          1.170249      0.519420  44167.000000     236.238514  0.804744   \n",
              "2          1.555685      0.766031  82249.000000     320.328542  0.795911   \n",
              "3          1.422488      0.711196  26496.000000     182.591833  0.710661   \n",
              "4          1.424176      0.712019  31235.000000     198.629992  0.707288   \n",
              "...             ...           ...           ...            ...       ...   \n",
              "15885      1.605342      0.781128  42728.242767     231.689469  0.699814   \n",
              "15886      1.508386      0.746448  46358.265875     241.319790  0.754474   \n",
              "15887      1.780932      0.826459  58111.230419     270.442172  0.705685   \n",
              "15888      1.377422      0.686108  40467.925872     225.546388  0.760300   \n",
              "15889      1.733195      0.810303  44377.433834     235.361869  0.790326   \n",
              "\n",
              "       Solidity  roundness  Compactness  ShapeFactor1  ShapeFactor2  \\\n",
              "0      0.986856   0.932991     0.848397      0.008112      0.002593   \n",
              "1      0.992415   0.968680     0.923176      0.005838      0.002616   \n",
              "2      0.979830   0.786466     0.799515      0.004972      0.001253   \n",
              "3      0.988262   0.913487     0.837290      0.008328      0.002525   \n",
              "4      0.992060   0.932050     0.836819      0.007660      0.002317   \n",
              "...         ...        ...          ...           ...           ...   \n",
              "15885  0.986705   0.871307     0.787862      0.006977      0.001659   \n",
              "15886  0.986617   0.891402     0.812509      0.006496      0.001748   \n",
              "15887  0.988567   0.849426     0.748087      0.006296      0.001217   \n",
              "15888  0.987304   0.902147     0.850074      0.006642      0.002140   \n",
              "15889  0.980398   0.846271     0.757601      0.007159      0.001462   \n",
              "\n",
              "       ShapeFactor3  ShapeFactor4  y  \n",
              "0          0.719777      0.998238  4  \n",
              "1          0.852253      0.997348  6  \n",
              "2          0.639225      0.994433  1  \n",
              "3          0.701054      0.997241  4  \n",
              "4          0.700265      0.997301  4  \n",
              "...             ...           ... ..  \n",
              "15885      0.620925      0.995559  7  \n",
              "15886      0.660454      0.994440  7  \n",
              "15887      0.559814      0.995616  7  \n",
              "15888      0.722781      0.994646  7  \n",
              "15889      0.575415      0.987955  7  \n",
              "\n",
              "[15890 rows x 17 columns]"
            ],
            "text/html": [
              "\n",
              "  <div id=\"df-afa53518-7923-4283-a2d4-0c607615b2b5\">\n",
              "    <div class=\"colab-df-container\">\n",
              "      <div>\n",
              "<style scoped>\n",
              "    .dataframe tbody tr th:only-of-type {\n",
              "        vertical-align: middle;\n",
              "    }\n",
              "\n",
              "    .dataframe tbody tr th {\n",
              "        vertical-align: top;\n",
              "    }\n",
              "\n",
              "    .dataframe thead th {\n",
              "        text-align: right;\n",
              "    }\n",
              "</style>\n",
              "<table border=\"1\" class=\"dataframe\">\n",
              "  <thead>\n",
              "    <tr style=\"text-align: right;\">\n",
              "      <th></th>\n",
              "      <th>Area</th>\n",
              "      <th>Perimeter</th>\n",
              "      <th>MajorAxisLength</th>\n",
              "      <th>MinorAxisLength</th>\n",
              "      <th>AspectRation</th>\n",
              "      <th>Eccentricity</th>\n",
              "      <th>ConvexArea</th>\n",
              "      <th>EquivDiameter</th>\n",
              "      <th>Extent</th>\n",
              "      <th>Solidity</th>\n",
              "      <th>roundness</th>\n",
              "      <th>Compactness</th>\n",
              "      <th>ShapeFactor1</th>\n",
              "      <th>ShapeFactor2</th>\n",
              "      <th>ShapeFactor3</th>\n",
              "      <th>ShapeFactor4</th>\n",
              "      <th>y</th>\n",
              "    </tr>\n",
              "  </thead>\n",
              "  <tbody>\n",
              "    <tr>\n",
              "      <th>0</th>\n",
              "      <td>26879.000000</td>\n",
              "      <td>601.690000</td>\n",
              "      <td>218.053277</td>\n",
              "      <td>157.226802</td>\n",
              "      <td>1.386871</td>\n",
              "      <td>0.692885</td>\n",
              "      <td>27237.000000</td>\n",
              "      <td>184.995691</td>\n",
              "      <td>0.736875</td>\n",
              "      <td>0.986856</td>\n",
              "      <td>0.932991</td>\n",
              "      <td>0.848397</td>\n",
              "      <td>0.008112</td>\n",
              "      <td>0.002593</td>\n",
              "      <td>0.719777</td>\n",
              "      <td>0.998238</td>\n",
              "      <td>4</td>\n",
              "    </tr>\n",
              "    <tr>\n",
              "      <th>1</th>\n",
              "      <td>43832.000000</td>\n",
              "      <td>754.068000</td>\n",
              "      <td>255.897708</td>\n",
              "      <td>218.669453</td>\n",
              "      <td>1.170249</td>\n",
              "      <td>0.519420</td>\n",
              "      <td>44167.000000</td>\n",
              "      <td>236.238514</td>\n",
              "      <td>0.804744</td>\n",
              "      <td>0.992415</td>\n",
              "      <td>0.968680</td>\n",
              "      <td>0.923176</td>\n",
              "      <td>0.005838</td>\n",
              "      <td>0.002616</td>\n",
              "      <td>0.852253</td>\n",
              "      <td>0.997348</td>\n",
              "      <td>6</td>\n",
              "    </tr>\n",
              "    <tr>\n",
              "      <th>2</th>\n",
              "      <td>80590.000000</td>\n",
              "      <td>1134.764000</td>\n",
              "      <td>400.653334</td>\n",
              "      <td>257.541435</td>\n",
              "      <td>1.555685</td>\n",
              "      <td>0.766031</td>\n",
              "      <td>82249.000000</td>\n",
              "      <td>320.328542</td>\n",
              "      <td>0.795911</td>\n",
              "      <td>0.979830</td>\n",
              "      <td>0.786466</td>\n",
              "      <td>0.799515</td>\n",
              "      <td>0.004972</td>\n",
              "      <td>0.001253</td>\n",
              "      <td>0.639225</td>\n",
              "      <td>0.994433</td>\n",
              "      <td>1</td>\n",
              "    </tr>\n",
              "    <tr>\n",
              "      <th>3</th>\n",
              "      <td>26185.000000</td>\n",
              "      <td>600.178000</td>\n",
              "      <td>218.074899</td>\n",
              "      <td>153.305249</td>\n",
              "      <td>1.422488</td>\n",
              "      <td>0.711196</td>\n",
              "      <td>26496.000000</td>\n",
              "      <td>182.591833</td>\n",
              "      <td>0.710661</td>\n",
              "      <td>0.988262</td>\n",
              "      <td>0.913487</td>\n",
              "      <td>0.837290</td>\n",
              "      <td>0.008328</td>\n",
              "      <td>0.002525</td>\n",
              "      <td>0.701054</td>\n",
              "      <td>0.997241</td>\n",
              "      <td>4</td>\n",
              "    </tr>\n",
              "    <tr>\n",
              "      <th>4</th>\n",
              "      <td>30987.000000</td>\n",
              "      <td>646.361000</td>\n",
              "      <td>237.363270</td>\n",
              "      <td>166.667075</td>\n",
              "      <td>1.424176</td>\n",
              "      <td>0.712019</td>\n",
              "      <td>31235.000000</td>\n",
              "      <td>198.629992</td>\n",
              "      <td>0.707288</td>\n",
              "      <td>0.992060</td>\n",
              "      <td>0.932050</td>\n",
              "      <td>0.836819</td>\n",
              "      <td>0.007660</td>\n",
              "      <td>0.002317</td>\n",
              "      <td>0.700265</td>\n",
              "      <td>0.997301</td>\n",
              "      <td>4</td>\n",
              "    </tr>\n",
              "    <tr>\n",
              "      <th>...</th>\n",
              "      <td>...</td>\n",
              "      <td>...</td>\n",
              "      <td>...</td>\n",
              "      <td>...</td>\n",
              "      <td>...</td>\n",
              "      <td>...</td>\n",
              "      <td>...</td>\n",
              "      <td>...</td>\n",
              "      <td>...</td>\n",
              "      <td>...</td>\n",
              "      <td>...</td>\n",
              "      <td>...</td>\n",
              "      <td>...</td>\n",
              "      <td>...</td>\n",
              "      <td>...</td>\n",
              "      <td>...</td>\n",
              "      <td>...</td>\n",
              "    </tr>\n",
              "    <tr>\n",
              "      <th>15885</th>\n",
              "      <td>42160.181510</td>\n",
              "      <td>779.947548</td>\n",
              "      <td>294.166346</td>\n",
              "      <td>183.352248</td>\n",
              "      <td>1.605342</td>\n",
              "      <td>0.781128</td>\n",
              "      <td>42728.242767</td>\n",
              "      <td>231.689469</td>\n",
              "      <td>0.699814</td>\n",
              "      <td>0.986705</td>\n",
              "      <td>0.871307</td>\n",
              "      <td>0.787862</td>\n",
              "      <td>0.006977</td>\n",
              "      <td>0.001659</td>\n",
              "      <td>0.620925</td>\n",
              "      <td>0.995559</td>\n",
              "      <td>7</td>\n",
              "    </tr>\n",
              "    <tr>\n",
              "      <th>15886</th>\n",
              "      <td>45737.853490</td>\n",
              "      <td>803.024593</td>\n",
              "      <td>297.132133</td>\n",
              "      <td>197.181610</td>\n",
              "      <td>1.508386</td>\n",
              "      <td>0.746448</td>\n",
              "      <td>46358.265875</td>\n",
              "      <td>241.319790</td>\n",
              "      <td>0.754474</td>\n",
              "      <td>0.986617</td>\n",
              "      <td>0.891402</td>\n",
              "      <td>0.812509</td>\n",
              "      <td>0.006496</td>\n",
              "      <td>0.001748</td>\n",
              "      <td>0.660454</td>\n",
              "      <td>0.994440</td>\n",
              "      <td>7</td>\n",
              "    </tr>\n",
              "    <tr>\n",
              "      <th>15887</th>\n",
              "      <td>57443.721346</td>\n",
              "      <td>921.858752</td>\n",
              "      <td>361.607269</td>\n",
              "      <td>203.231670</td>\n",
              "      <td>1.780932</td>\n",
              "      <td>0.826459</td>\n",
              "      <td>58111.230419</td>\n",
              "      <td>270.442172</td>\n",
              "      <td>0.705685</td>\n",
              "      <td>0.988567</td>\n",
              "      <td>0.849426</td>\n",
              "      <td>0.748087</td>\n",
              "      <td>0.006296</td>\n",
              "      <td>0.001217</td>\n",
              "      <td>0.559814</td>\n",
              "      <td>0.995616</td>\n",
              "      <td>7</td>\n",
              "    </tr>\n",
              "    <tr>\n",
              "      <th>15888</th>\n",
              "      <td>39954.126574</td>\n",
              "      <td>746.154746</td>\n",
              "      <td>265.382175</td>\n",
              "      <td>192.771634</td>\n",
              "      <td>1.377422</td>\n",
              "      <td>0.686108</td>\n",
              "      <td>40467.925872</td>\n",
              "      <td>225.546388</td>\n",
              "      <td>0.760300</td>\n",
              "      <td>0.987304</td>\n",
              "      <td>0.902147</td>\n",
              "      <td>0.850074</td>\n",
              "      <td>0.006642</td>\n",
              "      <td>0.002140</td>\n",
              "      <td>0.722781</td>\n",
              "      <td>0.994646</td>\n",
              "      <td>7</td>\n",
              "    </tr>\n",
              "    <tr>\n",
              "      <th>15889</th>\n",
              "      <td>43507.368480</td>\n",
              "      <td>804.003943</td>\n",
              "      <td>311.431549</td>\n",
              "      <td>180.442729</td>\n",
              "      <td>1.733195</td>\n",
              "      <td>0.810303</td>\n",
              "      <td>44377.433834</td>\n",
              "      <td>235.361869</td>\n",
              "      <td>0.790326</td>\n",
              "      <td>0.980398</td>\n",
              "      <td>0.846271</td>\n",
              "      <td>0.757601</td>\n",
              "      <td>0.007159</td>\n",
              "      <td>0.001462</td>\n",
              "      <td>0.575415</td>\n",
              "      <td>0.987955</td>\n",
              "      <td>7</td>\n",
              "    </tr>\n",
              "  </tbody>\n",
              "</table>\n",
              "<p>15890 rows × 17 columns</p>\n",
              "</div>\n",
              "      <button class=\"colab-df-convert\" onclick=\"convertToInteractive('df-afa53518-7923-4283-a2d4-0c607615b2b5')\"\n",
              "              title=\"Convert this dataframe to an interactive table.\"\n",
              "              style=\"display:none;\">\n",
              "        \n",
              "  <svg xmlns=\"http://www.w3.org/2000/svg\" height=\"24px\"viewBox=\"0 0 24 24\"\n",
              "       width=\"24px\">\n",
              "    <path d=\"M0 0h24v24H0V0z\" fill=\"none\"/>\n",
              "    <path d=\"M18.56 5.44l.94 2.06.94-2.06 2.06-.94-2.06-.94-.94-2.06-.94 2.06-2.06.94zm-11 1L8.5 8.5l.94-2.06 2.06-.94-2.06-.94L8.5 2.5l-.94 2.06-2.06.94zm10 10l.94 2.06.94-2.06 2.06-.94-2.06-.94-.94-2.06-.94 2.06-2.06.94z\"/><path d=\"M17.41 7.96l-1.37-1.37c-.4-.4-.92-.59-1.43-.59-.52 0-1.04.2-1.43.59L10.3 9.45l-7.72 7.72c-.78.78-.78 2.05 0 2.83L4 21.41c.39.39.9.59 1.41.59.51 0 1.02-.2 1.41-.59l7.78-7.78 2.81-2.81c.8-.78.8-2.07 0-2.86zM5.41 20L4 18.59l7.72-7.72 1.47 1.35L5.41 20z\"/>\n",
              "  </svg>\n",
              "      </button>\n",
              "      \n",
              "  <style>\n",
              "    .colab-df-container {\n",
              "      display:flex;\n",
              "      flex-wrap:wrap;\n",
              "      gap: 12px;\n",
              "    }\n",
              "\n",
              "    .colab-df-convert {\n",
              "      background-color: #E8F0FE;\n",
              "      border: none;\n",
              "      border-radius: 50%;\n",
              "      cursor: pointer;\n",
              "      display: none;\n",
              "      fill: #1967D2;\n",
              "      height: 32px;\n",
              "      padding: 0 0 0 0;\n",
              "      width: 32px;\n",
              "    }\n",
              "\n",
              "    .colab-df-convert:hover {\n",
              "      background-color: #E2EBFA;\n",
              "      box-shadow: 0px 1px 2px rgba(60, 64, 67, 0.3), 0px 1px 3px 1px rgba(60, 64, 67, 0.15);\n",
              "      fill: #174EA6;\n",
              "    }\n",
              "\n",
              "    [theme=dark] .colab-df-convert {\n",
              "      background-color: #3B4455;\n",
              "      fill: #D2E3FC;\n",
              "    }\n",
              "\n",
              "    [theme=dark] .colab-df-convert:hover {\n",
              "      background-color: #434B5C;\n",
              "      box-shadow: 0px 1px 3px 1px rgba(0, 0, 0, 0.15);\n",
              "      filter: drop-shadow(0px 1px 2px rgba(0, 0, 0, 0.3));\n",
              "      fill: #FFFFFF;\n",
              "    }\n",
              "  </style>\n",
              "\n",
              "      <script>\n",
              "        const buttonEl =\n",
              "          document.querySelector('#df-afa53518-7923-4283-a2d4-0c607615b2b5 button.colab-df-convert');\n",
              "        buttonEl.style.display =\n",
              "          google.colab.kernel.accessAllowed ? 'block' : 'none';\n",
              "\n",
              "        async function convertToInteractive(key) {\n",
              "          const element = document.querySelector('#df-afa53518-7923-4283-a2d4-0c607615b2b5');\n",
              "          const dataTable =\n",
              "            await google.colab.kernel.invokeFunction('convertToInteractive',\n",
              "                                                     [key], {});\n",
              "          if (!dataTable) return;\n",
              "\n",
              "          const docLinkHtml = 'Like what you see? Visit the ' +\n",
              "            '<a target=\"_blank\" href=https://colab.research.google.com/notebooks/data_table.ipynb>data table notebook</a>'\n",
              "            + ' to learn more about interactive tables.';\n",
              "          element.innerHTML = '';\n",
              "          dataTable['output_type'] = 'display_data';\n",
              "          await google.colab.output.renderOutput(dataTable, element);\n",
              "          const docLink = document.createElement('div');\n",
              "          docLink.innerHTML = docLinkHtml;\n",
              "          element.appendChild(docLink);\n",
              "        }\n",
              "      </script>\n",
              "    </div>\n",
              "  </div>\n",
              "  "
            ]
          },
          "metadata": {},
          "execution_count": 50
        }
      ]
    },
    {
      "cell_type": "code",
      "source": [
        "get_num_of_samples(oversampled_Train)"
      ],
      "metadata": {
        "colab": {
          "base_uri": "https://localhost:8080/"
        },
        "id": "XZ8sjzXdzOPW",
        "outputId": "6b31d488-8dcc-403f-c3f8-224e05878534"
      },
      "execution_count": null,
      "outputs": [
        {
          "output_type": "stream",
          "name": "stdout",
          "text": [
            "Number of samples in class 4 = 2270\n",
            "Number of samples in class 6 = 2270\n",
            "Number of samples in class 1 = 2270\n",
            "Number of samples in class 7 = 2270\n",
            "Number of samples in class 2 = 2270\n",
            "Number of samples in class 5 = 2270\n",
            "Number of samples in class 3 = 2270\n"
          ]
        }
      ]
    },
    {
      "cell_type": "code",
      "source": [
        "# select numeric variables\n",
        "numeric_vars =  ['Area_ConvexArea', 'Fibre_length', 'Fibre_width', 'Area_Circumference_ratio', 'Eccentricity', 'Extent', 'Solidity', \n",
        "                 'roundness', 'ShapeFactor6', 'ShapeFactor1', 'ShapeFactor7','ShapeFactor8', 'ShapeFactor9', \n",
        "                 'ShapeFactor4','y']\n",
        "# create histograms for each numeric variable\n",
        "fig = plt.figure(figsize=(24, 15))\n",
        "for i in range(len(numeric_vars)):\n",
        "    var = numeric_vars[i]\n",
        "    sub = fig.add_subplot(3, 5, i + 1)\n",
        "    sub.set_xlabel(var)\n",
        "    oversampled_Train[var].plot(kind = 'hist')"
      ],
      "metadata": {
        "colab": {
          "base_uri": "https://localhost:8080/",
          "height": 792
        },
        "id": "H46VjFnPzOSX",
        "outputId": "29e58ee8-232b-4605-eb40-18c3b5f0cc27"
      },
      "execution_count": null,
      "outputs": [
        {
          "output_type": "error",
          "ename": "KeyError",
          "evalue": "ignored",
          "traceback": [
            "\u001b[0;31m---------------------------------------------------------------------------\u001b[0m",
            "\u001b[0;31mKeyError\u001b[0m                                  Traceback (most recent call last)",
            "\u001b[0;32m/usr/local/lib/python3.7/dist-packages/pandas/core/indexes/base.py\u001b[0m in \u001b[0;36mget_loc\u001b[0;34m(self, key, method, tolerance)\u001b[0m\n\u001b[1;32m   3360\u001b[0m             \u001b[0;32mtry\u001b[0m\u001b[0;34m:\u001b[0m\u001b[0;34m\u001b[0m\u001b[0;34m\u001b[0m\u001b[0m\n\u001b[0;32m-> 3361\u001b[0;31m                 \u001b[0;32mreturn\u001b[0m \u001b[0mself\u001b[0m\u001b[0;34m.\u001b[0m\u001b[0m_engine\u001b[0m\u001b[0;34m.\u001b[0m\u001b[0mget_loc\u001b[0m\u001b[0;34m(\u001b[0m\u001b[0mcasted_key\u001b[0m\u001b[0;34m)\u001b[0m\u001b[0;34m\u001b[0m\u001b[0;34m\u001b[0m\u001b[0m\n\u001b[0m\u001b[1;32m   3362\u001b[0m             \u001b[0;32mexcept\u001b[0m \u001b[0mKeyError\u001b[0m \u001b[0;32mas\u001b[0m \u001b[0merr\u001b[0m\u001b[0;34m:\u001b[0m\u001b[0;34m\u001b[0m\u001b[0;34m\u001b[0m\u001b[0m\n",
            "\u001b[0;32m/usr/local/lib/python3.7/dist-packages/pandas/_libs/index.pyx\u001b[0m in \u001b[0;36mpandas._libs.index.IndexEngine.get_loc\u001b[0;34m()\u001b[0m\n",
            "\u001b[0;32m/usr/local/lib/python3.7/dist-packages/pandas/_libs/index.pyx\u001b[0m in \u001b[0;36mpandas._libs.index.IndexEngine.get_loc\u001b[0;34m()\u001b[0m\n",
            "\u001b[0;32mpandas/_libs/hashtable_class_helper.pxi\u001b[0m in \u001b[0;36mpandas._libs.hashtable.PyObjectHashTable.get_item\u001b[0;34m()\u001b[0m\n",
            "\u001b[0;32mpandas/_libs/hashtable_class_helper.pxi\u001b[0m in \u001b[0;36mpandas._libs.hashtable.PyObjectHashTable.get_item\u001b[0;34m()\u001b[0m\n",
            "\u001b[0;31mKeyError\u001b[0m: 'Area_ConvexArea'",
            "\nThe above exception was the direct cause of the following exception:\n",
            "\u001b[0;31mKeyError\u001b[0m                                  Traceback (most recent call last)",
            "\u001b[0;32m<ipython-input-52-39f0622918ce>\u001b[0m in \u001b[0;36m<module>\u001b[0;34m()\u001b[0m\n\u001b[1;32m      9\u001b[0m     \u001b[0msub\u001b[0m \u001b[0;34m=\u001b[0m \u001b[0mfig\u001b[0m\u001b[0;34m.\u001b[0m\u001b[0madd_subplot\u001b[0m\u001b[0;34m(\u001b[0m\u001b[0;36m3\u001b[0m\u001b[0;34m,\u001b[0m \u001b[0;36m5\u001b[0m\u001b[0;34m,\u001b[0m \u001b[0mi\u001b[0m \u001b[0;34m+\u001b[0m \u001b[0;36m1\u001b[0m\u001b[0;34m)\u001b[0m\u001b[0;34m\u001b[0m\u001b[0;34m\u001b[0m\u001b[0m\n\u001b[1;32m     10\u001b[0m     \u001b[0msub\u001b[0m\u001b[0;34m.\u001b[0m\u001b[0mset_xlabel\u001b[0m\u001b[0;34m(\u001b[0m\u001b[0mvar\u001b[0m\u001b[0;34m)\u001b[0m\u001b[0;34m\u001b[0m\u001b[0;34m\u001b[0m\u001b[0m\n\u001b[0;32m---> 11\u001b[0;31m     \u001b[0moversampled_Train\u001b[0m\u001b[0;34m[\u001b[0m\u001b[0mvar\u001b[0m\u001b[0;34m]\u001b[0m\u001b[0;34m.\u001b[0m\u001b[0mplot\u001b[0m\u001b[0;34m(\u001b[0m\u001b[0mkind\u001b[0m \u001b[0;34m=\u001b[0m \u001b[0;34m'hist'\u001b[0m\u001b[0;34m)\u001b[0m\u001b[0;34m\u001b[0m\u001b[0;34m\u001b[0m\u001b[0m\n\u001b[0m",
            "\u001b[0;32m/usr/local/lib/python3.7/dist-packages/pandas/core/frame.py\u001b[0m in \u001b[0;36m__getitem__\u001b[0;34m(self, key)\u001b[0m\n\u001b[1;32m   3456\u001b[0m             \u001b[0;32mif\u001b[0m \u001b[0mself\u001b[0m\u001b[0;34m.\u001b[0m\u001b[0mcolumns\u001b[0m\u001b[0;34m.\u001b[0m\u001b[0mnlevels\u001b[0m \u001b[0;34m>\u001b[0m \u001b[0;36m1\u001b[0m\u001b[0;34m:\u001b[0m\u001b[0;34m\u001b[0m\u001b[0;34m\u001b[0m\u001b[0m\n\u001b[1;32m   3457\u001b[0m                 \u001b[0;32mreturn\u001b[0m \u001b[0mself\u001b[0m\u001b[0;34m.\u001b[0m\u001b[0m_getitem_multilevel\u001b[0m\u001b[0;34m(\u001b[0m\u001b[0mkey\u001b[0m\u001b[0;34m)\u001b[0m\u001b[0;34m\u001b[0m\u001b[0;34m\u001b[0m\u001b[0m\n\u001b[0;32m-> 3458\u001b[0;31m             \u001b[0mindexer\u001b[0m \u001b[0;34m=\u001b[0m \u001b[0mself\u001b[0m\u001b[0;34m.\u001b[0m\u001b[0mcolumns\u001b[0m\u001b[0;34m.\u001b[0m\u001b[0mget_loc\u001b[0m\u001b[0;34m(\u001b[0m\u001b[0mkey\u001b[0m\u001b[0;34m)\u001b[0m\u001b[0;34m\u001b[0m\u001b[0;34m\u001b[0m\u001b[0m\n\u001b[0m\u001b[1;32m   3459\u001b[0m             \u001b[0;32mif\u001b[0m \u001b[0mis_integer\u001b[0m\u001b[0;34m(\u001b[0m\u001b[0mindexer\u001b[0m\u001b[0;34m)\u001b[0m\u001b[0;34m:\u001b[0m\u001b[0;34m\u001b[0m\u001b[0;34m\u001b[0m\u001b[0m\n\u001b[1;32m   3460\u001b[0m                 \u001b[0mindexer\u001b[0m \u001b[0;34m=\u001b[0m \u001b[0;34m[\u001b[0m\u001b[0mindexer\u001b[0m\u001b[0;34m]\u001b[0m\u001b[0;34m\u001b[0m\u001b[0;34m\u001b[0m\u001b[0m\n",
            "\u001b[0;32m/usr/local/lib/python3.7/dist-packages/pandas/core/indexes/base.py\u001b[0m in \u001b[0;36mget_loc\u001b[0;34m(self, key, method, tolerance)\u001b[0m\n\u001b[1;32m   3361\u001b[0m                 \u001b[0;32mreturn\u001b[0m \u001b[0mself\u001b[0m\u001b[0;34m.\u001b[0m\u001b[0m_engine\u001b[0m\u001b[0;34m.\u001b[0m\u001b[0mget_loc\u001b[0m\u001b[0;34m(\u001b[0m\u001b[0mcasted_key\u001b[0m\u001b[0;34m)\u001b[0m\u001b[0;34m\u001b[0m\u001b[0;34m\u001b[0m\u001b[0m\n\u001b[1;32m   3362\u001b[0m             \u001b[0;32mexcept\u001b[0m \u001b[0mKeyError\u001b[0m \u001b[0;32mas\u001b[0m \u001b[0merr\u001b[0m\u001b[0;34m:\u001b[0m\u001b[0;34m\u001b[0m\u001b[0;34m\u001b[0m\u001b[0m\n\u001b[0;32m-> 3363\u001b[0;31m                 \u001b[0;32mraise\u001b[0m \u001b[0mKeyError\u001b[0m\u001b[0;34m(\u001b[0m\u001b[0mkey\u001b[0m\u001b[0;34m)\u001b[0m \u001b[0;32mfrom\u001b[0m \u001b[0merr\u001b[0m\u001b[0;34m\u001b[0m\u001b[0;34m\u001b[0m\u001b[0m\n\u001b[0m\u001b[1;32m   3364\u001b[0m \u001b[0;34m\u001b[0m\u001b[0m\n\u001b[1;32m   3365\u001b[0m         \u001b[0;32mif\u001b[0m \u001b[0mis_scalar\u001b[0m\u001b[0;34m(\u001b[0m\u001b[0mkey\u001b[0m\u001b[0;34m)\u001b[0m \u001b[0;32mand\u001b[0m \u001b[0misna\u001b[0m\u001b[0;34m(\u001b[0m\u001b[0mkey\u001b[0m\u001b[0;34m)\u001b[0m \u001b[0;32mand\u001b[0m \u001b[0;32mnot\u001b[0m \u001b[0mself\u001b[0m\u001b[0;34m.\u001b[0m\u001b[0mhasnans\u001b[0m\u001b[0;34m:\u001b[0m\u001b[0;34m\u001b[0m\u001b[0;34m\u001b[0m\u001b[0m\n",
            "\u001b[0;31mKeyError\u001b[0m: 'Area_ConvexArea'"
          ]
        },
        {
          "output_type": "display_data",
          "data": {
            "text/plain": [
              "<Figure size 1728x1080 with 1 Axes>"
            ],
            "image/png": "[encoded data removed]"
          },
          "metadata": {
            "needs_background": "light"
          }
        }
      ]
    },
    {
      "cell_type": "code",
      "source": [
        ""
      ],
      "metadata": {
        "id": "D0djg_s9ESRq"
      },
      "execution_count": null,
      "outputs": []
    },
    {
      "cell_type": "code",
      "source": [
        "X_train"
      ],
      "metadata": {
        "id": "jKi-mUOOESUN"
      },
      "execution_count": null,
      "outputs": []
    },
    {
      "cell_type": "code",
      "source": [
        "X_train_normalized = apply_normalize(X_train)\n",
        "X_train_normalized"
      ],
      "metadata": {
        "id": "o-4wB2nr4ZGN"
      },
      "execution_count": null,
      "outputs": []
    },
    {
      "cell_type": "code",
      "source": [
        "# select numeric variables\n",
        "numeric_vars =  ['Area_ConvexArea', 'Fibre_length', 'Fibre_width', 'Area_Circumference_ratio', 'Eccentricity', 'Extent', 'Solidity', \n",
        "                 'roundness', 'ShapeFactor6', 'ShapeFactor1', 'ShapeFactor7','ShapeFactor8', 'ShapeFactor9', \n",
        "                 'ShapeFactor4']\n",
        "# create histograms for each numeric variable\n",
        "fig = plt.figure(figsize=(24, 15))\n",
        "for i in range(len(numeric_vars)):\n",
        "    var = numeric_vars[i]\n",
        "    sub = fig.add_subplot(3, 5, i + 1)\n",
        "    sub.set_xlabel(var)\n",
        "    X_train_normalized[var].plot(kind = 'hist')"
      ],
      "metadata": {
        "id": "wvFYvpN75YGo"
      },
      "execution_count": null,
      "outputs": []
    },
    {
      "cell_type": "code",
      "source": [
        "X_train_PowerTransformer = apply_PowerTransformer(X_train)\n",
        "X_train_PowerTransformer"
      ],
      "metadata": {
        "id": "yZiN3K1zA7At"
      },
      "execution_count": null,
      "outputs": []
    },
    {
      "cell_type": "code",
      "source": [
        "# select numeric variables\n",
        "numeric_vars =  ['Area_ConvexArea', 'Fibre_length', 'Fibre_width', 'Area_Circumference_ratio', 'Eccentricity', 'Extent', 'Solidity', \n",
        "                 'roundness', 'ShapeFactor6', 'ShapeFactor1', 'ShapeFactor7','ShapeFactor8', 'ShapeFactor9', \n",
        "                 'ShapeFactor4']\n",
        "# create histograms for each numeric variable\n",
        "fig = plt.figure(figsize=(24, 15))\n",
        "for i in range(len(numeric_vars)):\n",
        "    var = numeric_vars[i]\n",
        "    sub = fig.add_subplot(3, 5, i + 1)\n",
        "    sub.set_xlabel(var)\n",
        "    X_train_PowerTransformer[var].plot(kind = 'hist')"
      ],
      "metadata": {
        "id": "J1LG6eAeBntP"
      },
      "execution_count": null,
      "outputs": []
    },
    {
      "cell_type": "code",
      "source": [
        "X_train_RobustScaler_scaled = apply_RobustScaler(X_train)\n",
        "X_train_RobustScaler_scaled.head()"
      ],
      "metadata": {
        "id": "6RpVUE3KBnvx"
      },
      "execution_count": null,
      "outputs": []
    },
    {
      "cell_type": "code",
      "source": [
        "# select numeric variables\n",
        "numeric_vars =  ['Area_ConvexArea', 'Fibre_length', 'Fibre_width', 'Area_Circumference_ratio', 'Eccentricity', 'Extent', 'Solidity', \n",
        "                 'roundness', 'ShapeFactor6', 'ShapeFactor1', 'ShapeFactor7','ShapeFactor8', 'ShapeFactor9', \n",
        "                 'ShapeFactor4']\n",
        "# create histograms for each numeric variable\n",
        "fig = plt.figure(figsize=(24, 15))\n",
        "for i in range(len(numeric_vars)):\n",
        "    var = numeric_vars[i]\n",
        "    sub = fig.add_subplot(3, 5, i + 1)\n",
        "    sub.set_xlabel(var)\n",
        "    X_train_RobustScaler_scaled[var].plot(kind = 'hist')"
      ],
      "metadata": {
        "id": "LxuuuJ4EBnyZ"
      },
      "execution_count": null,
      "outputs": []
    },
    {
      "cell_type": "markdown",
      "source": [
        "## Testing Data Processing"
      ],
      "metadata": {
        "id": "EhzYIFMJA73T"
      }
    },
    {
      "cell_type": "code",
      "source": [
        "oversampled_Test = apply_Upsmote_valid(X_test, y_test)\n",
        "oversampled_Test"
      ],
      "metadata": {
        "id": "ExFfm9rGj11R"
      },
      "execution_count": null,
      "outputs": []
    },
    {
      "cell_type": "code",
      "source": [
        "get_num_of_samples(oversampled_Test)"
      ],
      "metadata": {
        "id": "9ZuSANO2j14G"
      },
      "execution_count": null,
      "outputs": []
    },
    {
      "cell_type": "code",
      "source": [
        "# select numeric variables\n",
        "numeric_vars =  ['Area_ConvexArea', 'Fibre_length', 'Fibre_width', 'Area_Circumference_ratio', 'Eccentricity', 'Extent', 'Solidity', \n",
        "                 'roundness', 'ShapeFactor6', 'ShapeFactor1', 'ShapeFactor7','ShapeFactor8', 'ShapeFactor9', \n",
        "                 'ShapeFactor4']\n",
        "# create histograms for each numeric variable\n",
        "fig = plt.figure(figsize=(24, 15))\n",
        "for i in range(len(numeric_vars)):\n",
        "    var = numeric_vars[i]\n",
        "    sub = fig.add_subplot(3, 5, i + 1)\n",
        "    sub.set_xlabel(var)\n",
        "    oversampled_Test[var].plot(kind = 'hist')"
      ],
      "metadata": {
        "id": "uYnsHv8Jj16x"
      },
      "execution_count": null,
      "outputs": []
    },
    {
      "cell_type": "code",
      "source": [
        "X_test_normalized = apply_normalize(X_test)\n",
        "X_test_normalized"
      ],
      "metadata": {
        "id": "TMdccw224ZJd"
      },
      "execution_count": null,
      "outputs": []
    },
    {
      "cell_type": "code",
      "source": [
        "# select numeric variables\n",
        "numeric_vars =  ['Area_ConvexArea', 'Fibre_length', 'Fibre_width', 'Area_Circumference_ratio', 'Eccentricity', 'Extent', 'Solidity', \n",
        "                 'roundness', 'ShapeFactor6', 'ShapeFactor1', 'ShapeFactor7','ShapeFactor8', 'ShapeFactor9', \n",
        "                 'ShapeFactor4']\n",
        "# create histograms for each numeric variable\n",
        "fig = plt.figure(figsize=(24, 15))\n",
        "for i in range(len(numeric_vars)):\n",
        "    var = numeric_vars[i]\n",
        "    sub = fig.add_subplot(3, 5, i + 1)\n",
        "    sub.set_xlabel(var)\n",
        "    X_test_normalized[var].plot(kind = 'hist')"
      ],
      "metadata": {
        "id": "VZ7JrQlZ5YnM"
      },
      "execution_count": null,
      "outputs": []
    },
    {
      "cell_type": "code",
      "source": [
        "X_test_PowerTransformer = apply_PowerTransformer(X_test)\n",
        "X_test_PowerTransformer"
      ],
      "metadata": {
        "id": "coLT_YwPB7b8"
      },
      "execution_count": null,
      "outputs": []
    },
    {
      "cell_type": "code",
      "source": [
        "# select numeric variables\n",
        "numeric_vars =  ['Area_ConvexArea', 'Fibre_length', 'Fibre_width', 'Area_Circumference_ratio', 'Eccentricity', 'Extent', 'Solidity', \n",
        "                 'roundness', 'ShapeFactor6', 'ShapeFactor1', 'ShapeFactor7','ShapeFactor8', 'ShapeFactor9', \n",
        "                 'ShapeFactor4']\n",
        "# create histograms for each numeric variable\n",
        "fig = plt.figure(figsize=(24, 15))\n",
        "for i in range(len(numeric_vars)):\n",
        "    var = numeric_vars[i]\n",
        "    sub = fig.add_subplot(3, 5, i + 1)\n",
        "    sub.set_xlabel(var)\n",
        "    X_test_PowerTransformer[var].plot(kind = 'hist')"
      ],
      "metadata": {
        "id": "rK2IVN7gB7eu"
      },
      "execution_count": null,
      "outputs": []
    },
    {
      "cell_type": "code",
      "source": [
        "X_test_RobustScaler_scaled = apply_RobustScaler(X_test)\n",
        "X_test_RobustScaler_scaled.head()"
      ],
      "metadata": {
        "id": "otpcyKnm_OV9"
      },
      "execution_count": null,
      "outputs": []
    },
    {
      "cell_type": "code",
      "source": [
        "# select numeric variables\n",
        "numeric_vars =  ['Area_ConvexArea', 'Fibre_length', 'Fibre_width', 'Area_Circumference_ratio', 'Eccentricity', 'Extent', 'Solidity', \n",
        "                 'roundness', 'ShapeFactor6', 'ShapeFactor1', 'ShapeFactor7','ShapeFactor8', 'ShapeFactor9', \n",
        "                 'ShapeFactor4']\n",
        "# create histograms for each numeric variable\n",
        "fig = plt.figure(figsize=(24, 15))\n",
        "for i in range(len(numeric_vars)):\n",
        "    var = numeric_vars[i]\n",
        "    sub = fig.add_subplot(3, 5, i + 1)\n",
        "    sub.set_xlabel(var)\n",
        "    X_test_RobustScaler_scaled[var].plot(kind = 'hist')"
      ],
      "metadata": {
        "id": "8_oege79YkRT"
      },
      "execution_count": null,
      "outputs": []
    },
    {
      "cell_type": "code",
      "source": [
        ""
      ],
      "metadata": {
        "id": "QiPlp1I7YkT2"
      },
      "execution_count": null,
      "outputs": []
    },
    {
      "cell_type": "code",
      "source": [
        ""
      ],
      "metadata": {
        "id": "t4mvrbKXYkW2"
      },
      "execution_count": null,
      "outputs": []
    },
    {
      "cell_type": "markdown",
      "source": [
        "## Feature Combination"
      ],
      "metadata": {
        "id": "uJPcencu_Ojh"
      }
    },
    {
      "cell_type": "code",
      "source": [
        "df_all = read_data(path)\n",
        "df_all.head()"
      ],
      "metadata": {
        "id": "eTxkQw8wsuy0"
      },
      "execution_count": null,
      "outputs": []
    },
    {
      "cell_type": "code",
      "source": [
        "plt.figure(figsize=(20,20))\n",
        "sns.heatmap(df_all.corr(\"pearson\"),vmin=-1, vmax=1,cmap='coolwarm',annot=True, square=True)"
      ],
      "metadata": {
        "id": "I4yopU6pYigX"
      },
      "execution_count": null,
      "outputs": []
    },
    {
      "cell_type": "markdown",
      "source": [
        "## Create Columns"
      ],
      "metadata": {
        "id": "iTHq4LaKZeYJ"
      }
    },
    {
      "cell_type": "code",
      "source": [
        "df_try = df_all.copy()"
      ],
      "metadata": {
        "id": "-vEM-hbT7Z_y"
      },
      "execution_count": null,
      "outputs": []
    },
    {
      "cell_type": "code",
      "source": [
        "df_try['Bounding_rectangular_area'] = df_try['Area']/df_try['Extent']"
      ],
      "metadata": {
        "id": "6z5SYKXgYijY"
      },
      "execution_count": null,
      "outputs": []
    },
    {
      "cell_type": "code",
      "source": [
        "df_try['Area_ConvexArea'] = df_try['ConvexArea'] - df_try['Area']  "
      ],
      "metadata": {
        "id": "Jfvst1W-DN0-"
      },
      "execution_count": null,
      "outputs": []
    },
    {
      "cell_type": "code",
      "source": [
        "df_try['Circle_Area_ED'] = math.pi*df_try['EquivDiameter']**2"
      ],
      "metadata": {
        "id": "7jNHcriZDN3t"
      },
      "execution_count": null,
      "outputs": []
    },
    {
      "cell_type": "code",
      "source": [
        "df_try['Circle_circumference_ED'] = 2*math.pi*df_try['EquivDiameter']"
      ],
      "metadata": {
        "id": "PW3UI6YDDN6c"
      },
      "execution_count": null,
      "outputs": []
    },
    {
      "cell_type": "code",
      "source": [
        "df_try['Fibre_length'] = (df_try['Perimeter'] - np.sqrt(2*df_try['Perimeter']**2 -df_try['Area']))/4"
      ],
      "metadata": {
        "id": "2yNhgaHdKdC7"
      },
      "execution_count": null,
      "outputs": []
    },
    {
      "cell_type": "code",
      "source": [
        "df_try['Fibre_width'] = df_try['Area']  / df_try['Fibre_length']"
      ],
      "metadata": {
        "id": "3uMmnjAcKdFj"
      },
      "execution_count": null,
      "outputs": []
    },
    {
      "cell_type": "code",
      "source": [
        "df_try['ShapeFactor5'] = df_try['ShapeFactor3']  / df_try['ShapeFactor4']"
      ],
      "metadata": {
        "id": "HgtGptKwKdIZ"
      },
      "execution_count": null,
      "outputs": []
    },
    {
      "cell_type": "code",
      "source": [
        "df_try['Area_Circumference_ratio'] = df_try['Circle_circumference_ED'] / df_try['Area_ConvexArea']"
      ],
      "metadata": {
        "id": "K2gtQRYhZ1L5"
      },
      "execution_count": null,
      "outputs": []
    },
    {
      "cell_type": "code",
      "source": [
        "df_try['ShapeFactor6'] = df_try['ShapeFactor2']**2 / df_try['ShapeFactor3']"
      ],
      "metadata": {
        "id": "BOiYdx9pciJ-"
      },
      "execution_count": null,
      "outputs": []
    },
    {
      "cell_type": "code",
      "source": [
        "df_try['ShapeFactor7'] =((df_try['ShapeFactor2'] / df_try['ShapeFactor3'] * df_try['Perimeter']) ) * np.sqrt(df_try['Extent'])"
      ],
      "metadata": {
        "id": "wwr1PTvliqdC"
      },
      "execution_count": null,
      "outputs": []
    },
    {
      "cell_type": "code",
      "source": [
        "df_try['ShapeFactor8'] = 2 * math.pi * df_try['MinorAxisLength'] / np.sqrt(df_try['MajorAxisLength'])"
      ],
      "metadata": {
        "id": "U77N3MeMiqfp"
      },
      "execution_count": null,
      "outputs": []
    },
    {
      "cell_type": "code",
      "source": [
        "plt.figure(figsize=(20,20))\n",
        "sns.heatmap(df_try.corr(\"pearson\"),vmin=-1, vmax=1,cmap='coolwarm',annot=True, square=True)"
      ],
      "metadata": {
        "id": "_J51PWDkZ1Q2"
      },
      "execution_count": null,
      "outputs": []
    },
    {
      "cell_type": "code",
      "source": [
        "X = df_try.drop(['y'], axis=1)\n",
        "y = df_try['y']\n",
        "print(X)\n",
        "print(y)"
      ],
      "metadata": {
        "id": "ENbwyU0Fgo2C"
      },
      "execution_count": null,
      "outputs": []
    },
    {
      "cell_type": "code",
      "source": [
        "# df_New = X.join(y)\n",
        "# df_New.head()"
      ],
      "metadata": {
        "id": "1iKsGcJBh3vr"
      },
      "execution_count": null,
      "outputs": []
    },
    {
      "cell_type": "code",
      "source": [
        "# df_New.to_csv('/content/drive/MyDrive/Dry Beans Classification Competition/Dataset/Data_New.csv', index=False)"
      ],
      "metadata": {
        "id": "_On9pPLNh3yV"
      },
      "execution_count": null,
      "outputs": []
    },
    {
      "cell_type": "code",
      "source": [
        ""
      ],
      "metadata": {
        "id": "274qIREwozMG"
      },
      "execution_count": null,
      "outputs": []
    },
    {
      "cell_type": "code",
      "source": [
        ""
      ],
      "metadata": {
        "id": "zM80gatrh31r"
      },
      "execution_count": null,
      "outputs": []
    },
    {
      "cell_type": "code",
      "source": [
        "# df_try.head()"
      ],
      "metadata": {
        "id": "CrqvVhLnJVdc"
      },
      "execution_count": null,
      "outputs": []
    },
    {
      "cell_type": "markdown",
      "source": [
        "## Drop Columns"
      ],
      "metadata": {
        "id": "owsOr_ArZjec"
      }
    },
    {
      "cell_type": "code",
      "source": [
        "df_try = df_try.drop(['Area'], axis=1)"
      ],
      "metadata": {
        "id": "8i9SXBhlYiCt"
      },
      "execution_count": null,
      "outputs": []
    },
    {
      "cell_type": "code",
      "source": [
        ""
      ],
      "metadata": {
        "id": "9qVYTACS4woI"
      },
      "execution_count": null,
      "outputs": []
    },
    {
      "cell_type": "code",
      "source": [
        "df_try = df_try.drop(['ShapeFactor5'], axis=1)"
      ],
      "metadata": {
        "id": "dOo-ecEo9c82"
      },
      "execution_count": null,
      "outputs": []
    },
    {
      "cell_type": "code",
      "source": [
        "df_try = df_try.drop(['ConvexArea'], axis=1)"
      ],
      "metadata": {
        "id": "xdfD_0SeYiFH"
      },
      "execution_count": null,
      "outputs": []
    },
    {
      "cell_type": "code",
      "source": [
        "df_try = df_try.drop(['Bounding_rectangular_area'], axis=1)"
      ],
      "metadata": {
        "id": "dvSo65SpYiHv"
      },
      "execution_count": null,
      "outputs": []
    },
    {
      "cell_type": "code",
      "source": [
        "df_try = df_try.drop(['Perimeter'], axis=1)"
      ],
      "metadata": {
        "id": "k3Tyxs16YiKF"
      },
      "execution_count": null,
      "outputs": []
    },
    {
      "cell_type": "code",
      "source": [
        "df_try = df_try.drop(['EquivDiameter'], axis=1)"
      ],
      "metadata": {
        "id": "pRz30pdBDN9X"
      },
      "execution_count": null,
      "outputs": []
    },
    {
      "cell_type": "code",
      "source": [
        "df_try = df_try.drop(['Circle_circumference_ED'], axis=1)"
      ],
      "metadata": {
        "id": "WlKODlmUZQhT"
      },
      "execution_count": null,
      "outputs": []
    },
    {
      "cell_type": "code",
      "source": [
        "df_try = df_try.drop(['Circle_Area_ED'], axis=1)"
      ],
      "metadata": {
        "id": "oWh2TFyhZQj0"
      },
      "execution_count": null,
      "outputs": []
    },
    {
      "cell_type": "code",
      "source": [
        "df_try = df_try.drop(['ShapeFactor2'], axis=1)"
      ],
      "metadata": {
        "id": "FLHIbZQcZQme"
      },
      "execution_count": null,
      "outputs": []
    },
    {
      "cell_type": "code",
      "source": [
        "df_try = df_try.drop(['ShapeFactor3'], axis=1)"
      ],
      "metadata": {
        "id": "CW_fE5V0fdrO"
      },
      "execution_count": null,
      "outputs": []
    },
    {
      "cell_type": "code",
      "source": [
        "df_try = df_try.drop(['Compactness'], axis=1)"
      ],
      "metadata": {
        "id": "lbSL52HYfdtj"
      },
      "execution_count": null,
      "outputs": []
    },
    {
      "cell_type": "code",
      "source": [
        "df_try = df_try.drop(['AspectRation'], axis=1)"
      ],
      "metadata": {
        "id": "Qmu3_dVHfdwU"
      },
      "execution_count": null,
      "outputs": []
    },
    {
      "cell_type": "code",
      "source": [
        "df_try = df_try.drop(['MinorAxisLength'], axis=1)"
      ],
      "metadata": {
        "id": "7b6z-imBmKQ7"
      },
      "execution_count": null,
      "outputs": []
    },
    {
      "cell_type": "code",
      "source": [
        "df_try = df_try.drop(['MajorAxisLength'], axis=1)"
      ],
      "metadata": {
        "id": "HC6BjJfymKTY"
      },
      "execution_count": null,
      "outputs": []
    },
    {
      "cell_type": "code",
      "source": [
        "plt.figure(figsize=(20,20))\n",
        "sns.heatmap(df_try.corr(\"pearson\"),vmin=-1, vmax=1,cmap='coolwarm',annot=True, square=True)"
      ],
      "metadata": {
        "id": "aNmDRVPLYimS"
      },
      "execution_count": null,
      "outputs": []
    },
    {
      "cell_type": "code",
      "source": [
        "df_try.to_csv('/content/drive/MyDrive/Dry Beans Classification Competition/Dataset/Data_New_R1.csv', index=False)"
      ],
      "metadata": {
        "id": "TE_D9UtCqMpB"
      },
      "execution_count": null,
      "outputs": []
    },
    {
      "cell_type": "code",
      "source": [
        ""
      ],
      "metadata": {
        "id": "Kwtt2yTDqMrx"
      },
      "execution_count": null,
      "outputs": []
    },
    {
      "cell_type": "code",
      "source": [
        ""
      ],
      "metadata": {
        "id": "Q3CUmFdsqMuf"
      },
      "execution_count": null,
      "outputs": []
    },
    {
      "cell_type": "code",
      "source": [
        "df_try.head()"
      ],
      "metadata": {
        "id": "J2nRg9K2JbN0"
      },
      "execution_count": null,
      "outputs": []
    },
    {
      "cell_type": "markdown",
      "source": [
        "## Create Columns"
      ],
      "metadata": {
        "id": "NHHnValz37GB"
      }
    },
    {
      "cell_type": "code",
      "source": [
        "df_try1 = df_try.copy()"
      ],
      "metadata": {
        "id": "uTcL5oEB8jpm"
      },
      "execution_count": null,
      "outputs": []
    },
    {
      "cell_type": "code",
      "source": [
        "df_try1['ShapeFactor9'] = (2* math.pi * (df_all['Solidity'] + np.sqrt(df_all['Compactness']))) / df_all['EquivDiameter']"
      ],
      "metadata": {
        "id": "0PntJFcR9wL9"
      },
      "execution_count": null,
      "outputs": []
    },
    {
      "cell_type": "code",
      "source": [
        "plt.figure(figsize=(20,20))\n",
        "sns.heatmap(df_try1.corr(\"pearson\"),vmin=-1, vmax=1,cmap='coolwarm',annot=True, square=True)"
      ],
      "metadata": {
        "id": "FAOqk4Nn3Ya5"
      },
      "execution_count": null,
      "outputs": []
    },
    {
      "cell_type": "code",
      "source": [
        "df_try1.to_csv('/content/drive/MyDrive/Dry Beans Classification Competition/Dataset/Data_New_R2.csv', index=False)"
      ],
      "metadata": {
        "id": "Y2UCOasx3l0A"
      },
      "execution_count": null,
      "outputs": []
    },
    {
      "cell_type": "code",
      "source": [
        "df_try1.head()"
      ],
      "metadata": {
        "id": "7Lc-9g-BJoME"
      },
      "execution_count": null,
      "outputs": []
    },
    {
      "cell_type": "code",
      "source": [
        "round(df_try1.isnull().sum(axis=0)*100/df_try1.shape[0],2)"
      ],
      "metadata": {
        "id": "VcFYTSSiAsF3"
      },
      "execution_count": null,
      "outputs": []
    },
    {
      "cell_type": "code",
      "source": [
        "bool_series = df_try1.duplicated().sum()\n",
        "bool_series "
      ],
      "metadata": {
        "id": "idRqb2KwBAEy"
      },
      "execution_count": null,
      "outputs": []
    },
    {
      "cell_type": "code",
      "source": [
        ""
      ],
      "metadata": {
        "id": "2Cxb7wFwBAHd"
      },
      "execution_count": null,
      "outputs": []
    },
    {
      "cell_type": "code",
      "source": [
        ""
      ],
      "metadata": {
        "id": "PBg0fNGkAsIp"
      },
      "execution_count": null,
      "outputs": []
    },
    {
      "cell_type": "code",
      "source": [
        "df_all['ShapeFactor9'] = 2 * math.pi * (df_all['Solidity'] + df_all['Eccentricity'])"
      ],
      "metadata": {
        "id": "XXcGdXXn3Ydj"
      },
      "execution_count": null,
      "outputs": []
    },
    {
      "cell_type": "code",
      "source": [
        "plt.figure(figsize=(20,20))\n",
        "sns.heatmap(df_all.corr(\"pearson\"),vmin=-1, vmax=1,cmap='coolwarm',annot=True, square=True)"
      ],
      "metadata": {
        "id": "d0fvpZ7y3YgR"
      },
      "execution_count": null,
      "outputs": []
    },
    {
      "cell_type": "code",
      "source": [
        ""
      ],
      "metadata": {
        "id": "boUK0OdzYiuW"
      },
      "execution_count": null,
      "outputs": []
    },
    {
      "cell_type": "code",
      "source": [
        ""
      ],
      "metadata": {
        "id": "BS1BbUSvYixC"
      },
      "execution_count": null,
      "outputs": []
    },
    {
      "cell_type": "markdown",
      "source": [
        ">## Cross Validation"
      ],
      "metadata": {
        "id": "7RoiO5NGGezj"
      }
    },
    {
      "cell_type": "code",
      "source": [
        "# # cross validation on all data\n",
        "# def apply_stratified_KFold(df_all):\n",
        "#   data = df_all.values\n",
        "#   x, y = data[:, :-1], data[:, -1]\n",
        "#   skf = StratifiedKFold(n_splits=5)\n",
        "#   skf.get_n_splits(x, y)\n",
        "#   col_names = df_all.columns.to_list()\n",
        "#   StratifiedKFold(n_splits=5, random_state=None, shuffle=False)\n",
        "#   train_dfs,valid_dfs =list(),list()\n",
        " \n",
        "#   for train_index, test_index in skf.split(x, y):\n",
        "#       #print(\"TRAIN:\", train_index, \"TEST:\", test_index)\n",
        "#       X_train, X_test = x[train_index], x[test_index]\n",
        "#       y_train, y_test = y[train_index], y[test_index]\n",
        "#       trainX = pd.DataFrame(X_train)\n",
        "#       trainy = pd.DataFrame(y_train)\n",
        "\n",
        "#       testX = pd.DataFrame(X_test)\n",
        "#       testy = pd.DataFrame(y_test)\n",
        "\n",
        "#       train=pd.concat([trainX,trainy],axis=1)\n",
        "#       test=pd.concat([testX,testy],axis=1)\n",
        "      \n",
        "#       train.columns = col_names\n",
        "\n",
        "#       test.columns = col_names\n",
        "    \n",
        "#       train_dfs.append(train)\n",
        "#       valid_dfs.append(test)\n",
        "\n",
        "#   return train_dfs ,valid_dfs"
      ],
      "metadata": {
        "id": "Hi4PZ_fEakSD"
      },
      "execution_count": null,
      "outputs": []
    },
    {
      "cell_type": "markdown",
      "source": [
        ">## Feature Selection"
      ],
      "metadata": {
        "id": "DYH2UZKWHYXI"
      }
    },
    {
      "cell_type": "code",
      "source": [
        ""
      ],
      "metadata": {
        "id": "cs7Qj5HL4nXC"
      },
      "execution_count": null,
      "outputs": []
    },
    {
      "cell_type": "code",
      "source": [
        "df_try.columns"
      ],
      "metadata": {
        "id": "W5WkAiUU4nb1"
      },
      "execution_count": null,
      "outputs": []
    },
    {
      "cell_type": "code",
      "source": [
        "X = df_try.drop(['y'], axis=1)\n",
        "y = df_try['y']\n",
        "print(X)\n",
        "print(y)"
      ],
      "metadata": {
        "id": "rcV_0vta9kZg"
      },
      "execution_count": null,
      "outputs": []
    },
    {
      "cell_type": "markdown",
      "source": [
        "## A. Filter Methods"
      ],
      "metadata": {
        "id": "QkMVfNE48kjE"
      }
    },
    {
      "cell_type": "markdown",
      "source": [
        "## 1. Information Gain"
      ],
      "metadata": {
        "id": "M20uainE8p9Z"
      }
    },
    {
      "cell_type": "code",
      "source": [
        "from sklearn.feature_selection import mutual_info_classif\n",
        "import matplotlib.pyplot as plt\n",
        "%matplotlib inline\n",
        "\n",
        "importances = mutual_info_classif(X,y)\n",
        "feat_importances = pd.Series(importances , df_try.columns[0:len(df_try.columns)-1])\n",
        "feat_importances.plot(kind='barh', color='teal')\n",
        "plt.show()"
      ],
      "metadata": {
        "id": "Iw3SdnBL8pZZ"
      },
      "execution_count": null,
      "outputs": []
    },
    {
      "cell_type": "code",
      "source": [
        "# X = X.drop(['Area'], axis=1)"
      ],
      "metadata": {
        "id": "oaqyYqqsddu4"
      },
      "execution_count": null,
      "outputs": []
    },
    {
      "cell_type": "code",
      "source": [
        "# X = X.drop(['Perimeter'], axis=1)"
      ],
      "metadata": {
        "id": "Isd--9pA5Ssv"
      },
      "execution_count": null,
      "outputs": []
    },
    {
      "cell_type": "code",
      "source": [
        "# X = X.drop(['MinorAxisLength'], axis=1)"
      ],
      "metadata": {
        "id": "1GKnPGw_5YDX"
      },
      "execution_count": null,
      "outputs": []
    },
    {
      "cell_type": "code",
      "source": [
        "# X = X.drop(['MajorAxisLength'], axis=1)"
      ],
      "metadata": {
        "id": "lCLLvMhh5YlQ"
      },
      "execution_count": null,
      "outputs": []
    },
    {
      "cell_type": "code",
      "source": [
        "# X = X.drop(['AspectRation'], axis=1)"
      ],
      "metadata": {
        "id": "i-9NUWiV5Ypm"
      },
      "execution_count": null,
      "outputs": []
    },
    {
      "cell_type": "code",
      "source": [
        "# X = X.drop(['Eccentricity'], axis=1)"
      ],
      "metadata": {
        "id": "EulOgN8k5hcC"
      },
      "execution_count": null,
      "outputs": []
    },
    {
      "cell_type": "code",
      "source": [
        "X = X.drop(['ConvexArea'], axis=1) #high"
      ],
      "metadata": {
        "id": "xSGD8LIx5hgX"
      },
      "execution_count": null,
      "outputs": []
    },
    {
      "cell_type": "code",
      "source": [
        "X = X.drop(['EquivDiameter'], axis=1) #high"
      ],
      "metadata": {
        "id": "nbzUIMDH5hl5"
      },
      "execution_count": null,
      "outputs": []
    },
    {
      "cell_type": "code",
      "source": [
        "# X = X.drop(['Extent'], axis=1)"
      ],
      "metadata": {
        "id": "cgFrJu7w6I9k"
      },
      "execution_count": null,
      "outputs": []
    },
    {
      "cell_type": "code",
      "source": [
        "# X = X.drop(['Solidity'], axis=1)"
      ],
      "metadata": {
        "id": "oPe8MI0c6JDs"
      },
      "execution_count": null,
      "outputs": []
    },
    {
      "cell_type": "code",
      "source": [
        ""
      ],
      "metadata": {
        "id": "L2fGyXUY7hLC"
      },
      "execution_count": null,
      "outputs": []
    },
    {
      "cell_type": "code",
      "source": [
        "# X = X.drop(['roundness'], axis=1)"
      ],
      "metadata": {
        "id": "JbtpDg_F7hOB"
      },
      "execution_count": null,
      "outputs": []
    },
    {
      "cell_type": "code",
      "source": [
        "X = X.drop(['Compactness'], axis=1) #high"
      ],
      "metadata": {
        "id": "XfsgKAW-7xyn"
      },
      "execution_count": null,
      "outputs": []
    },
    {
      "cell_type": "code",
      "source": [
        "# X = X.drop(['ShapeFactor1'], axis=1)"
      ],
      "metadata": {
        "id": "HvGTutIN7q6g"
      },
      "execution_count": null,
      "outputs": []
    },
    {
      "cell_type": "code",
      "source": [
        "# X = X.drop(['ShapeFactor2'], axis=1)"
      ],
      "metadata": {
        "id": "M7NmZTb47q9e"
      },
      "execution_count": null,
      "outputs": []
    },
    {
      "cell_type": "code",
      "source": [
        "# X = X.drop(['ShapeFactor3'], axis=1)"
      ],
      "metadata": {
        "id": "AWZOGT8S76Y9"
      },
      "execution_count": null,
      "outputs": []
    },
    {
      "cell_type": "code",
      "source": [
        "# X = X.drop(['ShapeFactor4'], axis=1)"
      ],
      "metadata": {
        "id": "X6y0Xcoq76cV"
      },
      "execution_count": null,
      "outputs": []
    },
    {
      "cell_type": "code",
      "source": [
        "# X = X.drop(['Bounding_rectangular_area'], axis=1)"
      ],
      "metadata": {
        "id": "rDhC_Umfdd5i"
      },
      "execution_count": null,
      "outputs": []
    },
    {
      "cell_type": "code",
      "source": [
        "# X = X.drop(['Area_ConvexArea'], axis=1)"
      ],
      "metadata": {
        "id": "tydd11DN76wV"
      },
      "execution_count": null,
      "outputs": []
    },
    {
      "cell_type": "code",
      "source": [
        "# X = X.drop(['Circle_Area_ED'], axis=1)"
      ],
      "metadata": {
        "id": "-zQEASaedyqi"
      },
      "execution_count": null,
      "outputs": []
    },
    {
      "cell_type": "code",
      "source": [
        "# X = X.drop(['Circle_circumference_ED'], axis=1)"
      ],
      "metadata": {
        "id": "TYNjkZ7Y8gRl"
      },
      "execution_count": null,
      "outputs": []
    },
    {
      "cell_type": "code",
      "source": [
        ""
      ],
      "metadata": {
        "id": "BTq9NDiE8gUw"
      },
      "execution_count": null,
      "outputs": []
    },
    {
      "cell_type": "code",
      "source": [
        "# X = X.drop(['Fibre_width'], axis=1)"
      ],
      "metadata": {
        "id": "qc9vFX9Sdywm"
      },
      "execution_count": null,
      "outputs": []
    },
    {
      "cell_type": "code",
      "source": [
        "# X = X.drop(['Fibre_length'], axis=1)"
      ],
      "metadata": {
        "id": "YlxOMTl-dyzp"
      },
      "execution_count": null,
      "outputs": []
    },
    {
      "cell_type": "code",
      "source": [
        "X = X.drop(['ShapeFactor5'], axis=1) #high"
      ],
      "metadata": {
        "id": "wDAA-IvAdd9Q"
      },
      "execution_count": null,
      "outputs": []
    },
    {
      "cell_type": "code",
      "source": [
        "# X = X.drop(['Area_Circumference_ratio'], axis=1)"
      ],
      "metadata": {
        "id": "mZFXgGkodeAr"
      },
      "execution_count": null,
      "outputs": []
    },
    {
      "cell_type": "code",
      "source": [
        "# X = X.drop(['ShapeFactor6'], axis=1)"
      ],
      "metadata": {
        "id": "s3ZqKK0o3VND"
      },
      "execution_count": null,
      "outputs": []
    },
    {
      "cell_type": "code",
      "source": [
        "# X = X.drop(['ShapeFactor7'], axis=1)"
      ],
      "metadata": {
        "id": "GIB9ERKd3VTj"
      },
      "execution_count": null,
      "outputs": []
    },
    {
      "cell_type": "code",
      "source": [
        "# X = X.drop(['ShapeFactor8'], axis=1)"
      ],
      "metadata": {
        "id": "20Cm_to1d_kQ"
      },
      "execution_count": null,
      "outputs": []
    },
    {
      "cell_type": "code",
      "source": [
        ""
      ],
      "metadata": {
        "id": "BCJlst0828AU"
      },
      "execution_count": null,
      "outputs": []
    },
    {
      "cell_type": "code",
      "source": [
        "X_train, X_test, y_train, y_test = My_train_test_split(X, y)"
      ],
      "metadata": {
        "id": "BLrPmE0DCu1n"
      },
      "execution_count": null,
      "outputs": []
    },
    {
      "cell_type": "code",
      "source": [
        "oversampled_train = apply_Upsmote_Training(X_train, y_train)\n",
        "oversampled_train"
      ],
      "metadata": {
        "id": "bsp6Muf5DKHm"
      },
      "execution_count": null,
      "outputs": []
    },
    {
      "cell_type": "code",
      "source": [
        "X_train = oversampled_train.drop(['y'], axis=1)\n",
        "y_train = oversampled_train['y']\n",
        "print(X_train)\n",
        "print(y_train)"
      ],
      "metadata": {
        "id": "yBPcxcdHG_rL"
      },
      "execution_count": null,
      "outputs": []
    },
    {
      "cell_type": "code",
      "source": [
        "oversampled_Test = apply_Upsmote_valid(X_test, y_test)\n",
        "oversampled_Test"
      ],
      "metadata": {
        "id": "sEKXxRzTDKKV"
      },
      "execution_count": null,
      "outputs": []
    },
    {
      "cell_type": "code",
      "source": [
        "X_test = oversampled_Test.drop(['y'], axis=1)\n",
        "y_test = oversampled_Test['y']\n",
        "print(X_test)\n",
        "print(y_test)"
      ],
      "metadata": {
        "id": "quC96w4AG1sJ"
      },
      "execution_count": null,
      "outputs": []
    },
    {
      "cell_type": "code",
      "source": [
        "X_train_scaled = apply_RobustScaler(X_train)\n",
        "X_train_scaled.head()"
      ],
      "metadata": {
        "id": "cLEAwdKrCykU"
      },
      "execution_count": null,
      "outputs": []
    },
    {
      "cell_type": "code",
      "source": [
        "X_train = X_train_scaled"
      ],
      "metadata": {
        "id": "VrEMC_CGJUqr"
      },
      "execution_count": null,
      "outputs": []
    },
    {
      "cell_type": "code",
      "source": [
        "X_test_scaled = apply_RobustScaler(X_test)\n",
        "X_test_scaled.head()"
      ],
      "metadata": {
        "id": "P1Q0ItwAC6bV"
      },
      "execution_count": null,
      "outputs": []
    },
    {
      "cell_type": "code",
      "source": [
        "X_test = X_test_scaled"
      ],
      "metadata": {
        "id": "_Q90obtVJZWG"
      },
      "execution_count": null,
      "outputs": []
    },
    {
      "cell_type": "code",
      "source": [
        "best_params =  {'C': 100, 'gamma': 1, 'kernel': 'poly'}\n",
        "svm_clf = SVC(**best_params)\n",
        "svm_clf.fit(X_train, y_train)\n",
        "print_score(svm_clf, X_train, y_train,X_test, y_test, train=True)\n",
        "print_score(svm_clf, X_train, y_train,X_test, y_test, train=False)"
      ],
      "metadata": {
        "id": "RCWOZOAJ9wYw"
      },
      "execution_count": null,
      "outputs": []
    },
    {
      "cell_type": "code",
      "source": [
        ""
      ],
      "metadata": {
        "id": "AoaQpfzMBU0F"
      },
      "execution_count": null,
      "outputs": []
    },
    {
      "cell_type": "code",
      "source": [
        ""
      ],
      "metadata": {
        "id": "iBPBHdC3BU2i"
      },
      "execution_count": null,
      "outputs": []
    },
    {
      "cell_type": "code",
      "source": [
        ""
      ],
      "metadata": {
        "id": "wMd2ZxDjBU48"
      },
      "execution_count": null,
      "outputs": []
    },
    {
      "cell_type": "markdown",
      "source": [
        "## 2. Fisher's Score"
      ],
      "metadata": {
        "id": "u_dy3zj9-fPt"
      }
    },
    {
      "cell_type": "code",
      "source": [
        ""
      ],
      "metadata": {
        "id": "rFLvkI6TBgxc"
      },
      "execution_count": null,
      "outputs": []
    },
    {
      "cell_type": "code",
      "source": [
        "from skfeature.function.similarity_based import fisher_score\n",
        "import matplotlib.pyplot as plt\n",
        "%matplotlib inline\n",
        "\n",
        "ranks = fisher_score.fisher_score(X,y)\n",
        "feat_importances = pd.Series(ranks, df_try.columns[0:len(df_try.columns)-1])\n",
        "feat_importances.plot(kind='barh', color='teal')\n",
        "plt.show()"
      ],
      "metadata": {
        "id": "NT7VbiWr8iqR"
      },
      "execution_count": null,
      "outputs": []
    },
    {
      "cell_type": "markdown",
      "source": [
        "## 3. MAD Mean Absolute Difference"
      ],
      "metadata": {
        "id": "dPI-uo2m_TcF"
      }
    },
    {
      "cell_type": "code",
      "source": [
        "mean_abs_diff = np.sum(np.abs(np.abs(X-np.mean(X,axis=0))))/X.shape[0]\n",
        "plt.bar(np.arange(X.shape[1]), mean_abs_diff, color='teal')"
      ],
      "metadata": {
        "id": "fJmBiUUW8is4"
      },
      "execution_count": null,
      "outputs": []
    },
    {
      "cell_type": "code",
      "source": [
        ""
      ],
      "metadata": {
        "id": "D421kgsz8iv2"
      },
      "execution_count": null,
      "outputs": []
    },
    {
      "cell_type": "code",
      "source": [
        "from sklearn.tree import DecisionTreeClassifier\n",
        "from sklearn.ensemble import AdaBoostClassifier\n",
        "from sklearn.grid_search import GridSearchCV\n",
        "\n",
        "param_grid = {\"base_estimator__criterion\" : [\"gini\", \"entropy\"],\n",
        "              \"base_estimator__splitter\" :   [\"best\", \"random\"],\n",
        "              \"n_estimators\": [1, 2]\n",
        "             }\n",
        "\n",
        "\n",
        "DTC = DecisionTreeClassifier(random_state = 11, max_features = \"auto\", class_weight = \"auto\",max_depth = None)\n",
        "\n",
        "ABC = AdaBoostClassifier(base_estimator = DTC)\n",
        "\n",
        "# run grid search\n",
        "grid_search_ABC = GridSearchCV(ABC, param_grid=param_grid, scoring = 'roc_auc')"
      ],
      "metadata": {
        "id": "HrP5YGVR8iyu"
      },
      "execution_count": null,
      "outputs": []
    },
    {
      "cell_type": "code",
      "source": [
        ""
      ],
      "metadata": {
        "id": "LL5kMsbP8i1a"
      },
      "execution_count": null,
      "outputs": []
    },
    {
      "cell_type": "code",
      "source": [
        ""
      ],
      "metadata": {
        "id": "-2Zt7sld8i4U"
      },
      "execution_count": null,
      "outputs": []
    },
    {
      "cell_type": "code",
      "source": [
        ""
      ],
      "metadata": {
        "id": "aUIlnKEH8i6-"
      },
      "execution_count": null,
      "outputs": []
    },
    {
      "cell_type": "code",
      "source": [
        "def apply_pca(scaled_X,n_components):\n",
        "  pca = PCA(n_components)\n",
        "  pca.fit(scaled_X)\n",
        "  return pca"
      ],
      "metadata": {
        "id": "natNOoH4PNTs"
      },
      "execution_count": null,
      "outputs": []
    },
    {
      "cell_type": "code",
      "source": [
        "# def apply_svd(scaled_X,n_components):"
      ],
      "metadata": {
        "id": "r_j8NnxY2ncy"
      },
      "execution_count": null,
      "outputs": []
    },
    {
      "cell_type": "code",
      "source": [
        "# def apply_Lasso(scaled_X,n_components):\n",
        "# # "
      ],
      "metadata": {
        "id": "ybxxcngw6RUW"
      },
      "execution_count": null,
      "outputs": []
    },
    {
      "cell_type": "markdown",
      "source": [
        "### 5. Model Tuning and Selection"
      ],
      "metadata": {
        "id": "h2VKqpPGo6-J"
      }
    },
    {
      "cell_type": "markdown",
      "source": [
        "## 1. SVM model"
      ],
      "metadata": {
        "id": "rY5SjHHUUWke"
      }
    },
    {
      "cell_type": "code",
      "source": [
        "svc_model = SVC(C=1.0, kernel='rbf', max_iter=-1, random_state=42, decision_function_shape='ovo', gamma=0.20)\n",
        "svc_model.fit(x_train[model_columns], y_train)\n",
        "predictions_SVC = svc_model.predict(x_val[model_columns])\n",
        "print('Mean_F1_score', f1_score(y_val, predictions_SVC, average='micro'))\n",
        "print(\"Classification Report: \\n\", classification_report(y_val, predictions_SVC))"
      ],
      "metadata": {
        "id": "tPymoCllADQH"
      },
      "execution_count": null,
      "outputs": []
    },
    {
      "cell_type": "markdown",
      "source": [
        "## 2. KNN Model"
      ],
      "metadata": {
        "id": "oPQGqnBXUtSH"
      }
    },
    {
      "cell_type": "code",
      "source": [
        "kn_model = KNeighborsClassifier(algorithm='auto', weights ='distance', n_neighbors=10)\n",
        "kn_model.fit(x_train[model_columns], y_train)\n",
        "predictions_KN = kn_model.predict(x_val[model_columns])\n",
        "print('Mean_F1_score', f1_score(y_val, predictions_KN, average='micro'))\n",
        "print(\"Classification Report: \\n\", classification_report(y_val, predictions_KN))"
      ],
      "metadata": {
        "id": "mtEK98C6gWTY"
      },
      "execution_count": null,
      "outputs": []
    },
    {
      "cell_type": "markdown",
      "source": [
        "## 3. Decision Tree"
      ],
      "metadata": {
        "id": "Gm14h70gWT6F"
      }
    },
    {
      "cell_type": "code",
      "source": [
        "dt_model = DecisionTreeClassifier(max_depth=5, min_samples_split=16, ccp_alpha=0.00001, random_state=42, criterion='gini')\n",
        "dt_model.fit(x_train[model_columns], y_train)\n",
        "predictions_DT = dt_model.predict(x_val[model_columns])\n",
        "print('Mean_F1_score', f1_score(y_val, predictions_DT, average='micro'))\n",
        "print(\"Classification Report: \\n\", classification_report(y_val, predictions_DT))"
      ],
      "metadata": {
        "id": "yVKhYZ0PVaPO"
      },
      "execution_count": null,
      "outputs": []
    },
    {
      "cell_type": "markdown",
      "source": [
        "## 4. MLP Model"
      ],
      "metadata": {
        "id": "T9Pbg0h0cf4B"
      }
    },
    {
      "cell_type": "code",
      "source": [
        "mlp_model = MLPClassifier(solver='adam', activation='logistic', alpha=1e-4, random_state=42, max_iter=1000, early_stopping=True, validation_fraction=0.2, warm_start=True, verbose=False, learning_rate ='adaptive', learning_rate_init=0.01)\n",
        "mlp_model = mlp_model.fit(x_train[model_columns], y_train)\n",
        "predictions_MLP = mlp_model.predict(x_val[model_columns])\n",
        "print('Mean_F1_score', f1_score(y_val, predictions_MLP, average='micro'))\n",
        "print(\"Classification Report\")\n",
        "print(classification_report(y_val, predictions_MLP))"
      ],
      "metadata": {
        "id": "Ghl8_6EwVadv"
      },
      "execution_count": null,
      "outputs": []
    },
    {
      "cell_type": "markdown",
      "source": [
        "## 5. LightGB Model"
      ],
      "metadata": {
        "id": "5AEe7ZxXTbWe"
      }
    },
    {
      "cell_type": "code",
      "source": [
        "lgb_model = LGBMClassifier(objective='multiclass', random_state=42, learning_rate=0.03, reg_alpha=0.0001)\n",
        "lgb_model.fit(x_train[model_columns], y_train)\n",
        "predictions_LGB = lgb_model.predict(x_val[model_columns])\n",
        "print('Mean_F1_score', f1_score(y_val, predictions_LGB, average='micro'))\n",
        "print(\"Classification Report: \\n\", classification_report(y_val, predictions_LGB))"
      ],
      "metadata": {
        "id": "sTNywzE9TXhe"
      },
      "execution_count": null,
      "outputs": []
    },
    {
      "cell_type": "markdown",
      "source": [
        "## Voting Classifier"
      ],
      "metadata": {
        "id": "d8ta-YpWVaou"
      }
    },
    {
      "cell_type": "code",
      "source": [
        "classifiers = [\n",
        "                ('SVC:', svc_model),\n",
        "                ('MLP:', mlp_model),\n",
        "                ('LGB:', lgb_model),\n",
        "#                 ('GB:', gb_model),\n",
        "#                 ('XGB:', xgb_model),\n",
        "#                 ('BAG:', bag_model),\n",
        "                ('KN:', kn_model),\n",
        "#                 ('DT:', dt_model),\n",
        "#                 ('NB:', nb_model),\n",
        "                ]\n",
        "    \n",
        "for clf_name, clf in classifiers:\n",
        "#     clf.fit(x_train[model_columns], y_train)\n",
        "    y_pred = clf.predict(x_val[model_columns])\n",
        "    print(clf_name, f1_score(y_val, y_pred, average='micro'))\n",
        "\n",
        "vc = VotingClassifier(estimators=classifiers)\n",
        "# kfold = StratifiedKFold(n_splits=10, random_state=42)\n",
        "# cv_results = cross_val_score(vc, x_train[model_columns], y_train, cv=kfold, scoring='f1_micro')\n",
        "vc.fit(x_train[model_columns], y_train)\n",
        "y_pred_voting = vc.predict(x_val[model_columns])\n",
        "print()\n",
        "print('Voting Classifier: ',f1_score(y_val, y_pred_voting, average='micro'))"
      ],
      "metadata": {
        "id": "MhkXMr2HVeNu"
      },
      "execution_count": null,
      "outputs": []
    },
    {
      "cell_type": "markdown",
      "source": [
        "# Run"
      ],
      "metadata": {
        "id": "ErWNKtcwY04S"
      }
    },
    {
      "cell_type": "code",
      "source": [
        "def run_experiment(path,modelname):\n",
        "  # 1. raed data\n",
        "  df= read_data(path=path)\n",
        "  # 2. Upsampling\n",
        "  oversampled_data=apply_Upsmote(df)\n",
        "  # 3. Apply Kfold\n",
        "  train_dfs ,valid_dfs= apply_stratifiedKFold(oversampled_data)\n",
        "\n",
        "  # 4. do for each fold\n",
        "  Accuracies_train,Accuracies_valid=list(),list()\n",
        "  for train_df , valid_df in zip(train_dfs,valid_dfs):\n",
        "    train_df= shuffle(train_df)  #1. shuffle\n",
        "    scaler= apply_MinMaxScaler(train_df.iloc[:,:-1])  #2. scaling\n",
        "    scaled_train = scaler.transform(train_df.iloc[:,:-1])\n",
        "    pca = apply_pca(scaled_train ,n_components=7) #3. extract features\n",
        "    pca_train = pca.transform(scaled_train)\n",
        "\n",
        "    # Apply on validation\n",
        "    scaled_valid=scaler.transform(valid_df.iloc[:,:-1])\n",
        "    pca_valid=pca.transform(scaled_valid)\n",
        "\n",
        "    xtrain,ytrain =pca_train,train_df.iloc[:,-1]\n",
        "    xvalid,yvalid =pca_valid,valid_df.iloc[:,-1]\n",
        "    \n",
        "    score_train,f1score_val,model=apply_model(modelname, xtrain,ytrain,xvalid,yvalid) #4. Apply model\n",
        "    Accuracies_train.append(score_train)\n",
        "    Accuracies_valid.append(f1score_val)\n",
        "\n",
        "  return np.mean(Accuracies_train), np.mean(Accuracies_valid),scaler,pca,model"
      ],
      "metadata": {
        "id": "svKWSwpHY3yK"
      },
      "execution_count": null,
      "outputs": []
    },
    {
      "cell_type": "code",
      "source": [
        "# save model \n",
        "with open('model1.pkl', 'wb') as file1:\n",
        "        pickle.dump(voting_model, file1)"
      ],
      "metadata": {
        "id": "uy5RU7tF_JZI"
      },
      "execution_count": null,
      "outputs": []
    },
    {
      "cell_type": "markdown",
      "source": [
        "# Test Kaggle"
      ],
      "metadata": {
        "id": "s9Al5zob6CbO"
      }
    },
    {
      "cell_type": "code",
      "source": [
        "path ='/content/drive/MyDrive/Dry Beans Classification Competition/Dataset/Original/test.csv'\n",
        "df= pd.read_csv(path)\n",
        "df.head()"
      ],
      "metadata": {
        "id": "wEns0m3HC-mp"
      },
      "execution_count": null,
      "outputs": []
    },
    {
      "cell_type": "code",
      "source": [
        "round(df.isnull().sum(axis=0)*100/df.shape[0],2)"
      ],
      "metadata": {
        "id": "iqThDJ30UQUd"
      },
      "execution_count": null,
      "outputs": []
    },
    {
      "cell_type": "code",
      "source": [
        "scaled_df= apply_PowerTransformer(df.iloc[:,1:])\n",
        "# ft_selected=pca.transform(scaled_df)\n",
        "\n",
        "# Load pretrained model\n",
        "pkl_filename='model.pkl'\n",
        "with open(pkl_filename, 'rb') as file:\n",
        "    pretrained_model = pickle.load(file)\n",
        "    prediction= pretrained_model.predict(scaled_df) \n",
        "pred_df= pd.DataFrame(prediction)"
      ],
      "metadata": {
        "id": "dsLUq-ykT66u"
      },
      "execution_count": null,
      "outputs": []
    },
    {
      "cell_type": "code",
      "source": [
        "submit_df =pd.concat([df.iloc[:,0],pred_df],axis=1)\n",
        "submit_df.columns=['ID','y']\n",
        "submit_df.replace({'y':{1:'BARBUNYA',2:'BOMBAY',3:'CALI',4:'DERMASON',5:'HOROZ',6:'SEKER',7:'SIRA'}},inplace=True)\n",
        "submit_df.to_csv('svm_clf_submission.csv', index = False)\n",
        "submit_df"
      ],
      "metadata": {
        "id": "hrwEEgfZUemV"
      },
      "execution_count": null,
      "outputs": []
    }
  ]
}