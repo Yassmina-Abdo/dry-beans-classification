{
  "nbformat": 4,
  "nbformat_minor": 0,
  "metadata": {
    "colab": {
      "name": "trial2_gmm.ipynb",
      "provenance": [],
      "collapsed_sections": [],
      "include_colab_link": true
    },
    "kernelspec": {
      "name": "python3",
      "display_name": "Python 3"
    },
    "language_info": {
      "name": "python"
    },
    "accelerator": "GPU"
  },
  "cells": [
    {
      "cell_type": "markdown",
      "metadata": {
        "id": "view-in-github",
        "colab_type": "text"
      },
      "source": [
        "<a href=\"https://colab.research.google.com/github/Yassmina-Abdo/dry-beans-classification/blob/main/Notebooks/trial2_gmm.ipynb\" target=\"_parent\"><img src=\"https://colab.research.google.com/assets/colab-badge.svg\" alt=\"Open In Colab\"/></a>"
      ]
    },
    {
      "cell_type": "code",
      "source": [
        "from google.colab import drive\n",
        "drive.mount('/content/drive')"
      ],
      "metadata": {
        "colab": {
          "base_uri": "https://localhost:8080/"
        },
        "id": "GS3L0MwDR2FJ",
        "outputId": "4c38797d-5f38-4887-895b-754885ee7040"
      },
      "execution_count": null,
      "outputs": [
        {
          "output_type": "stream",
          "name": "stdout",
          "text": [
            "Drive already mounted at /content/drive; to attempt to forcibly remount, call drive.mount(\"/content/drive\", force_remount=True).\n"
          ]
        }
      ]
    },
    {
      "cell_type": "markdown",
      "source": [
        "# Imports"
      ],
      "metadata": {
        "id": "EblW277ToaXY"
      }
    },
    {
      "cell_type": "code",
      "source": [
        "import warnings\n",
        "warnings.filterwarnings('ignore')\n",
        "from imblearn.over_sampling import SMOTE\n",
        "from sklearn.preprocessing import LabelEncoder\n",
        "import pandas as pd\n",
        "import numpy as np\n",
        "from sklearn.model_selection import StratifiedKFold\n",
        "from sklearn.preprocessing import MinMaxScaler\n",
        "from sklearn.metrics import accuracy_score\n",
        "from sklearn.metrics import f1_score\n",
        "from sklearn.decomposition import PCA\n",
        "from sklearn.utils import shuffle\n",
        "from xgboost import XGBClassifier\n",
        "from sklearn.mixture import GaussianMixture\n",
        "import pickle\n",
        "from sklearn import svm"
      ],
      "metadata": {
        "id": "oUJEsNGQ0AIM"
      },
      "execution_count": null,
      "outputs": []
    },
    {
      "cell_type": "markdown",
      "source": [
        "# Read Data"
      ],
      "metadata": {
        "id": "NhJUCTYmYboC"
      }
    },
    {
      "cell_type": "code",
      "source": [
        "def read_data(path):\n",
        "\n",
        "  df =pd.read_csv(path,index_col='ID')\n",
        "  print(df.shape) \n",
        "  # Target Manual Encoding case train file\n",
        "  df.replace({'y':{'BARBUNYA':1,'BOMBAY':2,'CALI':3,'DERMASON':4,'HOROZ':5,'SEKER':6,'SIRA':7}},inplace=True)\n",
        "  return df "
      ],
      "metadata": {
        "id": "mzsTfmNrtOlX"
      },
      "execution_count": null,
      "outputs": []
    },
    {
      "cell_type": "markdown",
      "source": [
        "# Preprocessing"
      ],
      "metadata": {
        "id": "fgKW4SiYoid8"
      }
    },
    {
      "cell_type": "markdown",
      "source": [
        ">## Upsampling"
      ],
      "metadata": {
        "id": "TfvK9NlBosi6"
      }
    },
    {
      "cell_type": "code",
      "source": [
        "def apply_Upsmote(train_dfs):\n",
        "  # Upsample each class to 3000 sample\n",
        "  data = df.values\n",
        "  x, y = data[:, :-1], data[:, -1]\n",
        "\n",
        "  # set each label to 3000\n",
        "  strategy = {1:3000, 2:3000, 3:3000, 4:3000, 5:3000, 6:3000,7:3000}\n",
        "  oversample = SMOTE(sampling_strategy=strategy)\n",
        "  features, target = oversample.fit_resample(x, y)\n",
        "\n",
        "  # convert to Dataframe\n",
        "  oversampled_data =pd.concat([ pd.DataFrame(features),pd.DataFrame(target)], axis=1)\n",
        "  oversampled_data[0]=oversampled_data[0].astype(int) # set ID col as int\n",
        "  oversampled_data.columns= list(df.columns)\n",
        " \n",
        "  return oversampled_data"
      ],
      "metadata": {
        "id": "vt3s1MofWgB3"
      },
      "execution_count": null,
      "outputs": []
    },
    {
      "cell_type": "code",
      "source": [
        "def get_numofsamples(df):\n",
        "  labels=df.y.unique()\n",
        "  for label in labels:  \n",
        "    print('Number of samples in class {} = {}'.format(label,len(df[df.y == label])))\n"
      ],
      "metadata": {
        "id": "OgIA3ZL_GN7Y"
      },
      "execution_count": null,
      "outputs": []
    },
    {
      "cell_type": "markdown",
      "source": [
        ">## Cross Validation"
      ],
      "metadata": {
        "id": "7RoiO5NGGezj"
      }
    },
    {
      "cell_type": "code",
      "source": [
        "def apply_stratifiedKFold(main_data):\n",
        "  data = main_data.values\n",
        "  x, y = data[:, :-1], data[:, -1]\n",
        "  skf = StratifiedKFold(n_splits=5)\n",
        "  skf.get_n_splits(x, y)\n",
        "  col_names = main_data.columns.to_list()\n",
        "  StratifiedKFold(n_splits=5, random_state=None, shuffle=False)\n",
        "  train_dfs,valid_dfs =list(),list()\n",
        " \n",
        "  for train_index, test_index in skf.split(x, y):\n",
        "    \n",
        "      X_train, X_test = x[train_index], x[test_index]\n",
        "      y_train, y_test = y[train_index], y[test_index]\n",
        "      trainX = pd.DataFrame(X_train)\n",
        "      trainy= pd.DataFrame(y_train)\n",
        "\n",
        "      testX= pd.DataFrame(X_test)\n",
        "      testy=pd.DataFrame(y_test)\n",
        "\n",
        "      train=pd.concat([trainX,trainy],axis=1)\n",
        "      test=pd.concat([testX,testy],axis=1)\n",
        "      \n",
        "      train.columns=col_names\n",
        "\n",
        "      test.columns=col_names\n",
        "    \n",
        "      train_dfs.append(train)\n",
        "      valid_dfs.append(test)\n",
        "\n",
        "  return train_dfs ,valid_dfs\n",
        "\n"
      ],
      "metadata": {
        "id": "Hi4PZ_fEakSD"
      },
      "execution_count": null,
      "outputs": []
    },
    {
      "cell_type": "markdown",
      "source": [
        ">## Scaling"
      ],
      "metadata": {
        "id": "y4O_oOV_agn0"
      }
    },
    {
      "cell_type": "code",
      "source": [
        "def apply_MinMaxScaler(X):\n",
        "  scaler = MinMaxScaler()\n",
        "  scaler.fit(X)\n",
        "  return scaler\n"
      ],
      "metadata": {
        "id": "g5r8Relnakch"
      },
      "execution_count": null,
      "outputs": []
    },
    {
      "cell_type": "markdown",
      "source": [
        ">## Features Extraction"
      ],
      "metadata": {
        "id": "DYH2UZKWHYXI"
      }
    },
    {
      "cell_type": "code",
      "source": [
        "def apply_pca(scaled_X,n_components):\n",
        "  pca = PCA(n_components)\n",
        "  pca.fit(scaled_X)\n",
        "  return pca\n"
      ],
      "metadata": {
        "id": "natNOoH4PNTs"
      },
      "execution_count": null,
      "outputs": []
    },
    {
      "cell_type": "markdown",
      "source": [
        "# Clustering"
      ],
      "metadata": {
        "id": "6vgMk1iGAZrW"
      }
    },
    {
      "cell_type": "code",
      "source": [
        "def apply_gmm(pca_X):\n",
        "  gmm = GaussianMixture(n_components=7)\n",
        "  gmm.fit(pca_X)\n",
        "  probability= gmm.predict_proba(pca_X)\n",
        "  gmm_x = pd.concat([pd.DataFrame(pca_X),pd.DataFrame(probability)],axis=1)\n",
        "  return gmm, gmm_x"
      ],
      "metadata": {
        "id": "HtfzMt6iAdup"
      },
      "execution_count": null,
      "outputs": []
    },
    {
      "cell_type": "markdown",
      "source": [
        "# Model"
      ],
      "metadata": {
        "id": "h2VKqpPGo6-J"
      }
    },
    {
      "cell_type": "code",
      "source": [
        "def apply_model(modelname,xtrain,ytrain,xvalid,yvalid):\n",
        "  if modelname=='XGBoost':\n",
        "    score_train,f1score_val,model=apply_XGBoost(xtrain,ytrain,xvalid,yvalid)\n",
        "\n",
        "  if modelname=='SVM':\n",
        "    score_train,f1score_val,model=apply_svm(xtrain,ytrain,xvalid,yvalid)\n",
        "\n",
        "  return score_train,f1score_val,model"
      ],
      "metadata": {
        "id": "KxKNb4DtohoD"
      },
      "execution_count": null,
      "outputs": []
    },
    {
      "cell_type": "code",
      "source": [
        "def apply_XGBoost(xtrain,ytrain,xvalid,yvalid):\n",
        "  xgb_model = XGBClassifier(learning_rate=0.3 , random_state =42, objective='multi:softmax', max_depth=6, reg_alpha = 0.08, gamma=0.1, verbosity=0) \n",
        "  xgb_model.fit(xtrain,ytrain)\n",
        "  predictions = xgb_model.predict(xvalid)\n",
        "\n",
        "  score_train = xgb_model.score(xtrain, ytrain)\n",
        "  f1score_val = f1_score(yvalid, predictions, average=\"micro\")\n",
        "  print(f'Train score: {score_train} \\t  valiation F1 score : {f1score_val}')\n",
        "  return score_train,f1score_val,xgb_model\n",
        "\n"
      ],
      "metadata": {
        "id": "v096QKIKY3ba"
      },
      "execution_count": null,
      "outputs": []
    },
    {
      "cell_type": "code",
      "source": [
        "def apply_svm(xtrain,ytrain,xvalid,yvalid):\n",
        "  rbf = svm.SVC(C= 100, gamma= 1, kernel= 'rbf')\n",
        "  rbf.fit(xtrain,ytrain)\n",
        "  predictions = rbf.predict(xvalid)\n",
        "\n",
        "  score_train = rbf.score(xtrain, ytrain)\n",
        "  f1score_val = f1_score(yvalid, predictions, average=\"micro\")\n",
        "  print(f'Train score: {score_train} \\t  valiation F1 score : {f1score_val}')\n",
        "  return score_train,f1score_val,rbf\n"
      ],
      "metadata": {
        "id": "F5FbQXBI3fvT"
      },
      "execution_count": null,
      "outputs": []
    },
    {
      "cell_type": "markdown",
      "source": [
        "# Run"
      ],
      "metadata": {
        "id": "ErWNKtcwY04S"
      }
    },
    {
      "cell_type": "code",
      "source": [
        "def run_experiment(path,modelname):\n",
        "  # 1. raed data\n",
        "  main_data= read_data(path=path)\n",
        " \n",
        "  \n",
        "  # 2. Upsampling\n",
        "  df=apply_Upsmote(main_data)\n",
        "  \n",
        "  # 3. Apply Kfold\n",
        "  train_dfs ,valid_dfs= apply_stratifiedKFold(df)\n",
        " \n",
        "  # 4. do for each fold\n",
        "  Accuracies_train,Accuracies_valid=list(),list()\n",
        "  for train_df , valid_df in zip(train_dfs,valid_dfs):\n",
        "    #train_df= shuffle(train_df)  #1. shuffle\n",
        "    scaler= apply_MinMaxScaler(train_df.iloc[:,:-1])  #2. scaling\n",
        "    scaled_train = scaler.transform(train_df.iloc[:,:-1])\n",
        "    pca = apply_pca(scaled_train ,n_components=7) #3. extract features\n",
        "    pca_train = pca.transform(scaled_train)\n",
        "\n",
        "    gmm,gmm_train = apply_gmm(pca_train)\n",
        "\n",
        "    # Apply on validation\n",
        "    scaled_valid=scaler.transform(valid_df.iloc[:,:-1])\n",
        "    pca_valid=pca.transform(scaled_valid)\n",
        "\n",
        "    probability= gmm.predict_proba(pca_valid)\n",
        "    gmm_valid = pd.concat([pd.DataFrame(pca_valid),pd.DataFrame(probability)],axis=1)\n",
        "  \n",
        "\n",
        "    xtrain,ytrain =gmm_train,train_df.iloc[:,-1]\n",
        "    xvalid,yvalid =gmm_valid,valid_df.iloc[:,-1]\n",
        "    \n",
        "    score_train,f1score_val,model=apply_model(modelname, xtrain,ytrain,xvalid,yvalid) #4. Apply model\n",
        "    Accuracies_train.append(score_train)\n",
        "    Accuracies_valid.append(f1score_val)\n",
        "\n",
        "  return np.mean(Accuracies_train), np.mean(Accuracies_valid),scaler,pca,model"
      ],
      "metadata": {
        "id": "svKWSwpHY3yK"
      },
      "execution_count": null,
      "outputs": []
    },
    {
      "cell_type": "code",
      "source": [
        "path ='/content/drive/MyDrive/Dry Beans Classification Competition/Dataset/Original/train.csv'\n",
        "avg_acc_train,avg_acc_valid,scaler,pca,model= run_experiment(path,modelname='SVM')\n",
        "print(f'=========\\nTotal Avg Acc Of Train = {avg_acc_train}  Total Avg Acc Of Valid = {avg_acc_valid}')"
      ],
      "metadata": {
        "id": "iIxPE33wVADk"
      },
      "execution_count": null,
      "outputs": []
    },
    {
      "cell_type": "code",
      "source": [
        "# save model \n",
        "with open('model.pkl', 'wb') as file:\n",
        "        pickle.dump(model, file)"
      ],
      "metadata": {
        "id": "uy5RU7tF_JZI"
      },
      "execution_count": null,
      "outputs": []
    },
    {
      "cell_type": "markdown",
      "source": [
        "# Test"
      ],
      "metadata": {
        "id": "s9Al5zob6CbO"
      }
    },
    {
      "cell_type": "code",
      "source": [
        "path ='/content/drive/MyDrive/Dry Beans Classification Competition/Dataset/Original/test.csv'\n",
        "df= pd.read_csv(path)\n",
        "scaled_df= scaler.transform(df.iloc[:,1:])\n",
        "ft_selected=pca.transform(scaled_df)\n",
        "\n",
        "# Load pretrained model\n",
        "pkl_filename='model.pkl'\n",
        "with open(pkl_filename, 'rb') as file:\n",
        "    pretrained_model = pickle.load(file)\n",
        "\n",
        "prediction= pretrained_model.predict(ft_selected)\n",
        "pred_df= pd.DataFrame(prediction)\n",
        "submit_df =pd.concat([df.iloc[:,0],pred_df],axis=1)\n",
        "submit_df.columns=['ID','y']\n",
        "submit_df.replace({'y':{1:'BARBUNYA',2:'BOMBAY',3:'CALI',4:'DERMASON',5:'HOROZ',6:'SEKER',7:'SIRA'}},inplace=True)\n",
        "submit_df.to_csv('submission.csv',index= False)\n",
        "submit_df"
      ],
      "metadata": {
        "colab": {
          "base_uri": "https://localhost:8080/",
          "height": 424
        },
        "id": "wEns0m3HC-mp",
        "outputId": "1c3c52c3-93be-4532-b2ee-aca178d41bf4"
      },
      "execution_count": null,
      "outputs": [
        {
          "output_type": "execute_result",
          "data": {
            "text/plain": [
              "         ID         y\n",
              "0     10834     HOROZ\n",
              "1     10835  DERMASON\n",
              "2     10836  BARBUNYA\n",
              "3     10837  DERMASON\n",
              "4     10838    BOMBAY\n",
              "...     ...       ...\n",
              "2704  13538      CALI\n",
              "2705  13539     SEKER\n",
              "2706  13540     HOROZ\n",
              "2707  13541  DERMASON\n",
              "2708  13542      SIRA\n",
              "\n",
              "[2709 rows x 2 columns]"
            ],
            "text/html": [
              "\n",
              "  <div id=\"df-f119ca9c-8664-490c-8e8f-3b7d5b26696b\">\n",
              "    <div class=\"colab-df-container\">\n",
              "      <div>\n",
              "<style scoped>\n",
              "    .dataframe tbody tr th:only-of-type {\n",
              "        vertical-align: middle;\n",
              "    }\n",
              "\n",
              "    .dataframe tbody tr th {\n",
              "        vertical-align: top;\n",
              "    }\n",
              "\n",
              "    .dataframe thead th {\n",
              "        text-align: right;\n",
              "    }\n",
              "</style>\n",
              "<table border=\"1\" class=\"dataframe\">\n",
              "  <thead>\n",
              "    <tr style=\"text-align: right;\">\n",
              "      <th></th>\n",
              "      <th>ID</th>\n",
              "      <th>y</th>\n",
              "    </tr>\n",
              "  </thead>\n",
              "  <tbody>\n",
              "    <tr>\n",
              "      <th>0</th>\n",
              "      <td>10834</td>\n",
              "      <td>HOROZ</td>\n",
              "    </tr>\n",
              "    <tr>\n",
              "      <th>1</th>\n",
              "      <td>10835</td>\n",
              "      <td>DERMASON</td>\n",
              "    </tr>\n",
              "    <tr>\n",
              "      <th>2</th>\n",
              "      <td>10836</td>\n",
              "      <td>BARBUNYA</td>\n",
              "    </tr>\n",
              "    <tr>\n",
              "      <th>3</th>\n",
              "      <td>10837</td>\n",
              "      <td>DERMASON</td>\n",
              "    </tr>\n",
              "    <tr>\n",
              "      <th>4</th>\n",
              "      <td>10838</td>\n",
              "      <td>BOMBAY</td>\n",
              "    </tr>\n",
              "    <tr>\n",
              "      <th>...</th>\n",
              "      <td>...</td>\n",
              "      <td>...</td>\n",
              "    </tr>\n",
              "    <tr>\n",
              "      <th>2704</th>\n",
              "      <td>13538</td>\n",
              "      <td>CALI</td>\n",
              "    </tr>\n",
              "    <tr>\n",
              "      <th>2705</th>\n",
              "      <td>13539</td>\n",
              "      <td>SEKER</td>\n",
              "    </tr>\n",
              "    <tr>\n",
              "      <th>2706</th>\n",
              "      <td>13540</td>\n",
              "      <td>HOROZ</td>\n",
              "    </tr>\n",
              "    <tr>\n",
              "      <th>2707</th>\n",
              "      <td>13541</td>\n",
              "      <td>DERMASON</td>\n",
              "    </tr>\n",
              "    <tr>\n",
              "      <th>2708</th>\n",
              "      <td>13542</td>\n",
              "      <td>SIRA</td>\n",
              "    </tr>\n",
              "  </tbody>\n",
              "</table>\n",
              "<p>2709 rows × 2 columns</p>\n",
              "</div>\n",
              "      <button class=\"colab-df-convert\" onclick=\"convertToInteractive('df-f119ca9c-8664-490c-8e8f-3b7d5b26696b')\"\n",
              "              title=\"Convert this dataframe to an interactive table.\"\n",
              "              style=\"display:none;\">\n",
              "        \n",
              "  <svg xmlns=\"http://www.w3.org/2000/svg\" height=\"24px\"viewBox=\"0 0 24 24\"\n",
              "       width=\"24px\">\n",
              "    <path d=\"M0 0h24v24H0V0z\" fill=\"none\"/>\n",
              "    <path d=\"M18.56 5.44l.94 2.06.94-2.06 2.06-.94-2.06-.94-.94-2.06-.94 2.06-2.06.94zm-11 1L8.5 8.5l.94-2.06 2.06-.94-2.06-.94L8.5 2.5l-.94 2.06-2.06.94zm10 10l.94 2.06.94-2.06 2.06-.94-2.06-.94-.94-2.06-.94 2.06-2.06.94z\"/><path d=\"M17.41 7.96l-1.37-1.37c-.4-.4-.92-.59-1.43-.59-.52 0-1.04.2-1.43.59L10.3 9.45l-7.72 7.72c-.78.78-.78 2.05 0 2.83L4 21.41c.39.39.9.59 1.41.59.51 0 1.02-.2 1.41-.59l7.78-7.78 2.81-2.81c.8-.78.8-2.07 0-2.86zM5.41 20L4 18.59l7.72-7.72 1.47 1.35L5.41 20z\"/>\n",
              "  </svg>\n",
              "      </button>\n",
              "      \n",
              "  <style>\n",
              "    .colab-df-container {\n",
              "      display:flex;\n",
              "      flex-wrap:wrap;\n",
              "      gap: 12px;\n",
              "    }\n",
              "\n",
              "    .colab-df-convert {\n",
              "      background-color: #E8F0FE;\n",
              "      border: none;\n",
              "      border-radius: 50%;\n",
              "      cursor: pointer;\n",
              "      display: none;\n",
              "      fill: #1967D2;\n",
              "      height: 32px;\n",
              "      padding: 0 0 0 0;\n",
              "      width: 32px;\n",
              "    }\n",
              "\n",
              "    .colab-df-convert:hover {\n",
              "      background-color: #E2EBFA;\n",
              "      box-shadow: 0px 1px 2px rgba(60, 64, 67, 0.3), 0px 1px 3px 1px rgba(60, 64, 67, 0.15);\n",
              "      fill: #174EA6;\n",
              "    }\n",
              "\n",
              "    [theme=dark] .colab-df-convert {\n",
              "      background-color: #3B4455;\n",
              "      fill: #D2E3FC;\n",
              "    }\n",
              "\n",
              "    [theme=dark] .colab-df-convert:hover {\n",
              "      background-color: #434B5C;\n",
              "      box-shadow: 0px 1px 3px 1px rgba(0, 0, 0, 0.15);\n",
              "      filter: drop-shadow(0px 1px 2px rgba(0, 0, 0, 0.3));\n",
              "      fill: #FFFFFF;\n",
              "    }\n",
              "  </style>\n",
              "\n",
              "      <script>\n",
              "        const buttonEl =\n",
              "          document.querySelector('#df-f119ca9c-8664-490c-8e8f-3b7d5b26696b button.colab-df-convert');\n",
              "        buttonEl.style.display =\n",
              "          google.colab.kernel.accessAllowed ? 'block' : 'none';\n",
              "\n",
              "        async function convertToInteractive(key) {\n",
              "          const element = document.querySelector('#df-f119ca9c-8664-490c-8e8f-3b7d5b26696b');\n",
              "          const dataTable =\n",
              "            await google.colab.kernel.invokeFunction('convertToInteractive',\n",
              "                                                     [key], {});\n",
              "          if (!dataTable) return;\n",
              "\n",
              "          const docLinkHtml = 'Like what you see? Visit the ' +\n",
              "            '<a target=\"_blank\" href=https://colab.research.google.com/notebooks/data_table.ipynb>data table notebook</a>'\n",
              "            + ' to learn more about interactive tables.';\n",
              "          element.innerHTML = '';\n",
              "          dataTable['output_type'] = 'display_data';\n",
              "          await google.colab.output.renderOutput(dataTable, element);\n",
              "          const docLink = document.createElement('div');\n",
              "          docLink.innerHTML = docLinkHtml;\n",
              "          element.appendChild(docLink);\n",
              "        }\n",
              "      </script>\n",
              "    </div>\n",
              "  </div>\n",
              "  "
            ]
          },
          "metadata": {},
          "execution_count": 40
        }
      ]
    }
  ]
}