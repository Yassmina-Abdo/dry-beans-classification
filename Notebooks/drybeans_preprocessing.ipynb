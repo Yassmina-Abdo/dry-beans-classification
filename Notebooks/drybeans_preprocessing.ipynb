{
  "nbformat": 4,
  "nbformat_minor": 0,
  "metadata": {
    "colab": {
      "name": "drybeans_preprocessing.ipynb",
      "provenance": [],
      "collapsed_sections": [],
      "include_colab_link": true
    },
    "kernelspec": {
      "name": "python3",
      "display_name": "Python 3"
    },
    "language_info": {
      "name": "python"
    }
  },
  "cells": [
    {
      "cell_type": "markdown",
      "metadata": {
        "id": "view-in-github",
        "colab_type": "text"
      },
      "source": [
        "<a href=\"https://colab.research.google.com/github/Yassmina-Abdo/dry-beans-classification/blob/main/Notebooks/drybeans_preprocessing.ipynb\" target=\"_parent\"><img src=\"https://colab.research.google.com/assets/colab-badge.svg\" alt=\"Open In Colab\"/></a>"
      ]
    },
    {
      "cell_type": "markdown",
      "source": [
        "# Imports"
      ],
      "metadata": {
        "id": "XgzyMq3xcnUb"
      }
    },
    {
      "cell_type": "code",
      "source": [
        "from google.colab import drive\n",
        "drive.mount('/content/drive')"
      ],
      "metadata": {
        "colab": {
          "base_uri": "https://localhost:8080/"
        },
        "id": "-1rnfCkDdmt8",
        "outputId": "0a043aac-cab1-4e94-ece4-2753a08500a1"
      },
      "execution_count": null,
      "outputs": [
        {
          "output_type": "stream",
          "name": "stdout",
          "text": [
            "Mounted at /content/drive\n"
          ]
        }
      ]
    },
    {
      "cell_type": "code",
      "source": [
        "import warnings\n",
        "warnings.filterwarnings('ignore')\n",
        "from imblearn.over_sampling import SMOTE\n",
        "from sklearn.preprocessing import LabelEncoder\n",
        "import pandas as pd\n",
        "import numpy as np\n",
        "from sklearn.model_selection import StratifiedKFold"
      ],
      "metadata": {
        "id": "3vSTUB9RopjQ"
      },
      "execution_count": null,
      "outputs": []
    },
    {
      "cell_type": "markdown",
      "source": [
        "# 1. Upsampling By SMOTE"
      ],
      "metadata": {
        "id": "JsCeg7I0bb61"
      }
    },
    {
      "cell_type": "code",
      "source": [
        "# Read Data\n",
        "df_train =pd.read_csv('/content/drive/MyDrive/Dry Beans Classification Competition/Dataset/Original/train.csv',index_col='ID')\n",
        "print(df_train.shape)\n",
        "# Sort Col y \n",
        "df_train.sort_values('y', inplace=True)\n",
        "# Target Manual Encoding\n",
        "df_train.replace({'y':{'BARBUNYA':1,'BOMBAY':2,'CALI':3,'DERMASON':4,'HOROZ':5,'SEKER':6,'SIRA':7}},inplace=True) "
      ],
      "metadata": {
        "id": "mxGU2U8Loptb",
        "colab": {
          "base_uri": "https://localhost:8080/"
        },
        "outputId": "6d50132e-7950-4cd5-f560-5091362cf78e"
      },
      "execution_count": null,
      "outputs": [
        {
          "output_type": "stream",
          "name": "stdout",
          "text": [
            "(10834, 17)\n"
          ]
        }
      ]
    },
    {
      "cell_type": "code",
      "source": [
        "def get_numofsamples(df):\n",
        "  labels=df.y.unique()\n",
        "  for label in labels:  \n",
        "    print('Number of samples in class {} = {}'.format(label,len(df[df.y == label])))\n"
      ],
      "metadata": {
        "id": "ytLcZTOOfCkf"
      },
      "execution_count": null,
      "outputs": []
    },
    {
      "cell_type": "code",
      "source": [
        "get_numofsamples(df_train)"
      ],
      "metadata": {
        "colab": {
          "base_uri": "https://localhost:8080/"
        },
        "id": "-xvSR1yniH8B",
        "outputId": "65dc64f6-b0e8-40c0-f464-bb587de1422f"
      },
      "execution_count": null,
      "outputs": [
        {
          "output_type": "stream",
          "name": "stdout",
          "text": [
            "Number of samples in class 1 = 1057\n",
            "Number of samples in class 2 = 418\n",
            "Number of samples in class 3 = 1304\n",
            "Number of samples in class 4 = 2837\n",
            "Number of samples in class 5 = 1488\n",
            "Number of samples in class 6 = 1621\n",
            "Number of samples in class 7 = 2109\n"
          ]
        }
      ]
    },
    {
      "cell_type": "code",
      "source": [
        "# Upsamplint each class to 3000 sample\n",
        "data = df_train.values\n",
        "x, y = data[:, :-1], data[:, -1]\n",
        "\n",
        "# set each label to 3000\n",
        "strategy = {1:3000, 2:3000, 3:3000, 4:3000, 5:3000, 6:3000,7:3000}\n",
        "oversample = SMOTE(sampling_strategy=strategy)\n",
        "features, target = oversample.fit_resample(x, y)\n",
        "\n",
        "# convert to Dataframe\n",
        "train_data =pd.concat([ pd.DataFrame(features),pd.DataFrame(target)], axis=1)\n",
        "train_data[0]=train_data[0].astype(int) # set ID col as int\n",
        "train_data.columns= list(df_train.columns)"
      ],
      "metadata": {
        "id": "zgp0rxlZfROR"
      },
      "execution_count": null,
      "outputs": []
    },
    {
      "cell_type": "code",
      "source": [
        "get_numofsamples(train_data)"
      ],
      "metadata": {
        "id": "wtR2UgxCfUGD",
        "colab": {
          "base_uri": "https://localhost:8080/"
        },
        "outputId": "c0cf6b49-7321-4d02-cf05-ff1a9c4f7530"
      },
      "execution_count": null,
      "outputs": [
        {
          "output_type": "stream",
          "name": "stdout",
          "text": [
            "Number of samples in class 1 = 3000\n",
            "Number of samples in class 2 = 3000\n",
            "Number of samples in class 3 = 3000\n",
            "Number of samples in class 4 = 3000\n",
            "Number of samples in class 5 = 3000\n",
            "Number of samples in class 6 = 3000\n",
            "Number of samples in class 7 = 3000\n"
          ]
        }
      ]
    },
    {
      "cell_type": "code",
      "source": [
        "# Save to csv File\n",
        "train_data.to_csv('/content/drive/MyDrive/Dry Beans Classification Competition/Dataset/Preprocessing/trainvalid_oversample.csv',index_label='ID')"
      ],
      "metadata": {
        "id": "z6nUCzwh1SHb"
      },
      "execution_count": null,
      "outputs": []
    },
    {
      "cell_type": "markdown",
      "source": [
        "#2. Cross Validation"
      ],
      "metadata": {
        "id": "R5j3xyX2KPNB"
      }
    },
    {
      "cell_type": "code",
      "source": [
        "oversampled_data = pd.read_csv('/content/drive/MyDrive/Dry Beans Classification Competition/Dataset/Preprocessing/trainvalid_oversample.csv',index_col='ID')\n",
        "data = oversampled_data.values\n",
        "x, y = data[:, :-1], data[:, -1]"
      ],
      "metadata": {
        "id": "mhimgXaNN00g"
      },
      "execution_count": null,
      "outputs": []
    },
    {
      "cell_type": "code",
      "source": [
        "skf = StratifiedKFold(n_splits=5)\n",
        "skf.get_n_splits(x, y)\n",
        "col_names = oversampled_data.columns.to_list()"
      ],
      "metadata": {
        "id": "Dr8WamhKKlsF"
      },
      "execution_count": null,
      "outputs": []
    },
    {
      "cell_type": "code",
      "source": [
        "StratifiedKFold(n_splits=5, random_state=None, shuffle=False)\n",
        "i=1\n",
        "for train_index, test_index in skf.split(x, y):\n",
        "     print(\"TRAIN:\", train_index, \"TEST:\", test_index)\n",
        "     X_train, X_test = x[train_index], x[test_index]\n",
        "     y_train, y_test = y[train_index], y[test_index]\n",
        "     trainX = pd.DataFrame(X_train)\n",
        "     trainy= pd.DataFrame(y_train)\n",
        "\n",
        "     testX= pd.DataFrame(X_test)\n",
        "     testy=pd.DataFrame(y_test)\n",
        "\n",
        "     train=pd.concat([trainX,trainy],axis=1)\n",
        "     test=pd.concat([testX,testy],axis=1)\n",
        "     \n",
        "     train.columns=col_names\n",
        "\n",
        "     test.columns=col_names\n",
        "\n",
        "     train.to_csv(f'/content/drive/MyDrive/Dry Beans Classification Competition/Dataset/Preprocessing/Train/trial_{i}_train.csv',index_label='ID')\n",
        "     test.to_csv(f'/content/drive/MyDrive/Dry Beans Classification Competition/Dataset/Preprocessing/Validation/trial_{i}_test.csv',index_label='ID')\n",
        "     i+=1\n"
      ],
      "metadata": {
        "colab": {
          "base_uri": "https://localhost:8080/"
        },
        "id": "0mAA4iIr29DQ",
        "outputId": "7d5d1bd6-4042-4c61-9199-0b4516f70091"
      },
      "execution_count": null,
      "outputs": [
        {
          "output_type": "stream",
          "name": "stdout",
          "text": [
            "TRAIN: [  600   601   602 ... 20997 20998 20999] TEST: [    0     1     2 ... 12956 12957 12958]\n",
            "TRAIN: [    0     1     2 ... 20997 20998 20999] TEST: [  600   601   602 ... 13556 13557 13558]\n",
            "TRAIN: [    0     1     2 ... 20997 20998 20999] TEST: [ 2675  2676  2677 ... 18906 18907 18908]\n",
            "TRAIN: [    0     1     2 ... 20997 20998 20999] TEST: [ 4579  4580  4581 ... 20397 20398 20399]\n",
            "TRAIN: [    0     1     2 ... 20397 20398 20399] TEST: [ 5179  5180  5181 ... 20997 20998 20999]\n"
          ]
        }
      ]
    }
  ]
}