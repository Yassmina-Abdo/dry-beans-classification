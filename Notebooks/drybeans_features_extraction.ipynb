{
  "nbformat": 4,
  "nbformat_minor": 0,
  "metadata": {
    "colab": {
      "name": "drybeans_features_extraction.ipynb",
      "provenance": [],
      "include_colab_link": true
    },
    "kernelspec": {
      "name": "python3",
      "display_name": "Python 3"
    },
    "language_info": {
      "name": "python"
    }
  },
  "cells": [
    {
      "cell_type": "markdown",
      "metadata": {
        "id": "view-in-github",
        "colab_type": "text"
      },
      "source": [
        "<a href=\"https://colab.research.google.com/github/Yassmina-Abdo/dry-beans-classification/blob/main/Notebooks/drybeans_features_extraction.ipynb\" target=\"_parent\"><img src=\"https://colab.research.google.com/assets/colab-badge.svg\" alt=\"Open In Colab\"/></a>"
      ]
    },
    {
      "cell_type": "markdown",
      "source": [
        "# Imports"
      ],
      "metadata": {
        "id": "7mUbGgs3m5Ii"
      }
    },
    {
      "cell_type": "code",
      "source": [
        "from google.colab import drive\n",
        "drive.mount('/content/drive')"
      ],
      "metadata": {
        "colab": {
          "base_uri": "https://localhost:8080/"
        },
        "id": "VjLWQAWinJCd",
        "outputId": "7b687c1f-537c-4049-fd37-ef1629d6ace7"
      },
      "execution_count": null,
      "outputs": [
        {
          "output_type": "stream",
          "name": "stdout",
          "text": [
            "Mounted at /content/drive\n"
          ]
        }
      ]
    },
    {
      "cell_type": "code",
      "source": [
        "import warnings\n",
        "warnings.filterwarnings('ignore')\n",
        "import numpy as np\n",
        "import pandas as pd\n",
        "from sklearn.utils import shuffle\n",
        "from sklearn.preprocessing import StandardScaler\n"
      ],
      "metadata": {
        "id": "J1cupyyim-35"
      },
      "execution_count": null,
      "outputs": []
    },
    {
      "cell_type": "markdown",
      "source": [
        "# Statistical Method"
      ],
      "metadata": {
        "id": "-uU3sa6Onznr"
      }
    },
    {
      "cell_type": "code",
      "source": [
        "def extract_stat_features(t):\n",
        "  train = (pd.read_csv(f'/content/drive/MyDrive/Dry Beans Classification Competition/Dataset/Preprocessing/Train/trial_{t}_train.csv',index_col='ID')).to_numpy()\n",
        "  valid = (pd.read_csv(f'/content/drive/MyDrive/Dry Beans Classification Competition/Dataset/Preprocessing/Validation/trial_{t}_test.csv',index_col='ID')).to_numpy()\n",
        "  train_components = np.zeros((train.shape[0], 3))\n",
        "  valid_components = np.zeros((valid.shape[0], 3))\n",
        "\n",
        "  #scaling\n",
        "  scaler = StandardScaler()\n",
        "  scaled_train,scaled_valid = scaler.fit_transform(train[:,:-1]) ,scaler.fit_transform(valid[:,:-1])\n",
        " \n",
        "\n",
        "  for i in range(train.shape[0]):\n",
        "        train_components[i, 0] = np.mean(scaled_train[i, :-1])\n",
        "        train_components[i, 1] = np.std(scaled_train[i, :-1])\n",
        "        train_components[i, 2] = np.sum(np.power(scaled_train[i, :-1], 2))\n",
        "\n",
        "  for i in range(valid.shape[0]):\n",
        "        valid_components[i, 0] = np.mean(scaled_valid[i, :-1])\n",
        "        valid_components[i, 1] = np.std(scaled_valid[i, :-1])\n",
        "        valid_components[i, 2] = np.sum(np.power(scaled_valid[i, :-1], 2)) \n",
        " \n",
        "  df_train =pd.DataFrame( np.concatenate((train_components, train[:,-1].reshape(-1,1)), axis=1))\n",
        "  df_valid =pd.DataFrame( np.concatenate((valid_components, valid[:,-1].reshape(-1,1)), axis=1))\n",
        "\n",
        "\n",
        "  df_train.to_csv(f'/content/drive/MyDrive/Dry Beans Classification Competition/Dataset/Features Extraction/Train/trial_{t}_train.csv',header=None,index=False)\n",
        "  df_valid.to_csv(f'/content/drive/MyDrive/Dry Beans Classification Competition/Dataset/Features Extraction/Validation/trial_{t}_valid.csv',header=None,index=False)\n",
        "\n"
      ],
      "metadata": {
        "id": "TQoMBwVMpweC"
      },
      "execution_count": null,
      "outputs": []
    },
    {
      "cell_type": "markdown",
      "source": [
        "# PCA Method"
      ],
      "metadata": {
        "id": "PsSoTauiPKe_"
      }
    },
    {
      "cell_type": "code",
      "source": [
        "def extract_pca(t):\n",
        "  train = (pd.read_csv(f'/content/drive/MyDrive/Dry Beans Classification Competition/Dataset/Preprocessing/Train/trial_{t}_train.csv',index_col='ID')).to_numpy()\n",
        "  valid = (pd.read_csv(f'/content/drive/MyDrive/Dry Beans Classification Competition/Dataset/Preprocessing/Validation/trial_{t}_test.csv',index_col='ID')).to_numpy()"
      ],
      "metadata": {
        "id": "ERxa4_GZPJtA"
      },
      "execution_count": null,
      "outputs": []
    },
    {
      "cell_type": "code",
      "source": [
        "def run_experiment():\n",
        "  trial_nums=6\n",
        "  for t in range(1,trial_nums):\n",
        "    #extract_stat_features(t)\n",
        "    extract_pca(t)\n"
      ],
      "metadata": {
        "id": "k-Xu3Wrbpwhh"
      },
      "execution_count": null,
      "outputs": []
    },
    {
      "cell_type": "code",
      "source": [
        "run_experiment()"
      ],
      "metadata": {
        "id": "kKfYN-SpuFps"
      },
      "execution_count": null,
      "outputs": []
    }
  ]
}