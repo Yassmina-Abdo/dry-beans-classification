{
  "nbformat": 4,
  "nbformat_minor": 0,
  "metadata": {
    "colab": {
      "name": "drybeans_models",
      "provenance": [],
      "collapsed_sections": [],
      "include_colab_link": true
    },
    "kernelspec": {
      "name": "python3",
      "display_name": "Python 3"
    },
    "language_info": {
      "name": "python"
    }
  },
  "cells": [
    {
      "cell_type": "markdown",
      "metadata": {
        "id": "view-in-github",
        "colab_type": "text"
      },
      "source": [
        "<a href=\"https://colab.research.google.com/github/Yassmina-Abdo/dry-beans-classification/blob/main/Notebooks/drybeans_models.ipynb\" target=\"_parent\"><img src=\"https://colab.research.google.com/assets/colab-badge.svg\" alt=\"Open In Colab\"/></a>"
      ]
    },
    {
      "cell_type": "code",
      "execution_count": null,
      "metadata": {
        "id": "iisjgFPTrRzf",
        "colab": {
          "base_uri": "https://localhost:8080/"
        },
        "outputId": "108f7629-7d57-4841-bf4f-4b5dd9c6f215"
      },
      "outputs": [
        {
          "output_type": "stream",
          "name": "stdout",
          "text": [
            "Mounted at /content/drive\n"
          ]
        }
      ],
      "source": [
        "# Try different models till know which one achieve high accuracy..svm..Knn..\n",
        "from google.colab import drive\n",
        "drive.mount('/content/drive')"
      ]
    },
    {
      "cell_type": "code",
      "source": [
        "#Imports\n",
        "import pandas as pd\n",
        "import numpy as np\n",
        "from sklearn.tree import DecisionTreeClassifier\n",
        "from sklearn.ensemble import RandomForestClassifier\n",
        "from sklearn.naive_bayes import GaussianNB\n",
        "from sklearn.neighbors import KNeighborsClassifier\n",
        "from sklearn import svm\n",
        "from xgboost import XGBClassifier\n",
        "from lightgbm import LGBMClassifier\n",
        "from sklearn.model_selection import train_test_split"
      ],
      "metadata": {
        "id": "MrsTxTlfr5MN"
      },
      "execution_count": null,
      "outputs": []
    },
    {
      "cell_type": "code",
      "source": [
        "import sklearn.model_selection as model_selection\n",
        "from sklearn.metrics import accuracy_score\n",
        "from sklearn.metrics import f1_score"
      ],
      "metadata": {
        "id": "DS0fmWGCxhEg"
      },
      "execution_count": null,
      "outputs": []
    },
    {
      "cell_type": "code",
      "source": [
        ""
      ],
      "metadata": {
        "id": "O-gQX0yiggI6"
      },
      "execution_count": null,
      "outputs": []
    },
    {
      "cell_type": "markdown",
      "source": [
        "## Open Dataframes"
      ],
      "metadata": {
        "id": "LkQuz4z8glmE"
      }
    },
    {
      "cell_type": "code",
      "source": [
        "Xtrain = pd.read_csv('/content/drive/MyDrive/Dry Beans Classification Competition/Dataset/Preprocessing/Train/trial_1_train.csv')\n",
        "Xtrain2 = pd.read_csv('/content/drive/MyDrive/Dry Beans Classification Competition/Dataset/Preprocessing/Train/trial_2_train.csv')\n",
        "Xtrain3 = pd.read_csv('/content/drive/MyDrive/Dry Beans Classification Competition/Dataset/Preprocessing/Train/trial_3_train.csv')\n",
        "Xtrain4 = pd.read_csv('/content/drive/MyDrive/Dry Beans Classification Competition/Dataset/Preprocessing/Train/trial_4_train.csv')\n",
        "Xtrain5 = pd.read_csv('/content/drive/MyDrive/Dry Beans Classification Competition/Dataset/Preprocessing/Train/trial_5_train.csv')"
      ],
      "metadata": {
        "id": "1EHE-VlMgpEK"
      },
      "execution_count": null,
      "outputs": []
    },
    {
      "cell_type": "code",
      "source": [
        "Xtrain.iloc[:,:-1]\n"
      ],
      "metadata": {
        "colab": {
          "base_uri": "https://localhost:8080/",
          "height": 488
        },
        "id": "IEDy9VbFkMhD",
        "outputId": "92e9429a-55ae-44ff-f13b-55d9053825aa"
      },
      "execution_count": null,
      "outputs": [
        {
          "output_type": "execute_result",
          "data": {
            "text/plain": [
              "          ID     Area    Perimeter  MajorAxisLength  MinorAxisLength  \\\n",
              "0          0  65159.0   974.379000       332.821322       250.349632   \n",
              "1          1  80324.0  1099.039000       404.783023       254.228339   \n",
              "2          2  71482.0  1028.478000       368.182573       248.688365   \n",
              "3          3  72779.0  1065.022000       361.290774       258.664936   \n",
              "4          4  66795.0  1067.697000       363.066892       234.761709   \n",
              "...      ...      ...          ...              ...              ...   \n",
              "16795  16795  34175.0   688.415127       250.674618       173.875113   \n",
              "16796  16796  40358.0   760.543315       278.781413       185.323667   \n",
              "16797  16797  48546.0   829.491852       313.307091       198.000413   \n",
              "16798  16798  39067.0   732.031391       268.087258       185.734515   \n",
              "16799  16799  47234.0   833.650514       302.705072       199.561785   \n",
              "\n",
              "       AspectRation  Eccentricity    ConvexArea  EquivDiameter    Extent  \\\n",
              "0          1.329426      0.658930  65995.000000     288.033011  0.840577   \n",
              "1          1.592203      0.778164  81394.000000     319.799458  0.779224   \n",
              "2          1.480498      0.737407  72669.000000     301.684784  0.734935   \n",
              "3          1.396752      0.698155  74246.000000     304.409430  0.729154   \n",
              "4          1.546534      0.762823  68388.000000     291.626534  0.781905   \n",
              "...             ...           ...           ...            ...       ...   \n",
              "16795      1.442259      0.719629  34549.763198     208.598571  0.738536   \n",
              "16796      1.504443      0.746905  40976.834931     226.685661  0.726717   \n",
              "16797      1.582396      0.774949  49049.922470     248.618081  0.758785   \n",
              "16798      1.443423      0.721073  39442.166721     223.029209  0.775997   \n",
              "16799      1.516854      0.751911  47986.320294     245.236224  0.740024   \n",
              "\n",
              "       Solidity  roundness  Compactness  ShapeFactor1  ShapeFactor2  \\\n",
              "0      0.987332   0.862439     0.865428      0.005108      0.001767   \n",
              "1      0.986854   0.835659     0.790052      0.005039      0.001211   \n",
              "2      0.983666   0.849213     0.819389      0.005151      0.001432   \n",
              "3      0.980241   0.806304     0.842561      0.004964      0.001543   \n",
              "4      0.976706   0.736305     0.803231      0.005436      0.001396   \n",
              "...         ...        ...          ...           ...           ...   \n",
              "16795  0.989162   0.906236     0.832309      0.007335      0.002172   \n",
              "16796  0.984917   0.876799     0.813166      0.006908      0.001863   \n",
              "16797  0.989731   0.886637     0.793545      0.006454      0.001579   \n",
              "16798  0.990496   0.916149     0.831937      0.006862      0.002028   \n",
              "16799  0.984332   0.855272     0.810149      0.006409      0.001703   \n",
              "\n",
              "       ShapeFactor3  ShapeFactor4  \n",
              "0          0.748966      0.995695  \n",
              "1          0.624181      0.993823  \n",
              "2          0.671398      0.994004  \n",
              "3          0.709909      0.991566  \n",
              "4          0.645180      0.997792  \n",
              "...             ...           ...  \n",
              "16795      0.692874      0.998523  \n",
              "16796      0.661268      0.994658  \n",
              "16797      0.629726      0.996406  \n",
              "16798      0.692128      0.998987  \n",
              "16799      0.656342      0.995572  \n",
              "\n",
              "[16800 rows x 17 columns]"
            ],
            "text/html": [
              "\n",
              "  <div id=\"df-ef160143-0b07-4237-9ee2-e9e01b4ae383\">\n",
              "    <div class=\"colab-df-container\">\n",
              "      <div>\n",
              "<style scoped>\n",
              "    .dataframe tbody tr th:only-of-type {\n",
              "        vertical-align: middle;\n",
              "    }\n",
              "\n",
              "    .dataframe tbody tr th {\n",
              "        vertical-align: top;\n",
              "    }\n",
              "\n",
              "    .dataframe thead th {\n",
              "        text-align: right;\n",
              "    }\n",
              "</style>\n",
              "<table border=\"1\" class=\"dataframe\">\n",
              "  <thead>\n",
              "    <tr style=\"text-align: right;\">\n",
              "      <th></th>\n",
              "      <th>ID</th>\n",
              "      <th>Area</th>\n",
              "      <th>Perimeter</th>\n",
              "      <th>MajorAxisLength</th>\n",
              "      <th>MinorAxisLength</th>\n",
              "      <th>AspectRation</th>\n",
              "      <th>Eccentricity</th>\n",
              "      <th>ConvexArea</th>\n",
              "      <th>EquivDiameter</th>\n",
              "      <th>Extent</th>\n",
              "      <th>Solidity</th>\n",
              "      <th>roundness</th>\n",
              "      <th>Compactness</th>\n",
              "      <th>ShapeFactor1</th>\n",
              "      <th>ShapeFactor2</th>\n",
              "      <th>ShapeFactor3</th>\n",
              "      <th>ShapeFactor4</th>\n",
              "    </tr>\n",
              "  </thead>\n",
              "  <tbody>\n",
              "    <tr>\n",
              "      <th>0</th>\n",
              "      <td>0</td>\n",
              "      <td>65159.0</td>\n",
              "      <td>974.379000</td>\n",
              "      <td>332.821322</td>\n",
              "      <td>250.349632</td>\n",
              "      <td>1.329426</td>\n",
              "      <td>0.658930</td>\n",
              "      <td>65995.000000</td>\n",
              "      <td>288.033011</td>\n",
              "      <td>0.840577</td>\n",
              "      <td>0.987332</td>\n",
              "      <td>0.862439</td>\n",
              "      <td>0.865428</td>\n",
              "      <td>0.005108</td>\n",
              "      <td>0.001767</td>\n",
              "      <td>0.748966</td>\n",
              "      <td>0.995695</td>\n",
              "    </tr>\n",
              "    <tr>\n",
              "      <th>1</th>\n",
              "      <td>1</td>\n",
              "      <td>80324.0</td>\n",
              "      <td>1099.039000</td>\n",
              "      <td>404.783023</td>\n",
              "      <td>254.228339</td>\n",
              "      <td>1.592203</td>\n",
              "      <td>0.778164</td>\n",
              "      <td>81394.000000</td>\n",
              "      <td>319.799458</td>\n",
              "      <td>0.779224</td>\n",
              "      <td>0.986854</td>\n",
              "      <td>0.835659</td>\n",
              "      <td>0.790052</td>\n",
              "      <td>0.005039</td>\n",
              "      <td>0.001211</td>\n",
              "      <td>0.624181</td>\n",
              "      <td>0.993823</td>\n",
              "    </tr>\n",
              "    <tr>\n",
              "      <th>2</th>\n",
              "      <td>2</td>\n",
              "      <td>71482.0</td>\n",
              "      <td>1028.478000</td>\n",
              "      <td>368.182573</td>\n",
              "      <td>248.688365</td>\n",
              "      <td>1.480498</td>\n",
              "      <td>0.737407</td>\n",
              "      <td>72669.000000</td>\n",
              "      <td>301.684784</td>\n",
              "      <td>0.734935</td>\n",
              "      <td>0.983666</td>\n",
              "      <td>0.849213</td>\n",
              "      <td>0.819389</td>\n",
              "      <td>0.005151</td>\n",
              "      <td>0.001432</td>\n",
              "      <td>0.671398</td>\n",
              "      <td>0.994004</td>\n",
              "    </tr>\n",
              "    <tr>\n",
              "      <th>3</th>\n",
              "      <td>3</td>\n",
              "      <td>72779.0</td>\n",
              "      <td>1065.022000</td>\n",
              "      <td>361.290774</td>\n",
              "      <td>258.664936</td>\n",
              "      <td>1.396752</td>\n",
              "      <td>0.698155</td>\n",
              "      <td>74246.000000</td>\n",
              "      <td>304.409430</td>\n",
              "      <td>0.729154</td>\n",
              "      <td>0.980241</td>\n",
              "      <td>0.806304</td>\n",
              "      <td>0.842561</td>\n",
              "      <td>0.004964</td>\n",
              "      <td>0.001543</td>\n",
              "      <td>0.709909</td>\n",
              "      <td>0.991566</td>\n",
              "    </tr>\n",
              "    <tr>\n",
              "      <th>4</th>\n",
              "      <td>4</td>\n",
              "      <td>66795.0</td>\n",
              "      <td>1067.697000</td>\n",
              "      <td>363.066892</td>\n",
              "      <td>234.761709</td>\n",
              "      <td>1.546534</td>\n",
              "      <td>0.762823</td>\n",
              "      <td>68388.000000</td>\n",
              "      <td>291.626534</td>\n",
              "      <td>0.781905</td>\n",
              "      <td>0.976706</td>\n",
              "      <td>0.736305</td>\n",
              "      <td>0.803231</td>\n",
              "      <td>0.005436</td>\n",
              "      <td>0.001396</td>\n",
              "      <td>0.645180</td>\n",
              "      <td>0.997792</td>\n",
              "    </tr>\n",
              "    <tr>\n",
              "      <th>...</th>\n",
              "      <td>...</td>\n",
              "      <td>...</td>\n",
              "      <td>...</td>\n",
              "      <td>...</td>\n",
              "      <td>...</td>\n",
              "      <td>...</td>\n",
              "      <td>...</td>\n",
              "      <td>...</td>\n",
              "      <td>...</td>\n",
              "      <td>...</td>\n",
              "      <td>...</td>\n",
              "      <td>...</td>\n",
              "      <td>...</td>\n",
              "      <td>...</td>\n",
              "      <td>...</td>\n",
              "      <td>...</td>\n",
              "      <td>...</td>\n",
              "    </tr>\n",
              "    <tr>\n",
              "      <th>16795</th>\n",
              "      <td>16795</td>\n",
              "      <td>34175.0</td>\n",
              "      <td>688.415127</td>\n",
              "      <td>250.674618</td>\n",
              "      <td>173.875113</td>\n",
              "      <td>1.442259</td>\n",
              "      <td>0.719629</td>\n",
              "      <td>34549.763198</td>\n",
              "      <td>208.598571</td>\n",
              "      <td>0.738536</td>\n",
              "      <td>0.989162</td>\n",
              "      <td>0.906236</td>\n",
              "      <td>0.832309</td>\n",
              "      <td>0.007335</td>\n",
              "      <td>0.002172</td>\n",
              "      <td>0.692874</td>\n",
              "      <td>0.998523</td>\n",
              "    </tr>\n",
              "    <tr>\n",
              "      <th>16796</th>\n",
              "      <td>16796</td>\n",
              "      <td>40358.0</td>\n",
              "      <td>760.543315</td>\n",
              "      <td>278.781413</td>\n",
              "      <td>185.323667</td>\n",
              "      <td>1.504443</td>\n",
              "      <td>0.746905</td>\n",
              "      <td>40976.834931</td>\n",
              "      <td>226.685661</td>\n",
              "      <td>0.726717</td>\n",
              "      <td>0.984917</td>\n",
              "      <td>0.876799</td>\n",
              "      <td>0.813166</td>\n",
              "      <td>0.006908</td>\n",
              "      <td>0.001863</td>\n",
              "      <td>0.661268</td>\n",
              "      <td>0.994658</td>\n",
              "    </tr>\n",
              "    <tr>\n",
              "      <th>16797</th>\n",
              "      <td>16797</td>\n",
              "      <td>48546.0</td>\n",
              "      <td>829.491852</td>\n",
              "      <td>313.307091</td>\n",
              "      <td>198.000413</td>\n",
              "      <td>1.582396</td>\n",
              "      <td>0.774949</td>\n",
              "      <td>49049.922470</td>\n",
              "      <td>248.618081</td>\n",
              "      <td>0.758785</td>\n",
              "      <td>0.989731</td>\n",
              "      <td>0.886637</td>\n",
              "      <td>0.793545</td>\n",
              "      <td>0.006454</td>\n",
              "      <td>0.001579</td>\n",
              "      <td>0.629726</td>\n",
              "      <td>0.996406</td>\n",
              "    </tr>\n",
              "    <tr>\n",
              "      <th>16798</th>\n",
              "      <td>16798</td>\n",
              "      <td>39067.0</td>\n",
              "      <td>732.031391</td>\n",
              "      <td>268.087258</td>\n",
              "      <td>185.734515</td>\n",
              "      <td>1.443423</td>\n",
              "      <td>0.721073</td>\n",
              "      <td>39442.166721</td>\n",
              "      <td>223.029209</td>\n",
              "      <td>0.775997</td>\n",
              "      <td>0.990496</td>\n",
              "      <td>0.916149</td>\n",
              "      <td>0.831937</td>\n",
              "      <td>0.006862</td>\n",
              "      <td>0.002028</td>\n",
              "      <td>0.692128</td>\n",
              "      <td>0.998987</td>\n",
              "    </tr>\n",
              "    <tr>\n",
              "      <th>16799</th>\n",
              "      <td>16799</td>\n",
              "      <td>47234.0</td>\n",
              "      <td>833.650514</td>\n",
              "      <td>302.705072</td>\n",
              "      <td>199.561785</td>\n",
              "      <td>1.516854</td>\n",
              "      <td>0.751911</td>\n",
              "      <td>47986.320294</td>\n",
              "      <td>245.236224</td>\n",
              "      <td>0.740024</td>\n",
              "      <td>0.984332</td>\n",
              "      <td>0.855272</td>\n",
              "      <td>0.810149</td>\n",
              "      <td>0.006409</td>\n",
              "      <td>0.001703</td>\n",
              "      <td>0.656342</td>\n",
              "      <td>0.995572</td>\n",
              "    </tr>\n",
              "  </tbody>\n",
              "</table>\n",
              "<p>16800 rows × 17 columns</p>\n",
              "</div>\n",
              "      <button class=\"colab-df-convert\" onclick=\"convertToInteractive('df-ef160143-0b07-4237-9ee2-e9e01b4ae383')\"\n",
              "              title=\"Convert this dataframe to an interactive table.\"\n",
              "              style=\"display:none;\">\n",
              "        \n",
              "  <svg xmlns=\"http://www.w3.org/2000/svg\" height=\"24px\"viewBox=\"0 0 24 24\"\n",
              "       width=\"24px\">\n",
              "    <path d=\"M0 0h24v24H0V0z\" fill=\"none\"/>\n",
              "    <path d=\"M18.56 5.44l.94 2.06.94-2.06 2.06-.94-2.06-.94-.94-2.06-.94 2.06-2.06.94zm-11 1L8.5 8.5l.94-2.06 2.06-.94-2.06-.94L8.5 2.5l-.94 2.06-2.06.94zm10 10l.94 2.06.94-2.06 2.06-.94-2.06-.94-.94-2.06-.94 2.06-2.06.94z\"/><path d=\"M17.41 7.96l-1.37-1.37c-.4-.4-.92-.59-1.43-.59-.52 0-1.04.2-1.43.59L10.3 9.45l-7.72 7.72c-.78.78-.78 2.05 0 2.83L4 21.41c.39.39.9.59 1.41.59.51 0 1.02-.2 1.41-.59l7.78-7.78 2.81-2.81c.8-.78.8-2.07 0-2.86zM5.41 20L4 18.59l7.72-7.72 1.47 1.35L5.41 20z\"/>\n",
              "  </svg>\n",
              "      </button>\n",
              "      \n",
              "  <style>\n",
              "    .colab-df-container {\n",
              "      display:flex;\n",
              "      flex-wrap:wrap;\n",
              "      gap: 12px;\n",
              "    }\n",
              "\n",
              "    .colab-df-convert {\n",
              "      background-color: #E8F0FE;\n",
              "      border: none;\n",
              "      border-radius: 50%;\n",
              "      cursor: pointer;\n",
              "      display: none;\n",
              "      fill: #1967D2;\n",
              "      height: 32px;\n",
              "      padding: 0 0 0 0;\n",
              "      width: 32px;\n",
              "    }\n",
              "\n",
              "    .colab-df-convert:hover {\n",
              "      background-color: #E2EBFA;\n",
              "      box-shadow: 0px 1px 2px rgba(60, 64, 67, 0.3), 0px 1px 3px 1px rgba(60, 64, 67, 0.15);\n",
              "      fill: #174EA6;\n",
              "    }\n",
              "\n",
              "    [theme=dark] .colab-df-convert {\n",
              "      background-color: #3B4455;\n",
              "      fill: #D2E3FC;\n",
              "    }\n",
              "\n",
              "    [theme=dark] .colab-df-convert:hover {\n",
              "      background-color: #434B5C;\n",
              "      box-shadow: 0px 1px 3px 1px rgba(0, 0, 0, 0.15);\n",
              "      filter: drop-shadow(0px 1px 2px rgba(0, 0, 0, 0.3));\n",
              "      fill: #FFFFFF;\n",
              "    }\n",
              "  </style>\n",
              "\n",
              "      <script>\n",
              "        const buttonEl =\n",
              "          document.querySelector('#df-ef160143-0b07-4237-9ee2-e9e01b4ae383 button.colab-df-convert');\n",
              "        buttonEl.style.display =\n",
              "          google.colab.kernel.accessAllowed ? 'block' : 'none';\n",
              "\n",
              "        async function convertToInteractive(key) {\n",
              "          const element = document.querySelector('#df-ef160143-0b07-4237-9ee2-e9e01b4ae383');\n",
              "          const dataTable =\n",
              "            await google.colab.kernel.invokeFunction('convertToInteractive',\n",
              "                                                     [key], {});\n",
              "          if (!dataTable) return;\n",
              "\n",
              "          const docLinkHtml = 'Like what you see? Visit the ' +\n",
              "            '<a target=\"_blank\" href=https://colab.research.google.com/notebooks/data_table.ipynb>data table notebook</a>'\n",
              "            + ' to learn more about interactive tables.';\n",
              "          element.innerHTML = '';\n",
              "          dataTable['output_type'] = 'display_data';\n",
              "          await google.colab.output.renderOutput(dataTable, element);\n",
              "          const docLink = document.createElement('div');\n",
              "          docLink.innerHTML = docLinkHtml;\n",
              "          element.appendChild(docLink);\n",
              "        }\n",
              "      </script>\n",
              "    </div>\n",
              "  </div>\n",
              "  "
            ]
          },
          "metadata": {},
          "execution_count": 24
        }
      ]
    },
    {
      "cell_type": "code",
      "source": [
        "y_train = Xtrain['y']\n",
        "y_train2 = Xtrain2['y']\n",
        "y_train3 = Xtrain3['y']\n",
        "y_train4 = Xtrain4['y']\n",
        "y_train5 = Xtrain5['y']\n",
        "\n",
        "Xtrain = Xtrain.iloc[:,:-1]\n",
        "Xtrain2 = Xtrain2.iloc[:,:-1]\n",
        "Xtrain3 = Xtrain3.iloc[:,:-1]\n",
        "Xtrain4 = Xtrain4.iloc[:,:-1]\n",
        "Xtrain5 = Xtrain5.iloc[:,:-1]"
      ],
      "metadata": {
        "id": "lx8YXDMqje55"
      },
      "execution_count": null,
      "outputs": []
    },
    {
      "cell_type": "code",
      "source": [
        "Xtrain"
      ],
      "metadata": {
        "colab": {
          "base_uri": "https://localhost:8080/",
          "height": 488
        },
        "id": "lzPr5TWyh4So",
        "outputId": "b9c22e66-2e84-4171-9232-021f4085e55d"
      },
      "execution_count": null,
      "outputs": [
        {
          "output_type": "execute_result",
          "data": {
            "text/plain": [
              "          ID     Area    Perimeter  MajorAxisLength  MinorAxisLength  \\\n",
              "0          0  65159.0   974.379000       332.821322       250.349632   \n",
              "1          1  80324.0  1099.039000       404.783023       254.228339   \n",
              "2          2  71482.0  1028.478000       368.182573       248.688365   \n",
              "3          3  72779.0  1065.022000       361.290774       258.664936   \n",
              "4          4  66795.0  1067.697000       363.066892       234.761709   \n",
              "...      ...      ...          ...              ...              ...   \n",
              "16795  16795  34175.0   688.415127       250.674618       173.875113   \n",
              "16796  16796  40358.0   760.543315       278.781413       185.323667   \n",
              "16797  16797  48546.0   829.491852       313.307091       198.000413   \n",
              "16798  16798  39067.0   732.031391       268.087258       185.734515   \n",
              "16799  16799  47234.0   833.650514       302.705072       199.561785   \n",
              "\n",
              "       AspectRation  Eccentricity    ConvexArea  EquivDiameter    Extent  \\\n",
              "0          1.329426      0.658930  65995.000000     288.033011  0.840577   \n",
              "1          1.592203      0.778164  81394.000000     319.799458  0.779224   \n",
              "2          1.480498      0.737407  72669.000000     301.684784  0.734935   \n",
              "3          1.396752      0.698155  74246.000000     304.409430  0.729154   \n",
              "4          1.546534      0.762823  68388.000000     291.626534  0.781905   \n",
              "...             ...           ...           ...            ...       ...   \n",
              "16795      1.442259      0.719629  34549.763198     208.598571  0.738536   \n",
              "16796      1.504443      0.746905  40976.834931     226.685661  0.726717   \n",
              "16797      1.582396      0.774949  49049.922470     248.618081  0.758785   \n",
              "16798      1.443423      0.721073  39442.166721     223.029209  0.775997   \n",
              "16799      1.516854      0.751911  47986.320294     245.236224  0.740024   \n",
              "\n",
              "       Solidity  roundness  Compactness  ShapeFactor1  ShapeFactor2  \\\n",
              "0      0.987332   0.862439     0.865428      0.005108      0.001767   \n",
              "1      0.986854   0.835659     0.790052      0.005039      0.001211   \n",
              "2      0.983666   0.849213     0.819389      0.005151      0.001432   \n",
              "3      0.980241   0.806304     0.842561      0.004964      0.001543   \n",
              "4      0.976706   0.736305     0.803231      0.005436      0.001396   \n",
              "...         ...        ...          ...           ...           ...   \n",
              "16795  0.989162   0.906236     0.832309      0.007335      0.002172   \n",
              "16796  0.984917   0.876799     0.813166      0.006908      0.001863   \n",
              "16797  0.989731   0.886637     0.793545      0.006454      0.001579   \n",
              "16798  0.990496   0.916149     0.831937      0.006862      0.002028   \n",
              "16799  0.984332   0.855272     0.810149      0.006409      0.001703   \n",
              "\n",
              "       ShapeFactor3  ShapeFactor4  \n",
              "0          0.748966      0.995695  \n",
              "1          0.624181      0.993823  \n",
              "2          0.671398      0.994004  \n",
              "3          0.709909      0.991566  \n",
              "4          0.645180      0.997792  \n",
              "...             ...           ...  \n",
              "16795      0.692874      0.998523  \n",
              "16796      0.661268      0.994658  \n",
              "16797      0.629726      0.996406  \n",
              "16798      0.692128      0.998987  \n",
              "16799      0.656342      0.995572  \n",
              "\n",
              "[16800 rows x 17 columns]"
            ],
            "text/html": [
              "\n",
              "  <div id=\"df-b37e7439-3418-49b9-aff2-dce060626357\">\n",
              "    <div class=\"colab-df-container\">\n",
              "      <div>\n",
              "<style scoped>\n",
              "    .dataframe tbody tr th:only-of-type {\n",
              "        vertical-align: middle;\n",
              "    }\n",
              "\n",
              "    .dataframe tbody tr th {\n",
              "        vertical-align: top;\n",
              "    }\n",
              "\n",
              "    .dataframe thead th {\n",
              "        text-align: right;\n",
              "    }\n",
              "</style>\n",
              "<table border=\"1\" class=\"dataframe\">\n",
              "  <thead>\n",
              "    <tr style=\"text-align: right;\">\n",
              "      <th></th>\n",
              "      <th>ID</th>\n",
              "      <th>Area</th>\n",
              "      <th>Perimeter</th>\n",
              "      <th>MajorAxisLength</th>\n",
              "      <th>MinorAxisLength</th>\n",
              "      <th>AspectRation</th>\n",
              "      <th>Eccentricity</th>\n",
              "      <th>ConvexArea</th>\n",
              "      <th>EquivDiameter</th>\n",
              "      <th>Extent</th>\n",
              "      <th>Solidity</th>\n",
              "      <th>roundness</th>\n",
              "      <th>Compactness</th>\n",
              "      <th>ShapeFactor1</th>\n",
              "      <th>ShapeFactor2</th>\n",
              "      <th>ShapeFactor3</th>\n",
              "      <th>ShapeFactor4</th>\n",
              "    </tr>\n",
              "  </thead>\n",
              "  <tbody>\n",
              "    <tr>\n",
              "      <th>0</th>\n",
              "      <td>0</td>\n",
              "      <td>65159.0</td>\n",
              "      <td>974.379000</td>\n",
              "      <td>332.821322</td>\n",
              "      <td>250.349632</td>\n",
              "      <td>1.329426</td>\n",
              "      <td>0.658930</td>\n",
              "      <td>65995.000000</td>\n",
              "      <td>288.033011</td>\n",
              "      <td>0.840577</td>\n",
              "      <td>0.987332</td>\n",
              "      <td>0.862439</td>\n",
              "      <td>0.865428</td>\n",
              "      <td>0.005108</td>\n",
              "      <td>0.001767</td>\n",
              "      <td>0.748966</td>\n",
              "      <td>0.995695</td>\n",
              "    </tr>\n",
              "    <tr>\n",
              "      <th>1</th>\n",
              "      <td>1</td>\n",
              "      <td>80324.0</td>\n",
              "      <td>1099.039000</td>\n",
              "      <td>404.783023</td>\n",
              "      <td>254.228339</td>\n",
              "      <td>1.592203</td>\n",
              "      <td>0.778164</td>\n",
              "      <td>81394.000000</td>\n",
              "      <td>319.799458</td>\n",
              "      <td>0.779224</td>\n",
              "      <td>0.986854</td>\n",
              "      <td>0.835659</td>\n",
              "      <td>0.790052</td>\n",
              "      <td>0.005039</td>\n",
              "      <td>0.001211</td>\n",
              "      <td>0.624181</td>\n",
              "      <td>0.993823</td>\n",
              "    </tr>\n",
              "    <tr>\n",
              "      <th>2</th>\n",
              "      <td>2</td>\n",
              "      <td>71482.0</td>\n",
              "      <td>1028.478000</td>\n",
              "      <td>368.182573</td>\n",
              "      <td>248.688365</td>\n",
              "      <td>1.480498</td>\n",
              "      <td>0.737407</td>\n",
              "      <td>72669.000000</td>\n",
              "      <td>301.684784</td>\n",
              "      <td>0.734935</td>\n",
              "      <td>0.983666</td>\n",
              "      <td>0.849213</td>\n",
              "      <td>0.819389</td>\n",
              "      <td>0.005151</td>\n",
              "      <td>0.001432</td>\n",
              "      <td>0.671398</td>\n",
              "      <td>0.994004</td>\n",
              "    </tr>\n",
              "    <tr>\n",
              "      <th>3</th>\n",
              "      <td>3</td>\n",
              "      <td>72779.0</td>\n",
              "      <td>1065.022000</td>\n",
              "      <td>361.290774</td>\n",
              "      <td>258.664936</td>\n",
              "      <td>1.396752</td>\n",
              "      <td>0.698155</td>\n",
              "      <td>74246.000000</td>\n",
              "      <td>304.409430</td>\n",
              "      <td>0.729154</td>\n",
              "      <td>0.980241</td>\n",
              "      <td>0.806304</td>\n",
              "      <td>0.842561</td>\n",
              "      <td>0.004964</td>\n",
              "      <td>0.001543</td>\n",
              "      <td>0.709909</td>\n",
              "      <td>0.991566</td>\n",
              "    </tr>\n",
              "    <tr>\n",
              "      <th>4</th>\n",
              "      <td>4</td>\n",
              "      <td>66795.0</td>\n",
              "      <td>1067.697000</td>\n",
              "      <td>363.066892</td>\n",
              "      <td>234.761709</td>\n",
              "      <td>1.546534</td>\n",
              "      <td>0.762823</td>\n",
              "      <td>68388.000000</td>\n",
              "      <td>291.626534</td>\n",
              "      <td>0.781905</td>\n",
              "      <td>0.976706</td>\n",
              "      <td>0.736305</td>\n",
              "      <td>0.803231</td>\n",
              "      <td>0.005436</td>\n",
              "      <td>0.001396</td>\n",
              "      <td>0.645180</td>\n",
              "      <td>0.997792</td>\n",
              "    </tr>\n",
              "    <tr>\n",
              "      <th>...</th>\n",
              "      <td>...</td>\n",
              "      <td>...</td>\n",
              "      <td>...</td>\n",
              "      <td>...</td>\n",
              "      <td>...</td>\n",
              "      <td>...</td>\n",
              "      <td>...</td>\n",
              "      <td>...</td>\n",
              "      <td>...</td>\n",
              "      <td>...</td>\n",
              "      <td>...</td>\n",
              "      <td>...</td>\n",
              "      <td>...</td>\n",
              "      <td>...</td>\n",
              "      <td>...</td>\n",
              "      <td>...</td>\n",
              "      <td>...</td>\n",
              "    </tr>\n",
              "    <tr>\n",
              "      <th>16795</th>\n",
              "      <td>16795</td>\n",
              "      <td>34175.0</td>\n",
              "      <td>688.415127</td>\n",
              "      <td>250.674618</td>\n",
              "      <td>173.875113</td>\n",
              "      <td>1.442259</td>\n",
              "      <td>0.719629</td>\n",
              "      <td>34549.763198</td>\n",
              "      <td>208.598571</td>\n",
              "      <td>0.738536</td>\n",
              "      <td>0.989162</td>\n",
              "      <td>0.906236</td>\n",
              "      <td>0.832309</td>\n",
              "      <td>0.007335</td>\n",
              "      <td>0.002172</td>\n",
              "      <td>0.692874</td>\n",
              "      <td>0.998523</td>\n",
              "    </tr>\n",
              "    <tr>\n",
              "      <th>16796</th>\n",
              "      <td>16796</td>\n",
              "      <td>40358.0</td>\n",
              "      <td>760.543315</td>\n",
              "      <td>278.781413</td>\n",
              "      <td>185.323667</td>\n",
              "      <td>1.504443</td>\n",
              "      <td>0.746905</td>\n",
              "      <td>40976.834931</td>\n",
              "      <td>226.685661</td>\n",
              "      <td>0.726717</td>\n",
              "      <td>0.984917</td>\n",
              "      <td>0.876799</td>\n",
              "      <td>0.813166</td>\n",
              "      <td>0.006908</td>\n",
              "      <td>0.001863</td>\n",
              "      <td>0.661268</td>\n",
              "      <td>0.994658</td>\n",
              "    </tr>\n",
              "    <tr>\n",
              "      <th>16797</th>\n",
              "      <td>16797</td>\n",
              "      <td>48546.0</td>\n",
              "      <td>829.491852</td>\n",
              "      <td>313.307091</td>\n",
              "      <td>198.000413</td>\n",
              "      <td>1.582396</td>\n",
              "      <td>0.774949</td>\n",
              "      <td>49049.922470</td>\n",
              "      <td>248.618081</td>\n",
              "      <td>0.758785</td>\n",
              "      <td>0.989731</td>\n",
              "      <td>0.886637</td>\n",
              "      <td>0.793545</td>\n",
              "      <td>0.006454</td>\n",
              "      <td>0.001579</td>\n",
              "      <td>0.629726</td>\n",
              "      <td>0.996406</td>\n",
              "    </tr>\n",
              "    <tr>\n",
              "      <th>16798</th>\n",
              "      <td>16798</td>\n",
              "      <td>39067.0</td>\n",
              "      <td>732.031391</td>\n",
              "      <td>268.087258</td>\n",
              "      <td>185.734515</td>\n",
              "      <td>1.443423</td>\n",
              "      <td>0.721073</td>\n",
              "      <td>39442.166721</td>\n",
              "      <td>223.029209</td>\n",
              "      <td>0.775997</td>\n",
              "      <td>0.990496</td>\n",
              "      <td>0.916149</td>\n",
              "      <td>0.831937</td>\n",
              "      <td>0.006862</td>\n",
              "      <td>0.002028</td>\n",
              "      <td>0.692128</td>\n",
              "      <td>0.998987</td>\n",
              "    </tr>\n",
              "    <tr>\n",
              "      <th>16799</th>\n",
              "      <td>16799</td>\n",
              "      <td>47234.0</td>\n",
              "      <td>833.650514</td>\n",
              "      <td>302.705072</td>\n",
              "      <td>199.561785</td>\n",
              "      <td>1.516854</td>\n",
              "      <td>0.751911</td>\n",
              "      <td>47986.320294</td>\n",
              "      <td>245.236224</td>\n",
              "      <td>0.740024</td>\n",
              "      <td>0.984332</td>\n",
              "      <td>0.855272</td>\n",
              "      <td>0.810149</td>\n",
              "      <td>0.006409</td>\n",
              "      <td>0.001703</td>\n",
              "      <td>0.656342</td>\n",
              "      <td>0.995572</td>\n",
              "    </tr>\n",
              "  </tbody>\n",
              "</table>\n",
              "<p>16800 rows × 17 columns</p>\n",
              "</div>\n",
              "      <button class=\"colab-df-convert\" onclick=\"convertToInteractive('df-b37e7439-3418-49b9-aff2-dce060626357')\"\n",
              "              title=\"Convert this dataframe to an interactive table.\"\n",
              "              style=\"display:none;\">\n",
              "        \n",
              "  <svg xmlns=\"http://www.w3.org/2000/svg\" height=\"24px\"viewBox=\"0 0 24 24\"\n",
              "       width=\"24px\">\n",
              "    <path d=\"M0 0h24v24H0V0z\" fill=\"none\"/>\n",
              "    <path d=\"M18.56 5.44l.94 2.06.94-2.06 2.06-.94-2.06-.94-.94-2.06-.94 2.06-2.06.94zm-11 1L8.5 8.5l.94-2.06 2.06-.94-2.06-.94L8.5 2.5l-.94 2.06-2.06.94zm10 10l.94 2.06.94-2.06 2.06-.94-2.06-.94-.94-2.06-.94 2.06-2.06.94z\"/><path d=\"M17.41 7.96l-1.37-1.37c-.4-.4-.92-.59-1.43-.59-.52 0-1.04.2-1.43.59L10.3 9.45l-7.72 7.72c-.78.78-.78 2.05 0 2.83L4 21.41c.39.39.9.59 1.41.59.51 0 1.02-.2 1.41-.59l7.78-7.78 2.81-2.81c.8-.78.8-2.07 0-2.86zM5.41 20L4 18.59l7.72-7.72 1.47 1.35L5.41 20z\"/>\n",
              "  </svg>\n",
              "      </button>\n",
              "      \n",
              "  <style>\n",
              "    .colab-df-container {\n",
              "      display:flex;\n",
              "      flex-wrap:wrap;\n",
              "      gap: 12px;\n",
              "    }\n",
              "\n",
              "    .colab-df-convert {\n",
              "      background-color: #E8F0FE;\n",
              "      border: none;\n",
              "      border-radius: 50%;\n",
              "      cursor: pointer;\n",
              "      display: none;\n",
              "      fill: #1967D2;\n",
              "      height: 32px;\n",
              "      padding: 0 0 0 0;\n",
              "      width: 32px;\n",
              "    }\n",
              "\n",
              "    .colab-df-convert:hover {\n",
              "      background-color: #E2EBFA;\n",
              "      box-shadow: 0px 1px 2px rgba(60, 64, 67, 0.3), 0px 1px 3px 1px rgba(60, 64, 67, 0.15);\n",
              "      fill: #174EA6;\n",
              "    }\n",
              "\n",
              "    [theme=dark] .colab-df-convert {\n",
              "      background-color: #3B4455;\n",
              "      fill: #D2E3FC;\n",
              "    }\n",
              "\n",
              "    [theme=dark] .colab-df-convert:hover {\n",
              "      background-color: #434B5C;\n",
              "      box-shadow: 0px 1px 3px 1px rgba(0, 0, 0, 0.15);\n",
              "      filter: drop-shadow(0px 1px 2px rgba(0, 0, 0, 0.3));\n",
              "      fill: #FFFFFF;\n",
              "    }\n",
              "  </style>\n",
              "\n",
              "      <script>\n",
              "        const buttonEl =\n",
              "          document.querySelector('#df-b37e7439-3418-49b9-aff2-dce060626357 button.colab-df-convert');\n",
              "        buttonEl.style.display =\n",
              "          google.colab.kernel.accessAllowed ? 'block' : 'none';\n",
              "\n",
              "        async function convertToInteractive(key) {\n",
              "          const element = document.querySelector('#df-b37e7439-3418-49b9-aff2-dce060626357');\n",
              "          const dataTable =\n",
              "            await google.colab.kernel.invokeFunction('convertToInteractive',\n",
              "                                                     [key], {});\n",
              "          if (!dataTable) return;\n",
              "\n",
              "          const docLinkHtml = 'Like what you see? Visit the ' +\n",
              "            '<a target=\"_blank\" href=https://colab.research.google.com/notebooks/data_table.ipynb>data table notebook</a>'\n",
              "            + ' to learn more about interactive tables.';\n",
              "          element.innerHTML = '';\n",
              "          dataTable['output_type'] = 'display_data';\n",
              "          await google.colab.output.renderOutput(dataTable, element);\n",
              "          const docLink = document.createElement('div');\n",
              "          docLink.innerHTML = docLinkHtml;\n",
              "          element.appendChild(docLink);\n",
              "        }\n",
              "      </script>\n",
              "    </div>\n",
              "  </div>\n",
              "  "
            ]
          },
          "metadata": {},
          "execution_count": 26
        }
      ]
    },
    {
      "cell_type": "code",
      "source": [
        "X_test = pd.read_csv('/content/drive/MyDrive/Dry Beans Classification Competition/Dataset/Preprocessing/Validation/trial_1_test.csv')\n",
        "X_test2 = pd.read_csv('/content/drive/MyDrive/Dry Beans Classification Competition/Dataset/Preprocessing/Validation/trial_2_test.csv')\n",
        "X_test3 = pd.read_csv('/content/drive/MyDrive/Dry Beans Classification Competition/Dataset/Preprocessing/Validation/trial_3_test.csv')\n",
        "X_test4 = pd.read_csv('/content/drive/MyDrive/Dry Beans Classification Competition/Dataset/Preprocessing/Validation/trial_4_test.csv')\n",
        "X_test5 = pd.read_csv('/content/drive/MyDrive/Dry Beans Classification Competition/Dataset/Preprocessing/Validation/trial_5_test.csv')"
      ],
      "metadata": {
        "id": "21N67c86hJjY"
      },
      "execution_count": null,
      "outputs": []
    },
    {
      "cell_type": "code",
      "source": [
        "y_test = X_test['y']\n",
        "y_test2 = X_test2['y']\n",
        "y_test3 = X_test3['y']\n",
        "y_test4 = X_test4['y']\n",
        "y_test5 = X_test5['y']\n",
        "\n",
        "X_test = X_test.iloc[:,:-1]\n",
        "X_test2= X_test2.iloc[:,:-1]\n",
        "X_test3 = X_test3.iloc[:,:-1]\n",
        "X_test4 = X_test4.iloc[:,:-1]\n",
        "X_test5 = X_test5.iloc[:,:-1]"
      ],
      "metadata": {
        "id": "tAvbDXYokmGn"
      },
      "execution_count": null,
      "outputs": []
    },
    {
      "cell_type": "code",
      "source": [
        "y_test"
      ],
      "metadata": {
        "colab": {
          "base_uri": "https://localhost:8080/"
        },
        "id": "gQNm7L2nl4S1",
        "outputId": "61d9d49e-6d22-428a-c6c1-3f285ceb1eaf"
      },
      "execution_count": null,
      "outputs": [
        {
          "output_type": "execute_result",
          "data": {
            "text/plain": [
              "0       1.0\n",
              "1       1.0\n",
              "2       1.0\n",
              "3       1.0\n",
              "4       1.0\n",
              "       ... \n",
              "4195    2.0\n",
              "4196    2.0\n",
              "4197    2.0\n",
              "4198    2.0\n",
              "4199    2.0\n",
              "Name: y, Length: 4200, dtype: float64"
            ]
          },
          "metadata": {},
          "execution_count": 44
        }
      ]
    },
    {
      "cell_type": "markdown",
      "source": [
        "## KNN try"
      ],
      "metadata": {
        "id": "Y6SAFa5Tl4_j"
      }
    },
    {
      "cell_type": "code",
      "source": [
        "#K nearest neighbors\n",
        "knn = KNeighborsClassifier(n_neighbors=25)\n",
        "knn.fit(Xtrain, y_train)\n",
        "knn_pred = knn.predict(X_test)\n",
        "print('Mean_F1_score', f1_score(y_test, knn_pred, average='micro'))"
      ],
      "metadata": {
        "colab": {
          "base_uri": "https://localhost:8080/"
        },
        "id": "_JF9Unmwm_EO",
        "outputId": "15ef43d2-c5b8-4b2f-d12e-39fe4a2d0c65"
      },
      "execution_count": null,
      "outputs": [
        {
          "output_type": "stream",
          "name": "stdout",
          "text": [
            "Mean_F1_score 0.6357142857142857\n"
          ]
        }
      ]
    },
    {
      "cell_type": "code",
      "source": [
        "#K nearest neighbors\n",
        "knn = KNeighborsClassifier(n_neighbors=9)\n",
        "knn.fit(Xtrain, y_train)\n",
        "knn_pred = knn.predict(X_test)\n",
        "print('Mean_F1_score', f1_score(y_test, knn_pred, average='micro'))"
      ],
      "metadata": {
        "id": "syaE6RtOr5oC",
        "colab": {
          "base_uri": "https://localhost:8080/"
        },
        "outputId": "5505983c-6ea8-43ac-ea40-0072024b68a1"
      },
      "execution_count": null,
      "outputs": [
        {
          "output_type": "stream",
          "name": "stdout",
          "text": [
            "Mean_F1_score 0.6619047619047619\n"
          ]
        }
      ]
    },
    {
      "cell_type": "code",
      "source": [
        "#K nearest neighbors\n",
        "knn = KNeighborsClassifier(n_neighbors=9)\n",
        "knn.fit(Xtrain2, y_train2)\n",
        "knn_pred = knn.predict(X_test2)\n",
        "print('Mean_F1_score', f1_score(y_test2, knn_pred, average='micro'))"
      ],
      "metadata": {
        "colab": {
          "base_uri": "https://localhost:8080/"
        },
        "id": "wPn1glWPmNZC",
        "outputId": "a8ed513b-11ef-486c-8281-aefbf1b101c3"
      },
      "execution_count": null,
      "outputs": [
        {
          "output_type": "stream",
          "name": "stdout",
          "text": [
            "Mean_F1_score 0.47904761904761906\n"
          ]
        }
      ]
    },
    {
      "cell_type": "code",
      "source": [
        "#K nearest neighbors\n",
        "knn = KNeighborsClassifier(n_neighbors=9)\n",
        "knn.fit(Xtrain3, y_train3)\n",
        "knn_pred = knn.predict(X_test3)\n",
        "print('Mean_F1_score', f1_score(y_test3, knn_pred, average='micro'))"
      ],
      "metadata": {
        "colab": {
          "base_uri": "https://localhost:8080/"
        },
        "id": "PV2xOWAWmpfu",
        "outputId": "689fdff9-83c0-4776-e56d-a1d611f130f4"
      },
      "execution_count": null,
      "outputs": [
        {
          "output_type": "stream",
          "name": "stdout",
          "text": [
            "Mean_F1_score 0.47309523809523807\n"
          ]
        }
      ]
    },
    {
      "cell_type": "code",
      "source": [
        "#K nearest neighbors\n",
        "knn = KNeighborsClassifier(n_neighbors=9)\n",
        "knn.fit(Xtrain4, y_train4)\n",
        "knn_pred = knn.predict(X_test4)\n",
        "print('Mean_F1_score', f1_score(y_test4, knn_pred, average='micro'))"
      ],
      "metadata": {
        "colab": {
          "base_uri": "https://localhost:8080/"
        },
        "id": "z__uI0j0mvxD",
        "outputId": "bcc65e30-b453-41fd-8b9f-8c106e84cd77"
      },
      "execution_count": null,
      "outputs": [
        {
          "output_type": "stream",
          "name": "stdout",
          "text": [
            "Mean_F1_score 0.574047619047619\n"
          ]
        }
      ]
    },
    {
      "cell_type": "code",
      "source": [
        "#K nearest neighbors\n",
        "knn = KNeighborsClassifier(n_neighbors=9)\n",
        "knn.fit(Xtrain5, y_train5)\n",
        "knn_pred = knn.predict(X_test5)\n",
        "print('Mean_F1_score', f1_score(y_test5, knn_pred, average='micro'))"
      ],
      "metadata": {
        "colab": {
          "base_uri": "https://localhost:8080/"
        },
        "id": "iycLp2pRm15d",
        "outputId": "b689c788-ac50-4ce4-b255-76d6e1464163"
      },
      "execution_count": null,
      "outputs": [
        {
          "output_type": "stream",
          "name": "stdout",
          "text": [
            "Mean_F1_score 0.5778571428571428\n"
          ]
        }
      ]
    },
    {
      "cell_type": "markdown",
      "source": [
        "## Decision Tree Try"
      ],
      "metadata": {
        "id": "-lDeMycynZp7"
      }
    },
    {
      "cell_type": "code",
      "source": [
        "#Decision Tree\n",
        "dt = DecisionTreeClassifier()\n",
        "dt.fit(Xtrain, y_train)\n",
        "dt_pred = dt.predict(X_test)\n",
        "print('Mean_F1_score', f1_score(y_test, dt_pred, average='micro'))"
      ],
      "metadata": {
        "id": "N5vMe72axhB1",
        "colab": {
          "base_uri": "https://localhost:8080/"
        },
        "outputId": "7c30b608-1d48-4ad5-8ad8-30df8eee4be0"
      },
      "execution_count": null,
      "outputs": [
        {
          "output_type": "stream",
          "name": "stdout",
          "text": [
            "Mean_F1_score 0.5457142857142857\n"
          ]
        }
      ]
    },
    {
      "cell_type": "code",
      "source": [
        "#Decision Tree\n",
        "dt = DecisionTreeClassifier()\n",
        "dt.fit(Xtrain2, y_train2)\n",
        "dt_pred = dt.predict(X_test2)\n",
        "print('Mean_F1_score', f1_score(y_test2, dt_pred, average='micro'))"
      ],
      "metadata": {
        "colab": {
          "base_uri": "https://localhost:8080/"
        },
        "id": "xWNFXsjlnovT",
        "outputId": "b55ddef6-c47f-4e67-c110-29298b82e7ad"
      },
      "execution_count": null,
      "outputs": [
        {
          "output_type": "stream",
          "name": "stdout",
          "text": [
            "Mean_F1_score 0.3554761904761905\n"
          ]
        }
      ]
    },
    {
      "cell_type": "code",
      "source": [
        "#Decision Tree\n",
        "dt = DecisionTreeClassifier()\n",
        "dt.fit(Xtrain3, y_train3)\n",
        "dt_pred = dt.predict(X_test3)\n",
        "print('Mean_F1_score', f1_score(y_test3, dt_pred, average='micro'))"
      ],
      "metadata": {
        "colab": {
          "base_uri": "https://localhost:8080/"
        },
        "id": "oc-Pjfo6nvMc",
        "outputId": "005c2dab-cab0-4c61-8e94-37d5ee62f421"
      },
      "execution_count": null,
      "outputs": [
        {
          "output_type": "stream",
          "name": "stdout",
          "text": [
            "Mean_F1_score 0.43642857142857144\n"
          ]
        }
      ]
    },
    {
      "cell_type": "code",
      "source": [
        "#Decision Tree\n",
        "dt = DecisionTreeClassifier()\n",
        "dt.fit(Xtrain3, y_train3)\n",
        "dt_pred = dt.predict(X_test3)\n",
        "print('Mean_F1_score', f1_score(y_test3, dt_pred, average='micro'))"
      ],
      "metadata": {
        "colab": {
          "base_uri": "https://localhost:8080/"
        },
        "id": "6vXN9ExDn1MI",
        "outputId": "238f800c-d381-4302-c3a5-05a07ac1b490"
      },
      "execution_count": null,
      "outputs": [
        {
          "output_type": "stream",
          "name": "stdout",
          "text": [
            "Mean_F1_score 0.4388095238095238\n"
          ]
        }
      ]
    },
    {
      "cell_type": "code",
      "source": [
        "#Decision Tree\n",
        "dt = DecisionTreeClassifier()\n",
        "dt.fit(Xtrain4, y_train4)\n",
        "dt_pred = dt.predict(X_test4)\n",
        "print('Mean_F1_score', f1_score(y_test4, dt_pred, average='micro'))"
      ],
      "metadata": {
        "colab": {
          "base_uri": "https://localhost:8080/"
        },
        "id": "YCmHL2NYoPW-",
        "outputId": "bb00f108-7a3b-47c1-9d58-832a9295906b"
      },
      "execution_count": null,
      "outputs": [
        {
          "output_type": "stream",
          "name": "stdout",
          "text": [
            "Mean_F1_score 0.4176190476190476\n"
          ]
        }
      ]
    },
    {
      "cell_type": "code",
      "source": [
        "#Decision Tree\n",
        "dt = DecisionTreeClassifier()\n",
        "dt.fit(Xtrain5, y_train5)\n",
        "dt_pred = dt.predict(X_test5)\n",
        "print('Mean_F1_score', f1_score(y_test5, dt_pred, average='micro'))"
      ],
      "metadata": {
        "colab": {
          "base_uri": "https://localhost:8080/"
        },
        "id": "HBgrT2XMoVqu",
        "outputId": "1da4186c-4bdb-45be-e2e9-8bb76263799c"
      },
      "execution_count": null,
      "outputs": [
        {
          "output_type": "stream",
          "name": "stdout",
          "text": [
            "Mean_F1_score 0.42714285714285716\n"
          ]
        }
      ]
    },
    {
      "cell_type": "markdown",
      "source": [
        "## SVM Try"
      ],
      "metadata": {
        "id": "25GuxJ4ooh9l"
      }
    },
    {
      "cell_type": "code",
      "source": [
        "#SVM rbf\n",
        "#gamma=0.7, C=0.1\n",
        "rbf = svm.SVC(kernel='rbf')\n",
        "rbf.fit(Xtrain, y_train)\n",
        "rbf_pred = rbf.predict(X_test)\n",
        "print('Mean_F1_score', f1_score(y_test, rbf_pred, average='micro'))"
      ],
      "metadata": {
        "id": "Z0f9erinb-16",
        "colab": {
          "base_uri": "https://localhost:8080/"
        },
        "outputId": "1efea5d7-0128-4aa2-a030-93bd32321c34"
      },
      "execution_count": null,
      "outputs": [
        {
          "output_type": "stream",
          "name": "stdout",
          "text": [
            "Mean_F1_score 0.5816666666666667\n"
          ]
        }
      ]
    },
    {
      "cell_type": "code",
      "source": [
        "#SVM rbf\n",
        "#gamma=0.7, C=0.1\n",
        "rbf = svm.SVC(kernel='rbf')\n",
        "rbf.fit(Xtrain2, y_train2)\n",
        "rbf_pred = rbf.predict(X_test2)\n",
        "print('Mean_F1_score', f1_score(y_test2, rbf_pred, average='micro'))"
      ],
      "metadata": {
        "colab": {
          "base_uri": "https://localhost:8080/"
        },
        "id": "JwfLayZXpO1f",
        "outputId": "6bb022aa-624d-4819-bc3e-095df9bea0d3"
      },
      "execution_count": null,
      "outputs": [
        {
          "output_type": "stream",
          "name": "stdout",
          "text": [
            "Mean_F1_score 0.569047619047619\n"
          ]
        }
      ]
    },
    {
      "cell_type": "code",
      "source": [
        "#SVM rbf\n",
        "#gamma=0.7, C=0.1\n",
        "rbf = svm.SVC(kernel='rbf')\n",
        "rbf.fit(Xtrain3, y_train3)\n",
        "rbf_pred = rbf.predict(X_test3)\n",
        "print('Mean_F1_score', f1_score(y_test3, rbf_pred, average='micro'))"
      ],
      "metadata": {
        "colab": {
          "base_uri": "https://localhost:8080/"
        },
        "id": "8GYL7Nwao3O3",
        "outputId": "2f9c04f2-2a80-4ff4-8963-4cf22b7d2992"
      },
      "execution_count": null,
      "outputs": [
        {
          "output_type": "stream",
          "name": "stdout",
          "text": [
            "Mean_F1_score 0.5704761904761905\n"
          ]
        }
      ]
    },
    {
      "cell_type": "code",
      "source": [
        "#SVM rbf\n",
        "#gamma=0.7, C=0.1\n",
        "rbf = svm.SVC(kernel='rbf')\n",
        "rbf.fit(Xtrain4, y_train4)\n",
        "rbf_pred = rbf.predict(X_test4)\n",
        "print('Mean_F1_score', f1_score(y_test4, rbf_pred, average='micro'))"
      ],
      "metadata": {
        "colab": {
          "base_uri": "https://localhost:8080/"
        },
        "id": "wIusBpPgphCX",
        "outputId": "f37b2811-8cea-4729-e936-c90b474373ad"
      },
      "execution_count": null,
      "outputs": [
        {
          "output_type": "stream",
          "name": "stdout",
          "text": [
            "Mean_F1_score 0.5988095238095238\n"
          ]
        }
      ]
    },
    {
      "cell_type": "code",
      "source": [
        "#SVM rbf\n",
        "#gamma=0.7, C=0.1\n",
        "rbf = svm.SVC(kernel='rbf')\n",
        "rbf.fit(Xtrain5, y_train5)\n",
        "rbf_pred = rbf.predict(X_test5)\n",
        "print('Mean_F1_score', f1_score(y_test5, rbf_pred, average='micro'))"
      ],
      "metadata": {
        "colab": {
          "base_uri": "https://localhost:8080/"
        },
        "id": "zVDgXyxXpomo",
        "outputId": "4746032f-7ca2-4ff9-bc58-e6db4b546f15"
      },
      "execution_count": null,
      "outputs": [
        {
          "output_type": "stream",
          "name": "stdout",
          "text": [
            "Mean_F1_score 0.5469047619047619\n"
          ]
        }
      ]
    },
    {
      "cell_type": "code",
      "source": [
        "df_train = pd.read_csv('/content/drive/MyDrive/Dry Beans Classification Competition/Dataset/Original/train.csv')\n",
        "df_test = pd.read_csv('/content/drive/MyDrive/Dry Beans Classification Competition/Dataset/Original/test.csv')"
      ],
      "metadata": {
        "id": "3sh3L67vqt_g"
      },
      "execution_count": null,
      "outputs": []
    },
    {
      "cell_type": "code",
      "source": [
        "df_train_d = df_train.iloc[:,1:-1]\n",
        "df_train_y = df_train['y']"
      ],
      "metadata": {
        "id": "3NnhbfxUtoL-"
      },
      "execution_count": null,
      "outputs": []
    },
    {
      "cell_type": "code",
      "source": [
        "df_train_d"
      ],
      "metadata": {
        "colab": {
          "base_uri": "https://localhost:8080/",
          "height": 488
        },
        "id": "_SnnvM2zwCg8",
        "outputId": "9a0fe73e-e3d2-4655-cd4c-c2377128eb4d"
      },
      "execution_count": null,
      "outputs": [
        {
          "output_type": "execute_result",
          "data": {
            "text/plain": [
              "        Area  Perimeter  MajorAxisLength  MinorAxisLength  AspectRation  \\\n",
              "0      58238    971.303       397.202654       186.945510      2.124697   \n",
              "1      44515    757.601       265.590470       213.967453      1.241266   \n",
              "2      31662    653.783       239.902428       168.421505      1.424417   \n",
              "3      38778    734.020       268.446281       184.061923      1.458456   \n",
              "4      42530    775.403       281.212824       193.236878      1.455275   \n",
              "...      ...        ...              ...              ...           ...   \n",
              "10829  37777    716.007       250.174662       192.704033      1.298233   \n",
              "10830  32187    667.621       247.778775       165.786862      1.494562   \n",
              "10831  81837   1095.937       433.838186       241.527026      1.796230   \n",
              "10832  48212    826.362       309.639462       199.285811      1.553746   \n",
              "10833  28026    610.943       215.446569       165.740377      1.299904   \n",
              "\n",
              "       Eccentricity  ConvexArea  EquivDiameter    Extent  Solidity  roundness  \\\n",
              "0          0.882317       58977     272.306674  0.604756  0.987470   0.775723   \n",
              "1          0.592420       44780     238.071960  0.771745  0.994082   0.974620   \n",
              "2          0.712136       32034     200.781748  0.801407  0.988387   0.930853   \n",
              "3          0.727925       39208     222.201897  0.766137  0.989033   0.904439   \n",
              "4          0.726511       43028     232.703412  0.729816  0.988426   0.888895   \n",
              "...             ...         ...            ...       ...       ...        ...   \n",
              "10829      0.637708       38174     219.315230  0.770519  0.989600   0.925983   \n",
              "10830      0.743179       32582     202.439525  0.731805  0.987877   0.907466   \n",
              "10831      0.830699       82554     322.797312  0.771996  0.991315   0.856226   \n",
              "10832      0.765357       48777     247.760822  0.677002  0.988417   0.887206   \n",
              "10833      0.638903       28302     188.901592  0.776688  0.990248   0.943560   \n",
              "\n",
              "       Compactness  ShapeFactor1  ShapeFactor2  ShapeFactor3  ShapeFactor4  \n",
              "0         0.685561      0.006820      0.000929      0.469994      0.998595  \n",
              "1         0.896387      0.005966      0.002376      0.803510      0.997370  \n",
              "2         0.836931      0.007577      0.002293      0.700453      0.997737  \n",
              "3         0.827733      0.006923      0.002005      0.685142      0.999250  \n",
              "4         0.827499      0.006612      0.001912      0.684755      0.996507  \n",
              "...            ...           ...           ...           ...           ...  \n",
              "10829     0.876648      0.006622      0.002413      0.768513      0.997708  \n",
              "10830     0.817017      0.007698      0.002116      0.667517      0.997646  \n",
              "10831     0.744050      0.005301      0.001002      0.553610      0.994412  \n",
              "10832     0.800159      0.006422      0.001624      0.640255      0.994793  \n",
              "10833     0.876791      0.007687      0.002802      0.768762      0.999317  \n",
              "\n",
              "[10834 rows x 16 columns]"
            ],
            "text/html": [
              "\n",
              "  <div id=\"df-570582a0-e381-40ac-829f-3111b4a0a126\">\n",
              "    <div class=\"colab-df-container\">\n",
              "      <div>\n",
              "<style scoped>\n",
              "    .dataframe tbody tr th:only-of-type {\n",
              "        vertical-align: middle;\n",
              "    }\n",
              "\n",
              "    .dataframe tbody tr th {\n",
              "        vertical-align: top;\n",
              "    }\n",
              "\n",
              "    .dataframe thead th {\n",
              "        text-align: right;\n",
              "    }\n",
              "</style>\n",
              "<table border=\"1\" class=\"dataframe\">\n",
              "  <thead>\n",
              "    <tr style=\"text-align: right;\">\n",
              "      <th></th>\n",
              "      <th>Area</th>\n",
              "      <th>Perimeter</th>\n",
              "      <th>MajorAxisLength</th>\n",
              "      <th>MinorAxisLength</th>\n",
              "      <th>AspectRation</th>\n",
              "      <th>Eccentricity</th>\n",
              "      <th>ConvexArea</th>\n",
              "      <th>EquivDiameter</th>\n",
              "      <th>Extent</th>\n",
              "      <th>Solidity</th>\n",
              "      <th>roundness</th>\n",
              "      <th>Compactness</th>\n",
              "      <th>ShapeFactor1</th>\n",
              "      <th>ShapeFactor2</th>\n",
              "      <th>ShapeFactor3</th>\n",
              "      <th>ShapeFactor4</th>\n",
              "    </tr>\n",
              "  </thead>\n",
              "  <tbody>\n",
              "    <tr>\n",
              "      <th>0</th>\n",
              "      <td>58238</td>\n",
              "      <td>971.303</td>\n",
              "      <td>397.202654</td>\n",
              "      <td>186.945510</td>\n",
              "      <td>2.124697</td>\n",
              "      <td>0.882317</td>\n",
              "      <td>58977</td>\n",
              "      <td>272.306674</td>\n",
              "      <td>0.604756</td>\n",
              "      <td>0.987470</td>\n",
              "      <td>0.775723</td>\n",
              "      <td>0.685561</td>\n",
              "      <td>0.006820</td>\n",
              "      <td>0.000929</td>\n",
              "      <td>0.469994</td>\n",
              "      <td>0.998595</td>\n",
              "    </tr>\n",
              "    <tr>\n",
              "      <th>1</th>\n",
              "      <td>44515</td>\n",
              "      <td>757.601</td>\n",
              "      <td>265.590470</td>\n",
              "      <td>213.967453</td>\n",
              "      <td>1.241266</td>\n",
              "      <td>0.592420</td>\n",
              "      <td>44780</td>\n",
              "      <td>238.071960</td>\n",
              "      <td>0.771745</td>\n",
              "      <td>0.994082</td>\n",
              "      <td>0.974620</td>\n",
              "      <td>0.896387</td>\n",
              "      <td>0.005966</td>\n",
              "      <td>0.002376</td>\n",
              "      <td>0.803510</td>\n",
              "      <td>0.997370</td>\n",
              "    </tr>\n",
              "    <tr>\n",
              "      <th>2</th>\n",
              "      <td>31662</td>\n",
              "      <td>653.783</td>\n",
              "      <td>239.902428</td>\n",
              "      <td>168.421505</td>\n",
              "      <td>1.424417</td>\n",
              "      <td>0.712136</td>\n",
              "      <td>32034</td>\n",
              "      <td>200.781748</td>\n",
              "      <td>0.801407</td>\n",
              "      <td>0.988387</td>\n",
              "      <td>0.930853</td>\n",
              "      <td>0.836931</td>\n",
              "      <td>0.007577</td>\n",
              "      <td>0.002293</td>\n",
              "      <td>0.700453</td>\n",
              "      <td>0.997737</td>\n",
              "    </tr>\n",
              "    <tr>\n",
              "      <th>3</th>\n",
              "      <td>38778</td>\n",
              "      <td>734.020</td>\n",
              "      <td>268.446281</td>\n",
              "      <td>184.061923</td>\n",
              "      <td>1.458456</td>\n",
              "      <td>0.727925</td>\n",
              "      <td>39208</td>\n",
              "      <td>222.201897</td>\n",
              "      <td>0.766137</td>\n",
              "      <td>0.989033</td>\n",
              "      <td>0.904439</td>\n",
              "      <td>0.827733</td>\n",
              "      <td>0.006923</td>\n",
              "      <td>0.002005</td>\n",
              "      <td>0.685142</td>\n",
              "      <td>0.999250</td>\n",
              "    </tr>\n",
              "    <tr>\n",
              "      <th>4</th>\n",
              "      <td>42530</td>\n",
              "      <td>775.403</td>\n",
              "      <td>281.212824</td>\n",
              "      <td>193.236878</td>\n",
              "      <td>1.455275</td>\n",
              "      <td>0.726511</td>\n",
              "      <td>43028</td>\n",
              "      <td>232.703412</td>\n",
              "      <td>0.729816</td>\n",
              "      <td>0.988426</td>\n",
              "      <td>0.888895</td>\n",
              "      <td>0.827499</td>\n",
              "      <td>0.006612</td>\n",
              "      <td>0.001912</td>\n",
              "      <td>0.684755</td>\n",
              "      <td>0.996507</td>\n",
              "    </tr>\n",
              "    <tr>\n",
              "      <th>...</th>\n",
              "      <td>...</td>\n",
              "      <td>...</td>\n",
              "      <td>...</td>\n",
              "      <td>...</td>\n",
              "      <td>...</td>\n",
              "      <td>...</td>\n",
              "      <td>...</td>\n",
              "      <td>...</td>\n",
              "      <td>...</td>\n",
              "      <td>...</td>\n",
              "      <td>...</td>\n",
              "      <td>...</td>\n",
              "      <td>...</td>\n",
              "      <td>...</td>\n",
              "      <td>...</td>\n",
              "      <td>...</td>\n",
              "    </tr>\n",
              "    <tr>\n",
              "      <th>10829</th>\n",
              "      <td>37777</td>\n",
              "      <td>716.007</td>\n",
              "      <td>250.174662</td>\n",
              "      <td>192.704033</td>\n",
              "      <td>1.298233</td>\n",
              "      <td>0.637708</td>\n",
              "      <td>38174</td>\n",
              "      <td>219.315230</td>\n",
              "      <td>0.770519</td>\n",
              "      <td>0.989600</td>\n",
              "      <td>0.925983</td>\n",
              "      <td>0.876648</td>\n",
              "      <td>0.006622</td>\n",
              "      <td>0.002413</td>\n",
              "      <td>0.768513</td>\n",
              "      <td>0.997708</td>\n",
              "    </tr>\n",
              "    <tr>\n",
              "      <th>10830</th>\n",
              "      <td>32187</td>\n",
              "      <td>667.621</td>\n",
              "      <td>247.778775</td>\n",
              "      <td>165.786862</td>\n",
              "      <td>1.494562</td>\n",
              "      <td>0.743179</td>\n",
              "      <td>32582</td>\n",
              "      <td>202.439525</td>\n",
              "      <td>0.731805</td>\n",
              "      <td>0.987877</td>\n",
              "      <td>0.907466</td>\n",
              "      <td>0.817017</td>\n",
              "      <td>0.007698</td>\n",
              "      <td>0.002116</td>\n",
              "      <td>0.667517</td>\n",
              "      <td>0.997646</td>\n",
              "    </tr>\n",
              "    <tr>\n",
              "      <th>10831</th>\n",
              "      <td>81837</td>\n",
              "      <td>1095.937</td>\n",
              "      <td>433.838186</td>\n",
              "      <td>241.527026</td>\n",
              "      <td>1.796230</td>\n",
              "      <td>0.830699</td>\n",
              "      <td>82554</td>\n",
              "      <td>322.797312</td>\n",
              "      <td>0.771996</td>\n",
              "      <td>0.991315</td>\n",
              "      <td>0.856226</td>\n",
              "      <td>0.744050</td>\n",
              "      <td>0.005301</td>\n",
              "      <td>0.001002</td>\n",
              "      <td>0.553610</td>\n",
              "      <td>0.994412</td>\n",
              "    </tr>\n",
              "    <tr>\n",
              "      <th>10832</th>\n",
              "      <td>48212</td>\n",
              "      <td>826.362</td>\n",
              "      <td>309.639462</td>\n",
              "      <td>199.285811</td>\n",
              "      <td>1.553746</td>\n",
              "      <td>0.765357</td>\n",
              "      <td>48777</td>\n",
              "      <td>247.760822</td>\n",
              "      <td>0.677002</td>\n",
              "      <td>0.988417</td>\n",
              "      <td>0.887206</td>\n",
              "      <td>0.800159</td>\n",
              "      <td>0.006422</td>\n",
              "      <td>0.001624</td>\n",
              "      <td>0.640255</td>\n",
              "      <td>0.994793</td>\n",
              "    </tr>\n",
              "    <tr>\n",
              "      <th>10833</th>\n",
              "      <td>28026</td>\n",
              "      <td>610.943</td>\n",
              "      <td>215.446569</td>\n",
              "      <td>165.740377</td>\n",
              "      <td>1.299904</td>\n",
              "      <td>0.638903</td>\n",
              "      <td>28302</td>\n",
              "      <td>188.901592</td>\n",
              "      <td>0.776688</td>\n",
              "      <td>0.990248</td>\n",
              "      <td>0.943560</td>\n",
              "      <td>0.876791</td>\n",
              "      <td>0.007687</td>\n",
              "      <td>0.002802</td>\n",
              "      <td>0.768762</td>\n",
              "      <td>0.999317</td>\n",
              "    </tr>\n",
              "  </tbody>\n",
              "</table>\n",
              "<p>10834 rows × 16 columns</p>\n",
              "</div>\n",
              "      <button class=\"colab-df-convert\" onclick=\"convertToInteractive('df-570582a0-e381-40ac-829f-3111b4a0a126')\"\n",
              "              title=\"Convert this dataframe to an interactive table.\"\n",
              "              style=\"display:none;\">\n",
              "        \n",
              "  <svg xmlns=\"http://www.w3.org/2000/svg\" height=\"24px\"viewBox=\"0 0 24 24\"\n",
              "       width=\"24px\">\n",
              "    <path d=\"M0 0h24v24H0V0z\" fill=\"none\"/>\n",
              "    <path d=\"M18.56 5.44l.94 2.06.94-2.06 2.06-.94-2.06-.94-.94-2.06-.94 2.06-2.06.94zm-11 1L8.5 8.5l.94-2.06 2.06-.94-2.06-.94L8.5 2.5l-.94 2.06-2.06.94zm10 10l.94 2.06.94-2.06 2.06-.94-2.06-.94-.94-2.06-.94 2.06-2.06.94z\"/><path d=\"M17.41 7.96l-1.37-1.37c-.4-.4-.92-.59-1.43-.59-.52 0-1.04.2-1.43.59L10.3 9.45l-7.72 7.72c-.78.78-.78 2.05 0 2.83L4 21.41c.39.39.9.59 1.41.59.51 0 1.02-.2 1.41-.59l7.78-7.78 2.81-2.81c.8-.78.8-2.07 0-2.86zM5.41 20L4 18.59l7.72-7.72 1.47 1.35L5.41 20z\"/>\n",
              "  </svg>\n",
              "      </button>\n",
              "      \n",
              "  <style>\n",
              "    .colab-df-container {\n",
              "      display:flex;\n",
              "      flex-wrap:wrap;\n",
              "      gap: 12px;\n",
              "    }\n",
              "\n",
              "    .colab-df-convert {\n",
              "      background-color: #E8F0FE;\n",
              "      border: none;\n",
              "      border-radius: 50%;\n",
              "      cursor: pointer;\n",
              "      display: none;\n",
              "      fill: #1967D2;\n",
              "      height: 32px;\n",
              "      padding: 0 0 0 0;\n",
              "      width: 32px;\n",
              "    }\n",
              "\n",
              "    .colab-df-convert:hover {\n",
              "      background-color: #E2EBFA;\n",
              "      box-shadow: 0px 1px 2px rgba(60, 64, 67, 0.3), 0px 1px 3px 1px rgba(60, 64, 67, 0.15);\n",
              "      fill: #174EA6;\n",
              "    }\n",
              "\n",
              "    [theme=dark] .colab-df-convert {\n",
              "      background-color: #3B4455;\n",
              "      fill: #D2E3FC;\n",
              "    }\n",
              "\n",
              "    [theme=dark] .colab-df-convert:hover {\n",
              "      background-color: #434B5C;\n",
              "      box-shadow: 0px 1px 3px 1px rgba(0, 0, 0, 0.15);\n",
              "      filter: drop-shadow(0px 1px 2px rgba(0, 0, 0, 0.3));\n",
              "      fill: #FFFFFF;\n",
              "    }\n",
              "  </style>\n",
              "\n",
              "      <script>\n",
              "        const buttonEl =\n",
              "          document.querySelector('#df-570582a0-e381-40ac-829f-3111b4a0a126 button.colab-df-convert');\n",
              "        buttonEl.style.display =\n",
              "          google.colab.kernel.accessAllowed ? 'block' : 'none';\n",
              "\n",
              "        async function convertToInteractive(key) {\n",
              "          const element = document.querySelector('#df-570582a0-e381-40ac-829f-3111b4a0a126');\n",
              "          const dataTable =\n",
              "            await google.colab.kernel.invokeFunction('convertToInteractive',\n",
              "                                                     [key], {});\n",
              "          if (!dataTable) return;\n",
              "\n",
              "          const docLinkHtml = 'Like what you see? Visit the ' +\n",
              "            '<a target=\"_blank\" href=https://colab.research.google.com/notebooks/data_table.ipynb>data table notebook</a>'\n",
              "            + ' to learn more about interactive tables.';\n",
              "          element.innerHTML = '';\n",
              "          dataTable['output_type'] = 'display_data';\n",
              "          await google.colab.output.renderOutput(dataTable, element);\n",
              "          const docLink = document.createElement('div');\n",
              "          docLink.innerHTML = docLinkHtml;\n",
              "          element.appendChild(docLink);\n",
              "        }\n",
              "      </script>\n",
              "    </div>\n",
              "  </div>\n",
              "  "
            ]
          },
          "metadata": {},
          "execution_count": 84
        }
      ]
    },
    {
      "cell_type": "code",
      "source": [
        "df_train_y"
      ],
      "metadata": {
        "colab": {
          "base_uri": "https://localhost:8080/"
        },
        "id": "oZE9OUlDui-H",
        "outputId": "f2c5d251-e112-4615-9a8a-75164e9ee9f1"
      },
      "execution_count": null,
      "outputs": [
        {
          "output_type": "execute_result",
          "data": {
            "text/plain": [
              "0           HOROZ\n",
              "1           SEKER\n",
              "2        DERMASON\n",
              "3        DERMASON\n",
              "4            SIRA\n",
              "           ...   \n",
              "10829       SEKER\n",
              "10830    DERMASON\n",
              "10831        CALI\n",
              "10832        SIRA\n",
              "10833    DERMASON\n",
              "Name: y, Length: 10834, dtype: object"
            ]
          },
          "metadata": {},
          "execution_count": 75
        }
      ]
    },
    {
      "cell_type": "code",
      "source": [
        "from sklearn.preprocessing import StandardScaler\n",
        "scaler = StandardScaler()"
      ],
      "metadata": {
        "id": "--ZPJ6eptal1"
      },
      "execution_count": null,
      "outputs": []
    },
    {
      "cell_type": "code",
      "source": [
        "scaled = scaler.fit_transform(df_train_d)\n",
        "scaled"
      ],
      "metadata": {
        "colab": {
          "base_uri": "https://localhost:8080/"
        },
        "id": "j9EN_fv7uDA9",
        "outputId": "1c2175d2-fd5f-4a31-9286-62c4219ca595"
      },
      "execution_count": null,
      "outputs": [
        {
          "output_type": "execute_result",
          "data": {
            "text/plain": [
              "array([[ 0.17407311,  0.53971281,  0.89772665, ..., -1.32844459,\n",
              "        -1.7722305 ,  0.81575981],\n",
              "       [-0.29046488, -0.4543369 , -0.63340135, ...,  1.10985565,\n",
              "         1.62187655,  0.53123715],\n",
              "       [-0.72555246, -0.93725355, -0.93224663, ...,  0.97003749,\n",
              "         0.57309175,  0.61658647],\n",
              "       ...,\n",
              "       [ 0.97292409,  1.11945653,  1.32393103, ..., -1.20558943,\n",
              "        -0.9212883 , -0.15580378],\n",
              "       [-0.16531754, -0.13449033, -0.12095148, ..., -0.15770644,\n",
              "        -0.03953478, -0.06736094],\n",
              "       [-0.84863489, -1.13652679, -1.21675714, ...,  1.82839945,\n",
              "         1.26825404,  0.98347781]])"
            ]
          },
          "metadata": {},
          "execution_count": 86
        }
      ]
    },
    {
      "cell_type": "code",
      "source": [
        "X_t, X_tes, y_t, y_tes = train_test_split(scaled, df_train_y, test_size=0.2, random_state=42)"
      ],
      "metadata": {
        "id": "g_JgWQbcrRDw"
      },
      "execution_count": null,
      "outputs": []
    },
    {
      "cell_type": "code",
      "source": [
        "#K nearest neighbors\n",
        "knn = KNeighborsClassifier(n_neighbors=9)\n",
        "knn.fit(X_t, y_t)\n",
        "knn_pred = knn.predict(X_tes)\n",
        "print('Mean_F1_score', f1_score(y_tes, knn_pred, average='micro'))"
      ],
      "metadata": {
        "colab": {
          "base_uri": "https://localhost:8080/"
        },
        "id": "6BM7Z1knvX4t",
        "outputId": "fd4ef8fc-f054-41aa-9a44-9db02b65421f"
      },
      "execution_count": null,
      "outputs": [
        {
          "output_type": "stream",
          "name": "stdout",
          "text": [
            "Mean_F1_score 0.9252422704199353\n"
          ]
        }
      ]
    },
    {
      "cell_type": "code",
      "source": [
        "#Decision Tree\n",
        "dt = DecisionTreeClassifier()\n",
        "dt.fit(X_t, y_t)\n",
        "dt_pred = dt.predict(X_tes)\n",
        "print('Mean_F1_score', f1_score(y_tes, dt_pred, average='micro'))"
      ],
      "metadata": {
        "colab": {
          "base_uri": "https://localhost:8080/"
        },
        "id": "Zs6Nx103vKje",
        "outputId": "0c764e3e-35e6-4306-a4d6-e3f8089352ac"
      },
      "execution_count": null,
      "outputs": [
        {
          "output_type": "stream",
          "name": "stdout",
          "text": [
            "Mean_F1_score 0.8924780802953391\n"
          ]
        }
      ]
    },
    {
      "cell_type": "code",
      "source": [
        "#SVM rbf\n",
        "#gamma=0.7, C=0.1\n",
        "rbf = svm.SVC(kernel='rbf')\n",
        "rbf.fit(X_t, y_t)\n",
        "rbf_pred = rbf.predict(X_tes)\n",
        "print('Mean_F1_score', f1_score(y_tes, rbf_pred, average='micro'))"
      ],
      "metadata": {
        "colab": {
          "base_uri": "https://localhost:8080/"
        },
        "id": "rk74DMWVu_5O",
        "outputId": "e1d6a9b7-e251-4293-bb10-d59ae07cfa8d"
      },
      "execution_count": null,
      "outputs": [
        {
          "output_type": "stream",
          "name": "stdout",
          "text": [
            "Mean_F1_score 0.936317489616982\n"
          ]
        }
      ]
    },
    {
      "cell_type": "code",
      "source": [
        "#SVM \n",
        "poly = svm.SVC(kernel='poly', degree=3 , C=1)\n",
        "poly.fit(Xtrain, y_train)\n",
        "poly_pred = poly.predict(X_test)\n",
        "print('Mean_F1_score', f1_score(y_test, poly_pred, average='micro'))"
      ],
      "metadata": {
        "id": "EFTVoACFcaNN"
      },
      "execution_count": null,
      "outputs": []
    },
    {
      "cell_type": "code",
      "source": [
        "#Random Forest Classifier\n",
        "rforest = RandomForestClassifier(n_estimators=5)\n",
        "rforest.fit(x_train, y_train)\n",
        "rforest_pred = rforest.predict(X_test)\n",
        "print('Mean_F1_score', f1_score(y_test, rforest_pred, average='micro'))"
      ],
      "metadata": {
        "id": "lqvDMD2wdmTf"
      },
      "execution_count": null,
      "outputs": []
    },
    {
      "cell_type": "code",
      "source": [
        "#Naive Bayes\n",
        "naive_bayes = GaussianNB()\n",
        "naive_bayes.fit(x_train, y_train)\n",
        "nb_pred = naive_bayes.predict(X_test)\n",
        "print('Mean_F1_score', f1_score(y_test, nb_pred, average='micro'))"
      ],
      "metadata": {
        "id": "VuNeqpzDfVPl"
      },
      "execution_count": null,
      "outputs": []
    },
    {
      "cell_type": "code",
      "source": [
        "#XGB Classifier:\n",
        "\n",
        "xgb_model = XGBClassifier(learning_rate=0.07, random_state =42, objective='multi:softmax', max_depth=5, reg_alpha = 0.002, gamma=0.01, verbosity=0) \n",
        "xgb_model.fit(x_train, y_train)\n",
        "predictions_XGB = xgb_model.predict()\n",
        "print('Mean_F1_score', f1_score(y_val, predictions_XGB, average='micro'))"
      ],
      "metadata": {
        "id": "aR8huZXXxhKE"
      },
      "execution_count": null,
      "outputs": []
    },
    {
      "cell_type": "code",
      "source": [
        "# lightgbm Classifier\n",
        "\n",
        "lgbm_model = LGBMClassifier(objective='multiclass', random_state=42, learning_rate=0.03, reg_alpha=0.0001)\n",
        "lgb_model.fit(x_train, y_train)\n",
        "predictions_LGB = lgb_model.predict(x_val)\n",
        "print('Mean_F1_score', f1_score(y_val, predictions_LGB, average='micro'))"
      ],
      "metadata": {
        "id": "DLgUOUAYxhMU"
      },
      "execution_count": null,
      "outputs": []
    },
    {
      "cell_type": "code",
      "source": [
        ""
      ],
      "metadata": {
        "id": "sLTK3F21xaX5"
      },
      "execution_count": null,
      "outputs": []
    },
    {
      "cell_type": "code",
      "source": [
        ""
      ],
      "metadata": {
        "id": "NCgq1dIixabp"
      },
      "execution_count": null,
      "outputs": []
    },
    {
      "cell_type": "code",
      "source": [
        "Xtrain = pd.read_csv('/content/drive/MyDrive/Dry Beans Classification Competition/Dataset/Features Extraction/Train/trial_1_train_PCA_FE.csv')\n",
        "Xtrain2 = pd.read_csv('/content/drive/MyDrive/Dry Beans Classification Competition/Dataset/Features Extraction/Train/trial_2_train_PCA_FE.csv')\n",
        "Xtrain3 = pd.read_csv('/content/drive/MyDrive/Dry Beans Classification Competition/Dataset/Features Extraction/Train/trial_3_train_PCA_FE.csv')\n",
        "Xtrain4 = pd.read_csv('/content/drive/MyDrive/Dry Beans Classification Competition/Dataset/Features Extraction/Train/trial_4_train_PCA_FE.csv')\n",
        "Xtrain5 = pd.read_csv('/content/drive/MyDrive/Dry Beans Classification Competition/Dataset/Features Extraction/Train/trial_5_train_PCA_FE.csv')"
      ],
      "metadata": {
        "id": "mAxME1esxavI"
      },
      "execution_count": null,
      "outputs": []
    },
    {
      "cell_type": "code",
      "source": [
        "y_train = Xtrain['y']\n",
        "y_train2 = Xtrain2['y']\n",
        "y_train3 = Xtrain3['y']\n",
        "y_train4 = Xtrain4['y']\n",
        "y_train5 = Xtrain5['y']\n",
        "\n",
        "Xtrain = Xtrain.iloc[:,:-1]\n",
        "Xtrain2 = Xtrain2.iloc[:,:-1]\n",
        "Xtrain3 = Xtrain3.iloc[:,:-1]\n",
        "Xtrain4 = Xtrain4.iloc[:,:-1]\n",
        "Xtrain5 = Xtrain5.iloc[:,:-1]"
      ],
      "metadata": {
        "id": "4alcEMujxa50"
      },
      "execution_count": null,
      "outputs": []
    },
    {
      "cell_type": "code",
      "source": [
        "X_test = pd.read_csv('/content/drive/MyDrive/Dry Beans Classification Competition/Dataset/Features Extraction/Validation/trial_1_test_PCA_FE.csv')\n",
        "X_test2 = pd.read_csv('/content/drive/MyDrive/Dry Beans Classification Competition/Dataset/Features Extraction/Validation/trial_2_test_PCA_FE.csv')\n",
        "X_test3 = pd.read_csv('/content/drive/MyDrive/Dry Beans Classification Competition/Dataset/Features Extraction/Validation/trial_3_test_PCA_FE.csv')\n",
        "X_test4 = pd.read_csv('/content/drive/MyDrive/Dry Beans Classification Competition/Dataset/Features Extraction/Validation/trial_4_test_PCA_FE.csv')\n",
        "X_test5 = pd.read_csv('/content/drive/MyDrive/Dry Beans Classification Competition/Dataset/Features Extraction/Validation/trial_5_test_PCA_FE.csv')"
      ],
      "metadata": {
        "id": "vp-6JW3mxxqI"
      },
      "execution_count": null,
      "outputs": []
    },
    {
      "cell_type": "code",
      "source": [
        "y_test = X_test['y']\n",
        "y_test2 = X_test2['y']\n",
        "y_test3 = X_test3['y']\n",
        "y_test4 = X_test4['y']\n",
        "y_test5 = X_test5['y']\n",
        "\n",
        "X_test = X_test.iloc[:,:-1]\n",
        "X_test2= X_test2.iloc[:,:-1]\n",
        "X_test3 = X_test3.iloc[:,:-1]\n",
        "X_test4 = X_test4.iloc[:,:-1]\n",
        "X_test5 = X_test5.iloc[:,:-1]"
      ],
      "metadata": {
        "id": "5yxY8YU6yBvd"
      },
      "execution_count": null,
      "outputs": []
    },
    {
      "cell_type": "code",
      "source": [
        "#K nearest neighbors\n",
        "knn = KNeighborsClassifier(n_neighbors=9)\n",
        "knn.fit(Xtrain, y_train)\n",
        "knn_pred = knn.predict(X_test)\n",
        "print('Mean_F1_score', f1_score(y_test, knn_pred, average='micro'))"
      ],
      "metadata": {
        "colab": {
          "base_uri": "https://localhost:8080/"
        },
        "id": "J9GlPPIxyHaN",
        "outputId": "21f47e9c-5253-4b92-a734-26fde770a6c9"
      },
      "execution_count": null,
      "outputs": [
        {
          "output_type": "stream",
          "name": "stdout",
          "text": [
            "Mean_F1_score 0.9376190476190476\n"
          ]
        }
      ]
    },
    {
      "cell_type": "code",
      "source": [
        "#K nearest neighbors\n",
        "knn = KNeighborsClassifier(n_neighbors=9)\n",
        "knn.fit(Xtrain2, y_train2)\n",
        "knn_pred = knn.predict(X_test2)\n",
        "print('Mean_F1_score', f1_score(y_test2, knn_pred, average='micro'))"
      ],
      "metadata": {
        "colab": {
          "base_uri": "https://localhost:8080/"
        },
        "id": "Y8eVtipDyddq",
        "outputId": "83b82924-5ab0-4100-faea-f21cfd0af0b6"
      },
      "execution_count": null,
      "outputs": [
        {
          "output_type": "stream",
          "name": "stdout",
          "text": [
            "Mean_F1_score 0.7747619047619048\n"
          ]
        }
      ]
    },
    {
      "cell_type": "code",
      "source": [
        "#K nearest neighbors\n",
        "knn = KNeighborsClassifier(n_neighbors=9)\n",
        "knn.fit(Xtrain3, y_train3)\n",
        "knn_pred = knn.predict(X_test3)\n",
        "print('Mean_F1_score', f1_score(y_test3, knn_pred, average='micro'))"
      ],
      "metadata": {
        "colab": {
          "base_uri": "https://localhost:8080/"
        },
        "id": "4TEq5e8Syk3O",
        "outputId": "443e8d11-f5f4-40f5-e8ff-917a42117449"
      },
      "execution_count": null,
      "outputs": [
        {
          "output_type": "stream",
          "name": "stdout",
          "text": [
            "Mean_F1_score 0.949047619047619\n"
          ]
        }
      ]
    },
    {
      "cell_type": "code",
      "source": [
        "#K nearest neighbors\n",
        "knn = KNeighborsClassifier(n_neighbors=9)\n",
        "knn.fit(Xtrain4, y_train4)\n",
        "knn_pred = knn.predict(X_test4)\n",
        "print('Mean_F1_score', f1_score(y_test4, knn_pred, average='micro'))"
      ],
      "metadata": {
        "colab": {
          "base_uri": "https://localhost:8080/"
        },
        "id": "kvBdDJluypao",
        "outputId": "292cb79b-b638-4d1f-e565-4b9208202ca8"
      },
      "execution_count": null,
      "outputs": [
        {
          "output_type": "stream",
          "name": "stdout",
          "text": [
            "Mean_F1_score 0.9564285714285714\n"
          ]
        }
      ]
    },
    {
      "cell_type": "code",
      "source": [
        "#K nearest neighbors\n",
        "knn = KNeighborsClassifier(n_neighbors=9)\n",
        "knn.fit(Xtrain5, y_train5)\n",
        "knn_pred = knn.predict(X_test5)\n",
        "print('Mean_F1_score', f1_score(y_test5, knn_pred, average='micro'))"
      ],
      "metadata": {
        "colab": {
          "base_uri": "https://localhost:8080/"
        },
        "id": "Ufa7eBBEyt6b",
        "outputId": "8d818c69-b6aa-4492-ec2f-ed682b04a97c"
      },
      "execution_count": null,
      "outputs": [
        {
          "output_type": "stream",
          "name": "stdout",
          "text": [
            "Mean_F1_score 0.9607142857142859\n"
          ]
        }
      ]
    },
    {
      "cell_type": "code",
      "source": [
        "(0.9376190476190476+0.7747619047619048+0.949047619047619+0.9564285714285714+0.9607142857142859)/5"
      ],
      "metadata": {
        "colab": {
          "base_uri": "https://localhost:8080/"
        },
        "id": "7ScdHnDGy4uF",
        "outputId": "302a7ea4-ad36-4f71-8047-fe9adb301096"
      },
      "execution_count": null,
      "outputs": [
        {
          "output_type": "execute_result",
          "data": {
            "text/plain": [
              "0.9157142857142858"
            ]
          },
          "metadata": {},
          "execution_count": 100
        }
      ]
    },
    {
      "cell_type": "code",
      "source": [
        "#K nearest neighbors\n",
        "knn = KNeighborsClassifier(n_neighbors=15)\n",
        "knn.fit(Xtrain2, y_train2)\n",
        "knn_pred = knn.predict(X_test2)\n",
        "print('Mean_F1_score', f1_score(y_test2, knn_pred, average='micro'))"
      ],
      "metadata": {
        "colab": {
          "base_uri": "https://localhost:8080/"
        },
        "id": "f4iI7YOUy0tZ",
        "outputId": "5a086da6-eb56-46a9-e8eb-64b12ecddd4f"
      },
      "execution_count": null,
      "outputs": [
        {
          "output_type": "stream",
          "name": "stdout",
          "text": [
            "Mean_F1_score 0.7761904761904762\n"
          ]
        }
      ]
    },
    {
      "cell_type": "code",
      "source": [
        ""
      ],
      "metadata": {
        "id": "nAUtTq3RzHh6"
      },
      "execution_count": null,
      "outputs": []
    },
    {
      "cell_type": "code",
      "source": [
        "#Decision Tree\n",
        "dt = DecisionTreeClassifier()\n",
        "dt.fit(Xtrain, y_train)\n",
        "dt_pred = dt.predict(X_test)\n",
        "print('Mean_F1_score', f1_score(y_test, dt_pred, average='micro'))"
      ],
      "metadata": {
        "colab": {
          "base_uri": "https://localhost:8080/"
        },
        "id": "trj1dBYvzKpe",
        "outputId": "25d580a6-908b-4a4f-d67e-c4e4739e6ebb"
      },
      "execution_count": null,
      "outputs": [
        {
          "output_type": "stream",
          "name": "stdout",
          "text": [
            "Mean_F1_score 0.9111904761904762\n"
          ]
        }
      ]
    },
    {
      "cell_type": "code",
      "source": [
        "#Decision Tree\n",
        "dt = DecisionTreeClassifier()\n",
        "dt.fit(Xtrain2, y_train2)\n",
        "dt_pred = dt.predict(X_test2)\n",
        "print('Mean_F1_score', f1_score(y_test2, dt_pred, average='micro'))"
      ],
      "metadata": {
        "colab": {
          "base_uri": "https://localhost:8080/"
        },
        "id": "wuR4Rcy6zSEg",
        "outputId": "605107fb-378d-4f80-9f6a-6f0380b0b436"
      },
      "execution_count": null,
      "outputs": [
        {
          "output_type": "stream",
          "name": "stdout",
          "text": [
            "Mean_F1_score 0.7221428571428572\n"
          ]
        }
      ]
    },
    {
      "cell_type": "code",
      "source": [
        "#Decision Tree\n",
        "dt = DecisionTreeClassifier()\n",
        "dt.fit(Xtrain3, y_train3)\n",
        "dt_pred = dt.predict(X_test3)\n",
        "print('Mean_F1_score', f1_score(y_test3, dt_pred, average='micro'))"
      ],
      "metadata": {
        "colab": {
          "base_uri": "https://localhost:8080/"
        },
        "id": "1-H3yu70zVMA",
        "outputId": "bb6475d1-8bce-455d-c127-45aea670c652"
      },
      "execution_count": null,
      "outputs": [
        {
          "output_type": "stream",
          "name": "stdout",
          "text": [
            "Mean_F1_score 0.9285714285714286\n"
          ]
        }
      ]
    },
    {
      "cell_type": "code",
      "source": [
        "#Decision Tree\n",
        "dt = DecisionTreeClassifier()\n",
        "dt.fit(Xtrain4, y_train4)\n",
        "dt_pred = dt.predict(X_test4)\n",
        "print('Mean_F1_score', f1_score(y_test4, dt_pred, average='micro'))"
      ],
      "metadata": {
        "colab": {
          "base_uri": "https://localhost:8080/"
        },
        "id": "Xl54y_TozZxN",
        "outputId": "defbc62a-6730-4c9a-8710-0ff6e6402aab"
      },
      "execution_count": null,
      "outputs": [
        {
          "output_type": "stream",
          "name": "stdout",
          "text": [
            "Mean_F1_score 0.9364285714285714\n"
          ]
        }
      ]
    },
    {
      "cell_type": "code",
      "source": [
        "#Decision Tree\n",
        "dt = DecisionTreeClassifier()\n",
        "dt.fit(Xtrain5, y_train5)\n",
        "dt_pred = dt.predict(X_test5)\n",
        "print('Mean_F1_score', f1_score(y_test5, dt_pred, average='micro'))"
      ],
      "metadata": {
        "colab": {
          "base_uri": "https://localhost:8080/"
        },
        "id": "nquYgPs0zdyw",
        "outputId": "555a4050-c4c0-44ce-a093-65f3f82e7964"
      },
      "execution_count": null,
      "outputs": [
        {
          "output_type": "stream",
          "name": "stdout",
          "text": [
            "Mean_F1_score 0.9414285714285714\n"
          ]
        }
      ]
    },
    {
      "cell_type": "code",
      "source": [
        "(0.9111904761904762+0.7221428571428572+0.9285714285714286+0.9364285714285714+0.9414285714285714)/5"
      ],
      "metadata": {
        "colab": {
          "base_uri": "https://localhost:8080/"
        },
        "id": "X1tm7cvIzh6f",
        "outputId": "7132c1ae-c7cf-450a-fa7e-a036885bfe8c"
      },
      "execution_count": null,
      "outputs": [
        {
          "output_type": "execute_result",
          "data": {
            "text/plain": [
              "0.8879523809523808"
            ]
          },
          "metadata": {},
          "execution_count": 108
        }
      ]
    },
    {
      "cell_type": "code",
      "source": [
        "rbf = svm.SVC(kernel='rbf')\n",
        "rbf.fit(Xtrain, y_train)\n",
        "rbf_pred = rbf.predict(X_test)\n",
        "print('Mean_F1_score', f1_score(y_test, rbf_pred, average='micro'))"
      ],
      "metadata": {
        "colab": {
          "base_uri": "https://localhost:8080/"
        },
        "id": "YL6vAYLtzxDo",
        "outputId": "140e1a67-ceb1-4c0e-db00-2b7754f0997a"
      },
      "execution_count": null,
      "outputs": [
        {
          "output_type": "stream",
          "name": "stdout",
          "text": [
            "Mean_F1_score 0.9373809523809524\n"
          ]
        }
      ]
    },
    {
      "cell_type": "code",
      "source": [
        "rbf = svm.SVC(kernel='rbf')\n",
        "rbf.fit(Xtrain2, y_train2)\n",
        "rbf_pred = rbf.predict(X_test2)\n",
        "print('Mean_F1_score', f1_score(y_test2, rbf_pred, average='micro'))"
      ],
      "metadata": {
        "colab": {
          "base_uri": "https://localhost:8080/"
        },
        "id": "lCtNoT4Pz7MP",
        "outputId": "118b277d-fe00-4378-aa17-5386f9a52be2"
      },
      "execution_count": null,
      "outputs": [
        {
          "output_type": "stream",
          "name": "stdout",
          "text": [
            "Mean_F1_score 0.7583333333333333\n"
          ]
        }
      ]
    },
    {
      "cell_type": "code",
      "source": [
        "Xtrain2.duplicated().sum()"
      ],
      "metadata": {
        "colab": {
          "base_uri": "https://localhost:8080/"
        },
        "id": "gHzdQSRw0CvK",
        "outputId": "5c52f483-94b2-4a22-f8cf-4804c5c1b981"
      },
      "execution_count": null,
      "outputs": [
        {
          "output_type": "execute_result",
          "data": {
            "text/plain": [
              "0"
            ]
          },
          "metadata": {},
          "execution_count": 113
        }
      ]
    },
    {
      "cell_type": "code",
      "source": [
        "rbf = svm.SVC(kernel='rbf')\n",
        "rbf.fit(Xtrain3, y_train3)\n",
        "rbf_pred = rbf.predict(X_test3)\n",
        "print('Mean_F1_score', f1_score(y_test3, rbf_pred, average='micro'))"
      ],
      "metadata": {
        "colab": {
          "base_uri": "https://localhost:8080/"
        },
        "id": "p-txHg1E0QFM",
        "outputId": "f2493125-b9f3-4df8-9af2-02b25e2c5920"
      },
      "execution_count": null,
      "outputs": [
        {
          "output_type": "stream",
          "name": "stdout",
          "text": [
            "Mean_F1_score 0.9514285714285714\n"
          ]
        }
      ]
    },
    {
      "cell_type": "code",
      "source": [
        "rbf = svm.SVC(kernel='rbf')\n",
        "rbf.fit(Xtrain4, y_train4)\n",
        "rbf_pred = rbf.predict(X_test4)\n",
        "print('Mean_F1_score', f1_score(y_test4, rbf_pred, average='micro'))"
      ],
      "metadata": {
        "colab": {
          "base_uri": "https://localhost:8080/"
        },
        "id": "jzAZI26r1gJv",
        "outputId": "7167d8e8-4a74-45b7-b21e-23a7e534927e"
      },
      "execution_count": null,
      "outputs": [
        {
          "output_type": "stream",
          "name": "stdout",
          "text": [
            "Mean_F1_score 0.9597619047619049\n"
          ]
        }
      ]
    },
    {
      "cell_type": "code",
      "source": [
        "rbf = svm.SVC(kernel='rbf')\n",
        "rbf.fit(Xtrain5, y_train5)\n",
        "rbf_pred = rbf.predict(X_test5)\n",
        "print('Mean_F1_score', f1_score(y_test5, rbf_pred, average='micro'))"
      ],
      "metadata": {
        "colab": {
          "base_uri": "https://localhost:8080/"
        },
        "id": "UTarTbmh1kyE",
        "outputId": "ce27923a-237a-421f-b5fe-81a324a4c426"
      },
      "execution_count": null,
      "outputs": [
        {
          "output_type": "stream",
          "name": "stdout",
          "text": [
            "Mean_F1_score 0.9621428571428572\n"
          ]
        }
      ]
    },
    {
      "cell_type": "code",
      "source": [
        "(0.9373809523809524+0.7583333333333333+0.9514285714285714+0.9597619047619049+0.9621428571428572)/5"
      ],
      "metadata": {
        "colab": {
          "base_uri": "https://localhost:8080/"
        },
        "id": "LVtXAdaF1pP5",
        "outputId": "ccdd0146-3df2-4fa9-b198-71a5fd6186f6"
      },
      "execution_count": null,
      "outputs": [
        {
          "output_type": "execute_result",
          "data": {
            "text/plain": [
              "0.913809523809524"
            ]
          },
          "metadata": {},
          "execution_count": 117
        }
      ]
    },
    {
      "cell_type": "code",
      "source": [
        "#XGB Classifier:\n",
        "\n",
        "xgb_model = XGBClassifier(learning_rate=0.07, random_state =42, objective='multi:softmax', max_depth=5, reg_alpha = 0.002, gamma=0.01, verbosity=0) \n",
        "xgb_model.fit(Xtrain, y_train)\n",
        "predictions_XGB = xgb_model.predict(X_test)\n",
        "print('Mean_F1_score', f1_score(y_test, predictions_XGB, average='micro'))"
      ],
      "metadata": {
        "colab": {
          "base_uri": "https://localhost:8080/"
        },
        "id": "Q3qjuxGR11wn",
        "outputId": "44d247c4-de44-4d48-8b24-d5f0715d5207"
      },
      "execution_count": null,
      "outputs": [
        {
          "output_type": "stream",
          "name": "stdout",
          "text": [
            "Mean_F1_score 0.9335714285714287\n"
          ]
        }
      ]
    },
    {
      "cell_type": "code",
      "source": [
        "#XGB Classifier:\n",
        "\n",
        "xgb_model = XGBClassifier(learning_rate=0.07, random_state =42, objective='multi:softmax', max_depth=5, reg_alpha = 0.002, gamma=0.01, verbosity=0) \n",
        "xgb_model.fit(Xtrain2, y_train2)\n",
        "predictions_XGB = xgb_model.predict(X_test2)\n",
        "print('Mean_F1_score', f1_score(y_test2, predictions_XGB, average='micro'))"
      ],
      "metadata": {
        "colab": {
          "base_uri": "https://localhost:8080/"
        },
        "id": "fAVjbT6h2Ist",
        "outputId": "b0f4add7-1f2b-4e7b-f89d-f8c2742cc37d"
      },
      "execution_count": null,
      "outputs": [
        {
          "output_type": "stream",
          "name": "stdout",
          "text": [
            "Mean_F1_score 0.7411904761904761\n"
          ]
        }
      ]
    },
    {
      "cell_type": "code",
      "source": [
        "#XGB Classifier:\n",
        "\n",
        "xgb_model = XGBClassifier(learning_rate=0.07, random_state =42, objective='multi:softmax', max_depth=5, reg_alpha = 0.002, gamma=0.01, verbosity=0) \n",
        "xgb_model.fit(Xtrain3, y_train3)\n",
        "predictions_XGB = xgb_model.predict(X_test3)\n",
        "print('Mean_F1_score', f1_score(y_test3, predictions_XGB, average='micro'))"
      ],
      "metadata": {
        "colab": {
          "base_uri": "https://localhost:8080/"
        },
        "id": "KdOvCjMQ2_Po",
        "outputId": "85c3ecca-9f2c-4cba-8f50-48232b218db8"
      },
      "execution_count": null,
      "outputs": [
        {
          "output_type": "stream",
          "name": "stdout",
          "text": [
            "Mean_F1_score 0.9480952380952381\n"
          ]
        }
      ]
    },
    {
      "cell_type": "code",
      "source": [
        "#XGB Classifier:\n",
        "\n",
        "xgb_model = XGBClassifier(learning_rate=0.07, random_state =42, objective='multi:softmax', max_depth=5, reg_alpha = 0.002, gamma=0.01, verbosity=0) \n",
        "xgb_model.fit(Xtrain4, y_train4)\n",
        "predictions_XGB = xgb_model.predict(X_test4)\n",
        "print('Mean_F1_score', f1_score(y_test4, predictions_XGB, average='micro'))"
      ],
      "metadata": {
        "colab": {
          "base_uri": "https://localhost:8080/"
        },
        "id": "p9go8ktb2fNV",
        "outputId": "18ab57be-5e75-4620-c5a4-277691d4f910"
      },
      "execution_count": null,
      "outputs": [
        {
          "output_type": "stream",
          "name": "stdout",
          "text": [
            "Mean_F1_score 0.9566666666666667\n"
          ]
        }
      ]
    },
    {
      "cell_type": "code",
      "source": [
        "#XGB Classifier:\n",
        "\n",
        "xgb_model = XGBClassifier(learning_rate=0.07, random_state =42, objective='multi:softmax', max_depth=5, reg_alpha = 0.002, gamma=0.01, verbosity=0) \n",
        "xgb_model.fit(Xtrain5, y_train5)\n",
        "predictions_XGB = xgb_model.predict(X_test5)\n",
        "print('Mean_F1_score', f1_score(y_test5, predictions_XGB, average='micro'))"
      ],
      "metadata": {
        "colab": {
          "base_uri": "https://localhost:8080/"
        },
        "id": "nXZ31LYp3Kms",
        "outputId": "440d1684-8789-4e87-c759-42dc15a8d83d"
      },
      "execution_count": null,
      "outputs": [
        {
          "output_type": "stream",
          "name": "stdout",
          "text": [
            "Mean_F1_score 0.9614285714285714\n"
          ]
        }
      ]
    },
    {
      "cell_type": "code",
      "source": [
        ""
      ],
      "metadata": {
        "id": "Ss70AS-k3SOc"
      },
      "execution_count": null,
      "outputs": []
    },
    {
      "cell_type": "code",
      "source": [
        "df = pd.read_csv('/content/drive/MyDrive/Dry Beans Classification Competition/Dataset/Features Extraction/Train/All_Data_FeatuerExtraction')\n",
        "df\n"
      ],
      "metadata": {
        "colab": {
          "base_uri": "https://localhost:8080/",
          "height": 424
        },
        "id": "c8oxY6BG9LWJ",
        "outputId": "b6d7ade2-1fbd-4799-f35f-b8c6694daf57"
      },
      "execution_count": null,
      "outputs": [
        {
          "output_type": "execute_result",
          "data": {
            "text/plain": [
              "            PC1       PC2       PC3       PC4       PC5       PC6       PC7  y\n",
              "0      3.349627 -2.679072 -0.855331 -1.165639 -0.159375  0.060461 -0.278785  2\n",
              "1     -2.032903  1.289354  0.287279 -0.499661 -0.220216  0.685885 -0.274172  4\n",
              "2      0.189841  0.150094  1.542703 -1.029778 -1.555133  0.416420 -0.490796  1\n",
              "3      1.652143  3.943755 -0.954564  1.845036 -0.083916 -0.383329  0.879460  5\n",
              "4     -0.016674 -1.099043  1.442072  0.368847 -1.585055 -0.524910  0.145085  1\n",
              "...         ...       ...       ...       ...       ...       ...       ... ..\n",
              "20995  1.562595  3.987416 -1.357750 -2.364367  0.442780 -0.272961  0.300351  5\n",
              "20996 -1.662318  0.575111  0.579320 -0.678087  0.778734  0.052735 -0.352402  7\n",
              "20997 -0.433603  1.587294 -0.604135  0.848221  0.095685  0.098340 -0.220384  7\n",
              "20998 -3.031065 -0.134778 -0.580888 -0.082690 -0.080672  0.395815 -0.186712  4\n",
              "20999  2.472915 -3.685797 -1.369415  0.181181  0.153173 -0.376430 -0.238955  2\n",
              "\n",
              "[21000 rows x 8 columns]"
            ],
            "text/html": [
              "\n",
              "  <div id=\"df-36df68a6-7ccb-4e5f-a8d3-411addb0a91e\">\n",
              "    <div class=\"colab-df-container\">\n",
              "      <div>\n",
              "<style scoped>\n",
              "    .dataframe tbody tr th:only-of-type {\n",
              "        vertical-align: middle;\n",
              "    }\n",
              "\n",
              "    .dataframe tbody tr th {\n",
              "        vertical-align: top;\n",
              "    }\n",
              "\n",
              "    .dataframe thead th {\n",
              "        text-align: right;\n",
              "    }\n",
              "</style>\n",
              "<table border=\"1\" class=\"dataframe\">\n",
              "  <thead>\n",
              "    <tr style=\"text-align: right;\">\n",
              "      <th></th>\n",
              "      <th>PC1</th>\n",
              "      <th>PC2</th>\n",
              "      <th>PC3</th>\n",
              "      <th>PC4</th>\n",
              "      <th>PC5</th>\n",
              "      <th>PC6</th>\n",
              "      <th>PC7</th>\n",
              "      <th>y</th>\n",
              "    </tr>\n",
              "  </thead>\n",
              "  <tbody>\n",
              "    <tr>\n",
              "      <th>0</th>\n",
              "      <td>3.349627</td>\n",
              "      <td>-2.679072</td>\n",
              "      <td>-0.855331</td>\n",
              "      <td>-1.165639</td>\n",
              "      <td>-0.159375</td>\n",
              "      <td>0.060461</td>\n",
              "      <td>-0.278785</td>\n",
              "      <td>2</td>\n",
              "    </tr>\n",
              "    <tr>\n",
              "      <th>1</th>\n",
              "      <td>-2.032903</td>\n",
              "      <td>1.289354</td>\n",
              "      <td>0.287279</td>\n",
              "      <td>-0.499661</td>\n",
              "      <td>-0.220216</td>\n",
              "      <td>0.685885</td>\n",
              "      <td>-0.274172</td>\n",
              "      <td>4</td>\n",
              "    </tr>\n",
              "    <tr>\n",
              "      <th>2</th>\n",
              "      <td>0.189841</td>\n",
              "      <td>0.150094</td>\n",
              "      <td>1.542703</td>\n",
              "      <td>-1.029778</td>\n",
              "      <td>-1.555133</td>\n",
              "      <td>0.416420</td>\n",
              "      <td>-0.490796</td>\n",
              "      <td>1</td>\n",
              "    </tr>\n",
              "    <tr>\n",
              "      <th>3</th>\n",
              "      <td>1.652143</td>\n",
              "      <td>3.943755</td>\n",
              "      <td>-0.954564</td>\n",
              "      <td>1.845036</td>\n",
              "      <td>-0.083916</td>\n",
              "      <td>-0.383329</td>\n",
              "      <td>0.879460</td>\n",
              "      <td>5</td>\n",
              "    </tr>\n",
              "    <tr>\n",
              "      <th>4</th>\n",
              "      <td>-0.016674</td>\n",
              "      <td>-1.099043</td>\n",
              "      <td>1.442072</td>\n",
              "      <td>0.368847</td>\n",
              "      <td>-1.585055</td>\n",
              "      <td>-0.524910</td>\n",
              "      <td>0.145085</td>\n",
              "      <td>1</td>\n",
              "    </tr>\n",
              "    <tr>\n",
              "      <th>...</th>\n",
              "      <td>...</td>\n",
              "      <td>...</td>\n",
              "      <td>...</td>\n",
              "      <td>...</td>\n",
              "      <td>...</td>\n",
              "      <td>...</td>\n",
              "      <td>...</td>\n",
              "      <td>...</td>\n",
              "    </tr>\n",
              "    <tr>\n",
              "      <th>20995</th>\n",
              "      <td>1.562595</td>\n",
              "      <td>3.987416</td>\n",
              "      <td>-1.357750</td>\n",
              "      <td>-2.364367</td>\n",
              "      <td>0.442780</td>\n",
              "      <td>-0.272961</td>\n",
              "      <td>0.300351</td>\n",
              "      <td>5</td>\n",
              "    </tr>\n",
              "    <tr>\n",
              "      <th>20996</th>\n",
              "      <td>-1.662318</td>\n",
              "      <td>0.575111</td>\n",
              "      <td>0.579320</td>\n",
              "      <td>-0.678087</td>\n",
              "      <td>0.778734</td>\n",
              "      <td>0.052735</td>\n",
              "      <td>-0.352402</td>\n",
              "      <td>7</td>\n",
              "    </tr>\n",
              "    <tr>\n",
              "      <th>20997</th>\n",
              "      <td>-0.433603</td>\n",
              "      <td>1.587294</td>\n",
              "      <td>-0.604135</td>\n",
              "      <td>0.848221</td>\n",
              "      <td>0.095685</td>\n",
              "      <td>0.098340</td>\n",
              "      <td>-0.220384</td>\n",
              "      <td>7</td>\n",
              "    </tr>\n",
              "    <tr>\n",
              "      <th>20998</th>\n",
              "      <td>-3.031065</td>\n",
              "      <td>-0.134778</td>\n",
              "      <td>-0.580888</td>\n",
              "      <td>-0.082690</td>\n",
              "      <td>-0.080672</td>\n",
              "      <td>0.395815</td>\n",
              "      <td>-0.186712</td>\n",
              "      <td>4</td>\n",
              "    </tr>\n",
              "    <tr>\n",
              "      <th>20999</th>\n",
              "      <td>2.472915</td>\n",
              "      <td>-3.685797</td>\n",
              "      <td>-1.369415</td>\n",
              "      <td>0.181181</td>\n",
              "      <td>0.153173</td>\n",
              "      <td>-0.376430</td>\n",
              "      <td>-0.238955</td>\n",
              "      <td>2</td>\n",
              "    </tr>\n",
              "  </tbody>\n",
              "</table>\n",
              "<p>21000 rows × 8 columns</p>\n",
              "</div>\n",
              "      <button class=\"colab-df-convert\" onclick=\"convertToInteractive('df-36df68a6-7ccb-4e5f-a8d3-411addb0a91e')\"\n",
              "              title=\"Convert this dataframe to an interactive table.\"\n",
              "              style=\"display:none;\">\n",
              "        \n",
              "  <svg xmlns=\"http://www.w3.org/2000/svg\" height=\"24px\"viewBox=\"0 0 24 24\"\n",
              "       width=\"24px\">\n",
              "    <path d=\"M0 0h24v24H0V0z\" fill=\"none\"/>\n",
              "    <path d=\"M18.56 5.44l.94 2.06.94-2.06 2.06-.94-2.06-.94-.94-2.06-.94 2.06-2.06.94zm-11 1L8.5 8.5l.94-2.06 2.06-.94-2.06-.94L8.5 2.5l-.94 2.06-2.06.94zm10 10l.94 2.06.94-2.06 2.06-.94-2.06-.94-.94-2.06-.94 2.06-2.06.94z\"/><path d=\"M17.41 7.96l-1.37-1.37c-.4-.4-.92-.59-1.43-.59-.52 0-1.04.2-1.43.59L10.3 9.45l-7.72 7.72c-.78.78-.78 2.05 0 2.83L4 21.41c.39.39.9.59 1.41.59.51 0 1.02-.2 1.41-.59l7.78-7.78 2.81-2.81c.8-.78.8-2.07 0-2.86zM5.41 20L4 18.59l7.72-7.72 1.47 1.35L5.41 20z\"/>\n",
              "  </svg>\n",
              "      </button>\n",
              "      \n",
              "  <style>\n",
              "    .colab-df-container {\n",
              "      display:flex;\n",
              "      flex-wrap:wrap;\n",
              "      gap: 12px;\n",
              "    }\n",
              "\n",
              "    .colab-df-convert {\n",
              "      background-color: #E8F0FE;\n",
              "      border: none;\n",
              "      border-radius: 50%;\n",
              "      cursor: pointer;\n",
              "      display: none;\n",
              "      fill: #1967D2;\n",
              "      height: 32px;\n",
              "      padding: 0 0 0 0;\n",
              "      width: 32px;\n",
              "    }\n",
              "\n",
              "    .colab-df-convert:hover {\n",
              "      background-color: #E2EBFA;\n",
              "      box-shadow: 0px 1px 2px rgba(60, 64, 67, 0.3), 0px 1px 3px 1px rgba(60, 64, 67, 0.15);\n",
              "      fill: #174EA6;\n",
              "    }\n",
              "\n",
              "    [theme=dark] .colab-df-convert {\n",
              "      background-color: #3B4455;\n",
              "      fill: #D2E3FC;\n",
              "    }\n",
              "\n",
              "    [theme=dark] .colab-df-convert:hover {\n",
              "      background-color: #434B5C;\n",
              "      box-shadow: 0px 1px 3px 1px rgba(0, 0, 0, 0.15);\n",
              "      filter: drop-shadow(0px 1px 2px rgba(0, 0, 0, 0.3));\n",
              "      fill: #FFFFFF;\n",
              "    }\n",
              "  </style>\n",
              "\n",
              "      <script>\n",
              "        const buttonEl =\n",
              "          document.querySelector('#df-36df68a6-7ccb-4e5f-a8d3-411addb0a91e button.colab-df-convert');\n",
              "        buttonEl.style.display =\n",
              "          google.colab.kernel.accessAllowed ? 'block' : 'none';\n",
              "\n",
              "        async function convertToInteractive(key) {\n",
              "          const element = document.querySelector('#df-36df68a6-7ccb-4e5f-a8d3-411addb0a91e');\n",
              "          const dataTable =\n",
              "            await google.colab.kernel.invokeFunction('convertToInteractive',\n",
              "                                                     [key], {});\n",
              "          if (!dataTable) return;\n",
              "\n",
              "          const docLinkHtml = 'Like what you see? Visit the ' +\n",
              "            '<a target=\"_blank\" href=https://colab.research.google.com/notebooks/data_table.ipynb>data table notebook</a>'\n",
              "            + ' to learn more about interactive tables.';\n",
              "          element.innerHTML = '';\n",
              "          dataTable['output_type'] = 'display_data';\n",
              "          await google.colab.output.renderOutput(dataTable, element);\n",
              "          const docLink = document.createElement('div');\n",
              "          docLink.innerHTML = docLinkHtml;\n",
              "          element.appendChild(docLink);\n",
              "        }\n",
              "      </script>\n",
              "    </div>\n",
              "  </div>\n",
              "  "
            ]
          },
          "metadata": {},
          "execution_count": 126
        }
      ]
    },
    {
      "cell_type": "code",
      "source": [
        "PCA_X = df.iloc[:,:-1]\n",
        "Y = df['y']"
      ],
      "metadata": {
        "id": "0n0XqFXz9w5C"
      },
      "execution_count": null,
      "outputs": []
    },
    {
      "cell_type": "code",
      "source": [
        "fold_no = 1\n",
        "accuracy = []\n",
        "\n",
        "classifier = SVC(C=1.0)\n",
        "skf = StratifiedKFold(n_splits=5)\n",
        "for train_index, test_index in skf.split(PCA_X, Y):\n",
        "  index = test_index\n",
        "  x_train, x_test  = PCA_X.iloc[train_index], PCA_X.iloc[test_index]\n",
        "  y_train, y_test  = Y.iloc[train_index], Y.iloc[test_index]\n",
        "  classifier.fit(x_train,y_train)\n",
        "  predictions = classifier.predict(x_test)\n",
        "  score_train = classifier.score(x_train, y_train)\n",
        "  score_val = accuracy_score(y_test,predictions)\n",
        "  print(f'Fold { str(fold_no)} Accuracy Train :{score_train}')\n",
        "  print(f'Fold { str(fold_no)} Accuracy Val :{score_val}   F1 score : {f1_score(y_test, predictions, average=\"micro\")}')\n",
        "  #print(\"Classification Report: \\n\", classification_report(y_val, predictions_LGB))\n",
        "  accuracy.append(score_val)\n",
        "  fold_no += 1\n",
        "\n",
        "print(accuracy)"
      ],
      "metadata": {
        "colab": {
          "base_uri": "https://localhost:8080/"
        },
        "id": "UjPxMoBA9Pso",
        "outputId": "f9c42c62-bd46-40f1-b8ad-6de20cca6e94"
      },
      "execution_count": null,
      "outputs": [
        {
          "output_type": "stream",
          "name": "stdout",
          "text": [
            "Fold 1 Accuracy Train :0.9504166666666667\n",
            "Fold 1 Accuracy Val :0.9552380952380952   F1 score : 0.9552380952380952\n",
            "Fold 2 Accuracy Train :0.9535119047619047\n",
            "Fold 2 Accuracy Val :0.9478571428571428   F1 score : 0.9478571428571428\n",
            "Fold 3 Accuracy Train :0.9526785714285714\n",
            "Fold 3 Accuracy Val :0.9476190476190476   F1 score : 0.9476190476190476\n",
            "Fold 4 Accuracy Train :0.9520833333333333\n",
            "Fold 4 Accuracy Val :0.9495238095238095   F1 score : 0.9495238095238095\n",
            "Fold 5 Accuracy Train :0.9516071428571429\n",
            "Fold 5 Accuracy Val :0.9511904761904761   F1 score : 0.9511904761904761\n",
            "[0.9552380952380952, 0.9478571428571428, 0.9476190476190476, 0.9495238095238095, 0.9511904761904761]\n"
          ]
        }
      ]
    },
    {
      "cell_type": "code",
      "source": [
        "sum(accuracy)/5"
      ],
      "metadata": {
        "colab": {
          "base_uri": "https://localhost:8080/"
        },
        "id": "Ph0jYMMI-Tdp",
        "outputId": "a565b277-1a83-4f6e-a311-2795289f2d11"
      },
      "execution_count": null,
      "outputs": [
        {
          "output_type": "execute_result",
          "data": {
            "text/plain": [
              "0.9502857142857144"
            ]
          },
          "metadata": {},
          "execution_count": 135
        }
      ]
    },
    {
      "cell_type": "code",
      "source": [
        "fold_no = 1\n",
        "accuracy = []\n",
        "f1scores = []\n",
        "xgb_model = XGBClassifier(learning_rate=0.07, random_state =42, objective='multi:softmax', max_depth=5, reg_alpha = 0.002, gamma=0.01, verbosity=0) \n",
        "skf = StratifiedKFold(n_splits=5)\n",
        "for train_index, test_index in skf.split(PCA_X, Y):\n",
        "  index = test_index\n",
        "  x_train, x_test  = PCA_X.iloc[train_index], PCA_X.iloc[test_index]\n",
        "  y_train, y_test  = Y.iloc[train_index], Y.iloc[test_index]\n",
        "  xgb_model.fit(x_train,y_train)\n",
        "  predictions = xgb_model.predict(x_test)\n",
        "  score_train = xgb_model.score(x_train, y_train)\n",
        "  score_val = accuracy_score(y_test,predictions)\n",
        "  print(f'Fold { str(fold_no)} Accuracy Train :{score_train}')\n",
        "  f1_tmp = f1_score(y_test, predictions, average=\"micro\")\n",
        "  f1scores.append(f1_tmp)\n",
        "  print(f'Fold { str(fold_no)} Accuracy Val :{score_val}   F1 score : {f1_score(y_test, predictions, average=\"micro\")}')\n",
        "  #print(\"Classification Report: \\n\", classification_report(y_val, predictions_LGB))\n",
        "  accuracy.append(score_val)\n",
        "  fold_no += 1\n",
        "\n",
        "print(f1scores)"
      ],
      "metadata": {
        "colab": {
          "base_uri": "https://localhost:8080/"
        },
        "id": "OB675z7J_5U3",
        "outputId": "adc699c4-a74c-44de-a447-beed58913c76"
      },
      "execution_count": null,
      "outputs": [
        {
          "output_type": "stream",
          "name": "stdout",
          "text": [
            "Fold 1 Accuracy Train :0.9694642857142857\n",
            "Fold 1 Accuracy Val :0.950952380952381   F1 score : 0.950952380952381\n",
            "Fold 2 Accuracy Train :0.971547619047619\n",
            "Fold 2 Accuracy Val :0.9447619047619048   F1 score : 0.9447619047619048\n",
            "Fold 3 Accuracy Train :0.97125\n",
            "Fold 3 Accuracy Val :0.9421428571428572   F1 score : 0.9421428571428572\n",
            "Fold 4 Accuracy Train :0.9704166666666667\n",
            "Fold 4 Accuracy Val :0.9447619047619048   F1 score : 0.9447619047619048\n",
            "Fold 5 Accuracy Train :0.9680357142857143\n",
            "Fold 5 Accuracy Val :0.9521428571428572   F1 score : 0.9521428571428572\n",
            "[0.950952380952381, 0.9447619047619048, 0.9421428571428572, 0.9447619047619048, 0.9521428571428572]\n"
          ]
        }
      ]
    },
    {
      "cell_type": "code",
      "source": [
        "sum(f1scores)/5"
      ],
      "metadata": {
        "colab": {
          "base_uri": "https://localhost:8080/"
        },
        "id": "9yMu1HyTAZEn",
        "outputId": "d05e8ce9-601f-41f7-c896-beae11d3a35f"
      },
      "execution_count": null,
      "outputs": [
        {
          "output_type": "execute_result",
          "data": {
            "text/plain": [
              "0.946952380952381"
            ]
          },
          "metadata": {},
          "execution_count": 139
        }
      ]
    },
    {
      "cell_type": "code",
      "source": [
        "fold_no = 1\n",
        "accuracy = []\n",
        "f1scores = []\n",
        "xgb_model = XGBClassifier(learning_rate=0.09, random_state =42, objective='multi:softmax', max_depth=5, reg_alpha = 0.005, gamma=0.02, verbosity=0) \n",
        "skf = StratifiedKFold(n_splits=5)\n",
        "for train_index, test_index in skf.split(PCA_X, Y):\n",
        "  index = test_index\n",
        "  x_train, x_test  = PCA_X.iloc[train_index], PCA_X.iloc[test_index]\n",
        "  y_train, y_test  = Y.iloc[train_index], Y.iloc[test_index]\n",
        "  xgb_model.fit(x_train,y_train)\n",
        "  predictions = xgb_model.predict(x_test)\n",
        "  score_train = xgb_model.score(x_train, y_train)\n",
        "  score_val = accuracy_score(y_test,predictions)\n",
        "  print(f'Fold { str(fold_no)} Accuracy Train :{score_train}')\n",
        "  f1_tmp = f1_score(y_test, predictions, average=\"micro\")\n",
        "  f1scores.append(f1_tmp)\n",
        "  print(f'Fold { str(fold_no)} Accuracy Val :{score_val}   F1 score : {f1_score(y_test, predictions, average=\"micro\")}')\n",
        "  #print(\"Classification Report: \\n\", classification_report(y_val, predictions_LGB))\n",
        "  accuracy.append(score_val)\n",
        "  fold_no += 1\n",
        "\n",
        "print(f1scores)"
      ],
      "metadata": {
        "colab": {
          "base_uri": "https://localhost:8080/"
        },
        "id": "mihjt6w3H3iE",
        "outputId": "6fe57f78-febb-49b5-ad45-d550b5dd6c17"
      },
      "execution_count": null,
      "outputs": [
        {
          "output_type": "stream",
          "name": "stdout",
          "text": [
            "Fold 1 Accuracy Train :0.9742261904761905\n",
            "Fold 1 Accuracy Val :0.9523809523809523   F1 score : 0.9523809523809523\n",
            "Fold 2 Accuracy Train :0.9757142857142858\n",
            "Fold 2 Accuracy Val :0.9473809523809524   F1 score : 0.9473809523809524\n",
            "Fold 3 Accuracy Train :0.9758333333333333\n",
            "Fold 3 Accuracy Val :0.945   F1 score : 0.945\n",
            "Fold 4 Accuracy Train :0.9747619047619047\n",
            "Fold 4 Accuracy Val :0.9485714285714286   F1 score : 0.9485714285714286\n",
            "Fold 5 Accuracy Train :0.97375\n",
            "Fold 5 Accuracy Val :0.9526190476190476   F1 score : 0.9526190476190476\n",
            "[0.9523809523809523, 0.9473809523809524, 0.945, 0.9485714285714286, 0.9526190476190476]\n"
          ]
        }
      ]
    },
    {
      "cell_type": "code",
      "source": [
        "sum(f1scores)/5"
      ],
      "metadata": {
        "colab": {
          "base_uri": "https://localhost:8080/"
        },
        "id": "zDjV5Ay7ISS8",
        "outputId": "6e420cd3-16fb-4d3a-e801-54cbf980c14a"
      },
      "execution_count": null,
      "outputs": [
        {
          "output_type": "execute_result",
          "data": {
            "text/plain": [
              "0.9491904761904761"
            ]
          },
          "metadata": {},
          "execution_count": 144
        }
      ]
    },
    {
      "cell_type": "code",
      "source": [
        "fold_no = 1\n",
        "accuracy = []\n",
        "f1scores = []\n",
        "xgb_model = XGBClassifier(learning_rate=0.11, random_state =42, objective='multi:softmax', max_depth=5, reg_alpha = 0.008, gamma=0.04, verbosity=0) \n",
        "skf = StratifiedKFold(n_splits=5)\n",
        "for train_index, test_index in skf.split(PCA_X, Y):\n",
        "  index = test_index\n",
        "  x_train, x_test  = PCA_X.iloc[train_index], PCA_X.iloc[test_index]\n",
        "  y_train, y_test  = Y.iloc[train_index], Y.iloc[test_index]\n",
        "  xgb_model.fit(x_train,y_train)\n",
        "  predictions = xgb_model.predict(x_test)\n",
        "  score_train = xgb_model.score(x_train, y_train)\n",
        "  score_val = accuracy_score(y_test,predictions)\n",
        "  print(f'Fold { str(fold_no)} Accuracy Train :{score_train}')\n",
        "  f1_tmp = f1_score(y_test, predictions, average=\"micro\")\n",
        "  f1scores.append(f1_tmp)\n",
        "  print(f'Fold { str(fold_no)} Accuracy Val :{score_val}   F1 score : {f1_score(y_test, predictions, average=\"micro\")}')\n",
        "  #print(\"Classification Report: \\n\", classification_report(y_val, predictions_LGB))\n",
        "  accuracy.append(score_val)\n",
        "  fold_no += 1\n",
        "\n",
        "print(f1scores)"
      ],
      "metadata": {
        "colab": {
          "base_uri": "https://localhost:8080/"
        },
        "id": "WIzGcn60IeoP",
        "outputId": "3fa82ca6-fe28-4b9d-eef1-0355e1ede6c3"
      },
      "execution_count": null,
      "outputs": [
        {
          "output_type": "stream",
          "name": "stdout",
          "text": [
            "Fold 1 Accuracy Train :0.98\n",
            "Fold 1 Accuracy Val :0.9538095238095238   F1 score : 0.9538095238095238\n",
            "Fold 2 Accuracy Train :0.9805357142857143\n",
            "Fold 2 Accuracy Val :0.9488095238095238   F1 score : 0.9488095238095238\n",
            "Fold 3 Accuracy Train :0.9802380952380952\n",
            "Fold 3 Accuracy Val :0.9469047619047619   F1 score : 0.9469047619047619\n",
            "Fold 4 Accuracy Train :0.9786309523809524\n",
            "Fold 4 Accuracy Val :0.9507142857142857   F1 score : 0.9507142857142857\n",
            "Fold 5 Accuracy Train :0.9786904761904762\n",
            "Fold 5 Accuracy Val :0.955   F1 score : 0.955\n",
            "[0.9538095238095238, 0.9488095238095238, 0.9469047619047619, 0.9507142857142857, 0.955]\n"
          ]
        }
      ]
    },
    {
      "cell_type": "code",
      "source": [
        "sum(f1scores)/5"
      ],
      "metadata": {
        "colab": {
          "base_uri": "https://localhost:8080/"
        },
        "id": "lUVikf13I2eR",
        "outputId": "49c326bc-a909-4b52-ec64-5846848395cb"
      },
      "execution_count": null,
      "outputs": [
        {
          "output_type": "execute_result",
          "data": {
            "text/plain": [
              "0.951047619047619"
            ]
          },
          "metadata": {},
          "execution_count": 146
        }
      ]
    },
    {
      "cell_type": "code",
      "source": [
        "fold_no = 1\n",
        "accuracy = []\n",
        "f1scores = []\n",
        "xgb_model = XGBClassifier(learning_rate=0.15, random_state =42, objective='multi:softmax', max_depth=5, reg_alpha = 0.02, gamma=0.07, verbosity=0) \n",
        "skf = StratifiedKFold(n_splits=5)\n",
        "for train_index, test_index in skf.split(PCA_X, Y):\n",
        "  index = test_index\n",
        "  x_train, x_test  = PCA_X.iloc[train_index], PCA_X.iloc[test_index]\n",
        "  y_train, y_test  = Y.iloc[train_index], Y.iloc[test_index]\n",
        "  xgb_model.fit(x_train,y_train)\n",
        "  predictions = xgb_model.predict(x_test)\n",
        "  score_train = xgb_model.score(x_train, y_train)\n",
        "  score_val = accuracy_score(y_test,predictions)\n",
        "  print(f'Fold { str(fold_no)} Accuracy Train :{score_train}')\n",
        "  f1_tmp = f1_score(y_test, predictions, average=\"micro\")\n",
        "  f1scores.append(f1_tmp)\n",
        "  print(f'Fold { str(fold_no)} Accuracy Val :{score_val}   F1 score : {f1_score(y_test, predictions, average=\"micro\")}')\n",
        "  #print(\"Classification Report: \\n\", classification_report(y_val, predictions_LGB))\n",
        "  accuracy.append(score_val)\n",
        "  fold_no += 1\n",
        "\n",
        "print(f1scores)"
      ],
      "metadata": {
        "colab": {
          "base_uri": "https://localhost:8080/"
        },
        "id": "5Lb7zcCTI-0d",
        "outputId": "ee7be7f1-5207-4a96-d93d-bd8e14aaa3b0"
      },
      "execution_count": null,
      "outputs": [
        {
          "output_type": "stream",
          "name": "stdout",
          "text": [
            "Fold 1 Accuracy Train :0.9866666666666667\n",
            "Fold 1 Accuracy Val :0.9542857142857143   F1 score : 0.9542857142857143\n",
            "Fold 2 Accuracy Train :0.9882738095238095\n",
            "Fold 2 Accuracy Val :0.949047619047619   F1 score : 0.949047619047619\n",
            "Fold 3 Accuracy Train :0.9889285714285714\n",
            "Fold 3 Accuracy Val :0.9492857142857143   F1 score : 0.9492857142857143\n",
            "Fold 4 Accuracy Train :0.9860119047619048\n",
            "Fold 4 Accuracy Val :0.9507142857142857   F1 score : 0.9507142857142857\n",
            "Fold 5 Accuracy Train :0.9867857142857143\n",
            "Fold 5 Accuracy Val :0.9564285714285714   F1 score : 0.9564285714285714\n",
            "[0.9542857142857143, 0.949047619047619, 0.9492857142857143, 0.9507142857142857, 0.9564285714285714]\n"
          ]
        }
      ]
    },
    {
      "cell_type": "code",
      "source": [
        "sum(f1scores)/5"
      ],
      "metadata": {
        "colab": {
          "base_uri": "https://localhost:8080/"
        },
        "id": "YUMnsBW9JXz5",
        "outputId": "0add194d-1053-4300-e8a9-5ef7f733ce7f"
      },
      "execution_count": null,
      "outputs": [
        {
          "output_type": "execute_result",
          "data": {
            "text/plain": [
              "0.9519523809523809"
            ]
          },
          "metadata": {},
          "execution_count": 148
        }
      ]
    },
    {
      "cell_type": "code",
      "source": [
        "fold_no = 1\n",
        "accuracy = []\n",
        "f1scores = []\n",
        "xgb_model = XGBClassifier(learning_rate=0.2 , random_state =42, objective='multi:softmax', max_depth=5, reg_alpha = 0.06, gamma=0.08, verbosity=0) \n",
        "skf = StratifiedKFold(n_splits=5)\n",
        "for train_index, test_index in skf.split(PCA_X, Y):\n",
        "  index = test_index\n",
        "  x_train, x_test  = PCA_X.iloc[train_index], PCA_X.iloc[test_index]\n",
        "  y_train, y_test  = Y.iloc[train_index], Y.iloc[test_index]\n",
        "  xgb_model.fit(x_train,y_train)\n",
        "  predictions = xgb_model.predict(x_test)\n",
        "  score_train = xgb_model.score(x_train, y_train)\n",
        "  score_val = accuracy_score(y_test,predictions)\n",
        "  print(f'Fold { str(fold_no)} Accuracy Train :{score_train}')\n",
        "  f1_tmp = f1_score(y_test, predictions, average=\"micro\")\n",
        "  f1scores.append(f1_tmp)\n",
        "  print(f'Fold { str(fold_no)} Accuracy Val :{score_val}   F1 score : {f1_score(y_test, predictions, average=\"micro\")}')\n",
        "  #print(\"Classification Report: \\n\", classification_report(y_val, predictions_LGB))\n",
        "  accuracy.append(score_val)\n",
        "  fold_no += 1\n",
        "\n",
        "print(f1scores)"
      ],
      "metadata": {
        "colab": {
          "base_uri": "https://localhost:8080/"
        },
        "id": "-vsYerBKJfrN",
        "outputId": "f4fc86a5-5c05-4f8f-fa1b-a461497be8b6"
      },
      "execution_count": null,
      "outputs": [
        {
          "output_type": "stream",
          "name": "stdout",
          "text": [
            "Fold 1 Accuracy Train :0.9925\n",
            "Fold 1 Accuracy Val :0.9547619047619048   F1 score : 0.9547619047619048\n",
            "Fold 2 Accuracy Train :0.9936309523809523\n",
            "Fold 2 Accuracy Val :0.9492857142857143   F1 score : 0.9492857142857143\n",
            "Fold 3 Accuracy Train :0.9945238095238095\n",
            "Fold 3 Accuracy Val :0.9502380952380952   F1 score : 0.9502380952380952\n",
            "Fold 4 Accuracy Train :0.9924404761904762\n",
            "Fold 4 Accuracy Val :0.9519047619047619   F1 score : 0.9519047619047619\n",
            "Fold 5 Accuracy Train :0.9941071428571429\n",
            "Fold 5 Accuracy Val :0.9569047619047619   F1 score : 0.9569047619047619\n",
            "[0.9547619047619048, 0.9492857142857143, 0.9502380952380952, 0.9519047619047619, 0.9569047619047619]\n"
          ]
        }
      ]
    },
    {
      "cell_type": "code",
      "source": [
        "sum(f1scores)/5"
      ],
      "metadata": {
        "colab": {
          "base_uri": "https://localhost:8080/"
        },
        "id": "rX4pxzrzJ073",
        "outputId": "8b412d74-e524-4236-e18f-a82260c759e0"
      },
      "execution_count": null,
      "outputs": [
        {
          "output_type": "execute_result",
          "data": {
            "text/plain": [
              "0.9526190476190477"
            ]
          },
          "metadata": {},
          "execution_count": 150
        }
      ]
    },
    {
      "cell_type": "code",
      "source": [
        "fold_no = 1\n",
        "accuracy = []\n",
        "f1scores = []\n",
        "xgb_model = XGBClassifier(learning_rate=0.3 , random_state =42, objective='multi:softmax', max_depth=5, reg_alpha = 0.08, gamma=0.1, verbosity=0) \n",
        "skf = StratifiedKFold(n_splits=5)\n",
        "for train_index, test_index in skf.split(PCA_X, Y):\n",
        "  index = test_index\n",
        "  x_train, x_test  = PCA_X.iloc[train_index], PCA_X.iloc[test_index]\n",
        "  y_train, y_test  = Y.iloc[train_index], Y.iloc[test_index]\n",
        "  xgb_model.fit(x_train,y_train)\n",
        "  predictions = xgb_model.predict(x_test)\n",
        "  score_train = xgb_model.score(x_train, y_train)\n",
        "  score_val = accuracy_score(y_test,predictions)\n",
        "  print(f'Fold { str(fold_no)} Accuracy Train :{score_train}')\n",
        "  f1_tmp = f1_score(y_test, predictions, average=\"micro\")\n",
        "  f1scores.append(f1_tmp)\n",
        "  print(f'Fold { str(fold_no)} Accuracy Val :{score_val}   F1 score : {f1_score(y_test, predictions, average=\"micro\")}')\n",
        "  #print(\"Classification Report: \\n\", classification_report(y_val, predictions_LGB))\n",
        "  accuracy.append(score_val)\n",
        "  fold_no += 1\n",
        "\n",
        "print(f1scores)"
      ],
      "metadata": {
        "colab": {
          "base_uri": "https://localhost:8080/"
        },
        "id": "62c5XjR3J7Oq",
        "outputId": "e22fa425-30a6-4c2f-c20e-f5f03afe2ddc"
      },
      "execution_count": null,
      "outputs": [
        {
          "output_type": "stream",
          "name": "stdout",
          "text": [
            "Fold 1 Accuracy Train :0.9988690476190476\n",
            "Fold 1 Accuracy Val :0.9557142857142857   F1 score : 0.9557142857142857\n",
            "Fold 2 Accuracy Train :0.9994047619047619\n",
            "Fold 2 Accuracy Val :0.9502380952380952   F1 score : 0.9502380952380952\n",
            "Fold 3 Accuracy Train :0.9993452380952381\n",
            "Fold 3 Accuracy Val :0.9488095238095238   F1 score : 0.9488095238095238\n",
            "Fold 4 Accuracy Train :0.9982142857142857\n",
            "Fold 4 Accuracy Val :0.9545238095238096   F1 score : 0.9545238095238096\n",
            "Fold 5 Accuracy Train :0.9992261904761904\n",
            "Fold 5 Accuracy Val :0.9557142857142857   F1 score : 0.9557142857142857\n",
            "[0.9557142857142857, 0.9502380952380952, 0.9488095238095238, 0.9545238095238096, 0.9557142857142857]\n"
          ]
        }
      ]
    },
    {
      "cell_type": "code",
      "source": [
        "sum(f1scores)/5"
      ],
      "metadata": {
        "colab": {
          "base_uri": "https://localhost:8080/"
        },
        "id": "je37iuDHKUNv",
        "outputId": "e3eb957c-fedc-4108-d31f-b85a34fbc282"
      },
      "execution_count": null,
      "outputs": [
        {
          "output_type": "execute_result",
          "data": {
            "text/plain": [
              "0.953"
            ]
          },
          "metadata": {},
          "execution_count": 152
        }
      ]
    },
    {
      "cell_type": "code",
      "source": [
        "fold_no = 1\n",
        "accuracy = []\n",
        "f1scores = []\n",
        "xgb_model = XGBClassifier(learning_rate=0.4 , random_state =42, objective='multi:softmax', max_depth=5, reg_alpha = 0.08, gamma=0.1, verbosity=0) \n",
        "skf = StratifiedKFold(n_splits=5)\n",
        "for train_index, test_index in skf.split(PCA_X, Y):\n",
        "  index = test_index\n",
        "  x_train, x_test  = PCA_X.iloc[train_index], PCA_X.iloc[test_index]\n",
        "  y_train, y_test  = Y.iloc[train_index], Y.iloc[test_index]\n",
        "  xgb_model.fit(x_train,y_train)\n",
        "  predictions = xgb_model.predict(x_test)\n",
        "  score_train = xgb_model.score(x_train, y_train)\n",
        "  score_val = accuracy_score(y_test,predictions)\n",
        "  print(f'Fold { str(fold_no)} Accuracy Train :{score_train}')\n",
        "  f1_tmp = f1_score(y_test, predictions, average=\"micro\")\n",
        "  f1scores.append(f1_tmp)\n",
        "  print(f'Fold { str(fold_no)} Accuracy Val :{score_val}   F1 score : {f1_score(y_test, predictions, average=\"micro\")}')\n",
        "  #print(\"Classification Report: \\n\", classification_report(y_val, predictions_LGB))\n",
        "  accuracy.append(score_val)\n",
        "  fold_no += 1\n",
        "\n",
        "print(f1scores)"
      ],
      "metadata": {
        "colab": {
          "base_uri": "https://localhost:8080/"
        },
        "id": "_Jq5n28iKrYj",
        "outputId": "10200b6c-6aaf-46bf-e43d-1eaefdbf1d6a"
      },
      "execution_count": null,
      "outputs": [
        {
          "output_type": "stream",
          "name": "stdout",
          "text": [
            "Fold 1 Accuracy Train :1.0\n",
            "Fold 1 Accuracy Val :0.954047619047619   F1 score : 0.954047619047619\n",
            "Fold 2 Accuracy Train :1.0\n",
            "Fold 2 Accuracy Val :0.9497619047619048   F1 score : 0.9497619047619048\n",
            "Fold 3 Accuracy Train :0.9999404761904762\n",
            "Fold 3 Accuracy Val :0.9488095238095238   F1 score : 0.9488095238095238\n",
            "Fold 4 Accuracy Train :0.9998809523809524\n",
            "Fold 4 Accuracy Val :0.954047619047619   F1 score : 0.954047619047619\n",
            "Fold 5 Accuracy Train :1.0\n",
            "Fold 5 Accuracy Val :0.9576190476190476   F1 score : 0.9576190476190476\n",
            "[0.954047619047619, 0.9497619047619048, 0.9488095238095238, 0.954047619047619, 0.9576190476190476]\n"
          ]
        }
      ]
    },
    {
      "cell_type": "code",
      "source": [
        "sum(f1scores)/5"
      ],
      "metadata": {
        "colab": {
          "base_uri": "https://localhost:8080/"
        },
        "id": "7ggz_EsTLAKR",
        "outputId": "90cfc96f-9cd9-4cf0-b2fd-179497167436"
      },
      "execution_count": null,
      "outputs": [
        {
          "output_type": "execute_result",
          "data": {
            "text/plain": [
              "0.9528571428571428"
            ]
          },
          "metadata": {},
          "execution_count": 154
        }
      ]
    },
    {
      "cell_type": "code",
      "source": [
        "fold_no = 1\n",
        "accuracy = []\n",
        "f1scores = []\n",
        "xgb_model = XGBClassifier(learning_rate=0.3 , random_state =42, objective='multi:softmax', max_depth=7, reg_alpha = 0.08, gamma=0.1, verbosity=0) \n",
        "skf = StratifiedKFold(n_splits=5)\n",
        "for train_index, test_index in skf.split(PCA_X, Y):\n",
        "  index = test_index\n",
        "  x_train, x_test  = PCA_X.iloc[train_index], PCA_X.iloc[test_index]\n",
        "  y_train, y_test  = Y.iloc[train_index], Y.iloc[test_index]\n",
        "  xgb_model.fit(x_train,y_train)\n",
        "  predictions = xgb_model.predict(x_test)\n",
        "  score_train = xgb_model.score(x_train, y_train)\n",
        "  score_val = accuracy_score(y_test,predictions)\n",
        "  print(f'Fold { str(fold_no)} Accuracy Train :{score_train}')\n",
        "  f1_tmp = f1_score(y_test, predictions, average=\"micro\")\n",
        "  f1scores.append(f1_tmp)\n",
        "  print(f'Fold { str(fold_no)} Accuracy Val :{score_val}   F1 score : {f1_score(y_test, predictions, average=\"micro\")}')\n",
        "  #print(\"Classification Report: \\n\", classification_report(y_val, predictions_LGB))\n",
        "  accuracy.append(score_val)\n",
        "  fold_no += 1\n",
        "\n",
        "print(f1scores)"
      ],
      "metadata": {
        "colab": {
          "base_uri": "https://localhost:8080/"
        },
        "id": "Z1xoQ5nHLIpN",
        "outputId": "2897b63c-dea2-4a12-9e27-2ec0151aa7ba"
      },
      "execution_count": null,
      "outputs": [
        {
          "output_type": "stream",
          "name": "stdout",
          "text": [
            "Fold 1 Accuracy Train :1.0\n",
            "Fold 1 Accuracy Val :0.9552380952380952   F1 score : 0.9552380952380952\n",
            "Fold 2 Accuracy Train :1.0\n",
            "Fold 2 Accuracy Val :0.9504761904761905   F1 score : 0.9504761904761905\n",
            "Fold 3 Accuracy Train :1.0\n",
            "Fold 3 Accuracy Val :0.9502380952380952   F1 score : 0.9502380952380952\n",
            "Fold 4 Accuracy Train :1.0\n",
            "Fold 4 Accuracy Val :0.954047619047619   F1 score : 0.954047619047619\n",
            "Fold 5 Accuracy Train :1.0\n",
            "Fold 5 Accuracy Val :0.9585714285714285   F1 score : 0.9585714285714285\n",
            "[0.9552380952380952, 0.9504761904761905, 0.9502380952380952, 0.954047619047619, 0.9585714285714285]\n"
          ]
        }
      ]
    },
    {
      "cell_type": "code",
      "source": [
        "sum(f1scores)/5"
      ],
      "metadata": {
        "colab": {
          "base_uri": "https://localhost:8080/"
        },
        "id": "me3DVcIHLoDl",
        "outputId": "9fae0d72-0fde-42d8-d7f1-01a8b35d767f"
      },
      "execution_count": null,
      "outputs": [
        {
          "output_type": "execute_result",
          "data": {
            "text/plain": [
              "0.9537142857142857"
            ]
          },
          "metadata": {},
          "execution_count": 158
        }
      ]
    },
    {
      "cell_type": "code",
      "source": [
        "fold_no = 1\n",
        "accuracy = []\n",
        "f1scores = []\n",
        "xgb_model = XGBClassifier(learning_rate=0.3 , random_state =42, objective='multi:softmax', max_depth=6, reg_alpha = 0.08, gamma=0.1, verbosity=0) \n",
        "skf = StratifiedKFold(n_splits=5)\n",
        "for train_index, test_index in skf.split(PCA_X, Y):\n",
        "  index = test_index\n",
        "  x_train, x_test  = PCA_X.iloc[train_index], PCA_X.iloc[test_index]\n",
        "  y_train, y_test  = Y.iloc[train_index], Y.iloc[test_index]\n",
        "  xgb_model.fit(x_train,y_train)\n",
        "  predictions = xgb_model.predict(x_test)\n",
        "  score_train = xgb_model.score(x_train, y_train)\n",
        "  score_val = accuracy_score(y_test,predictions)\n",
        "  print(f'Fold { str(fold_no)} Accuracy Train :{score_train}')\n",
        "  f1_tmp = f1_score(y_test, predictions, average=\"micro\")\n",
        "  f1scores.append(f1_tmp)\n",
        "  print(f'Fold { str(fold_no)} Accuracy Val :{score_val}   F1 score : {f1_score(y_test, predictions, average=\"micro\")}')\n",
        "  #print(\"Classification Report: \\n\", classification_report(y_val, predictions_LGB))\n",
        "  accuracy.append(score_val)\n",
        "  fold_no += 1\n",
        "\n",
        "print(f1scores)"
      ],
      "metadata": {
        "colab": {
          "base_uri": "https://localhost:8080/"
        },
        "id": "0agEhUdwMOI_",
        "outputId": "d346c2e8-7e1e-42e4-e389-c8d58c53c103"
      },
      "execution_count": null,
      "outputs": [
        {
          "output_type": "stream",
          "name": "stdout",
          "text": [
            "Fold 1 Accuracy Train :1.0\n",
            "Fold 1 Accuracy Val :0.9566666666666667   F1 score : 0.9566666666666667\n",
            "Fold 2 Accuracy Train :1.0\n",
            "Fold 2 Accuracy Val :0.9504761904761905   F1 score : 0.9504761904761905\n",
            "Fold 3 Accuracy Train :1.0\n",
            "Fold 3 Accuracy Val :0.95   F1 score : 0.9500000000000001\n",
            "Fold 4 Accuracy Train :0.9999404761904762\n",
            "Fold 4 Accuracy Val :0.9547619047619048   F1 score : 0.9547619047619048\n",
            "Fold 5 Accuracy Train :1.0\n",
            "Fold 5 Accuracy Val :0.9571428571428572   F1 score : 0.9571428571428572\n",
            "[0.9566666666666667, 0.9504761904761905, 0.9500000000000001, 0.9547619047619048, 0.9571428571428572]\n"
          ]
        }
      ]
    },
    {
      "cell_type": "code",
      "source": [
        "sum(f1scores)/5"
      ],
      "metadata": {
        "colab": {
          "base_uri": "https://localhost:8080/"
        },
        "id": "dLj5du_BMx-6",
        "outputId": "65b5f5e1-1d87-480a-a533-02c06fe3ef2a"
      },
      "execution_count": null,
      "outputs": [
        {
          "output_type": "execute_result",
          "data": {
            "text/plain": [
              "0.9538095238095238"
            ]
          },
          "metadata": {},
          "execution_count": 160
        }
      ]
    },
    {
      "cell_type": "code",
      "source": [
        "fold_no = 1\n",
        "accuracy = []\n",
        "f1scores = []\n",
        "xgb_model = XGBClassifier(learning_rate=0.03 , random_state =42, objective='multi:softmax', max_depth=6, reg_alpha = 0.08, gamma=0.1, verbosity=0) \n",
        "skf = StratifiedKFold(n_splits=5)\n",
        "for train_index, test_index in skf.split(PCA_X, Y):\n",
        "  index = test_index\n",
        "  x_train, x_test  = PCA_X.iloc[train_index], PCA_X.iloc[test_index]\n",
        "  y_train, y_test  = Y.iloc[train_index], Y.iloc[test_index]\n",
        "  xgb_model.fit(x_train,y_train)\n",
        "  predictions = xgb_model.predict(x_test)\n",
        "  score_train = xgb_model.score(x_train, y_train)\n",
        "  score_val = accuracy_score(y_test,predictions)\n",
        "  print(f'Fold { str(fold_no)} Accuracy Train :{score_train}')\n",
        "  f1_tmp = f1_score(y_test, predictions, average=\"micro\")\n",
        "  f1scores.append(f1_tmp)\n",
        "  print(f'Fold { str(fold_no)} Accuracy Val :{score_val}   F1 score : {f1_score(y_test, predictions, average=\"micro\")}')\n",
        "  #print(\"Classification Report: \\n\", classification_report(y_val, predictions_LGB))\n",
        "  accuracy.append(score_val)\n",
        "  fold_no += 1\n",
        "\n",
        "print(f1scores)"
      ],
      "metadata": {
        "colab": {
          "base_uri": "https://localhost:8080/"
        },
        "id": "OOs_sqH1NC_a",
        "outputId": "84dcd634-1b51-4ffc-e268-242f8bee8ce9"
      },
      "execution_count": null,
      "outputs": [
        {
          "output_type": "stream",
          "name": "stdout",
          "text": [
            "Fold 1 Accuracy Train :0.965297619047619\n",
            "Fold 1 Accuracy Val :0.9492857142857143   F1 score : 0.9492857142857143\n",
            "Fold 2 Accuracy Train :0.9667261904761905\n",
            "Fold 2 Accuracy Val :0.9404761904761905   F1 score : 0.9404761904761905\n",
            "Fold 3 Accuracy Train :0.9679761904761904\n",
            "Fold 3 Accuracy Val :0.9407142857142857   F1 score : 0.9407142857142857\n",
            "Fold 4 Accuracy Train :0.9657738095238095\n",
            "Fold 4 Accuracy Val :0.9430952380952381   F1 score : 0.9430952380952381\n",
            "Fold 5 Accuracy Train :0.9644642857142857\n",
            "Fold 5 Accuracy Val :0.949047619047619   F1 score : 0.949047619047619\n",
            "[0.9492857142857143, 0.9404761904761905, 0.9407142857142857, 0.9430952380952381, 0.949047619047619]\n"
          ]
        }
      ]
    },
    {
      "cell_type": "code",
      "source": [
        "sum(f1scores)/5"
      ],
      "metadata": {
        "colab": {
          "base_uri": "https://localhost:8080/"
        },
        "id": "Se-vFWfXOJRf",
        "outputId": "7c396ee8-4714-4dac-93bf-5ee4d38b9828"
      },
      "execution_count": null,
      "outputs": [
        {
          "output_type": "execute_result",
          "data": {
            "text/plain": [
              "0.9445238095238094"
            ]
          },
          "metadata": {},
          "execution_count": 162
        }
      ]
    },
    {
      "cell_type": "code",
      "source": [
        "# lightgbm Classifier\n",
        "\n",
        "fold_no = 1\n",
        "accuracy = []\n",
        "f1scores = []\n",
        "lgbm_model = LGBMClassifier(objective='multiclass', random_state=42, learning_rate=0.03, reg_alpha=0.0001) \n",
        "skf = StratifiedKFold(n_splits=5)\n",
        "for train_index, test_index in skf.split(PCA_X, Y):\n",
        "  index = test_index\n",
        "  x_train, x_test  = PCA_X.iloc[train_index], PCA_X.iloc[test_index]\n",
        "  y_train, y_test  = Y.iloc[train_index], Y.iloc[test_index]\n",
        "  lgbm_model.fit(x_train,y_train)\n",
        "  predictions = lgbm_model.predict(x_test)\n",
        "  score_train = lgbm_model.score(x_train, y_train)\n",
        "  score_val = accuracy_score(y_test,predictions)\n",
        "  print(f'Fold { str(fold_no)} Accuracy Train :{score_train}')\n",
        "  f1_tmp = f1_score(y_test, predictions, average=\"micro\")\n",
        "  f1scores.append(f1_tmp)\n",
        "  print(f'Fold { str(fold_no)} Accuracy Val :{score_val}   F1 score : {f1_score(y_test, predictions, average=\"micro\")}')\n",
        "  #print(\"Classification Report: \\n\", classification_report(y_val, predictions_LGB))\n",
        "  accuracy.append(score_val)\n",
        "  fold_no += 1\n",
        "\n",
        "print(f1scores)"
      ],
      "metadata": {
        "colab": {
          "base_uri": "https://localhost:8080/"
        },
        "id": "tTPd0DR4HKrO",
        "outputId": "5247267e-ece3-411e-df85-60da25920210"
      },
      "execution_count": null,
      "outputs": [
        {
          "output_type": "stream",
          "name": "stdout",
          "text": [
            "Fold 1 Accuracy Train :0.9657142857142857\n",
            "Fold 1 Accuracy Val :0.9521428571428572   F1 score : 0.9521428571428572\n",
            "Fold 2 Accuracy Train :0.9681547619047619\n",
            "Fold 2 Accuracy Val :0.944047619047619   F1 score : 0.944047619047619\n",
            "Fold 3 Accuracy Train :0.9682142857142857\n",
            "Fold 3 Accuracy Val :0.9395238095238095   F1 score : 0.9395238095238095\n",
            "Fold 4 Accuracy Train :0.9660119047619048\n",
            "Fold 4 Accuracy Val :0.945952380952381   F1 score : 0.945952380952381\n",
            "Fold 5 Accuracy Train :0.9663095238095238\n",
            "Fold 5 Accuracy Val :0.9480952380952381   F1 score : 0.9480952380952381\n",
            "[0.9521428571428572, 0.944047619047619, 0.9395238095238095, 0.945952380952381, 0.9480952380952381]\n"
          ]
        }
      ]
    },
    {
      "cell_type": "code",
      "source": [
        "sum(f1scores)/5"
      ],
      "metadata": {
        "colab": {
          "base_uri": "https://localhost:8080/"
        },
        "id": "z9mmKsVhHtbC",
        "outputId": "179ee4e8-2ffa-447e-f1d4-718f5ee59aea"
      },
      "execution_count": null,
      "outputs": [
        {
          "output_type": "execute_result",
          "data": {
            "text/plain": [
              "0.9459523809523809"
            ]
          },
          "metadata": {},
          "execution_count": 142
        }
      ]
    },
    {
      "cell_type": "code",
      "source": [
        "import numpy as np \n",
        "import pandas as pd \n",
        "import matplotlib.pyplot as plt\n",
        "from matplotlib.pyplot import figure\n",
        "import seaborn as sns\n",
        "from sklearn.utils import shuffle\n",
        "from sklearn import preprocessing\n",
        "from sklearn.preprocessing import LabelEncoder\n",
        "from sklearn.preprocessing import StandardScaler\n",
        "from sklearn.model_selection import train_test_split\n",
        "from sklearn.metrics import classification_report,confusion_matrix\n",
        "from sklearn.model_selection import StratifiedKFold\n",
        "from sklearn.metrics import accuracy_score\n",
        "from sklearn.metrics import f1_score\n",
        "from sklearn.svm import SVC\n",
        "from sklearn.decomposition import PCA\n",
        "from sklearn.discriminant_analysis import LinearDiscriminantAnalysis as LDA\n",
        "from matplotlib.colors import ListedColormap\n",
        "from imblearn.over_sampling import SMOTE\n",
        "import warnings\n",
        "warnings.filterwarnings('ignore')\n",
        "%matplotlib inline"
      ],
      "metadata": {
        "id": "OWSP2dXa9dlY"
      },
      "execution_count": null,
      "outputs": []
    }
  ]
}